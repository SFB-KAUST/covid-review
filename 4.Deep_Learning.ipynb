{
 "cells": [
  {
   "cell_type": "markdown",
   "metadata": {},
   "source": [
    "Classify using Deep Learning"
   ]
  },
  {
   "cell_type": "code",
   "execution_count": 1,
   "metadata": {},
   "outputs": [],
   "source": [
    "import numpy as np\n",
    "import pandas as pd\n",
    "from datetime import datetime\n",
    "\n",
    "import matplotlib as mpl\n",
    "import matplotlib.pyplot as plt\n",
    "\n",
    "import xgboost as xgb\n",
    "from sklearn.model_selection import train_test_split\n",
    "from sklearn.preprocessing import StandardScaler\n",
    "from sklearn.metrics import precision_recall_fscore_support, roc_curve, auc, accuracy_score\n",
    "\n",
    "import tensorflow as tf\n",
    "from tensorflow.keras import layers, losses\n",
    "from tensorflow.keras.models import Model"
   ]
  },
  {
   "cell_type": "code",
   "execution_count": 150,
   "metadata": {},
   "outputs": [
    {
     "name": "stdout",
     "output_type": "stream",
     "text": [
      "2.4.0\n"
     ]
    }
   ],
   "source": [
    "from tensorflow.python import keras\n",
    "print(keras.__version__)"
   ]
  },
  {
   "cell_type": "code",
   "execution_count": 2,
   "metadata": {},
   "outputs": [],
   "source": [
    "inoutpath = '/home/xiaopengxu/Desktop/data-covid-review/2021-05-31/'\n",
    "\n",
    "train_data_path = inoutpath + 'features.ori_doc2vec_deepwalk_scores_train.csv'\n",
    "test_data_path = inoutpath + 'features.ori_doc2vec_deepwalk_scores_test.csv'\n",
    "\n",
    "epochs = 5"
   ]
  },
  {
   "cell_type": "markdown",
   "metadata": {},
   "source": [
    "## Load data"
   ]
  },
  {
   "cell_type": "code",
   "execution_count": 3,
   "metadata": {},
   "outputs": [],
   "source": [
    "def load_data(compdata_path):\n",
    "    print(datetime.now().strftime('%Y-%m-%d %H:%M:%S.%f') + \": Loading data ...\")\n",
    "    papers = pd.read_csv(compdata_path, index_col=False)\n",
    "    papers.drop(['Unnamed: 0'], axis=1, inplace=True)\n",
    "\n",
    "    return papers.fillna(0)"
   ]
  },
  {
   "cell_type": "code",
   "execution_count": 4,
   "metadata": {},
   "outputs": [
    {
     "name": "stdout",
     "output_type": "stream",
     "text": [
      "2021-06-03 17:18:18.717134: Loading data ...\n",
      "2021-06-03 17:18:19.502020: Loading data ...\n"
     ]
    },
    {
     "name": "stderr",
     "output_type": "stream",
     "text": [
      "/home/xiaopengxu/anaconda3/envs/ml-env/lib/python3.8/site-packages/IPython/core/interactiveshell.py:3357: DtypeWarning: Columns (4,7) have mixed types.Specify dtype option on import or set low_memory=False.\n",
      "  if (await self.run_code(code, result,  async_=asy)):\n"
     ]
    }
   ],
   "source": [
    "X = load_data(train_data_path)\n",
    "X_lxd = load_data(test_data_path)"
   ]
  },
  {
   "cell_type": "code",
   "execution_count": 5,
   "metadata": {},
   "outputs": [],
   "source": [
    "y = X.is_published"
   ]
  },
  {
   "cell_type": "code",
   "execution_count": 6,
   "metadata": {},
   "outputs": [
    {
     "name": "stdout",
     "output_type": "stream",
     "text": [
      "['title' 'abstract' 'journal' 'DOI' 'date' 'collection' 'published'\n",
      " 'nauthors' 'keywords' 'topic.Imaging' 'topic.Clinics'\n",
      " 'topic.Drug discovery' 'topic.Healthcare' 'topic.Genomics'\n",
      " 'topic.Epidemiology' 'topic' 'ref' 'p_doi' 'dv 1' 'dv 2' 'dv 3' 'dv 4'\n",
      " 'dv 5' 'dv 6' 'dv 7' 'dv 8' 'dv 9' 'dv 10' 'dv 11' 'dv 12' 'dv 13'\n",
      " 'dv 14' 'dv 15' 'dv 16' 'dv 17' 'dv 18' 'dv 19' 'dv 20' 'dv 21' 'dv 22'\n",
      " 'dv 23' 'dv 24' 'dv 25' 'dv 26' 'dv 27' 'dv 28' 'dv 29' 'dv 30' 'dv 31'\n",
      " 'dv 32' 'dv 33' 'dv 34' 'dv 35' 'dv 36' 'dv 37' 'dv 38' 'dv 39' 'dv 40'\n",
      " 'dv 41' 'dv 42' 'dv 43' 'dv 44' 'dv 45' 'dv 46' 'dv 47' 'dv 48' 'dv 49'\n",
      " 'dv 50' 'dw 1' 'dw 2' 'dw 3' 'dw 4' 'dw 5' 'dw 6' 'dw 7' 'dw 8' 'dw 9'\n",
      " 'dw 10' 'dw 11' 'dw 12' 'dw 13' 'dw 14' 'dw 15' 'dw 16' 'dw 17' 'dw 18'\n",
      " 'dw 19' 'dw 20' 'dw 21' 'dw 22' 'dw 23' 'dw 24' 'dw 25' 'dw 26' 'dw 27'\n",
      " 'dw 28' 'dw 29' 'dw 30' 'dw 31' 'dw 32' 'dw 33' 'dw 34' 'dw 35' 'dw 36'\n",
      " 'dw 37' 'dw 38' 'dw 39' 'dw 40' 'dw 41' 'dw 42' 'dw 43' 'dw 44' 'dw 45'\n",
      " 'dw 46' 'dw 47' 'dw 48' 'dw 49' 'dw 50' 'auth.papers' 'auth.papers.score'\n",
      " 'auth.citations' 'auth.citations.score' 'art.citations'\n",
      " 'art.citations.score' 'art.views' 'art.views.score' 'final.score'\n",
      " 'subDate' 'acptDate' 'pubDate' 'preprint_age' 'is_preprint'\n",
      " 'is_published' 'preprint_test' 'preprint_train' 'pubmed_train']\n"
     ]
    }
   ],
   "source": [
    "print(X.columns.values)"
   ]
  },
  {
   "cell_type": "markdown",
   "metadata": {},
   "source": [
    "## Train DL model"
   ]
  },
  {
   "cell_type": "code",
   "execution_count": 184,
   "metadata": {},
   "outputs": [],
   "source": [
    "def create_model(n_features, layers):\n",
    "    # create model\n",
    "    model = tf.keras.Sequential()\n",
    "    model.add(tf.keras.layers.Dense(layers[0], input_dim=n_features, activation='relu', kernel_regularizer=keras.regularizers.l2(l=0.1)))\n",
    "\n",
    "    # add hidden layers\n",
    "    for i in range(1, len(layers)):\n",
    "        #model.add(tf.keras.layers.Dense(layers[i], activation='relu', kernel_regularizer=keras.regularizers.l2(l=0.1)))\n",
    "        model.add(tf.keras.layers.Dense(layers[i], activation='relu'))\n",
    "    model.add(tf.keras.layers.Dense(1, activation='sigmoid'))\n",
    "\n",
    "    # Compile model\n",
    "    model.compile(optimizer='adam', loss='binary_crossentropy', metrics=[\"accuracy\"])\n",
    "    return model"
   ]
  },
  {
   "cell_type": "code",
   "execution_count": 185,
   "metadata": {},
   "outputs": [],
   "source": [
    "def eval_pred(y_true, y_prob, eval_type='Dev'):\n",
    "\n",
    "    y_pred = y_prob >= 0.5\n",
    "    \n",
    "    fpr, tpr, _ = roc_curve(y_true, y_prob)\n",
    "    auc_s = auc(fpr, tpr)\n",
    "\n",
    "    prec, recall, f1_s, _ = precision_recall_fscore_support(y_true, y_pred, average='macro')\n",
    "    acc = accuracy_score(y_true, y_pred)\n",
    "    \n",
    "    print(eval_type + \": AUC = %.3f, precision = %.3f, recall = %.3f, accuracy = %.3f, f1_score = %.3f\" % (auc_s, prec, recall, acc, f1_s))"
   ]
  },
  {
   "cell_type": "code",
   "execution_count": 186,
   "metadata": {},
   "outputs": [],
   "source": [
    "def dl_modeling(model_name, save_path, X_train, X_test, y_train, y_test, features, layers, epochs=10, batch_size=64):\n",
    "    print(datetime.now().strftime('%Y-%m-%d %H:%M:%S.%f') + \": Training {} model ...\".format(model_name))\n",
    "    model = create_model(len(features), layers)\n",
    "    md = model.fit(X_train[features], y_train, epochs=epochs, batch_size=64)\n",
    "    model.save(save_path + \"model.\" + model_name + \".dl\")\n",
    "\n",
    "    print(datetime.now().strftime('%Y-%m-%d %H:%M:%S.%f') + \": Evaluating {} model ...\".format(model_name))\n",
    "    y_test_prob = model.predict(X_test[features])\n",
    "    \n",
    "    fpr, tpr, _ = roc_curve(y_test, y_test_prob)\n",
    "    auc_dl = auc(fpr, tpr)\n",
    "    eval_pred(y_train, model.predict(X_train[features]), 'Train')\n",
    "    eval_pred(y_test, y_test_prob, 'Dev')\n",
    "    \n",
    "    return fpr, tpr, auc_dl"
   ]
  },
  {
   "cell_type": "code",
   "execution_count": 187,
   "metadata": {},
   "outputs": [],
   "source": [
    "def draw_ROC_figure(fprs, tprs, f_names, aucs, save_path):\n",
    "    plt.figure()\n",
    "    plt.rcParams['figure.figsize'] = [10, 10]\n",
    "    \n",
    "    for i in range(len(f_names)):\n",
    "        plt.plot(fprs[i], tprs[i], label= f_names[i] +', AUC={:.4f}'.format(aucs[i]))\n",
    "\n",
    "    plt.plot([0, 1], [0, 1], 'k--')\n",
    "    plt.xlabel('False positive rate')\n",
    "    plt.ylabel('True positive rate')\n",
    "    plt.title('ROC curve')\n",
    "    plt.legend(loc='best')\n",
    "    fig1 = plt.gcf()\n",
    "    plt.draw()\n",
    "    fig1.savefig(save_path + \"features_rocs.pdf\")"
   ]
  },
  {
   "cell_type": "code",
   "execution_count": 372,
   "metadata": {},
   "outputs": [],
   "source": [
    "def feature_comparison(X_train, X_test, y_train, y_test, save_path, epochs=10):\n",
    "    \n",
    "    em_size = 50\n",
    "    F_Doc2Vec = ['dv ' + str(i + 1) for i in range(em_size)]\n",
    "    F_DeepWalk = ['dw ' + str(i + 1) for i in range(em_size)]\n",
    "    F_LDA = ['topic.Healthcare', 'topic.Drug discovery', 'topic.Epidemiology', 'topic.Clinics', 'topic.Imaging', 'topic.Genomics']\n",
    "    F_ascore = ['auth.papers.score', 'auth.citations.score']\n",
    "    \n",
    "    f_names = [\n",
    "        'LDA+Doc2Vec+DeepWalk', \n",
    "        'Doc2Vec+DeepWalk', \n",
    "        #'Doc2Vec+LDA', \n",
    "        #'Doc2Vec', \n",
    "        #'LDA', \n",
    "        #'DeepWalk', \n",
    "    ]\n",
    "    f_combs = [\n",
    "        F_Doc2Vec + F_DeepWalk + F_LDA, \n",
    "        F_Doc2Vec + F_DeepWalk, \n",
    "        #F_Doc2Vec + F_LDA, \n",
    "        #F_Doc2Vec, \n",
    "        #F_LDA, \n",
    "        #F_DeepWalk\n",
    "    ]\n",
    "    layers = [\n",
    "        [150, 30, 6, 9], \n",
    "        [150, 9, 20, 10], \n",
    "        #[150, 9, 20, 10],\n",
    "        #[100, 50, 30, 10], \n",
    "        #[10, 50, 3, 9], \n",
    "        #[150, 6, 20, 3]\n",
    "    ]\n",
    "    \n",
    "    fprs, tprs, aucs = [], [], []\n",
    "    \n",
    "    for i in range(len(f_names)):\n",
    "        fpr, tpr, auc = dl_modeling(f_names[i], save_path, X_train, X_test, y_train, y_test, f_combs[i], layers[i], epochs=epochs)\n",
    "        fprs.append(fpr)\n",
    "        tprs.append(tpr)\n",
    "        aucs.append(auc)\n",
    "        \n",
    "    draw_ROC_figure(fprs, tprs, f_names, aucs, save_path)"
   ]
  },
  {
   "cell_type": "code",
   "execution_count": 376,
   "metadata": {},
   "outputs": [
    {
     "name": "stdout",
     "output_type": "stream",
     "text": [
      "12971\n",
      "3243\n",
      "2021-06-08 15:39:47.500075: Training LDA+Doc2Vec+DeepWalk model ...\n",
      "Epoch 1/5\n",
      "203/203 [==============================] - 1s 2ms/step - loss: 6.3957 - accuracy: 0.7335\n",
      "Epoch 2/5\n",
      "203/203 [==============================] - 0s 2ms/step - loss: 0.5292 - accuracy: 0.7694\n",
      "Epoch 3/5\n",
      "203/203 [==============================] - 0s 2ms/step - loss: 0.5044 - accuracy: 0.7797\n",
      "Epoch 4/5\n",
      "203/203 [==============================] - 0s 2ms/step - loss: 0.4913 - accuracy: 0.7857\n",
      "Epoch 5/5\n",
      "203/203 [==============================] - 0s 2ms/step - loss: 0.4838 - accuracy: 0.7939\n",
      "INFO:tensorflow:Assets written to: /home/xiaopengxu/Desktop/data-covid-review/2021-05-31/model.LDA+Doc2Vec+DeepWalk.dl/assets\n",
      "2021-06-08 15:39:51.064789: Evaluating LDA+Doc2Vec+DeepWalk model ...\n",
      "Train: AUC = 0.799, precision = 0.807, recall = 0.609, accuracy = 0.792, f1_score = 0.621\n",
      "Dev: AUC = 0.791, precision = 0.822, recall = 0.610, accuracy = 0.788, f1_score = 0.620\n",
      "2021-06-08 15:39:51.431369: Training Doc2Vec+DeepWalk model ...\n",
      "Epoch 1/5\n",
      "203/203 [==============================] - 1s 2ms/step - loss: 6.2298 - accuracy: 0.7484\n",
      "Epoch 2/5\n",
      "203/203 [==============================] - 0s 2ms/step - loss: 0.5376 - accuracy: 0.7631\n",
      "Epoch 3/5\n",
      "203/203 [==============================] - 0s 2ms/step - loss: 0.5063 - accuracy: 0.7700\n",
      "Epoch 4/5\n",
      "203/203 [==============================] - 0s 2ms/step - loss: 0.4962 - accuracy: 0.7845\n",
      "Epoch 5/5\n",
      "203/203 [==============================] - 0s 2ms/step - loss: 0.4895 - accuracy: 0.7832\n",
      "INFO:tensorflow:Assets written to: /home/xiaopengxu/Desktop/data-covid-review/2021-05-31/model.Doc2Vec+DeepWalk.dl/assets\n",
      "2021-06-08 15:39:54.564991: Evaluating Doc2Vec+DeepWalk model ...\n",
      "Train: AUC = 0.790, precision = 0.775, recall = 0.617, accuracy = 0.791, f1_score = 0.632\n",
      "Dev: AUC = 0.789, precision = 0.800, recall = 0.623, accuracy = 0.791, f1_score = 0.638\n"
     ]
    },
    {
     "data": {
      "image/png": "[encoded data removed]",
      "text/plain": [
       "<Figure size 720x720 with 1 Axes>"
      ]
     },
     "metadata": {
      "needs_background": "light"
     },
     "output_type": "display_data"
    }
   ],
   "source": [
    "#X_train, X_test, y_train, y_test = train_test_split(X, y, test_size=0.2, random_state=123)\n",
    "\n",
    "#X_train.to_csv(inoutpath + 'training_set.csv')\n",
    "#X_test.to_csv(inoutpath + 'testing_set.csv')\n",
    "X_train = pd.read_csv(inoutpath + 'training_set.csv')\n",
    "X_test = pd.read_csv(inoutpath + 'testing_set.csv')\n",
    "\n",
    "print(len(X_train))\n",
    "print(len(X_test))\n",
    "\n",
    "feature_comparison(X_train, X_test, X_train.is_published, X_test.is_published, inoutpath, epochs=5)"
   ]
  },
  {
   "cell_type": "code",
   "execution_count": 379,
   "metadata": {},
   "outputs": [
    {
     "data": {
      "text/html": [
       "<div>\n",
       "<style scoped>\n",
       "    .dataframe tbody tr th:only-of-type {\n",
       "        vertical-align: middle;\n",
       "    }\n",
       "\n",
       "    .dataframe tbody tr th {\n",
       "        vertical-align: top;\n",
       "    }\n",
       "\n",
       "    .dataframe thead th {\n",
       "        text-align: right;\n",
       "    }\n",
       "</style>\n",
       "<table border=\"1\" class=\"dataframe\">\n",
       "  <thead>\n",
       "    <tr style=\"text-align: right;\">\n",
       "      <th></th>\n",
       "      <th>title</th>\n",
       "      <th>pub_prob</th>\n",
       "    </tr>\n",
       "  </thead>\n",
       "  <tbody>\n",
       "    <tr>\n",
       "      <th>590</th>\n",
       "      <td>structural analysis of spike protein mutations in an emergent sars-cov-2 variant from the philippines</td>\n",
       "      <td>0.881821</td>\n",
       "    </tr>\n",
       "    <tr>\n",
       "      <th>239</th>\n",
       "      <td>convergent evolution of sars-cov-2 spike mutations, l452r, e484q and p681r, in the second wave of covid-19 in maharashtra, india</td>\n",
       "      <td>0.872509</td>\n",
       "    </tr>\n",
       "    <tr>\n",
       "      <th>565</th>\n",
       "      <td>an observational cohort study on the incidence of sars-cov-2 infection and b.1.1.7 variant infection in healthcare workers by antibody and vaccination status</td>\n",
       "      <td>0.848938</td>\n",
       "    </tr>\n",
       "    <tr>\n",
       "      <th>226</th>\n",
       "      <td>6-month follow up of 8679 hospitalized covid-19 patients in germany: a nationwide cohort study</td>\n",
       "      <td>0.848472</td>\n",
       "    </tr>\n",
       "    <tr>\n",
       "      <th>212</th>\n",
       "      <td>evidence for biological age acceleration and telomere2 shortening in covid-19 survivors</td>\n",
       "      <td>0.841109</td>\n",
       "    </tr>\n",
       "    <tr>\n",
       "      <th>249</th>\n",
       "      <td>previous covid-19 infection but not long-covid is associated with increased adverse events following bnt162b2/pfizer vaccination</td>\n",
       "      <td>0.838816</td>\n",
       "    </tr>\n",
       "    <tr>\n",
       "      <th>566</th>\n",
       "      <td>recovered not restored: long-term health consequences after mild covid-19 in non-hospitalized patients</td>\n",
       "      <td>0.815228</td>\n",
       "    </tr>\n",
       "    <tr>\n",
       "      <th>623</th>\n",
       "      <td>preliminary efficacy of the nvx-cov2373 covid-19 vaccine against the b.1.351 variant</td>\n",
       "      <td>0.708072</td>\n",
       "    </tr>\n",
       "    <tr>\n",
       "      <th>127</th>\n",
       "      <td>a new sars-cov-2 variant poorly detected by rt-pcr on nasopharyngeal samples, with high lethality</td>\n",
       "      <td>0.706447</td>\n",
       "    </tr>\n",
       "    <tr>\n",
       "      <th>47</th>\n",
       "      <td>effectiveness of the coronavac vaccine in the elderly population during a p.1 variant-associated epidemic of covid-19 in brazil: a test-negative case-control study</td>\n",
       "      <td>0.690857</td>\n",
       "    </tr>\n",
       "    <tr>\n",
       "      <th>272</th>\n",
       "      <td>emergence of the novel sars-cov-2 lineage p.4.1 and massive spread of p.2 in south brazil</td>\n",
       "      <td>0.675393</td>\n",
       "    </tr>\n",
       "    <tr>\n",
       "      <th>25</th>\n",
       "      <td>effectiveness of covid-19 vaccines against the b.1.617.2 variant</td>\n",
       "      <td>0.619818</td>\n",
       "    </tr>\n",
       "    <tr>\n",
       "      <th>520</th>\n",
       "      <td>associations of the bnt162b2 covid-19 vaccine effectiveness with patient age and comorbidities</td>\n",
       "      <td>0.551970</td>\n",
       "    </tr>\n",
       "  </tbody>\n",
       "</table>\n",
       "</div>"
      ],
      "text/plain": [
       "                                                                                                                                                                   title  \\\n",
       "590                                                                structural analysis of spike protein mutations in an emergent sars-cov-2 variant from the philippines   \n",
       "239                                     convergent evolution of sars-cov-2 spike mutations, l452r, e484q and p681r, in the second wave of covid-19 in maharashtra, india   \n",
       "565        an observational cohort study on the incidence of sars-cov-2 infection and b.1.1.7 variant infection in healthcare workers by antibody and vaccination status   \n",
       "226                                                                       6-month follow up of 8679 hospitalized covid-19 patients in germany: a nationwide cohort study   \n",
       "212                                                                              evidence for biological age acceleration and telomere2 shortening in covid-19 survivors   \n",
       "249                                     previous covid-19 infection but not long-covid is associated with increased adverse events following bnt162b2/pfizer vaccination   \n",
       "566                                                               recovered not restored: long-term health consequences after mild covid-19 in non-hospitalized patients   \n",
       "623                                                                                 preliminary efficacy of the nvx-cov2373 covid-19 vaccine against the b.1.351 variant   \n",
       "127                                                                    a new sars-cov-2 variant poorly detected by rt-pcr on nasopharyngeal samples, with high lethality   \n",
       "47   effectiveness of the coronavac vaccine in the elderly population during a p.1 variant-associated epidemic of covid-19 in brazil: a test-negative case-control study   \n",
       "272                                                                            emergence of the novel sars-cov-2 lineage p.4.1 and massive spread of p.2 in south brazil   \n",
       "25                                                                                                      effectiveness of covid-19 vaccines against the b.1.617.2 variant   \n",
       "520                                                                       associations of the bnt162b2 covid-19 vaccine effectiveness with patient age and comorbidities   \n",
       "\n",
       "     pub_prob  \n",
       "590  0.881821  \n",
       "239  0.872509  \n",
       "565  0.848938  \n",
       "226  0.848472  \n",
       "212  0.841109  \n",
       "249  0.838816  \n",
       "566  0.815228  \n",
       "623  0.708072  \n",
       "127  0.706447  \n",
       "47   0.690857  \n",
       "272  0.675393  \n",
       "25   0.619818  \n",
       "520  0.551970  "
      ]
     },
     "execution_count": 379,
     "metadata": {},
     "output_type": "execute_result"
    }
   ],
   "source": [
    "F_new = F_Doc2Vec + F_DeepWalk + F_LDA\n",
    "#F_new = F_Doc2Vec + F_DeepWalk\n",
    "\n",
    "model = load_model(inoutpath, 'LDA+Doc2Vec+DeepWalk_selected')\n",
    "#model = load_model(inoutpath, 'Doc2Vec+DeepWalk')\n",
    "\n",
    "X['pub_prob'] = model.predict(X[F_new])\n",
    "#X_test['pub_prob'] = model.predict(X_test[F_new]) # dev data\n",
    "X_lxd['pub_prob'] = model.predict(X_lxd[F_new]) # target data\n",
    "\n",
    "pd.set_option('display.max_colwidth', None)\n",
    "X_lxd[X_lxd.title.isin(selected)][['title', 'pub_prob']].sort_values(by='pub_prob', ascending=False)"
   ]
  },
  {
   "cell_type": "markdown",
   "metadata": {},
   "source": [
    "## Predict publishing probability on papers published last X=90 days"
   ]
  },
  {
   "cell_type": "code",
   "execution_count": 337,
   "metadata": {},
   "outputs": [],
   "source": [
    "def load_model(save_path, model_name):\n",
    "    model = tf.keras.models.load_model(save_path + \"model.\" + model_name + \".dl\")\n",
    "    return model"
   ]
  },
  {
   "cell_type": "code",
   "execution_count": 338,
   "metadata": {},
   "outputs": [],
   "source": [
    "em_size = 50\n",
    "F_Doc2Vec = ['dv ' + str(i + 1) for i in range(em_size)]\n",
    "F_DeepWalk = ['dw ' + str(i + 1) for i in range(em_size)]\n",
    "F_LDA = ['topic.Healthcare', 'topic.Drug discovery', 'topic.Epidemiology', 'topic.Clinics', 'topic.Imaging', 'topic.Genomics']"
   ]
  },
  {
   "cell_type": "code",
   "execution_count": 340,
   "metadata": {},
   "outputs": [],
   "source": [
    "selected = ['convergent evolution of sars-cov-2 spike mutations, l452r, e484q and p681r, in the second wave of covid-19 in maharashtra, india',\n",
    "'structural analysis of spike protein mutations in an emergent sars-cov-2 variant from the philippines',\n",
    "'6-month follow up of 8679 hospitalized covid-19 patients in germany: a nationwide cohort study',\n",
    "'recovered not restored: long-term health consequences after mild covid-19 in non-hospitalized patients',\n",
    "'evidence for biological age acceleration and telomere2 shortening in covid-19 survivors',\n",
    "'an observational cohort study on the incidence of sars-cov-2 infection and b.1.1.7 variant infection in healthcare workers by antibody and vaccination status',\n",
    "'preliminary efficacy of the nvx-cov2373 covid-19 vaccine against the b.1.351 variant',\n",
    "'previous covid-19 infection but not long-covid is associated with increased adverse events following bnt162b2/pfizer vaccination',\n",
    "'a new sars-cov-2 variant poorly detected by rt-pcr on nasopharyngeal samples, with high lethality',\n",
    "'emergence of the novel sars-cov-2 lineage p.4.1 and massive spread of p.2 in south brazil',\n",
    "'associations of the bnt162b2 covid-19 vaccine effectiveness with patient age and comorbidities',\n",
    "'effectiveness of the coronavac vaccine in the elderly population during a p.1 variant-associated epidemic of covid-19 in brazil: a test-negative case-control study',\n",
    "'effectiveness of covid-19 vaccines against the b.1.617.2 variant']"
   ]
  },
  {
   "cell_type": "code",
   "execution_count": 348,
   "metadata": {},
   "outputs": [
    {
     "data": {
      "text/html": [
       "<div>\n",
       "<style scoped>\n",
       "    .dataframe tbody tr th:only-of-type {\n",
       "        vertical-align: middle;\n",
       "    }\n",
       "\n",
       "    .dataframe tbody tr th {\n",
       "        vertical-align: top;\n",
       "    }\n",
       "\n",
       "    .dataframe thead th {\n",
       "        text-align: right;\n",
       "    }\n",
       "</style>\n",
       "<table border=\"1\" class=\"dataframe\">\n",
       "  <thead>\n",
       "    <tr style=\"text-align: right;\">\n",
       "      <th></th>\n",
       "      <th>title</th>\n",
       "      <th>pub_prob</th>\n",
       "    </tr>\n",
       "  </thead>\n",
       "  <tbody>\n",
       "    <tr>\n",
       "      <th>566</th>\n",
       "      <td>recovered not restored: long-term health consequences after mild covid-19 in non-hospitalized patients</td>\n",
       "      <td>0.861207</td>\n",
       "    </tr>\n",
       "    <tr>\n",
       "      <th>590</th>\n",
       "      <td>structural analysis of spike protein mutations in an emergent sars-cov-2 variant from the philippines</td>\n",
       "      <td>0.852716</td>\n",
       "    </tr>\n",
       "    <tr>\n",
       "      <th>239</th>\n",
       "      <td>convergent evolution of sars-cov-2 spike mutations, l452r, e484q and p681r, in the second wave of covid-19 in maharashtra, india</td>\n",
       "      <td>0.850707</td>\n",
       "    </tr>\n",
       "    <tr>\n",
       "      <th>249</th>\n",
       "      <td>previous covid-19 infection but not long-covid is associated with increased adverse events following bnt162b2/pfizer vaccination</td>\n",
       "      <td>0.848281</td>\n",
       "    </tr>\n",
       "    <tr>\n",
       "      <th>226</th>\n",
       "      <td>6-month follow up of 8679 hospitalized covid-19 patients in germany: a nationwide cohort study</td>\n",
       "      <td>0.844000</td>\n",
       "    </tr>\n",
       "    <tr>\n",
       "      <th>212</th>\n",
       "      <td>evidence for biological age acceleration and telomere2 shortening in covid-19 survivors</td>\n",
       "      <td>0.802350</td>\n",
       "    </tr>\n",
       "    <tr>\n",
       "      <th>565</th>\n",
       "      <td>an observational cohort study on the incidence of sars-cov-2 infection and b.1.1.7 variant infection in healthcare workers by antibody and vaccination status</td>\n",
       "      <td>0.762341</td>\n",
       "    </tr>\n",
       "    <tr>\n",
       "      <th>623</th>\n",
       "      <td>preliminary efficacy of the nvx-cov2373 covid-19 vaccine against the b.1.351 variant</td>\n",
       "      <td>0.703701</td>\n",
       "    </tr>\n",
       "    <tr>\n",
       "      <th>127</th>\n",
       "      <td>a new sars-cov-2 variant poorly detected by rt-pcr on nasopharyngeal samples, with high lethality</td>\n",
       "      <td>0.698432</td>\n",
       "    </tr>\n",
       "    <tr>\n",
       "      <th>272</th>\n",
       "      <td>emergence of the novel sars-cov-2 lineage p.4.1 and massive spread of p.2 in south brazil</td>\n",
       "      <td>0.625987</td>\n",
       "    </tr>\n",
       "    <tr>\n",
       "      <th>47</th>\n",
       "      <td>effectiveness of the coronavac vaccine in the elderly population during a p.1 variant-associated epidemic of covid-19 in brazil: a test-negative case-control study</td>\n",
       "      <td>0.595320</td>\n",
       "    </tr>\n",
       "    <tr>\n",
       "      <th>25</th>\n",
       "      <td>effectiveness of covid-19 vaccines against the b.1.617.2 variant</td>\n",
       "      <td>0.590174</td>\n",
       "    </tr>\n",
       "    <tr>\n",
       "      <th>520</th>\n",
       "      <td>associations of the bnt162b2 covid-19 vaccine effectiveness with patient age and comorbidities</td>\n",
       "      <td>0.575810</td>\n",
       "    </tr>\n",
       "  </tbody>\n",
       "</table>\n",
       "</div>"
      ],
      "text/plain": [
       "                                                                                                                                                                   title  \\\n",
       "566                                                               recovered not restored: long-term health consequences after mild covid-19 in non-hospitalized patients   \n",
       "590                                                                structural analysis of spike protein mutations in an emergent sars-cov-2 variant from the philippines   \n",
       "239                                     convergent evolution of sars-cov-2 spike mutations, l452r, e484q and p681r, in the second wave of covid-19 in maharashtra, india   \n",
       "249                                     previous covid-19 infection but not long-covid is associated with increased adverse events following bnt162b2/pfizer vaccination   \n",
       "226                                                                       6-month follow up of 8679 hospitalized covid-19 patients in germany: a nationwide cohort study   \n",
       "212                                                                              evidence for biological age acceleration and telomere2 shortening in covid-19 survivors   \n",
       "565        an observational cohort study on the incidence of sars-cov-2 infection and b.1.1.7 variant infection in healthcare workers by antibody and vaccination status   \n",
       "623                                                                                 preliminary efficacy of the nvx-cov2373 covid-19 vaccine against the b.1.351 variant   \n",
       "127                                                                    a new sars-cov-2 variant poorly detected by rt-pcr on nasopharyngeal samples, with high lethality   \n",
       "272                                                                            emergence of the novel sars-cov-2 lineage p.4.1 and massive spread of p.2 in south brazil   \n",
       "47   effectiveness of the coronavac vaccine in the elderly population during a p.1 variant-associated epidemic of covid-19 in brazil: a test-negative case-control study   \n",
       "25                                                                                                      effectiveness of covid-19 vaccines against the b.1.617.2 variant   \n",
       "520                                                                       associations of the bnt162b2 covid-19 vaccine effectiveness with patient age and comorbidities   \n",
       "\n",
       "     pub_prob  \n",
       "566  0.861207  \n",
       "590  0.852716  \n",
       "239  0.850707  \n",
       "249  0.848281  \n",
       "226  0.844000  \n",
       "212  0.802350  \n",
       "565  0.762341  \n",
       "623  0.703701  \n",
       "127  0.698432  \n",
       "272  0.625987  \n",
       "47   0.595320  \n",
       "25   0.590174  \n",
       "520  0.575810  "
      ]
     },
     "execution_count": 348,
     "metadata": {},
     "output_type": "execute_result"
    }
   ],
   "source": [
    "F_new = F_Doc2Vec + F_DeepWalk + F_LDA\n",
    "#F_new = F_Doc2Vec + F_DeepWalk\n",
    "\n",
    "model = load_model(inoutpath, 'LDA+Doc2Vec+DeepWalk')\n",
    "#model = load_model(inoutpath, 'Doc2Vec+DeepWalk')\n",
    "\n",
    "X['pub_prob'] = model.predict(X[F_new])\n",
    "#X_test['pub_prob'] = model.predict(X_test[F_new]) # dev data\n",
    "X_lxd['pub_prob'] = model.predict(X_lxd[F_new]) # target data\n",
    "\n",
    "pd.set_option('display.max_colwidth', None)\n",
    "X_lxd[X_lxd.title.isin(selected)][['title', 'pub_prob']].sort_values(by='pub_prob', ascending=False)"
   ]
  },
  {
   "cell_type": "markdown",
   "metadata": {},
   "source": [
    "## Check the ranking of the selected preprints"
   ]
  },
  {
   "cell_type": "code",
   "execution_count": 243,
   "metadata": {},
   "outputs": [
    {
     "data": {
      "image/png": "[encoded data removed]",
      "text/plain": [
       "<Figure size 720x720 with 1 Axes>"
      ]
     },
     "metadata": {
      "needs_background": "light"
     },
     "output_type": "display_data"
    }
   ],
   "source": [
    "# Create lists for the plot\n",
    "status = ['Published', 'Unpublished']\n",
    "x_pos = np.arange(len(status))\n",
    "CTEs = [X[X.is_preprint & X.is_published].pub_prob.mean(), X[X.is_preprint & ~X.is_published].pub_prob.mean()]\n",
    "error = [X[X.is_preprint & X.is_published].pub_prob.std(), X[X.is_preprint & ~X.is_published].pub_prob.std()]\n",
    "\n",
    "# Build the plot\n",
    "fig, ax = plt.subplots()\n",
    "ax.bar(x_pos, CTEs, yerr=error, align='center', alpha=0.5, ecolor='black', capsize=10)\n",
    "ax.set_ylabel('Predicted publishing probability')\n",
    "ax.set_xticks(x_pos)\n",
    "ax.set_xticklabels(status)\n",
    "ax.set_title('Publishing status')\n",
    "ax.yaxis.grid(True)\n",
    "\n",
    "# Save the figure and show\n",
    "plt.tight_layout()\n",
    "fig3 = plt.gcf()\n",
    "plt.draw()\n",
    "fig3.savefig(inoutpath + \"figs_dl_prediction_error_bar.pdf\")\n",
    "plt.show()"
   ]
  },
  {
   "cell_type": "code",
   "execution_count": 244,
   "metadata": {},
   "outputs": [
    {
     "data": {
      "text/plain": [
       "False    669\n",
       "True      12\n",
       "Name: is_published, dtype: int64"
      ]
     },
     "execution_count": 244,
     "metadata": {},
     "output_type": "execute_result"
    }
   ],
   "source": [
    "X_lxd.is_published.value_counts()"
   ]
  },
  {
   "cell_type": "code",
   "execution_count": 245,
   "metadata": {},
   "outputs": [
    {
     "data": {
      "text/plain": [
       "True     446\n",
       "False    235\n",
       "Name: pub_prob, dtype: int64"
      ]
     },
     "execution_count": 245,
     "metadata": {},
     "output_type": "execute_result"
    }
   ],
   "source": [
    "(X_lxd.pub_prob >= 0.592).value_counts()"
   ]
  },
  {
   "cell_type": "code",
   "execution_count": 246,
   "metadata": {},
   "outputs": [
    {
     "data": {
      "text/plain": [
       "False    436\n",
       "True      10\n",
       "Name: is_published, dtype: int64"
      ]
     },
     "execution_count": 246,
     "metadata": {},
     "output_type": "execute_result"
    }
   ],
   "source": [
    "X_lxd[X_lxd.pub_prob >= 0.592].is_published.value_counts()"
   ]
  },
  {
   "cell_type": "code",
   "execution_count": 253,
   "metadata": {},
   "outputs": [
    {
     "data": {
      "text/plain": [
       "12"
      ]
     },
     "execution_count": 253,
     "metadata": {},
     "output_type": "execute_result"
    }
   ],
   "source": [
    "len(X_lxd[X_lxd.is_published & (X_lxd.pub_prob >= 0.567)])#[['title', 'pub_prob', 'is_published']]"
   ]
  },
  {
   "cell_type": "code",
   "execution_count": 254,
   "metadata": {},
   "outputs": [
    {
     "data": {
      "text/plain": [
       "0"
      ]
     },
     "execution_count": 254,
     "metadata": {},
     "output_type": "execute_result"
    }
   ],
   "source": [
    "len(X_lxd[X_lxd.is_published & (X_lxd.pub_prob < 0.5)])# [['title', 'pub_prob', 'is_published']]"
   ]
  },
  {
   "cell_type": "code",
   "execution_count": 255,
   "metadata": {},
   "outputs": [
    {
     "name": "stdout",
     "output_type": "stream",
     "text": [
      "              precision    recall  f1-score   support\n",
      "\n",
      " Unpublished       0.66      0.37      0.47       852\n",
      "   Published       0.81      0.93      0.86      2391\n",
      "\n",
      "    accuracy                           0.78      3243\n",
      "   macro avg       0.73      0.65      0.67      3243\n",
      "weighted avg       0.77      0.78      0.76      3243\n",
      "\n"
     ]
    }
   ],
   "source": [
    "from sklearn.metrics import classification_report\n",
    "target_names = ['Unpublished', 'Published']\n",
    "\n",
    "print(classification_report(X_test.is_published, X_test.pub_prob >=0.5, target_names=target_names))"
   ]
  },
  {
   "cell_type": "code",
   "execution_count": 256,
   "metadata": {},
   "outputs": [],
   "source": [
    "X_lxd.to_csv(inoutpath + \"ret_lxd.ori_publishing_scores.csv\")\n",
    "X.to_csv(inoutpath + \"ret.ori_publishing_scores.csv\")"
   ]
  },
  {
   "cell_type": "code",
   "execution_count": 103,
   "metadata": {},
   "outputs": [
    {
     "data": {
      "text/html": [
       "<div>\n",
       "<style scoped>\n",
       "    .dataframe tbody tr th:only-of-type {\n",
       "        vertical-align: middle;\n",
       "    }\n",
       "\n",
       "    .dataframe tbody tr th {\n",
       "        vertical-align: top;\n",
       "    }\n",
       "\n",
       "    .dataframe thead th {\n",
       "        text-align: right;\n",
       "    }\n",
       "</style>\n",
       "<table border=\"1\" class=\"dataframe\">\n",
       "  <thead>\n",
       "    <tr style=\"text-align: right;\">\n",
       "      <th></th>\n",
       "      <th>p_published</th>\n",
       "    </tr>\n",
       "    <tr>\n",
       "      <th>topic</th>\n",
       "      <th></th>\n",
       "    </tr>\n",
       "  </thead>\n",
       "  <tbody>\n",
       "    <tr>\n",
       "      <th>Clinics</th>\n",
       "      <td>82</td>\n",
       "    </tr>\n",
       "    <tr>\n",
       "      <th>Drug discovery</th>\n",
       "      <td>118</td>\n",
       "    </tr>\n",
       "    <tr>\n",
       "      <th>Epidemiology</th>\n",
       "      <td>73</td>\n",
       "    </tr>\n",
       "    <tr>\n",
       "      <th>Genomics</th>\n",
       "      <td>140</td>\n",
       "    </tr>\n",
       "    <tr>\n",
       "      <th>Healthcare</th>\n",
       "      <td>72</td>\n",
       "    </tr>\n",
       "    <tr>\n",
       "      <th>Imaging</th>\n",
       "      <td>13</td>\n",
       "    </tr>\n",
       "  </tbody>\n",
       "</table>\n",
       "</div>"
      ],
      "text/plain": [
       "                p_published\n",
       "topic                      \n",
       "Clinics                  82\n",
       "Drug discovery          118\n",
       "Epidemiology             73\n",
       "Genomics                140\n",
       "Healthcare               72\n",
       "Imaging                  13"
      ]
     },
     "execution_count": 103,
     "metadata": {},
     "output_type": "execute_result"
    }
   ],
   "source": [
    "X_lxd['p_published'] = X_lxd.pub_prob > 0.592\n",
    "X_lxd[X_lxd.p_published][['topic', 'p_published']].groupby('topic').count()"
   ]
  },
  {
   "cell_type": "code",
   "execution_count": 104,
   "metadata": {},
   "outputs": [
    {
     "data": {
      "text/plain": [
       "title             498\n",
       "abstract          498\n",
       "journal           498\n",
       "DOI               498\n",
       "date              498\n",
       "                 ... \n",
       "preprint_test     498\n",
       "preprint_train    498\n",
       "pubmed_train      498\n",
       "pub_prob          498\n",
       "p_published       498\n",
       "Length: 138, dtype: int64"
      ]
     },
     "execution_count": 104,
     "metadata": {},
     "output_type": "execute_result"
    }
   ],
   "source": [
    "X_lxd[X_lxd.p_published].count()"
   ]
  },
  {
   "cell_type": "markdown",
   "metadata": {},
   "source": [
    "## Analyze prediction among Topics"
   ]
  },
  {
   "cell_type": "code",
   "execution_count": 99,
   "metadata": {},
   "outputs": [
    {
     "data": {
      "text/plain": [
       "<AxesSubplot:xlabel='topic'>"
      ]
     },
     "execution_count": 99,
     "metadata": {},
     "output_type": "execute_result"
    },
    {
     "data": {
      "image/png": "[encoded data removed]",
      "text/plain": [
       "<Figure size 720x432 with 1 Axes>"
      ]
     },
     "metadata": {
      "needs_background": "light"
     },
     "output_type": "display_data"
    }
   ],
   "source": [
    "plt.rcParams['figure.figsize'] = [10, 6]\n",
    "\n",
    "X['p_published'] = (X['pub_prob'] > 0.592) * 1\n",
    "df_ret = pd.merge(X['topic'], X['p_published'], left_index=True, right_index=True)\n",
    "\n",
    "topic_sum = df_ret.groupby('topic').agg({'topic':'count', 'p_published':'sum'})\n",
    "topic_sum['p_unpublished'] = topic_sum['topic'] - topic_sum['p_published']\n",
    "topic_sum[['p_published', 'p_unpublished']].plot.bar(rot=0)"
   ]
  },
  {
   "cell_type": "code",
   "execution_count": 100,
   "metadata": {},
   "outputs": [
    {
     "data": {
      "text/plain": [
       "<AxesSubplot:xlabel='topic'>"
      ]
     },
     "execution_count": 100,
     "metadata": {},
     "output_type": "execute_result"
    },
    {
     "data": {
      "image/png": "[encoded data removed]",
      "text/plain": [
       "<Figure size 720x432 with 1 Axes>"
      ]
     },
     "metadata": {
      "needs_background": "light"
     },
     "output_type": "display_data"
    }
   ],
   "source": [
    "X['t_published'] = y * 1\n",
    "df_t_ret = pd.merge(X['topic'], X['t_published'], left_index=True, right_index=True)\n",
    "\n",
    "topic_t_sum = df_t_ret.groupby('topic').agg({'topic':'count', 't_published':'sum'})\n",
    "topic_t_sum['t_unpublished'] = topic_t_sum['topic'] - topic_t_sum['t_published']\n",
    "topic_t_sum[['t_published', 't_unpublished']].plot.bar(rot=0)"
   ]
  },
  {
   "cell_type": "code",
   "execution_count": 240,
   "metadata": {},
   "outputs": [
    {
     "data": {
      "image/png": "[encoded data removed]",
      "text/plain": [
       "<Figure size 720x720 with 1 Axes>"
      ]
     },
     "metadata": {
      "needs_background": "light"
     },
     "output_type": "display_data"
    }
   ],
   "source": [
    "from sklearn.metrics import precision_recall_curve\n",
    "\n",
    "precision, recall, _ = precision_recall_curve(X_test.is_published, X_test.pub_prob)\n",
    "plt.plot(recall, precision, marker='.', label='DL: LDA+Doc2Vec+DeepWalk')\n",
    "\n",
    "plt.xlabel('Recall')\n",
    "plt.ylabel('Precision')\n",
    "plt.legend()\n",
    "fig2 = plt.gcf()\n",
    "plt.draw()\n",
    "fig2.savefig(inoutpath + \"figs_dl_precision_recall.pdf\")\n",
    "plt.show()"
   ]
  }
 ],
 "metadata": {
  "kernelspec": {
   "display_name": "Python 3",
   "language": "python",
   "name": "python3"
  },
  "language_info": {
   "codemirror_mode": {
    "name": "ipython",
    "version": 3
   },
   "file_extension": ".py",
   "mimetype": "text/x-python",
   "name": "python",
   "nbconvert_exporter": "python",
   "pygments_lexer": "ipython3",
   "version": "3.8.5"
  }
 },
 "nbformat": 4,
 "nbformat_minor": 4
}
