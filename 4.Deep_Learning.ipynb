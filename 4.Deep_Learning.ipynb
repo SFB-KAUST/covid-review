{
 "cells": [
  {
   "cell_type": "markdown",
   "metadata": {},
   "source": [
    "# Classify using Deep Learning"
   ]
  },
  {
   "cell_type": "code",
   "execution_count": 1,
   "metadata": {},
   "outputs": [],
   "source": [
    "import numpy as np\n",
    "import pandas as pd\n",
    "from datetime import datetime\n",
    "\n",
    "import matplotlib as mpl\n",
    "import matplotlib.pyplot as plt\n",
    "\n",
    "from sklearn.model_selection import train_test_split\n",
    "from sklearn.preprocessing import StandardScaler\n",
    "from sklearn.metrics import precision_recall_fscore_support, roc_curve, auc, accuracy_score\n",
    "\n",
    "import tensorflow as tf\n",
    "from tensorflow import keras\n",
    "from tensorflow.keras import layers, losses\n",
    "from tensorflow.keras.models import Model"
   ]
  },
  {
   "cell_type": "code",
   "execution_count": 2,
   "metadata": {},
   "outputs": [],
   "source": [
    "inoutpath = 'data/'\n",
    "\n",
    "train_data_path = inoutpath + 'features.ori_doc2vec_deepwalk_scores_train.csv'\n",
    "test_data_path = inoutpath + 'features.ori_doc2vec_deepwalk_scores_test.csv'\n",
    "\n",
    "epochs = 5"
   ]
  },
  {
   "cell_type": "markdown",
   "metadata": {},
   "source": [
    "## Load data"
   ]
  },
  {
   "cell_type": "code",
   "execution_count": 3,
   "metadata": {},
   "outputs": [],
   "source": [
    "def load_data(compdata_path):\n",
    "    print(datetime.now().strftime('%Y-%m-%d %H:%M:%S.%f') + \": Loading data ...\")\n",
    "    papers = pd.read_csv(compdata_path, index_col=False)\n",
    "    papers.drop(['Unnamed: 0'], axis=1, inplace=True)\n",
    "\n",
    "    return papers.fillna(0)"
   ]
  },
  {
   "cell_type": "code",
   "execution_count": 4,
   "metadata": {},
   "outputs": [
    {
     "name": "stdout",
     "output_type": "stream",
     "text": [
      "2021-07-26 00:07:42.861533: Loading data ...\n",
      "2021-07-26 00:07:43.706821: Loading data ...\n"
     ]
    },
    {
     "name": "stderr",
     "output_type": "stream",
     "text": [
      "/home/xiaopengxu/anaconda3/envs/ml-env/lib/python3.8/site-packages/IPython/core/interactiveshell.py:3357: DtypeWarning: Columns (3,4,7) have mixed types.Specify dtype option on import or set low_memory=False.\n",
      "  if (await self.run_code(code, result,  async_=asy)):\n"
     ]
    }
   ],
   "source": [
    "X = load_data(train_data_path)\n",
    "X_lxd = load_data(test_data_path)"
   ]
  },
  {
   "cell_type": "code",
   "execution_count": 5,
   "metadata": {},
   "outputs": [
    {
     "data": {
      "text/plain": [
       "17519"
      ]
     },
     "execution_count": 5,
     "metadata": {},
     "output_type": "execute_result"
    }
   ],
   "source": [
    "len(X.index)"
   ]
  },
  {
   "cell_type": "code",
   "execution_count": 7,
   "metadata": {},
   "outputs": [],
   "source": [
    "y = X.is_published"
   ]
  },
  {
   "cell_type": "code",
   "execution_count": 8,
   "metadata": {},
   "outputs": [
    {
     "name": "stdout",
     "output_type": "stream",
     "text": [
      "['title' 'abstract' 'journal' 'DOI' 'date' 'collection' 'published'\n",
      " 'nauthors' 'keywords' 'topic.Clinics' 'topic.Genomics' 'topic.Imaging'\n",
      " 'topic.Healthcare' 'topic.Drug discovery' 'topic.Epidemiology' 'topic'\n",
      " 'ref' 'p_doi' 'dv 1' 'dv 2' 'dv 3' 'dv 4' 'dv 5' 'dv 6' 'dv 7' 'dv 8'\n",
      " 'dv 9' 'dv 10' 'dv 11' 'dv 12' 'dv 13' 'dv 14' 'dv 15' 'dv 16' 'dv 17'\n",
      " 'dv 18' 'dv 19' 'dv 20' 'dv 21' 'dv 22' 'dv 23' 'dv 24' 'dv 25' 'dv 26'\n",
      " 'dv 27' 'dv 28' 'dv 29' 'dv 30' 'dv 31' 'dv 32' 'dv 33' 'dv 34' 'dv 35'\n",
      " 'dv 36' 'dv 37' 'dv 38' 'dv 39' 'dv 40' 'dv 41' 'dv 42' 'dv 43' 'dv 44'\n",
      " 'dv 45' 'dv 46' 'dv 47' 'dv 48' 'dv 49' 'dv 50' 'dw 1' 'dw 2' 'dw 3'\n",
      " 'dw 4' 'dw 5' 'dw 6' 'dw 7' 'dw 8' 'dw 9' 'dw 10' 'dw 11' 'dw 12' 'dw 13'\n",
      " 'dw 14' 'dw 15' 'dw 16' 'dw 17' 'dw 18' 'dw 19' 'dw 20' 'dw 21' 'dw 22'\n",
      " 'dw 23' 'dw 24' 'dw 25' 'dw 26' 'dw 27' 'dw 28' 'dw 29' 'dw 30' 'dw 31'\n",
      " 'dw 32' 'dw 33' 'dw 34' 'dw 35' 'dw 36' 'dw 37' 'dw 38' 'dw 39' 'dw 40'\n",
      " 'dw 41' 'dw 42' 'dw 43' 'dw 44' 'dw 45' 'dw 46' 'dw 47' 'dw 48' 'dw 49'\n",
      " 'dw 50' 'auth.papers' 'auth.papers.score' 'auth.citations'\n",
      " 'auth.citations.score' 'art.citations' 'art.citations.score' 'art.views'\n",
      " 'art.views.score' 'final.score' 'subDate' 'acptDate' 'pubDate'\n",
      " 'preprint_age' 'is_preprint' 'is_published' 'preprint_test'\n",
      " 'preprint_train' 'pubmed_train']\n"
     ]
    }
   ],
   "source": [
    "print(X.columns.values)"
   ]
  },
  {
   "cell_type": "markdown",
   "metadata": {},
   "source": [
    "## Train DL model"
   ]
  },
  {
   "cell_type": "code",
   "execution_count": 9,
   "metadata": {},
   "outputs": [],
   "source": [
    "def create_model(n_features, layers):\n",
    "    # create model\n",
    "    model = tf.keras.Sequential()\n",
    "    model.add(tf.keras.layers.Dense(layers[0], input_dim=n_features, activation='relu', kernel_regularizer=keras.regularizers.l2(l=0.1)))\n",
    "\n",
    "    # add hidden layers\n",
    "    for i in range(1, len(layers)):\n",
    "        #model.add(tf.keras.layers.Dense(layers[i], activation='relu', kernel_regularizer=keras.regularizers.l2(l=0.1)))\n",
    "        model.add(tf.keras.layers.Dense(layers[i], activation='relu'))\n",
    "    model.add(tf.keras.layers.Dense(1, activation='sigmoid'))\n",
    "\n",
    "    # Compile model\n",
    "    model.compile(optimizer='adam', loss='binary_crossentropy', metrics=[\"accuracy\"])\n",
    "    return model"
   ]
  },
  {
   "cell_type": "code",
   "execution_count": 10,
   "metadata": {},
   "outputs": [],
   "source": [
    "def eval_pred(y_true, y_prob, eval_type='Dev'):\n",
    "\n",
    "    y_pred = y_prob >= 0.5\n",
    "    \n",
    "    fpr, tpr, _ = roc_curve(y_true, y_prob)\n",
    "    auc_s = auc(fpr, tpr)\n",
    "\n",
    "    prec, recall, f1_s, _ = precision_recall_fscore_support(y_true, y_pred, average='macro')\n",
    "    acc = accuracy_score(y_true, y_pred)\n",
    "    \n",
    "    print(eval_type + \": AUC = %.3f, precision = %.3f, recall = %.3f, accuracy = %.3f, f1_score = %.3f\" % (auc_s, prec, recall, acc, f1_s))"
   ]
  },
  {
   "cell_type": "code",
   "execution_count": 11,
   "metadata": {},
   "outputs": [],
   "source": [
    "def dl_modeling(model_name, save_path, X_train, X_test, y_train, y_test, features, layers, epochs=10, batch_size=64):\n",
    "    print(datetime.now().strftime('%Y-%m-%d %H:%M:%S.%f') + \": Training {} model ...\".format(model_name))\n",
    "    model = create_model(len(features), layers)\n",
    "    md = model.fit(X_train[features], y_train, epochs=epochs, batch_size=64)\n",
    "    model.save(save_path + \"model.\" + model_name + \".dl\")\n",
    "\n",
    "    print(datetime.now().strftime('%Y-%m-%d %H:%M:%S.%f') + \": Evaluating {} model ...\".format(model_name))\n",
    "    y_test_prob = model.predict(X_test[features])\n",
    "    \n",
    "    fpr, tpr, _ = roc_curve(y_test, y_test_prob)\n",
    "    auc_dl = auc(fpr, tpr)\n",
    "    eval_pred(y_train, model.predict(X_train[features]), 'Train')\n",
    "    eval_pred(y_test, y_test_prob, 'Dev')\n",
    "    \n",
    "    return fpr, tpr, auc_dl"
   ]
  },
  {
   "cell_type": "code",
   "execution_count": 12,
   "metadata": {},
   "outputs": [],
   "source": [
    "def draw_ROC_figure(fprs, tprs, f_names, aucs, save_path):\n",
    "    plt.figure()\n",
    "    plt.rcParams['figure.figsize'] = [10, 10]\n",
    "    \n",
    "    for i in range(len(f_names)):\n",
    "        plt.plot(fprs[i], tprs[i], label= f_names[i] +', AUC={:.4f}'.format(aucs[i]))\n",
    "\n",
    "    plt.plot([0, 1], [0, 1], 'k--')\n",
    "    plt.xlabel('False positive rate')\n",
    "    plt.ylabel('True positive rate')\n",
    "    plt.title('ROC curve')\n",
    "    plt.legend(loc='best')\n",
    "    fig1 = plt.gcf()\n",
    "    plt.draw()\n",
    "    fig1.savefig(save_path + \"features_rocs.pdf\")"
   ]
  },
  {
   "cell_type": "markdown",
   "metadata": {},
   "source": [
    "### Compare feature and split train and test data"
   ]
  },
  {
   "cell_type": "code",
   "execution_count": 13,
   "metadata": {},
   "outputs": [],
   "source": [
    "def feature_comparison(X_train, X_test, y_train, y_test, save_path, epochs=10):\n",
    "    \n",
    "    em_size = 50\n",
    "    F_Doc2Vec = ['dv ' + str(i + 1) for i in range(em_size)]\n",
    "    F_DeepWalk = ['dw ' + str(i + 1) for i in range(em_size)]\n",
    "    F_LDA = ['topic.Healthcare', 'topic.Drug discovery', 'topic.Epidemiology', 'topic.Clinics', 'topic.Imaging', 'topic.Genomics']\n",
    "    F_ascore = ['auth.papers.score', 'auth.citations.score']\n",
    "    \n",
    "    f_names = [\n",
    "        'LDA+Doc2Vec+DeepWalk', \n",
    "        'Doc2Vec+DeepWalk', \n",
    "        'Doc2Vec+LDA', \n",
    "        'Doc2Vec', \n",
    "        'LDA', \n",
    "        'DeepWalk', \n",
    "    ]\n",
    "    f_combs = [\n",
    "        F_Doc2Vec + F_DeepWalk + F_LDA, \n",
    "        F_Doc2Vec + F_DeepWalk, \n",
    "        F_Doc2Vec + F_LDA, \n",
    "        F_Doc2Vec, \n",
    "        F_LDA, \n",
    "        F_DeepWalk\n",
    "    ]\n",
    "    layers = [\n",
    "        [150, 30, 6, 9], \n",
    "        [150, 9, 20, 10], \n",
    "        [150, 9, 20, 10],\n",
    "        [100, 50, 30, 10], \n",
    "        [10, 50, 3, 9], \n",
    "        [150, 6, 20, 3]\n",
    "    ]\n",
    "    \n",
    "    fprs, tprs, aucs = [], [], []\n",
    "    \n",
    "    for i in range(len(f_names)):\n",
    "        fpr, tpr, auc = dl_modeling(f_names[i], save_path, X_train, X_test, y_train, y_test, f_combs[i], layers[i], epochs=epochs)\n",
    "        fprs.append(fpr)\n",
    "        tprs.append(tpr)\n",
    "        aucs.append(auc)\n",
    "        \n",
    "    draw_ROC_figure(fprs, tprs, f_names, aucs, save_path)"
   ]
  },
  {
   "cell_type": "code",
   "execution_count": 14,
   "metadata": {},
   "outputs": [
    {
     "name": "stdout",
     "output_type": "stream",
     "text": [
      "14015\n",
      "3504\n",
      "2021-07-26 00:07:47.942722: Training LDA+Doc2Vec+DeepWalk model ...\n",
      "Epoch 1/5\n",
      "219/219 [==============================] - 1s 2ms/step - loss: 3.0361 - accuracy: 0.7558\n",
      "Epoch 2/5\n",
      "219/219 [==============================] - 0s 2ms/step - loss: 0.4995 - accuracy: 0.7886\n",
      "Epoch 3/5\n",
      "219/219 [==============================] - 0s 2ms/step - loss: 0.4859 - accuracy: 0.7927\n",
      "Epoch 4/5\n",
      "219/219 [==============================] - 0s 2ms/step - loss: 0.4823 - accuracy: 0.7950\n",
      "Epoch 5/5\n",
      "219/219 [==============================] - 1s 2ms/step - loss: 0.4759 - accuracy: 0.7961\n",
      "INFO:tensorflow:Assets written to: /home/xiaopengxu/Desktop/data-covid-review/2021-07-11/model.LDA+Doc2Vec+DeepWalk.dl/assets\n",
      "2021-07-26 00:07:51.796847: Evaluating LDA+Doc2Vec+DeepWalk model ...\n",
      "Train: AUC = 0.806, precision = 0.805, recall = 0.622, accuracy = 0.802, f1_score = 0.640\n",
      "Dev: AUC = 0.768, precision = 0.772, recall = 0.603, accuracy = 0.790, f1_score = 0.614\n",
      "2021-07-26 00:07:52.173076: Training Doc2Vec+DeepWalk model ...\n",
      "Epoch 1/5\n",
      "219/219 [==============================] - 1s 2ms/step - loss: 3.0283 - accuracy: 0.7648\n",
      "Epoch 2/5\n",
      "219/219 [==============================] - 1s 2ms/step - loss: 0.5035 - accuracy: 0.7894\n",
      "Epoch 3/5\n",
      "219/219 [==============================] - 1s 2ms/step - loss: 0.4863 - accuracy: 0.7935\n",
      "Epoch 4/5\n",
      "219/219 [==============================] - 1s 2ms/step - loss: 0.4833 - accuracy: 0.7924\n",
      "Epoch 5/5\n",
      "219/219 [==============================] - 0s 2ms/step - loss: 0.4802 - accuracy: 0.7961\n",
      "INFO:tensorflow:Assets written to: /home/xiaopengxu/Desktop/data-covid-review/2021-07-11/model.Doc2Vec+DeepWalk.dl/assets\n",
      "2021-07-26 00:07:55.693460: Evaluating Doc2Vec+DeepWalk model ...\n",
      "Train: AUC = 0.802, precision = 0.780, recall = 0.640, accuracy = 0.803, f1_score = 0.662\n",
      "Dev: AUC = 0.762, precision = 0.745, recall = 0.615, accuracy = 0.789, f1_score = 0.630\n",
      "2021-07-26 00:07:56.038584: Training Doc2Vec+LDA model ...\n",
      "Epoch 1/5\n",
      "219/219 [==============================] - 1s 2ms/step - loss: 2.4141 - accuracy: 0.7488\n",
      "Epoch 2/5\n",
      "219/219 [==============================] - 0s 2ms/step - loss: 0.5148 - accuracy: 0.7653\n",
      "Epoch 3/5\n",
      "219/219 [==============================] - 1s 2ms/step - loss: 0.5020 - accuracy: 0.7678\n",
      "Epoch 4/5\n",
      "219/219 [==============================] - 0s 2ms/step - loss: 0.4982 - accuracy: 0.7702\n",
      "Epoch 5/5\n",
      "219/219 [==============================] - 0s 2ms/step - loss: 0.4964 - accuracy: 0.7718\n",
      "INFO:tensorflow:Assets written to: /home/xiaopengxu/Desktop/data-covid-review/2021-07-11/model.Doc2Vec+LDA.dl/assets\n",
      "2021-07-26 00:07:59.550317: Evaluating Doc2Vec+LDA model ...\n",
      "Train: AUC = 0.760, precision = 0.692, recall = 0.623, accuracy = 0.773, f1_score = 0.638\n",
      "Dev: AUC = 0.733, precision = 0.660, recall = 0.608, accuracy = 0.758, f1_score = 0.619\n",
      "2021-07-26 00:07:59.887636: Training Doc2Vec model ...\n",
      "Epoch 1/5\n",
      "219/219 [==============================] - 1s 2ms/step - loss: 2.3350 - accuracy: 0.7590\n",
      "Epoch 2/5\n",
      "219/219 [==============================] - 0s 2ms/step - loss: 0.5276 - accuracy: 0.7682\n",
      "Epoch 3/5\n",
      "219/219 [==============================] - 1s 2ms/step - loss: 0.4990 - accuracy: 0.7682\n",
      "Epoch 4/5\n",
      "219/219 [==============================] - 1s 2ms/step - loss: 0.4949 - accuracy: 0.7742\n",
      "Epoch 5/5\n",
      "219/219 [==============================] - 1s 2ms/step - loss: 0.4923 - accuracy: 0.7766\n",
      "INFO:tensorflow:Assets written to: /home/xiaopengxu/Desktop/data-covid-review/2021-07-11/model.Doc2Vec.dl/assets\n",
      "2021-07-26 00:08:03.375298: Evaluating Doc2Vec model ...\n",
      "Train: AUC = 0.773, precision = 0.694, recall = 0.632, accuracy = 0.775, f1_score = 0.647\n",
      "Dev: AUC = 0.746, precision = 0.672, recall = 0.620, accuracy = 0.764, f1_score = 0.632\n",
      "2021-07-26 00:08:03.770776: Training LDA model ...\n",
      "Epoch 1/5\n",
      "219/219 [==============================] - 1s 2ms/step - loss: 1.0283 - accuracy: 0.7506\n",
      "Epoch 2/5\n",
      "219/219 [==============================] - 0s 2ms/step - loss: 0.6679 - accuracy: 0.7514\n",
      "Epoch 3/5\n",
      "219/219 [==============================] - 0s 2ms/step - loss: 0.5631 - accuracy: 0.7514\n",
      "Epoch 4/5\n",
      "219/219 [==============================] - 0s 2ms/step - loss: 0.5343 - accuracy: 0.7514\n",
      "Epoch 5/5\n",
      "219/219 [==============================] - 0s 2ms/step - loss: 0.5265 - accuracy: 0.7514\n",
      "INFO:tensorflow:Assets written to: /home/xiaopengxu/Desktop/data-covid-review/2021-07-11/model.LDA.dl/assets\n",
      "2021-07-26 00:08:06.873286: Evaluating LDA model ...\n"
     ]
    },
    {
     "name": "stderr",
     "output_type": "stream",
     "text": [
      "/home/xiaopengxu/anaconda3/envs/ml-env/lib/python3.8/site-packages/scikit_learn-0.24.2-py3.8-linux-x86_64.egg/sklearn/metrics/_classification.py:1248: UndefinedMetricWarning: Precision and F-score are ill-defined and being set to 0.0 in labels with no predicted samples. Use `zero_division` parameter to control this behavior.\n",
      "  _warn_prf(average, modifier, msg_start, len(result))\n",
      "/home/xiaopengxu/anaconda3/envs/ml-env/lib/python3.8/site-packages/scikit_learn-0.24.2-py3.8-linux-x86_64.egg/sklearn/metrics/_classification.py:1248: UndefinedMetricWarning: Precision and F-score are ill-defined and being set to 0.0 in labels with no predicted samples. Use `zero_division` parameter to control this behavior.\n",
      "  _warn_prf(average, modifier, msg_start, len(result))\n"
     ]
    },
    {
     "name": "stdout",
     "output_type": "stream",
     "text": [
      "Train: AUC = 0.692, precision = 0.376, recall = 0.500, accuracy = 0.751, f1_score = 0.429\n",
      "Dev: AUC = 0.677, precision = 0.376, recall = 0.500, accuracy = 0.752, f1_score = 0.429\n",
      "2021-07-26 00:08:07.181080: Training DeepWalk model ...\n",
      "Epoch 1/5\n",
      "219/219 [==============================] - 1s 2ms/step - loss: 2.3406 - accuracy: 0.7510\n",
      "Epoch 2/5\n",
      "219/219 [==============================] - 0s 2ms/step - loss: 0.5522 - accuracy: 0.7514\n",
      "Epoch 3/5\n",
      "219/219 [==============================] - 0s 2ms/step - loss: 0.5375 - accuracy: 0.7514\n",
      "Epoch 4/5\n",
      "219/219 [==============================] - 1s 2ms/step - loss: 0.5362 - accuracy: 0.7514\n",
      "Epoch 5/5\n",
      "219/219 [==============================] - 0s 2ms/step - loss: 0.5341 - accuracy: 0.7514\n",
      "INFO:tensorflow:Assets written to: /home/xiaopengxu/Desktop/data-covid-review/2021-07-11/model.DeepWalk.dl/assets\n",
      "2021-07-26 00:08:10.709033: Evaluating DeepWalk model ...\n"
     ]
    },
    {
     "name": "stderr",
     "output_type": "stream",
     "text": [
      "/home/xiaopengxu/anaconda3/envs/ml-env/lib/python3.8/site-packages/scikit_learn-0.24.2-py3.8-linux-x86_64.egg/sklearn/metrics/_classification.py:1248: UndefinedMetricWarning: Precision and F-score are ill-defined and being set to 0.0 in labels with no predicted samples. Use `zero_division` parameter to control this behavior.\n",
      "  _warn_prf(average, modifier, msg_start, len(result))\n",
      "/home/xiaopengxu/anaconda3/envs/ml-env/lib/python3.8/site-packages/scikit_learn-0.24.2-py3.8-linux-x86_64.egg/sklearn/metrics/_classification.py:1248: UndefinedMetricWarning: Precision and F-score are ill-defined and being set to 0.0 in labels with no predicted samples. Use `zero_division` parameter to control this behavior.\n",
      "  _warn_prf(average, modifier, msg_start, len(result))\n"
     ]
    },
    {
     "name": "stdout",
     "output_type": "stream",
     "text": [
      "Train: AUC = 0.704, precision = 0.376, recall = 0.500, accuracy = 0.751, f1_score = 0.429\n",
      "Dev: AUC = 0.661, precision = 0.376, recall = 0.500, accuracy = 0.752, f1_score = 0.429\n"
     ]
    },
    {
     "data": {
      "image/png": "[encoded data removed]",
      "text/plain": [
       "<Figure size 432x288 with 1 Axes>"
      ]
     },
     "metadata": {
      "needs_background": "light"
     },
     "output_type": "display_data"
    }
   ],
   "source": [
    "X_train, X_test, y_train, y_test = train_test_split(X, y, test_size=0.2, random_state=123)\n",
    "\n",
    "X_train.to_csv(inoutpath + 'training_set.csv')\n",
    "X_test.to_csv(inoutpath + 'testing_set.csv')\n",
    "\n",
    "print(len(X_train))\n",
    "print(len(X_test))\n",
    "\n",
    "feature_comparison(X_train, X_test, X_train.is_published, X_test.is_published, inoutpath, epochs=5)"
   ]
  },
  {
   "cell_type": "code",
   "execution_count": 21,
   "metadata": {},
   "outputs": [],
   "source": [
    "F_Doc2Vec = ['dv ' + str(i + 1) for i in range(em_size)]\n",
    "F_DeepWalk = ['dw ' + str(i + 1) for i in range(em_size)]\n",
    "F_LDA = ['topic.Healthcare', 'topic.Drug discovery', 'topic.Epidemiology', 'topic.Clinics', 'topic.Imaging', 'topic.Genomics']\n",
    "\n",
    "F_new = F_Doc2Vec + F_DeepWalk + F_LDA\n",
    "# model.save(inoutpath + \"model.\" + 'LDA+Doc2Vec+DeepWalk_selected_0.9-4-464' + \".dl\")\n",
    "\n",
    "def load_model(save_path, model_name):\n",
    "    model = tf.keras.models.load_model(save_path + \"model.\" + model_name + \".dl\")\n",
    "    return model"
   ]
  },
  {
   "cell_type": "markdown",
   "metadata": {},
   "source": [
    "## Predict publishing probability on papers published last X=90 days"
   ]
  },
  {
   "cell_type": "code",
   "execution_count": 22,
   "metadata": {},
   "outputs": [],
   "source": [
    "#X_train = pd.read_csv(inoutpath + 'training_set.csv')\n",
    "#X_test = pd.read_csv(inoutpath + 'testing_set.csv')\n",
    "model = load_model(inoutpath, 'LDA+Doc2Vec+DeepWalk_selected_0.9-4-464')\n",
    "\n",
    "X['pub_prob'] = model.predict(X[F_new])\n",
    "X_lxd['pub_prob'] = model.predict(X_lxd[F_new]) # target data"
   ]
  },
  {
   "cell_type": "markdown",
   "metadata": {},
   "source": [
    "## Check the ranking of the selected preprints"
   ]
  },
  {
   "cell_type": "code",
   "execution_count": 38,
   "metadata": {},
   "outputs": [
    {
     "data": {
      "image/png": "[encoded data removed]",
      "text/plain": [
       "<Figure size 720x720 with 1 Axes>"
      ]
     },
     "metadata": {
      "needs_background": "light"
     },
     "output_type": "display_data"
    }
   ],
   "source": [
    "# Create lists for the plot\n",
    "status = ['Published', 'Unpublished']\n",
    "x_pos = np.arange(len(status))\n",
    "CTEs = [X[X.is_preprint & X.is_published].pub_prob.mean(), X[X.is_preprint & ~X.is_published].pub_prob.mean()]\n",
    "error = [X[X.is_preprint & X.is_published].pub_prob.std(), X[X.is_preprint & ~X.is_published].pub_prob.std()]\n",
    "\n",
    "# Build the plot\n",
    "fig, ax = plt.subplots()\n",
    "ax.bar(x_pos, CTEs, yerr=error, align='center', alpha=0.5, ecolor='black', capsize=10)\n",
    "ax.set_ylabel('Predicted publishing probability')\n",
    "ax.set_xticks(x_pos)\n",
    "ax.set_xticklabels(status)\n",
    "ax.set_title('Publishing status')\n",
    "ax.yaxis.grid(True)\n",
    "\n",
    "# Save the figure and show\n",
    "plt.tight_layout()\n",
    "fig3 = plt.gcf()\n",
    "plt.draw()\n",
    "fig3.savefig(inoutpath + \"figs_dl_prediction_error_bar.pdf\")\n",
    "plt.show()"
   ]
  },
  {
   "cell_type": "code",
   "execution_count": 44,
   "metadata": {},
   "outputs": [
    {
     "name": "stdout",
     "output_type": "stream",
     "text": [
      "              precision    recall  f1-score   support\n",
      "\n",
      " Unpublished       0.86      0.20      0.32       869\n",
      "   Published       0.79      0.99      0.88      2635\n",
      "\n",
      "    accuracy                           0.79      3504\n",
      "   macro avg       0.82      0.59      0.60      3504\n",
      "weighted avg       0.81      0.79      0.74      3504\n",
      "\n"
     ]
    }
   ],
   "source": [
    "from sklearn.metrics import classification_report\n",
    "target_names = ['Unpublished', 'Published']\n",
    "\n",
    "print(classification_report(X_test.is_published, X_test.pub_prob >=0.5, target_names=target_names))"
   ]
  },
  {
   "cell_type": "code",
   "execution_count": 45,
   "metadata": {},
   "outputs": [],
   "source": [
    "X_lxd.to_csv(inoutpath + \"ret_lxd.ori_publishing_scores.csv\")\n",
    "X.to_csv(inoutpath + \"ret.ori_publishing_scores.csv\")"
   ]
  },
  {
   "cell_type": "code",
   "execution_count": 46,
   "metadata": {},
   "outputs": [
    {
     "data": {
      "text/html": [
       "<div>\n",
       "<style scoped>\n",
       "    .dataframe tbody tr th:only-of-type {\n",
       "        vertical-align: middle;\n",
       "    }\n",
       "\n",
       "    .dataframe tbody tr th {\n",
       "        vertical-align: top;\n",
       "    }\n",
       "\n",
       "    .dataframe thead th {\n",
       "        text-align: right;\n",
       "    }\n",
       "</style>\n",
       "<table border=\"1\" class=\"dataframe\">\n",
       "  <thead>\n",
       "    <tr style=\"text-align: right;\">\n",
       "      <th></th>\n",
       "      <th>p_published</th>\n",
       "    </tr>\n",
       "    <tr>\n",
       "      <th>topic</th>\n",
       "      <th></th>\n",
       "    </tr>\n",
       "  </thead>\n",
       "  <tbody>\n",
       "    <tr>\n",
       "      <th>Clinics</th>\n",
       "      <td>89</td>\n",
       "    </tr>\n",
       "    <tr>\n",
       "      <th>Drug discovery</th>\n",
       "      <td>127</td>\n",
       "    </tr>\n",
       "    <tr>\n",
       "      <th>Epidemiology</th>\n",
       "      <td>39</td>\n",
       "    </tr>\n",
       "    <tr>\n",
       "      <th>Genomics</th>\n",
       "      <td>98</td>\n",
       "    </tr>\n",
       "    <tr>\n",
       "      <th>Healthcare</th>\n",
       "      <td>57</td>\n",
       "    </tr>\n",
       "    <tr>\n",
       "      <th>Imaging</th>\n",
       "      <td>12</td>\n",
       "    </tr>\n",
       "  </tbody>\n",
       "</table>\n",
       "</div>"
      ],
      "text/plain": [
       "                p_published\n",
       "topic                      \n",
       "Clinics                  89\n",
       "Drug discovery          127\n",
       "Epidemiology             39\n",
       "Genomics                 98\n",
       "Healthcare               57\n",
       "Imaging                  12"
      ]
     },
     "execution_count": 46,
     "metadata": {},
     "output_type": "execute_result"
    }
   ],
   "source": [
    "X_lxd['p_published'] = X_lxd.pub_prob > 0.592\n",
    "X_lxd[X_lxd.p_published][['topic', 'p_published']].groupby('topic').count()"
   ]
  },
  {
   "cell_type": "markdown",
   "metadata": {},
   "source": [
    "## Analyze prediction among Topics"
   ]
  },
  {
   "cell_type": "code",
   "execution_count": 48,
   "metadata": {},
   "outputs": [
    {
     "data": {
      "text/plain": [
       "<AxesSubplot:xlabel='topic'>"
      ]
     },
     "execution_count": 48,
     "metadata": {},
     "output_type": "execute_result"
    },
    {
     "data": {
      "image/png": "[encoded data removed]",
      "text/plain": [
       "<Figure size 720x432 with 1 Axes>"
      ]
     },
     "metadata": {
      "needs_background": "light"
     },
     "output_type": "display_data"
    }
   ],
   "source": [
    "plt.rcParams['figure.figsize'] = [10, 6]\n",
    "\n",
    "X['p_published'] = (X['pub_prob'] > 0.592) * 1\n",
    "df_ret = pd.merge(X['topic'], X['p_published'], left_index=True, right_index=True)\n",
    "\n",
    "topic_sum = df_ret.groupby('topic').agg({'topic':'count', 'p_published':'sum'})\n",
    "topic_sum['p_unpublished'] = topic_sum['topic'] - topic_sum['p_published']\n",
    "topic_sum[['p_published', 'p_unpublished']].plot.bar(rot=0)"
   ]
  },
  {
   "cell_type": "code",
   "execution_count": 49,
   "metadata": {},
   "outputs": [
    {
     "data": {
      "text/plain": [
       "<AxesSubplot:xlabel='topic'>"
      ]
     },
     "execution_count": 49,
     "metadata": {},
     "output_type": "execute_result"
    },
    {
     "data": {
      "image/png": "[encoded data removed]",
      "text/plain": [
       "<Figure size 720x432 with 1 Axes>"
      ]
     },
     "metadata": {
      "needs_background": "light"
     },
     "output_type": "display_data"
    }
   ],
   "source": [
    "X['t_published'] = y * 1\n",
    "df_t_ret = pd.merge(X['topic'], X['t_published'], left_index=True, right_index=True)\n",
    "\n",
    "topic_t_sum = df_t_ret.groupby('topic').agg({'topic':'count', 't_published':'sum'})\n",
    "topic_t_sum['t_unpublished'] = topic_t_sum['topic'] - topic_t_sum['t_published']\n",
    "topic_t_sum[['t_published', 't_unpublished']].plot.bar(rot=0)"
   ]
  },
  {
   "cell_type": "code",
   "execution_count": null,
   "metadata": {},
   "outputs": [],
   "source": []
  }
 ],
 "metadata": {
  "kernelspec": {
   "display_name": "Python 3",
   "language": "python",
   "name": "python3"
  },
  "language_info": {
   "codemirror_mode": {
    "name": "ipython",
    "version": 3
   },
   "file_extension": ".py",
   "mimetype": "text/x-python",
   "name": "python",
   "nbconvert_exporter": "python",
   "pygments_lexer": "ipython3",
   "version": "3.8.5"
  }
 },
 "nbformat": 4,
 "nbformat_minor": 4
}
