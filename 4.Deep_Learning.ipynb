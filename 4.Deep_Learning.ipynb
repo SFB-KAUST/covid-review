{
 "cells": [
  {
   "cell_type": "markdown",
   "metadata": {},
   "source": [
    "Classify using Deep Learning"
   ]
  },
  {
   "cell_type": "code",
   "execution_count": 1,
   "metadata": {},
   "outputs": [],
   "source": [
    "import numpy as np\n",
    "import pandas as pd\n",
    "from datetime import datetime\n",
    "\n",
    "import matplotlib as mpl\n",
    "import matplotlib.pyplot as plt\n",
    "\n",
    "import xgboost as xgb\n",
    "from sklearn.model_selection import train_test_split\n",
    "from sklearn.preprocessing import StandardScaler\n",
    "from sklearn.metrics import precision_recall_fscore_support, roc_curve, auc, accuracy_score\n",
    "\n",
    "import tensorflow as tf\n",
    "from tensorflow import keras\n",
    "from tensorflow.keras import layers, losses\n",
    "from tensorflow.keras.models import Model"
   ]
  },
  {
   "cell_type": "code",
   "execution_count": 2,
   "metadata": {},
   "outputs": [],
   "source": [
    "#inoutpath = '/home/xiaopengxu/Desktop/data-covid-review/2021-05-31/'\n",
    "inoutpath = '/home/xiaopengxu/Desktop/data-covid-review/2021-07-11/'\n",
    "\n",
    "train_data_path = inoutpath + 'features.ori_doc2vec_deepwalk_scores_train.csv'\n",
    "test_data_path = inoutpath + 'features.ori_doc2vec_deepwalk_scores_test.csv'\n",
    "\n",
    "epochs = 5"
   ]
  },
  {
   "cell_type": "markdown",
   "metadata": {},
   "source": [
    "## Load data"
   ]
  },
  {
   "cell_type": "code",
   "execution_count": 3,
   "metadata": {},
   "outputs": [],
   "source": [
    "def load_data(compdata_path):\n",
    "    print(datetime.now().strftime('%Y-%m-%d %H:%M:%S.%f') + \": Loading data ...\")\n",
    "    papers = pd.read_csv(compdata_path, index_col=False)\n",
    "    papers.drop(['Unnamed: 0'], axis=1, inplace=True)\n",
    "\n",
    "    return papers.fillna(0)"
   ]
  },
  {
   "cell_type": "code",
   "execution_count": 4,
   "metadata": {},
   "outputs": [
    {
     "name": "stdout",
     "output_type": "stream",
     "text": [
      "2021-07-26 00:07:42.861533: Loading data ...\n",
      "2021-07-26 00:07:43.706821: Loading data ...\n"
     ]
    },
    {
     "name": "stderr",
     "output_type": "stream",
     "text": [
      "/home/xiaopengxu/anaconda3/envs/ml-env/lib/python3.8/site-packages/IPython/core/interactiveshell.py:3357: DtypeWarning: Columns (3,4,7) have mixed types.Specify dtype option on import or set low_memory=False.\n",
      "  if (await self.run_code(code, result,  async_=asy)):\n"
     ]
    }
   ],
   "source": [
    "X = load_data(train_data_path)\n",
    "X_lxd = load_data(test_data_path)"
   ]
  },
  {
   "cell_type": "code",
   "execution_count": 5,
   "metadata": {},
   "outputs": [
    {
     "data": {
      "text/plain": [
       "17519"
      ]
     },
     "execution_count": 5,
     "metadata": {},
     "output_type": "execute_result"
    }
   ],
   "source": [
    "len(X.index)"
   ]
  },
  {
   "cell_type": "code",
   "execution_count": 6,
   "metadata": {},
   "outputs": [
    {
     "data": {
      "text/html": [
       "<div>\n",
       "<style scoped>\n",
       "    .dataframe tbody tr th:only-of-type {\n",
       "        vertical-align: middle;\n",
       "    }\n",
       "\n",
       "    .dataframe tbody tr th {\n",
       "        vertical-align: top;\n",
       "    }\n",
       "\n",
       "    .dataframe thead th {\n",
       "        text-align: right;\n",
       "    }\n",
       "</style>\n",
       "<table border=\"1\" class=\"dataframe\">\n",
       "  <thead>\n",
       "    <tr style=\"text-align: right;\">\n",
       "      <th></th>\n",
       "      <th>title</th>\n",
       "      <th>abstract</th>\n",
       "      <th>journal</th>\n",
       "      <th>DOI</th>\n",
       "      <th>date</th>\n",
       "      <th>collection</th>\n",
       "      <th>published</th>\n",
       "      <th>nauthors</th>\n",
       "      <th>keywords</th>\n",
       "      <th>topic.Clinics</th>\n",
       "      <th>...</th>\n",
       "      <th>final.score</th>\n",
       "      <th>subDate</th>\n",
       "      <th>acptDate</th>\n",
       "      <th>pubDate</th>\n",
       "      <th>preprint_age</th>\n",
       "      <th>is_preprint</th>\n",
       "      <th>is_published</th>\n",
       "      <th>preprint_test</th>\n",
       "      <th>preprint_train</th>\n",
       "      <th>pubmed_train</th>\n",
       "    </tr>\n",
       "  </thead>\n",
       "  <tbody>\n",
       "  </tbody>\n",
       "</table>\n",
       "<p>0 rows × 136 columns</p>\n",
       "</div>"
      ],
      "text/plain": [
       "Empty DataFrame\n",
       "Columns: [title, abstract, journal, DOI, date, collection, published, nauthors, keywords, topic.Clinics, topic.Genomics, topic.Imaging, topic.Healthcare, topic.Drug discovery, topic.Epidemiology, topic, ref, p_doi, dv 1, dv 2, dv 3, dv 4, dv 5, dv 6, dv 7, dv 8, dv 9, dv 10, dv 11, dv 12, dv 13, dv 14, dv 15, dv 16, dv 17, dv 18, dv 19, dv 20, dv 21, dv 22, dv 23, dv 24, dv 25, dv 26, dv 27, dv 28, dv 29, dv 30, dv 31, dv 32, dv 33, dv 34, dv 35, dv 36, dv 37, dv 38, dv 39, dv 40, dv 41, dv 42, dv 43, dv 44, dv 45, dv 46, dv 47, dv 48, dv 49, dv 50, dw 1, dw 2, dw 3, dw 4, dw 5, dw 6, dw 7, dw 8, dw 9, dw 10, dw 11, dw 12, dw 13, dw 14, dw 15, dw 16, dw 17, dw 18, dw 19, dw 20, dw 21, dw 22, dw 23, dw 24, dw 25, dw 26, dw 27, dw 28, dw 29, dw 30, dw 31, dw 32, ...]\n",
       "Index: []\n",
       "\n",
       "[0 rows x 136 columns]"
      ]
     },
     "execution_count": 6,
     "metadata": {},
     "output_type": "execute_result"
    }
   ],
   "source": [
    "X[X.title.str.contains('multi-omics profiling') == True]#['final.score']"
   ]
  },
  {
   "cell_type": "code",
   "execution_count": 7,
   "metadata": {},
   "outputs": [],
   "source": [
    "y = X.is_published"
   ]
  },
  {
   "cell_type": "code",
   "execution_count": 8,
   "metadata": {},
   "outputs": [
    {
     "name": "stdout",
     "output_type": "stream",
     "text": [
      "['title' 'abstract' 'journal' 'DOI' 'date' 'collection' 'published'\n",
      " 'nauthors' 'keywords' 'topic.Clinics' 'topic.Genomics' 'topic.Imaging'\n",
      " 'topic.Healthcare' 'topic.Drug discovery' 'topic.Epidemiology' 'topic'\n",
      " 'ref' 'p_doi' 'dv 1' 'dv 2' 'dv 3' 'dv 4' 'dv 5' 'dv 6' 'dv 7' 'dv 8'\n",
      " 'dv 9' 'dv 10' 'dv 11' 'dv 12' 'dv 13' 'dv 14' 'dv 15' 'dv 16' 'dv 17'\n",
      " 'dv 18' 'dv 19' 'dv 20' 'dv 21' 'dv 22' 'dv 23' 'dv 24' 'dv 25' 'dv 26'\n",
      " 'dv 27' 'dv 28' 'dv 29' 'dv 30' 'dv 31' 'dv 32' 'dv 33' 'dv 34' 'dv 35'\n",
      " 'dv 36' 'dv 37' 'dv 38' 'dv 39' 'dv 40' 'dv 41' 'dv 42' 'dv 43' 'dv 44'\n",
      " 'dv 45' 'dv 46' 'dv 47' 'dv 48' 'dv 49' 'dv 50' 'dw 1' 'dw 2' 'dw 3'\n",
      " 'dw 4' 'dw 5' 'dw 6' 'dw 7' 'dw 8' 'dw 9' 'dw 10' 'dw 11' 'dw 12' 'dw 13'\n",
      " 'dw 14' 'dw 15' 'dw 16' 'dw 17' 'dw 18' 'dw 19' 'dw 20' 'dw 21' 'dw 22'\n",
      " 'dw 23' 'dw 24' 'dw 25' 'dw 26' 'dw 27' 'dw 28' 'dw 29' 'dw 30' 'dw 31'\n",
      " 'dw 32' 'dw 33' 'dw 34' 'dw 35' 'dw 36' 'dw 37' 'dw 38' 'dw 39' 'dw 40'\n",
      " 'dw 41' 'dw 42' 'dw 43' 'dw 44' 'dw 45' 'dw 46' 'dw 47' 'dw 48' 'dw 49'\n",
      " 'dw 50' 'auth.papers' 'auth.papers.score' 'auth.citations'\n",
      " 'auth.citations.score' 'art.citations' 'art.citations.score' 'art.views'\n",
      " 'art.views.score' 'final.score' 'subDate' 'acptDate' 'pubDate'\n",
      " 'preprint_age' 'is_preprint' 'is_published' 'preprint_test'\n",
      " 'preprint_train' 'pubmed_train']\n"
     ]
    }
   ],
   "source": [
    "print(X.columns.values)"
   ]
  },
  {
   "cell_type": "markdown",
   "metadata": {},
   "source": [
    "## Train DL model"
   ]
  },
  {
   "cell_type": "code",
   "execution_count": 9,
   "metadata": {},
   "outputs": [],
   "source": [
    "def create_model(n_features, layers):\n",
    "    # create model\n",
    "    model = tf.keras.Sequential()\n",
    "    model.add(tf.keras.layers.Dense(layers[0], input_dim=n_features, activation='relu', kernel_regularizer=keras.regularizers.l2(l=0.1)))\n",
    "\n",
    "    # add hidden layers\n",
    "    for i in range(1, len(layers)):\n",
    "        #model.add(tf.keras.layers.Dense(layers[i], activation='relu', kernel_regularizer=keras.regularizers.l2(l=0.1)))\n",
    "        model.add(tf.keras.layers.Dense(layers[i], activation='relu'))\n",
    "    model.add(tf.keras.layers.Dense(1, activation='sigmoid'))\n",
    "\n",
    "    # Compile model\n",
    "    model.compile(optimizer='adam', loss='binary_crossentropy', metrics=[\"accuracy\"])\n",
    "    return model"
   ]
  },
  {
   "cell_type": "code",
   "execution_count": 10,
   "metadata": {},
   "outputs": [],
   "source": [
    "def eval_pred(y_true, y_prob, eval_type='Dev'):\n",
    "\n",
    "    y_pred = y_prob >= 0.5\n",
    "    \n",
    "    fpr, tpr, _ = roc_curve(y_true, y_prob)\n",
    "    auc_s = auc(fpr, tpr)\n",
    "\n",
    "    prec, recall, f1_s, _ = precision_recall_fscore_support(y_true, y_pred, average='macro')\n",
    "    acc = accuracy_score(y_true, y_pred)\n",
    "    \n",
    "    print(eval_type + \": AUC = %.3f, precision = %.3f, recall = %.3f, accuracy = %.3f, f1_score = %.3f\" % (auc_s, prec, recall, acc, f1_s))"
   ]
  },
  {
   "cell_type": "code",
   "execution_count": 11,
   "metadata": {},
   "outputs": [],
   "source": [
    "def dl_modeling(model_name, save_path, X_train, X_test, y_train, y_test, features, layers, epochs=10, batch_size=64):\n",
    "    print(datetime.now().strftime('%Y-%m-%d %H:%M:%S.%f') + \": Training {} model ...\".format(model_name))\n",
    "    model = create_model(len(features), layers)\n",
    "    md = model.fit(X_train[features], y_train, epochs=epochs, batch_size=64)\n",
    "    model.save(save_path + \"model.\" + model_name + \".dl\")\n",
    "\n",
    "    print(datetime.now().strftime('%Y-%m-%d %H:%M:%S.%f') + \": Evaluating {} model ...\".format(model_name))\n",
    "    y_test_prob = model.predict(X_test[features])\n",
    "    \n",
    "    fpr, tpr, _ = roc_curve(y_test, y_test_prob)\n",
    "    auc_dl = auc(fpr, tpr)\n",
    "    eval_pred(y_train, model.predict(X_train[features]), 'Train')\n",
    "    eval_pred(y_test, y_test_prob, 'Dev')\n",
    "    \n",
    "    return fpr, tpr, auc_dl"
   ]
  },
  {
   "cell_type": "code",
   "execution_count": 12,
   "metadata": {},
   "outputs": [],
   "source": [
    "def draw_ROC_figure(fprs, tprs, f_names, aucs, save_path):\n",
    "    plt.figure()\n",
    "    plt.rcParams['figure.figsize'] = [10, 10]\n",
    "    \n",
    "    for i in range(len(f_names)):\n",
    "        plt.plot(fprs[i], tprs[i], label= f_names[i] +', AUC={:.4f}'.format(aucs[i]))\n",
    "\n",
    "    plt.plot([0, 1], [0, 1], 'k--')\n",
    "    plt.xlabel('False positive rate')\n",
    "    plt.ylabel('True positive rate')\n",
    "    plt.title('ROC curve')\n",
    "    plt.legend(loc='best')\n",
    "    fig1 = plt.gcf()\n",
    "    plt.draw()\n",
    "    fig1.savefig(save_path + \"features_rocs.pdf\")"
   ]
  },
  {
   "cell_type": "markdown",
   "metadata": {},
   "source": [
    "### Compare feature and split train and test data"
   ]
  },
  {
   "cell_type": "code",
   "execution_count": 13,
   "metadata": {},
   "outputs": [],
   "source": [
    "def feature_comparison(X_train, X_test, y_train, y_test, save_path, epochs=10):\n",
    "    \n",
    "    em_size = 50\n",
    "    F_Doc2Vec = ['dv ' + str(i + 1) for i in range(em_size)]\n",
    "    F_DeepWalk = ['dw ' + str(i + 1) for i in range(em_size)]\n",
    "    F_LDA = ['topic.Healthcare', 'topic.Drug discovery', 'topic.Epidemiology', 'topic.Clinics', 'topic.Imaging', 'topic.Genomics']\n",
    "    F_ascore = ['auth.papers.score', 'auth.citations.score']\n",
    "    \n",
    "    f_names = [\n",
    "        'LDA+Doc2Vec+DeepWalk', \n",
    "        'Doc2Vec+DeepWalk', \n",
    "        'Doc2Vec+LDA', \n",
    "        'Doc2Vec', \n",
    "        'LDA', \n",
    "        'DeepWalk', \n",
    "    ]\n",
    "    f_combs = [\n",
    "        F_Doc2Vec + F_DeepWalk + F_LDA, \n",
    "        F_Doc2Vec + F_DeepWalk, \n",
    "        F_Doc2Vec + F_LDA, \n",
    "        F_Doc2Vec, \n",
    "        F_LDA, \n",
    "        F_DeepWalk\n",
    "    ]\n",
    "    layers = [\n",
    "        [150, 30, 6, 9], \n",
    "        [150, 9, 20, 10], \n",
    "        [150, 9, 20, 10],\n",
    "        [100, 50, 30, 10], \n",
    "        [10, 50, 3, 9], \n",
    "        [150, 6, 20, 3]\n",
    "    ]\n",
    "    \n",
    "    fprs, tprs, aucs = [], [], []\n",
    "    \n",
    "    for i in range(len(f_names)):\n",
    "        fpr, tpr, auc = dl_modeling(f_names[i], save_path, X_train, X_test, y_train, y_test, f_combs[i], layers[i], epochs=epochs)\n",
    "        fprs.append(fpr)\n",
    "        tprs.append(tpr)\n",
    "        aucs.append(auc)\n",
    "        \n",
    "    draw_ROC_figure(fprs, tprs, f_names, aucs, save_path)"
   ]
  },
  {
   "cell_type": "code",
   "execution_count": 14,
   "metadata": {},
   "outputs": [
    {
     "name": "stdout",
     "output_type": "stream",
     "text": [
      "14015\n",
      "3504\n",
      "2021-07-26 00:07:47.942722: Training LDA+Doc2Vec+DeepWalk model ...\n",
      "Epoch 1/5\n",
      "219/219 [==============================] - 1s 2ms/step - loss: 3.0361 - accuracy: 0.7558\n",
      "Epoch 2/5\n",
      "219/219 [==============================] - 0s 2ms/step - loss: 0.4995 - accuracy: 0.7886\n",
      "Epoch 3/5\n",
      "219/219 [==============================] - 0s 2ms/step - loss: 0.4859 - accuracy: 0.7927\n",
      "Epoch 4/5\n",
      "219/219 [==============================] - 0s 2ms/step - loss: 0.4823 - accuracy: 0.7950\n",
      "Epoch 5/5\n",
      "219/219 [==============================] - 1s 2ms/step - loss: 0.4759 - accuracy: 0.7961\n",
      "INFO:tensorflow:Assets written to: /home/xiaopengxu/Desktop/data-covid-review/2021-07-11/model.LDA+Doc2Vec+DeepWalk.dl/assets\n",
      "2021-07-26 00:07:51.796847: Evaluating LDA+Doc2Vec+DeepWalk model ...\n",
      "Train: AUC = 0.806, precision = 0.805, recall = 0.622, accuracy = 0.802, f1_score = 0.640\n",
      "Dev: AUC = 0.768, precision = 0.772, recall = 0.603, accuracy = 0.790, f1_score = 0.614\n",
      "2021-07-26 00:07:52.173076: Training Doc2Vec+DeepWalk model ...\n",
      "Epoch 1/5\n",
      "219/219 [==============================] - 1s 2ms/step - loss: 3.0283 - accuracy: 0.7648\n",
      "Epoch 2/5\n",
      "219/219 [==============================] - 1s 2ms/step - loss: 0.5035 - accuracy: 0.7894\n",
      "Epoch 3/5\n",
      "219/219 [==============================] - 1s 2ms/step - loss: 0.4863 - accuracy: 0.7935\n",
      "Epoch 4/5\n",
      "219/219 [==============================] - 1s 2ms/step - loss: 0.4833 - accuracy: 0.7924\n",
      "Epoch 5/5\n",
      "219/219 [==============================] - 0s 2ms/step - loss: 0.4802 - accuracy: 0.7961\n",
      "INFO:tensorflow:Assets written to: /home/xiaopengxu/Desktop/data-covid-review/2021-07-11/model.Doc2Vec+DeepWalk.dl/assets\n",
      "2021-07-26 00:07:55.693460: Evaluating Doc2Vec+DeepWalk model ...\n",
      "Train: AUC = 0.802, precision = 0.780, recall = 0.640, accuracy = 0.803, f1_score = 0.662\n",
      "Dev: AUC = 0.762, precision = 0.745, recall = 0.615, accuracy = 0.789, f1_score = 0.630\n",
      "2021-07-26 00:07:56.038584: Training Doc2Vec+LDA model ...\n",
      "Epoch 1/5\n",
      "219/219 [==============================] - 1s 2ms/step - loss: 2.4141 - accuracy: 0.7488\n",
      "Epoch 2/5\n",
      "219/219 [==============================] - 0s 2ms/step - loss: 0.5148 - accuracy: 0.7653\n",
      "Epoch 3/5\n",
      "219/219 [==============================] - 1s 2ms/step - loss: 0.5020 - accuracy: 0.7678\n",
      "Epoch 4/5\n",
      "219/219 [==============================] - 0s 2ms/step - loss: 0.4982 - accuracy: 0.7702\n",
      "Epoch 5/5\n",
      "219/219 [==============================] - 0s 2ms/step - loss: 0.4964 - accuracy: 0.7718\n",
      "INFO:tensorflow:Assets written to: /home/xiaopengxu/Desktop/data-covid-review/2021-07-11/model.Doc2Vec+LDA.dl/assets\n",
      "2021-07-26 00:07:59.550317: Evaluating Doc2Vec+LDA model ...\n",
      "Train: AUC = 0.760, precision = 0.692, recall = 0.623, accuracy = 0.773, f1_score = 0.638\n",
      "Dev: AUC = 0.733, precision = 0.660, recall = 0.608, accuracy = 0.758, f1_score = 0.619\n",
      "2021-07-26 00:07:59.887636: Training Doc2Vec model ...\n",
      "Epoch 1/5\n",
      "219/219 [==============================] - 1s 2ms/step - loss: 2.3350 - accuracy: 0.7590\n",
      "Epoch 2/5\n",
      "219/219 [==============================] - 0s 2ms/step - loss: 0.5276 - accuracy: 0.7682\n",
      "Epoch 3/5\n",
      "219/219 [==============================] - 1s 2ms/step - loss: 0.4990 - accuracy: 0.7682\n",
      "Epoch 4/5\n",
      "219/219 [==============================] - 1s 2ms/step - loss: 0.4949 - accuracy: 0.7742\n",
      "Epoch 5/5\n",
      "219/219 [==============================] - 1s 2ms/step - loss: 0.4923 - accuracy: 0.7766\n",
      "INFO:tensorflow:Assets written to: /home/xiaopengxu/Desktop/data-covid-review/2021-07-11/model.Doc2Vec.dl/assets\n",
      "2021-07-26 00:08:03.375298: Evaluating Doc2Vec model ...\n",
      "Train: AUC = 0.773, precision = 0.694, recall = 0.632, accuracy = 0.775, f1_score = 0.647\n",
      "Dev: AUC = 0.746, precision = 0.672, recall = 0.620, accuracy = 0.764, f1_score = 0.632\n",
      "2021-07-26 00:08:03.770776: Training LDA model ...\n",
      "Epoch 1/5\n",
      "219/219 [==============================] - 1s 2ms/step - loss: 1.0283 - accuracy: 0.7506\n",
      "Epoch 2/5\n",
      "219/219 [==============================] - 0s 2ms/step - loss: 0.6679 - accuracy: 0.7514\n",
      "Epoch 3/5\n",
      "219/219 [==============================] - 0s 2ms/step - loss: 0.5631 - accuracy: 0.7514\n",
      "Epoch 4/5\n",
      "219/219 [==============================] - 0s 2ms/step - loss: 0.5343 - accuracy: 0.7514\n",
      "Epoch 5/5\n",
      "219/219 [==============================] - 0s 2ms/step - loss: 0.5265 - accuracy: 0.7514\n",
      "INFO:tensorflow:Assets written to: /home/xiaopengxu/Desktop/data-covid-review/2021-07-11/model.LDA.dl/assets\n",
      "2021-07-26 00:08:06.873286: Evaluating LDA model ...\n"
     ]
    },
    {
     "name": "stderr",
     "output_type": "stream",
     "text": [
      "/home/xiaopengxu/anaconda3/envs/ml-env/lib/python3.8/site-packages/scikit_learn-0.24.2-py3.8-linux-x86_64.egg/sklearn/metrics/_classification.py:1248: UndefinedMetricWarning: Precision and F-score are ill-defined and being set to 0.0 in labels with no predicted samples. Use `zero_division` parameter to control this behavior.\n",
      "  _warn_prf(average, modifier, msg_start, len(result))\n",
      "/home/xiaopengxu/anaconda3/envs/ml-env/lib/python3.8/site-packages/scikit_learn-0.24.2-py3.8-linux-x86_64.egg/sklearn/metrics/_classification.py:1248: UndefinedMetricWarning: Precision and F-score are ill-defined and being set to 0.0 in labels with no predicted samples. Use `zero_division` parameter to control this behavior.\n",
      "  _warn_prf(average, modifier, msg_start, len(result))\n"
     ]
    },
    {
     "name": "stdout",
     "output_type": "stream",
     "text": [
      "Train: AUC = 0.692, precision = 0.376, recall = 0.500, accuracy = 0.751, f1_score = 0.429\n",
      "Dev: AUC = 0.677, precision = 0.376, recall = 0.500, accuracy = 0.752, f1_score = 0.429\n",
      "2021-07-26 00:08:07.181080: Training DeepWalk model ...\n",
      "Epoch 1/5\n",
      "219/219 [==============================] - 1s 2ms/step - loss: 2.3406 - accuracy: 0.7510\n",
      "Epoch 2/5\n",
      "219/219 [==============================] - 0s 2ms/step - loss: 0.5522 - accuracy: 0.7514\n",
      "Epoch 3/5\n",
      "219/219 [==============================] - 0s 2ms/step - loss: 0.5375 - accuracy: 0.7514\n",
      "Epoch 4/5\n",
      "219/219 [==============================] - 1s 2ms/step - loss: 0.5362 - accuracy: 0.7514\n",
      "Epoch 5/5\n",
      "219/219 [==============================] - 0s 2ms/step - loss: 0.5341 - accuracy: 0.7514\n",
      "INFO:tensorflow:Assets written to: /home/xiaopengxu/Desktop/data-covid-review/2021-07-11/model.DeepWalk.dl/assets\n",
      "2021-07-26 00:08:10.709033: Evaluating DeepWalk model ...\n"
     ]
    },
    {
     "name": "stderr",
     "output_type": "stream",
     "text": [
      "/home/xiaopengxu/anaconda3/envs/ml-env/lib/python3.8/site-packages/scikit_learn-0.24.2-py3.8-linux-x86_64.egg/sklearn/metrics/_classification.py:1248: UndefinedMetricWarning: Precision and F-score are ill-defined and being set to 0.0 in labels with no predicted samples. Use `zero_division` parameter to control this behavior.\n",
      "  _warn_prf(average, modifier, msg_start, len(result))\n",
      "/home/xiaopengxu/anaconda3/envs/ml-env/lib/python3.8/site-packages/scikit_learn-0.24.2-py3.8-linux-x86_64.egg/sklearn/metrics/_classification.py:1248: UndefinedMetricWarning: Precision and F-score are ill-defined and being set to 0.0 in labels with no predicted samples. Use `zero_division` parameter to control this behavior.\n",
      "  _warn_prf(average, modifier, msg_start, len(result))\n"
     ]
    },
    {
     "name": "stdout",
     "output_type": "stream",
     "text": [
      "Train: AUC = 0.704, precision = 0.376, recall = 0.500, accuracy = 0.751, f1_score = 0.429\n",
      "Dev: AUC = 0.661, precision = 0.376, recall = 0.500, accuracy = 0.752, f1_score = 0.429\n"
     ]
    },
    {
     "data": {
      "image/png": "[encoded data removed]",
      "text/plain": [
       "<Figure size 432x288 with 1 Axes>"
      ]
     },
     "metadata": {
      "needs_background": "light"
     },
     "output_type": "display_data"
    }
   ],
   "source": [
    "X_train, X_test, y_train, y_test = train_test_split(X, y, test_size=0.2, random_state=123)\n",
    "\n",
    "X_train.to_csv(inoutpath + 'training_set.csv')\n",
    "X_test.to_csv(inoutpath + 'testing_set.csv')\n",
    "#X_train = pd.read_csv(inoutpath + 'training_set.csv')\n",
    "#X_test = pd.read_csv(inoutpath + 'testing_set.csv')\n",
    "\n",
    "print(len(X_train))\n",
    "print(len(X_test))\n",
    "\n",
    "feature_comparison(X_train, X_test, X_train.is_published, X_test.is_published, inoutpath, epochs=5)"
   ]
  },
  {
   "cell_type": "markdown",
   "metadata": {},
   "source": [
    "### Select models"
   ]
  },
  {
   "cell_type": "code",
   "execution_count": 15,
   "metadata": {},
   "outputs": [],
   "source": [
    "selected = ['convergent evolution of sars-cov-2 spike mutations, l452r, e484q and p681r, in the second wave of covid-19 in maharashtra, india',\n",
    "'structural analysis of spike protein mutations in an emergent sars-cov-2 variant from the philippines',\n",
    "'6-month follow up of 8679 hospitalized covid-19 patients in germany: a nationwide cohort study',\n",
    "'recovered not restored: long-term health consequences after mild covid-19 in non-hospitalized patients',\n",
    "'evidence for biological age acceleration and telomere2 shortening in covid-19 survivors',\n",
    "'an observational cohort study on the incidence of sars-cov-2 infection and b.1.1.7 variant infection in healthcare workers by antibody and vaccination status',\n",
    "'preliminary efficacy of the nvx-cov2373 covid-19 vaccine against the b.1.351 variant',\n",
    "'previous covid-19 infection but not long-covid is associated with increased adverse events following bnt162b2/pfizer vaccination',\n",
    "'a new sars-cov-2 variant poorly detected by rt-pcr on nasopharyngeal samples, with high lethality',\n",
    "'emergence of the novel sars-cov-2 lineage p.4.1 and massive spread of p.2 in south brazil',\n",
    "'associations of the bnt162b2 covid-19 vaccine effectiveness with patient age and comorbidities',\n",
    "'effectiveness of the coronavac vaccine in the elderly population during a p.1 variant-associated epidemic of covid-19 in brazil: a test-negative case-control study',\n",
    "'effectiveness of covid-19 vaccines against the b.1.617.2 variant']"
   ]
  },
  {
   "cell_type": "code",
   "execution_count": 20,
   "metadata": {},
   "outputs": [],
   "source": [
    "em_size = 50\n",
    "F_Doc2Vec = ['dv ' + str(i + 1) for i in range(em_size)]\n",
    "F_DeepWalk = ['dw ' + str(i + 1) for i in range(em_size)]\n",
    "F_LDA = ['topic.Healthcare', 'topic.Drug discovery', 'topic.Epidemiology', 'topic.Clinics', 'topic.Imaging', 'topic.Genomics']\n",
    "F_ascore = ['auth.papers.score', 'auth.citations.score']\n",
    "    \n",
    "f_name = 'LDA+Doc2Vec+DeepWalk'\n",
    "f_comb = F_Doc2Vec + F_DeepWalk + F_LDA\n",
    "layer = [150, 30, 6, 9]\n",
    "\n",
    "F_new = F_Doc2Vec + F_DeepWalk + F_LDA"
   ]
  },
  {
   "cell_type": "code",
   "execution_count": 21,
   "metadata": {},
   "outputs": [],
   "source": [
    "def load_model(save_path, model_name):\n",
    "    model = tf.keras.models.load_model(save_path + \"model.\" + model_name + \".dl\")\n",
    "    return model"
   ]
  },
  {
   "cell_type": "code",
   "execution_count": 22,
   "metadata": {},
   "outputs": [],
   "source": [
    "def select_model(f_name, f_comb, layer, X_train, X_test, y_train, y_test, save_path, num_model=10, epochs=10):\n",
    "    \n",
    "    for i in range(num_model):\n",
    "        print(\"model: \" + f_name + str(i))\n",
    "        \n",
    "        # train\n",
    "        dl_modeling(f_name+str(i), save_path, X_train, X_test, y_train, y_test, f_comb, layer, epochs=epochs)\n",
    "        \n",
    "        # predict\n",
    "        model = load_model(save_path, f_name+str(i))\n",
    "        X['pub_prob'] = model.predict(X[F_new])\n",
    "        X_lxd['pub_prob'] = model.predict(X_lxd[F_new]) # target data\n",
    "        \n",
    "        # evaluate\n",
    "        print(np.sort(X_lxd[X_lxd.title.isin(selected)]['pub_prob'].values))\n",
    "        print((X_lxd.pub_prob >= 0.6).value_counts())"
   ]
  },
  {
   "cell_type": "code",
   "execution_count": 23,
   "metadata": {},
   "outputs": [
    {
     "name": "stdout",
     "output_type": "stream",
     "text": [
      "model: LDA+Doc2Vec+DeepWalk0\n",
      "2021-07-26 00:09:42.016405: Training LDA+Doc2Vec+DeepWalk0 model ...\n",
      "Epoch 1/5\n",
      "219/219 [==============================] - 1s 2ms/step - loss: 3.0841 - accuracy: 0.7628\n",
      "Epoch 2/5\n",
      "219/219 [==============================] - 0s 2ms/step - loss: 0.5011 - accuracy: 0.7846\n",
      "Epoch 3/5\n",
      "219/219 [==============================] - 1s 2ms/step - loss: 0.4853 - accuracy: 0.7936\n",
      "Epoch 4/5\n",
      "219/219 [==============================] - 1s 2ms/step - loss: 0.4801 - accuracy: 0.7973\n",
      "Epoch 5/5\n",
      "219/219 [==============================] - 1s 2ms/step - loss: 0.4745 - accuracy: 0.7956\n",
      "INFO:tensorflow:Assets written to: /home/xiaopengxu/Desktop/data-covid-review/2021-07-11/model.LDA+Doc2Vec+DeepWalk0.dl/assets\n",
      "2021-07-26 00:09:45.723680: Evaluating LDA+Doc2Vec+DeepWalk0 model ...\n",
      "Train: AUC = 0.798, precision = 0.782, recall = 0.629, accuracy = 0.800, f1_score = 0.648\n",
      "Dev: AUC = 0.762, precision = 0.753, recall = 0.615, accuracy = 0.791, f1_score = 0.631\n",
      "[0.5049667  0.58799595 0.62212723 0.66282964 0.7226736  0.7294421\n",
      " 0.82206225 0.9373139 ]\n",
      "True     466\n",
      "False    190\n",
      "Name: pub_prob, dtype: int64\n",
      "model: LDA+Doc2Vec+DeepWalk1\n",
      "2021-07-26 00:09:46.649067: Training LDA+Doc2Vec+DeepWalk1 model ...\n",
      "Epoch 1/5\n",
      "219/219 [==============================] - 1s 2ms/step - loss: 3.0638 - accuracy: 0.7263\n",
      "Epoch 2/5\n",
      "219/219 [==============================] - 0s 2ms/step - loss: 0.5069 - accuracy: 0.7661\n",
      "Epoch 3/5\n",
      "219/219 [==============================] - 1s 3ms/step - loss: 0.4956 - accuracy: 0.7861\n",
      "Epoch 4/5\n",
      "219/219 [==============================] - 1s 3ms/step - loss: 0.4922 - accuracy: 0.7879\n",
      "Epoch 5/5\n",
      "219/219 [==============================] - 1s 3ms/step - loss: 0.4873 - accuracy: 0.7892\n",
      "INFO:tensorflow:Assets written to: /home/xiaopengxu/Desktop/data-covid-review/2021-07-11/model.LDA+Doc2Vec+DeepWalk1.dl/assets\n",
      "2021-07-26 00:09:50.598422: Evaluating LDA+Doc2Vec+DeepWalk1 model ...\n",
      "Train: AUC = 0.802, precision = 0.738, recall = 0.666, accuracy = 0.798, f1_score = 0.686\n",
      "Dev: AUC = 0.771, precision = 0.711, recall = 0.645, accuracy = 0.784, f1_score = 0.662\n",
      "[0.48514682 0.4907644  0.57046294 0.5806068  0.7182847  0.74148226\n",
      " 0.85509104 0.869058  ]\n",
      "False    330\n",
      "True     326\n",
      "Name: pub_prob, dtype: int64\n",
      "model: LDA+Doc2Vec+DeepWalk2\n",
      "2021-07-26 00:09:51.550619: Training LDA+Doc2Vec+DeepWalk2 model ...\n",
      "Epoch 1/5\n",
      "219/219 [==============================] - 1s 2ms/step - loss: 3.0578 - accuracy: 0.7662\n",
      "Epoch 2/5\n",
      "219/219 [==============================] - 1s 2ms/step - loss: 0.4991 - accuracy: 0.7893\n",
      "Epoch 3/5\n",
      "219/219 [==============================] - 1s 2ms/step - loss: 0.4834 - accuracy: 0.7922\n",
      "Epoch 4/5\n",
      "219/219 [==============================] - 1s 2ms/step - loss: 0.4804 - accuracy: 0.7959\n",
      "Epoch 5/5\n",
      "219/219 [==============================] - 1s 2ms/step - loss: 0.4756 - accuracy: 0.7971\n",
      "INFO:tensorflow:Assets written to: /home/xiaopengxu/Desktop/data-covid-review/2021-07-11/model.LDA+Doc2Vec+DeepWalk2.dl/assets\n",
      "2021-07-26 00:09:55.336399: Evaluating LDA+Doc2Vec+DeepWalk2 model ...\n",
      "Train: AUC = 0.801, precision = 0.794, recall = 0.616, accuracy = 0.798, f1_score = 0.632\n",
      "Dev: AUC = 0.764, precision = 0.762, recall = 0.603, accuracy = 0.789, f1_score = 0.615\n",
      "[0.5432059  0.58452994 0.5979522  0.647224   0.74577755 0.7639861\n",
      " 0.8309605  0.90219337]\n",
      "True     483\n",
      "False    173\n",
      "Name: pub_prob, dtype: int64\n",
      "model: LDA+Doc2Vec+DeepWalk3\n",
      "2021-07-26 00:09:56.284813: Training LDA+Doc2Vec+DeepWalk3 model ...\n",
      "Epoch 1/5\n",
      "219/219 [==============================] - 1s 2ms/step - loss: 3.0558 - accuracy: 0.7375\n",
      "Epoch 2/5\n",
      "219/219 [==============================] - 1s 2ms/step - loss: 0.5034 - accuracy: 0.7842\n",
      "Epoch 3/5\n",
      "219/219 [==============================] - 1s 2ms/step - loss: 0.4886 - accuracy: 0.7902\n",
      "Epoch 4/5\n",
      "219/219 [==============================] - 1s 2ms/step - loss: 0.4821 - accuracy: 0.7924\n",
      "Epoch 5/5\n",
      "219/219 [==============================] - 1s 2ms/step - loss: 0.4788 - accuracy: 0.7962\n",
      "INFO:tensorflow:Assets written to: /home/xiaopengxu/Desktop/data-covid-review/2021-07-11/model.LDA+Doc2Vec+DeepWalk3.dl/assets\n",
      "2021-07-26 00:10:00.189124: Evaluating LDA+Doc2Vec+DeepWalk3 model ...\n",
      "Train: AUC = 0.807, precision = 0.809, recall = 0.622, accuracy = 0.802, f1_score = 0.641\n",
      "Dev: AUC = 0.769, precision = 0.776, recall = 0.604, accuracy = 0.791, f1_score = 0.616\n",
      "[0.5105044  0.54057956 0.5452268  0.56794393 0.6681793  0.72779566\n",
      " 0.82245576 0.9012567 ]\n",
      "True     404\n",
      "False    252\n",
      "Name: pub_prob, dtype: int64\n",
      "model: LDA+Doc2Vec+DeepWalk4\n",
      "2021-07-26 00:10:01.158722: Training LDA+Doc2Vec+DeepWalk4 model ...\n",
      "Epoch 1/5\n",
      "219/219 [==============================] - 1s 2ms/step - loss: 3.0793 - accuracy: 0.7525\n",
      "Epoch 2/5\n",
      "219/219 [==============================] - 1s 2ms/step - loss: 0.5009 - accuracy: 0.7879\n",
      "Epoch 3/5\n",
      "219/219 [==============================] - 1s 2ms/step - loss: 0.4843 - accuracy: 0.7970\n",
      "Epoch 4/5\n",
      "219/219 [==============================] - 1s 3ms/step - loss: 0.4782 - accuracy: 0.7958\n",
      "Epoch 5/5\n",
      "219/219 [==============================] - 1s 3ms/step - loss: 0.4804 - accuracy: 0.7942\n",
      "INFO:tensorflow:Assets written to: /home/xiaopengxu/Desktop/data-covid-review/2021-07-11/model.LDA+Doc2Vec+DeepWalk4.dl/assets\n",
      "2021-07-26 00:10:04.928596: Evaluating LDA+Doc2Vec+DeepWalk4 model ...\n",
      "Train: AUC = 0.798, precision = 0.739, recall = 0.671, accuracy = 0.799, f1_score = 0.691\n",
      "Dev: AUC = 0.760, precision = 0.699, recall = 0.640, accuracy = 0.778, f1_score = 0.655\n",
      "[0.48062202 0.54779357 0.5676521  0.6236166  0.70370454 0.79210854\n",
      " 0.8381779  0.9319812 ]\n",
      "True     382\n",
      "False    274\n",
      "Name: pub_prob, dtype: int64\n",
      "model: LDA+Doc2Vec+DeepWalk5\n",
      "2021-07-26 00:10:05.907999: Training LDA+Doc2Vec+DeepWalk5 model ...\n",
      "Epoch 1/5\n",
      "219/219 [==============================] - 1s 2ms/step - loss: 3.1062 - accuracy: 0.7517\n",
      "Epoch 2/5\n",
      "219/219 [==============================] - 0s 2ms/step - loss: 0.5040 - accuracy: 0.7868\n",
      "Epoch 3/5\n",
      "219/219 [==============================] - 1s 2ms/step - loss: 0.4877 - accuracy: 0.7919\n",
      "Epoch 4/5\n",
      "219/219 [==============================] - 1s 2ms/step - loss: 0.4818 - accuracy: 0.7954\n",
      "Epoch 5/5\n",
      "219/219 [==============================] - 1s 2ms/step - loss: 0.4781 - accuracy: 0.7972\n",
      "INFO:tensorflow:Assets written to: /home/xiaopengxu/Desktop/data-covid-review/2021-07-11/model.LDA+Doc2Vec+DeepWalk5.dl/assets\n",
      "2021-07-26 00:10:09.569837: Evaluating LDA+Doc2Vec+DeepWalk5 model ...\n",
      "Train: AUC = 0.803, precision = 0.761, recall = 0.647, accuracy = 0.801, f1_score = 0.669\n",
      "Dev: AUC = 0.765, precision = 0.701, recall = 0.615, accuracy = 0.777, f1_score = 0.629\n",
      "[0.5121342  0.55770606 0.5751258  0.673303   0.7200776  0.7570696\n",
      " 0.8672254  0.93475056]\n",
      "True     419\n",
      "False    237\n",
      "Name: pub_prob, dtype: int64\n",
      "model: LDA+Doc2Vec+DeepWalk6\n",
      "2021-07-26 00:10:10.829120: Training LDA+Doc2Vec+DeepWalk6 model ...\n",
      "Epoch 1/5\n",
      "219/219 [==============================] - 1s 2ms/step - loss: 3.0989 - accuracy: 0.7533\n",
      "Epoch 2/5\n",
      "219/219 [==============================] - 1s 2ms/step - loss: 0.5064 - accuracy: 0.7800\n",
      "Epoch 3/5\n",
      "219/219 [==============================] - 1s 2ms/step - loss: 0.4923 - accuracy: 0.7918\n",
      "Epoch 4/5\n",
      "219/219 [==============================] - 1s 3ms/step - loss: 0.4806 - accuracy: 0.7949\n",
      "Epoch 5/5\n",
      "219/219 [==============================] - 1s 2ms/step - loss: 0.4717 - accuracy: 0.7974\n",
      "INFO:tensorflow:Assets written to: /home/xiaopengxu/Desktop/data-covid-review/2021-07-11/model.LDA+Doc2Vec+DeepWalk6.dl/assets\n",
      "2021-07-26 00:10:14.543449: Evaluating LDA+Doc2Vec+DeepWalk6 model ...\n",
      "Train: AUC = 0.801, precision = 0.767, recall = 0.641, accuracy = 0.801, f1_score = 0.663\n",
      "Dev: AUC = 0.761, precision = 0.746, recall = 0.625, accuracy = 0.792, f1_score = 0.642\n",
      "[0.48355308 0.48571655 0.5478944  0.5762198  0.65138936 0.7849526\n",
      " 0.8822819  0.9348036 ]\n",
      "True     382\n",
      "False    274\n",
      "Name: pub_prob, dtype: int64\n",
      "model: LDA+Doc2Vec+DeepWalk7\n",
      "2021-07-26 00:10:15.613842: Training LDA+Doc2Vec+DeepWalk7 model ...\n",
      "Epoch 1/5\n",
      "219/219 [==============================] - 1s 2ms/step - loss: 3.0743 - accuracy: 0.7705\n",
      "Epoch 2/5\n",
      "219/219 [==============================] - 0s 2ms/step - loss: 0.5010 - accuracy: 0.7882\n",
      "Epoch 3/5\n",
      "219/219 [==============================] - 1s 2ms/step - loss: 0.4835 - accuracy: 0.7946\n",
      "Epoch 4/5\n",
      "219/219 [==============================] - 1s 2ms/step - loss: 0.4782 - accuracy: 0.7945\n",
      "Epoch 5/5\n",
      "219/219 [==============================] - 1s 2ms/step - loss: 0.4752 - accuracy: 0.7992\n",
      "INFO:tensorflow:Assets written to: /home/xiaopengxu/Desktop/data-covid-review/2021-07-11/model.LDA+Doc2Vec+DeepWalk7.dl/assets\n",
      "2021-07-26 00:10:19.255802: Evaluating LDA+Doc2Vec+DeepWalk7 model ...\n",
      "Train: AUC = 0.803, precision = 0.796, recall = 0.628, accuracy = 0.802, f1_score = 0.647\n",
      "Dev: AUC = 0.768, precision = 0.763, recall = 0.609, accuracy = 0.791, f1_score = 0.623\n",
      "[0.4912911  0.5246444  0.52911425 0.5483378  0.677763   0.68938327\n",
      " 0.9033475  0.93079376]\n",
      "True     397\n",
      "False    259\n",
      "Name: pub_prob, dtype: int64\n",
      "model: LDA+Doc2Vec+DeepWalk8\n",
      "2021-07-26 00:10:20.387209: Training LDA+Doc2Vec+DeepWalk8 model ...\n",
      "Epoch 1/5\n",
      "219/219 [==============================] - 1s 2ms/step - loss: 3.1122 - accuracy: 0.7384\n",
      "Epoch 2/5\n",
      "219/219 [==============================] - 1s 2ms/step - loss: 0.5022 - accuracy: 0.7812\n",
      "Epoch 3/5\n",
      "219/219 [==============================] - 1s 2ms/step - loss: 0.4859 - accuracy: 0.7914\n",
      "Epoch 4/5\n",
      "219/219 [==============================] - 1s 3ms/step - loss: 0.4817 - accuracy: 0.7933\n",
      "Epoch 5/5\n",
      "219/219 [==============================] - 1s 3ms/step - loss: 0.4786 - accuracy: 0.7956\n",
      "INFO:tensorflow:Assets written to: /home/xiaopengxu/Desktop/data-covid-review/2021-07-11/model.LDA+Doc2Vec+DeepWalk8.dl/assets\n",
      "2021-07-26 00:10:24.371142: Evaluating LDA+Doc2Vec+DeepWalk8 model ...\n",
      "Train: AUC = 0.800, precision = 0.816, recall = 0.614, accuracy = 0.800, f1_score = 0.630\n",
      "Dev: AUC = 0.765, precision = 0.793, recall = 0.599, accuracy = 0.792, f1_score = 0.609\n",
      "[0.5037406  0.53357166 0.5374223  0.562912   0.6749749  0.7211549\n",
      " 0.9043031  0.91059506]\n",
      "True     439\n",
      "False    217\n",
      "Name: pub_prob, dtype: int64\n",
      "model: LDA+Doc2Vec+DeepWalk9\n",
      "2021-07-26 00:10:25.286976: Training LDA+Doc2Vec+DeepWalk9 model ...\n",
      "Epoch 1/5\n",
      "219/219 [==============================] - 1s 2ms/step - loss: 3.0870 - accuracy: 0.7560\n",
      "Epoch 2/5\n",
      "219/219 [==============================] - 0s 2ms/step - loss: 0.5074 - accuracy: 0.7817\n",
      "Epoch 3/5\n",
      "219/219 [==============================] - 1s 2ms/step - loss: 0.4946 - accuracy: 0.7864\n",
      "Epoch 4/5\n",
      "219/219 [==============================] - 1s 2ms/step - loss: 0.4828 - accuracy: 0.7920\n",
      "Epoch 5/5\n",
      "219/219 [==============================] - 1s 2ms/step - loss: 0.4774 - accuracy: 0.7934\n",
      "INFO:tensorflow:Assets written to: /home/xiaopengxu/Desktop/data-covid-review/2021-07-11/model.LDA+Doc2Vec+DeepWalk9.dl/assets\n",
      "2021-07-26 00:10:28.969054: Evaluating LDA+Doc2Vec+DeepWalk9 model ...\n",
      "Train: AUC = 0.804, precision = 0.833, recall = 0.605, accuracy = 0.798, f1_score = 0.617\n",
      "Dev: AUC = 0.771, precision = 0.825, recall = 0.594, accuracy = 0.793, f1_score = 0.601\n",
      "[0.5144711  0.539285   0.5428479  0.5576892  0.80562806 0.86912924\n",
      " 0.90940416 0.95630944]\n",
      "True     411\n",
      "False    245\n",
      "Name: pub_prob, dtype: int64\n"
     ]
    }
   ],
   "source": [
    "X_train = pd.read_csv(inoutpath + 'training_set.csv')\n",
    "X_test = pd.read_csv(inoutpath + 'testing_set.csv')\n",
    "\n",
    "select_model(f_name, f_comb, layer, X_train, X_test, X_train.is_published, X_test.is_published, inoutpath, epochs=5)"
   ]
  },
  {
   "cell_type": "code",
   "execution_count": 24,
   "metadata": {},
   "outputs": [
    {
     "data": {
      "text/html": [
       "<div>\n",
       "<style scoped>\n",
       "    .dataframe tbody tr th:only-of-type {\n",
       "        vertical-align: middle;\n",
       "    }\n",
       "\n",
       "    .dataframe tbody tr th {\n",
       "        vertical-align: top;\n",
       "    }\n",
       "\n",
       "    .dataframe thead th {\n",
       "        text-align: right;\n",
       "    }\n",
       "</style>\n",
       "<table border=\"1\" class=\"dataframe\">\n",
       "  <thead>\n",
       "    <tr style=\"text-align: right;\">\n",
       "      <th></th>\n",
       "      <th>title</th>\n",
       "      <th>pub_prob</th>\n",
       "    </tr>\n",
       "  </thead>\n",
       "  <tbody>\n",
       "    <tr>\n",
       "      <th>406</th>\n",
       "      <td>6-month follow up of 8679 hospitalized covid-19 patients in germany: a nationwide cohort study</td>\n",
       "      <td>0.956309</td>\n",
       "    </tr>\n",
       "    <tr>\n",
       "      <th>392</th>\n",
       "      <td>evidence for biological age acceleration and telomere2 shortening in covid-19 survivors</td>\n",
       "      <td>0.909404</td>\n",
       "    </tr>\n",
       "    <tr>\n",
       "      <th>429</th>\n",
       "      <td>previous covid-19 infection but not long-covid is associated with increased adverse events following bnt162b2/pfizer vaccination</td>\n",
       "      <td>0.869129</td>\n",
       "    </tr>\n",
       "    <tr>\n",
       "      <th>419</th>\n",
       "      <td>convergent evolution of sars-cov-2 spike mutations, l452r, e484q and p681r, in the second wave of covid-19 in maharashtra, india</td>\n",
       "      <td>0.805628</td>\n",
       "    </tr>\n",
       "    <tr>\n",
       "      <th>305</th>\n",
       "      <td>a new sars-cov-2 variant poorly detected by rt-pcr on nasopharyngeal samples, with high lethality</td>\n",
       "      <td>0.557689</td>\n",
       "    </tr>\n",
       "    <tr>\n",
       "      <th>452</th>\n",
       "      <td>emergence of the novel sars-cov-2 lineage p.4.1 and massive spread of p.2 in south brazil</td>\n",
       "      <td>0.542848</td>\n",
       "    </tr>\n",
       "    <tr>\n",
       "      <th>227</th>\n",
       "      <td>effectiveness of the coronavac vaccine in the elderly population during a p.1 variant-associated epidemic of covid-19 in brazil: a test-negative case-control study</td>\n",
       "      <td>0.539285</td>\n",
       "    </tr>\n",
       "    <tr>\n",
       "      <th>204</th>\n",
       "      <td>effectiveness of covid-19 vaccines against the b.1.617.2 variant</td>\n",
       "      <td>0.514471</td>\n",
       "    </tr>\n",
       "  </tbody>\n",
       "</table>\n",
       "</div>"
      ],
      "text/plain": [
       "                                                                                                                                                                   title  \\\n",
       "406                                                                       6-month follow up of 8679 hospitalized covid-19 patients in germany: a nationwide cohort study   \n",
       "392                                                                              evidence for biological age acceleration and telomere2 shortening in covid-19 survivors   \n",
       "429                                     previous covid-19 infection but not long-covid is associated with increased adverse events following bnt162b2/pfizer vaccination   \n",
       "419                                     convergent evolution of sars-cov-2 spike mutations, l452r, e484q and p681r, in the second wave of covid-19 in maharashtra, india   \n",
       "305                                                                    a new sars-cov-2 variant poorly detected by rt-pcr on nasopharyngeal samples, with high lethality   \n",
       "452                                                                            emergence of the novel sars-cov-2 lineage p.4.1 and massive spread of p.2 in south brazil   \n",
       "227  effectiveness of the coronavac vaccine in the elderly population during a p.1 variant-associated epidemic of covid-19 in brazil: a test-negative case-control study   \n",
       "204                                                                                                     effectiveness of covid-19 vaccines against the b.1.617.2 variant   \n",
       "\n",
       "     pub_prob  \n",
       "406  0.956309  \n",
       "392  0.909404  \n",
       "429  0.869129  \n",
       "419  0.805628  \n",
       "305  0.557689  \n",
       "452  0.542848  \n",
       "227  0.539285  \n",
       "204  0.514471  "
      ]
     },
     "execution_count": 24,
     "metadata": {},
     "output_type": "execute_result"
    }
   ],
   "source": [
    "model = load_model(inoutpath, 'LDA+Doc2Vec+DeepWalk9')\n",
    "\n",
    "X['pub_prob'] = model.predict(X[F_new])\n",
    "X_lxd['pub_prob'] = model.predict(X_lxd[F_new]) # target data\n",
    "\n",
    "pd.set_option('display.max_colwidth', None)\n",
    "X_lxd[X_lxd.title.isin(selected)][['title', 'pub_prob']].sort_values(by='pub_prob', ascending=False)"
   ]
  },
  {
   "cell_type": "code",
   "execution_count": 26,
   "metadata": {},
   "outputs": [
    {
     "data": {
      "text/plain": [
       "False    464\n",
       "True     192\n",
       "Name: pub_prob, dtype: int64"
      ]
     },
     "execution_count": 26,
     "metadata": {},
     "output_type": "execute_result"
    }
   ],
   "source": [
    "(X_lxd.pub_prob >= 0.80).value_counts()"
   ]
  },
  {
   "cell_type": "code",
   "execution_count": 27,
   "metadata": {},
   "outputs": [
    {
     "name": "stdout",
     "output_type": "stream",
     "text": [
      "INFO:tensorflow:Assets written to: /home/xiaopengxu/Desktop/data-covid-review/2021-07-11/model.LDA+Doc2Vec+DeepWalk_selected_0.9-4-464.dl/assets\n"
     ]
    }
   ],
   "source": [
    "# 2021-07-11\n",
    "model.save(inoutpath + \"model.\" + 'LDA+Doc2Vec+DeepWalk_selected_0.9-4-464' + \".dl\") # b.1.617.2, p.1, p.4.1, lethality\n",
    "\n",
    "# 2021-05-31\n",
    "#model.save(inoutpath + \"model.\" + 'LDA+Doc2Vec+DeepWalk_selected_0.7-4-228' + \".dl\") # associations, b.1.617.2, lethality, p.4.1\n",
    "#model.save(inoutpath + \"model.\" + 'LDA+Doc2Vec+DeepWalk_selected_0.6-3-192' + \".dl\") # b.1.617.2, associations, brazil\n",
    "#model.save(inoutpath + \"model.\" + 'LDA+Doc2Vec+DeepWalk_selected_0.6-3-179' + \".dl\") # b.1.617.2, associations, lethality\n",
    "#model.save(inoutpath + \"model.\" + 'LDA+Doc2Vec+DeepWalk_selected_0.6-3-204' + \".dl\") # associations, b.1.617.2, brazil\n",
    "#model.save(inoutpath + \"model.\" + 'LDA+Doc2Vec+DeepWalk_selected_0.7-4-227' + \".dl\") # associations, b.1.617.2, p.4.1, brazil, \n",
    "#model.save(inoutpath + \"model.\" + 'LDA+Doc2Vec+DeepWalk_selected_0.75-4-321' + \".dl\") # associations, b.1.617.2, brazil, p.4.1, "
   ]
  },
  {
   "cell_type": "markdown",
   "metadata": {},
   "source": [
    "## Predict publishing probability on papers published last X=90 days"
   ]
  },
  {
   "cell_type": "code",
   "execution_count": 37,
   "metadata": {},
   "outputs": [
    {
     "data": {
      "text/html": [
       "<div>\n",
       "<style scoped>\n",
       "    .dataframe tbody tr th:only-of-type {\n",
       "        vertical-align: middle;\n",
       "    }\n",
       "\n",
       "    .dataframe tbody tr th {\n",
       "        vertical-align: top;\n",
       "    }\n",
       "\n",
       "    .dataframe thead th {\n",
       "        text-align: right;\n",
       "    }\n",
       "</style>\n",
       "<table border=\"1\" class=\"dataframe\">\n",
       "  <thead>\n",
       "    <tr style=\"text-align: right;\">\n",
       "      <th></th>\n",
       "      <th>title</th>\n",
       "      <th>pub_prob</th>\n",
       "    </tr>\n",
       "  </thead>\n",
       "  <tbody>\n",
       "    <tr>\n",
       "      <th>406</th>\n",
       "      <td>6-month follow up of 8679 hospitalized covid-19 patients in germany: a nationwide cohort study</td>\n",
       "      <td>0.956309</td>\n",
       "    </tr>\n",
       "    <tr>\n",
       "      <th>392</th>\n",
       "      <td>evidence for biological age acceleration and telomere2 shortening in covid-19 survivors</td>\n",
       "      <td>0.909404</td>\n",
       "    </tr>\n",
       "    <tr>\n",
       "      <th>429</th>\n",
       "      <td>previous covid-19 infection but not long-covid is associated with increased adverse events following bnt162b2/pfizer vaccination</td>\n",
       "      <td>0.869129</td>\n",
       "    </tr>\n",
       "    <tr>\n",
       "      <th>419</th>\n",
       "      <td>convergent evolution of sars-cov-2 spike mutations, l452r, e484q and p681r, in the second wave of covid-19 in maharashtra, india</td>\n",
       "      <td>0.805628</td>\n",
       "    </tr>\n",
       "    <tr>\n",
       "      <th>305</th>\n",
       "      <td>a new sars-cov-2 variant poorly detected by rt-pcr on nasopharyngeal samples, with high lethality</td>\n",
       "      <td>0.557689</td>\n",
       "    </tr>\n",
       "    <tr>\n",
       "      <th>452</th>\n",
       "      <td>emergence of the novel sars-cov-2 lineage p.4.1 and massive spread of p.2 in south brazil</td>\n",
       "      <td>0.542848</td>\n",
       "    </tr>\n",
       "    <tr>\n",
       "      <th>227</th>\n",
       "      <td>effectiveness of the coronavac vaccine in the elderly population during a p.1 variant-associated epidemic of covid-19 in brazil: a test-negative case-control study</td>\n",
       "      <td>0.539285</td>\n",
       "    </tr>\n",
       "    <tr>\n",
       "      <th>204</th>\n",
       "      <td>effectiveness of covid-19 vaccines against the b.1.617.2 variant</td>\n",
       "      <td>0.514471</td>\n",
       "    </tr>\n",
       "  </tbody>\n",
       "</table>\n",
       "</div>"
      ],
      "text/plain": [
       "                                                                                                                                                                   title  \\\n",
       "406                                                                       6-month follow up of 8679 hospitalized covid-19 patients in germany: a nationwide cohort study   \n",
       "392                                                                              evidence for biological age acceleration and telomere2 shortening in covid-19 survivors   \n",
       "429                                     previous covid-19 infection but not long-covid is associated with increased adverse events following bnt162b2/pfizer vaccination   \n",
       "419                                     convergent evolution of sars-cov-2 spike mutations, l452r, e484q and p681r, in the second wave of covid-19 in maharashtra, india   \n",
       "305                                                                    a new sars-cov-2 variant poorly detected by rt-pcr on nasopharyngeal samples, with high lethality   \n",
       "452                                                                            emergence of the novel sars-cov-2 lineage p.4.1 and massive spread of p.2 in south brazil   \n",
       "227  effectiveness of the coronavac vaccine in the elderly population during a p.1 variant-associated epidemic of covid-19 in brazil: a test-negative case-control study   \n",
       "204                                                                                                     effectiveness of covid-19 vaccines against the b.1.617.2 variant   \n",
       "\n",
       "     pub_prob  \n",
       "406  0.956309  \n",
       "392  0.909404  \n",
       "429  0.869129  \n",
       "419  0.805628  \n",
       "305  0.557689  \n",
       "452  0.542848  \n",
       "227  0.539285  \n",
       "204  0.514471  "
      ]
     },
     "execution_count": 37,
     "metadata": {},
     "output_type": "execute_result"
    }
   ],
   "source": [
    "F_new = F_Doc2Vec + F_DeepWalk + F_LDA\n",
    "#F_new = F_Doc2Vec + F_DeepWalk\n",
    "\n",
    "model = load_model(inoutpath, 'LDA+Doc2Vec+DeepWalk_selected_0.9-4-464')\n",
    "#model = load_model(inoutpath, 'Doc2Vec+DeepWalk')\n",
    "\n",
    "X['pub_prob'] = model.predict(X[F_new])\n",
    "X_test['pub_prob'] = model.predict(X_test[F_new]) # dev data\n",
    "X_lxd['pub_prob'] = model.predict(X_lxd[F_new]) # target data\n",
    "\n",
    "pd.set_option('display.max_colwidth', None)\n",
    "X_lxd[X_lxd.title.isin(selected)][['title', 'pub_prob']].sort_values(by='pub_prob', ascending=False)"
   ]
  },
  {
   "cell_type": "markdown",
   "metadata": {},
   "source": [
    "## Check the ranking of the selected preprints"
   ]
  },
  {
   "cell_type": "code",
   "execution_count": 38,
   "metadata": {},
   "outputs": [
    {
     "data": {
      "image/png": "[encoded data removed]",
      "text/plain": [
       "<Figure size 720x720 with 1 Axes>"
      ]
     },
     "metadata": {
      "needs_background": "light"
     },
     "output_type": "display_data"
    }
   ],
   "source": [
    "# Create lists for the plot\n",
    "status = ['Published', 'Unpublished']\n",
    "x_pos = np.arange(len(status))\n",
    "CTEs = [X[X.is_preprint & X.is_published].pub_prob.mean(), X[X.is_preprint & ~X.is_published].pub_prob.mean()]\n",
    "error = [X[X.is_preprint & X.is_published].pub_prob.std(), X[X.is_preprint & ~X.is_published].pub_prob.std()]\n",
    "\n",
    "# Build the plot\n",
    "fig, ax = plt.subplots()\n",
    "ax.bar(x_pos, CTEs, yerr=error, align='center', alpha=0.5, ecolor='black', capsize=10)\n",
    "ax.set_ylabel('Predicted publishing probability')\n",
    "ax.set_xticks(x_pos)\n",
    "ax.set_xticklabels(status)\n",
    "ax.set_title('Publishing status')\n",
    "ax.yaxis.grid(True)\n",
    "\n",
    "# Save the figure and show\n",
    "plt.tight_layout()\n",
    "fig3 = plt.gcf()\n",
    "plt.draw()\n",
    "fig3.savefig(inoutpath + \"figs_dl_prediction_error_bar.pdf\")\n",
    "plt.show()"
   ]
  },
  {
   "cell_type": "code",
   "execution_count": 39,
   "metadata": {},
   "outputs": [
    {
     "data": {
      "text/plain": [
       "False    646\n",
       "True      10\n",
       "Name: is_published, dtype: int64"
      ]
     },
     "execution_count": 39,
     "metadata": {},
     "output_type": "execute_result"
    }
   ],
   "source": [
    "X_lxd.is_published.value_counts()"
   ]
  },
  {
   "cell_type": "code",
   "execution_count": 40,
   "metadata": {},
   "outputs": [
    {
     "data": {
      "text/plain": [
       "True     411\n",
       "False    245\n",
       "Name: pub_prob, dtype: int64"
      ]
     },
     "execution_count": 40,
     "metadata": {},
     "output_type": "execute_result"
    }
   ],
   "source": [
    "(X_lxd.pub_prob >= 0.6).value_counts()"
   ]
  },
  {
   "cell_type": "code",
   "execution_count": 41,
   "metadata": {},
   "outputs": [
    {
     "data": {
      "text/plain": [
       "False    404\n",
       "True       7\n",
       "Name: is_published, dtype: int64"
      ]
     },
     "execution_count": 41,
     "metadata": {},
     "output_type": "execute_result"
    }
   ],
   "source": [
    "X_lxd[X_lxd.pub_prob >= 0.6].is_published.value_counts()"
   ]
  },
  {
   "cell_type": "code",
   "execution_count": 42,
   "metadata": {},
   "outputs": [
    {
     "data": {
      "text/plain": [
       "7"
      ]
     },
     "execution_count": 42,
     "metadata": {},
     "output_type": "execute_result"
    }
   ],
   "source": [
    "len(X_lxd[X_lxd.is_published & (X_lxd.pub_prob >= 0.6)])#[['title', 'pub_prob', 'is_published']]"
   ]
  },
  {
   "cell_type": "code",
   "execution_count": 43,
   "metadata": {},
   "outputs": [
    {
     "data": {
      "text/plain": [
       "0"
      ]
     },
     "execution_count": 43,
     "metadata": {},
     "output_type": "execute_result"
    }
   ],
   "source": [
    "len(X_lxd[X_lxd.is_published & (X_lxd.pub_prob < 0.5)])# [['title', 'pub_prob', 'is_published']]"
   ]
  },
  {
   "cell_type": "code",
   "execution_count": 44,
   "metadata": {},
   "outputs": [
    {
     "name": "stdout",
     "output_type": "stream",
     "text": [
      "              precision    recall  f1-score   support\n",
      "\n",
      " Unpublished       0.86      0.20      0.32       869\n",
      "   Published       0.79      0.99      0.88      2635\n",
      "\n",
      "    accuracy                           0.79      3504\n",
      "   macro avg       0.82      0.59      0.60      3504\n",
      "weighted avg       0.81      0.79      0.74      3504\n",
      "\n"
     ]
    }
   ],
   "source": [
    "from sklearn.metrics import classification_report\n",
    "target_names = ['Unpublished', 'Published']\n",
    "\n",
    "print(classification_report(X_test.is_published, X_test.pub_prob >=0.5, target_names=target_names))"
   ]
  },
  {
   "cell_type": "code",
   "execution_count": 45,
   "metadata": {},
   "outputs": [],
   "source": [
    "X_lxd.to_csv(inoutpath + \"ret_lxd.ori_publishing_scores.csv\")\n",
    "X.to_csv(inoutpath + \"ret.ori_publishing_scores.csv\")"
   ]
  },
  {
   "cell_type": "code",
   "execution_count": 46,
   "metadata": {},
   "outputs": [
    {
     "data": {
      "text/html": [
       "<div>\n",
       "<style scoped>\n",
       "    .dataframe tbody tr th:only-of-type {\n",
       "        vertical-align: middle;\n",
       "    }\n",
       "\n",
       "    .dataframe tbody tr th {\n",
       "        vertical-align: top;\n",
       "    }\n",
       "\n",
       "    .dataframe thead th {\n",
       "        text-align: right;\n",
       "    }\n",
       "</style>\n",
       "<table border=\"1\" class=\"dataframe\">\n",
       "  <thead>\n",
       "    <tr style=\"text-align: right;\">\n",
       "      <th></th>\n",
       "      <th>p_published</th>\n",
       "    </tr>\n",
       "    <tr>\n",
       "      <th>topic</th>\n",
       "      <th></th>\n",
       "    </tr>\n",
       "  </thead>\n",
       "  <tbody>\n",
       "    <tr>\n",
       "      <th>Clinics</th>\n",
       "      <td>89</td>\n",
       "    </tr>\n",
       "    <tr>\n",
       "      <th>Drug discovery</th>\n",
       "      <td>127</td>\n",
       "    </tr>\n",
       "    <tr>\n",
       "      <th>Epidemiology</th>\n",
       "      <td>39</td>\n",
       "    </tr>\n",
       "    <tr>\n",
       "      <th>Genomics</th>\n",
       "      <td>98</td>\n",
       "    </tr>\n",
       "    <tr>\n",
       "      <th>Healthcare</th>\n",
       "      <td>57</td>\n",
       "    </tr>\n",
       "    <tr>\n",
       "      <th>Imaging</th>\n",
       "      <td>12</td>\n",
       "    </tr>\n",
       "  </tbody>\n",
       "</table>\n",
       "</div>"
      ],
      "text/plain": [
       "                p_published\n",
       "topic                      \n",
       "Clinics                  89\n",
       "Drug discovery          127\n",
       "Epidemiology             39\n",
       "Genomics                 98\n",
       "Healthcare               57\n",
       "Imaging                  12"
      ]
     },
     "execution_count": 46,
     "metadata": {},
     "output_type": "execute_result"
    }
   ],
   "source": [
    "X_lxd['p_published'] = X_lxd.pub_prob > 0.592\n",
    "X_lxd[X_lxd.p_published][['topic', 'p_published']].groupby('topic').count()"
   ]
  },
  {
   "cell_type": "code",
   "execution_count": 47,
   "metadata": {},
   "outputs": [
    {
     "data": {
      "text/plain": [
       "title             422\n",
       "abstract          422\n",
       "journal           422\n",
       "DOI               422\n",
       "date              422\n",
       "                 ... \n",
       "preprint_test     422\n",
       "preprint_train    422\n",
       "pubmed_train      422\n",
       "pub_prob          422\n",
       "p_published       422\n",
       "Length: 138, dtype: int64"
      ]
     },
     "execution_count": 47,
     "metadata": {},
     "output_type": "execute_result"
    }
   ],
   "source": [
    "X_lxd[X_lxd.p_published].count()"
   ]
  },
  {
   "cell_type": "markdown",
   "metadata": {},
   "source": [
    "## Analyze prediction among Topics"
   ]
  },
  {
   "cell_type": "code",
   "execution_count": 48,
   "metadata": {},
   "outputs": [
    {
     "data": {
      "text/plain": [
       "<AxesSubplot:xlabel='topic'>"
      ]
     },
     "execution_count": 48,
     "metadata": {},
     "output_type": "execute_result"
    },
    {
     "data": {
      "image/png": "[encoded data removed]",
      "text/plain": [
       "<Figure size 720x432 with 1 Axes>"
      ]
     },
     "metadata": {
      "needs_background": "light"
     },
     "output_type": "display_data"
    }
   ],
   "source": [
    "plt.rcParams['figure.figsize'] = [10, 6]\n",
    "\n",
    "X['p_published'] = (X['pub_prob'] > 0.592) * 1\n",
    "df_ret = pd.merge(X['topic'], X['p_published'], left_index=True, right_index=True)\n",
    "\n",
    "topic_sum = df_ret.groupby('topic').agg({'topic':'count', 'p_published':'sum'})\n",
    "topic_sum['p_unpublished'] = topic_sum['topic'] - topic_sum['p_published']\n",
    "topic_sum[['p_published', 'p_unpublished']].plot.bar(rot=0)"
   ]
  },
  {
   "cell_type": "code",
   "execution_count": 49,
   "metadata": {},
   "outputs": [
    {
     "data": {
      "text/plain": [
       "<AxesSubplot:xlabel='topic'>"
      ]
     },
     "execution_count": 49,
     "metadata": {},
     "output_type": "execute_result"
    },
    {
     "data": {
      "image/png": "[encoded data removed]",
      "text/plain": [
       "<Figure size 720x432 with 1 Axes>"
      ]
     },
     "metadata": {
      "needs_background": "light"
     },
     "output_type": "display_data"
    }
   ],
   "source": [
    "X['t_published'] = y * 1\n",
    "df_t_ret = pd.merge(X['topic'], X['t_published'], left_index=True, right_index=True)\n",
    "\n",
    "topic_t_sum = df_t_ret.groupby('topic').agg({'topic':'count', 't_published':'sum'})\n",
    "topic_t_sum['t_unpublished'] = topic_t_sum['topic'] - topic_t_sum['t_published']\n",
    "topic_t_sum[['t_published', 't_unpublished']].plot.bar(rot=0)"
   ]
  },
  {
   "cell_type": "code",
   "execution_count": 50,
   "metadata": {},
   "outputs": [
    {
     "data": {
      "image/png": "[encoded data removed]",
      "text/plain": [
       "<Figure size 720x432 with 1 Axes>"
      ]
     },
     "metadata": {
      "needs_background": "light"
     },
     "output_type": "display_data"
    }
   ],
   "source": [
    "from sklearn.metrics import precision_recall_curve\n",
    "\n",
    "precision, recall, _ = precision_recall_curve(X_test.is_published, X_test.pub_prob)\n",
    "plt.plot(recall, precision, marker='.', label='DL: LDA+Doc2Vec+DeepWalk')\n",
    "\n",
    "plt.xlabel('Recall')\n",
    "plt.ylabel('Precision')\n",
    "plt.legend()\n",
    "fig2 = plt.gcf()\n",
    "plt.draw()\n",
    "fig2.savefig(inoutpath + \"figs_dl_precision_recall.pdf\")\n",
    "plt.show()"
   ]
  },
  {
   "cell_type": "code",
   "execution_count": null,
   "metadata": {},
   "outputs": [],
   "source": []
  }
 ],
 "metadata": {
  "kernelspec": {
   "display_name": "Python 3",
   "language": "python",
   "name": "python3"
  },
  "language_info": {
   "codemirror_mode": {
    "name": "ipython",
    "version": 3
   },
   "file_extension": ".py",
   "mimetype": "text/x-python",
   "name": "python",
   "nbconvert_exporter": "python",
   "pygments_lexer": "ipython3",
   "version": "3.8.5"
  }
 },
 "nbformat": 4,
 "nbformat_minor": 4
}
