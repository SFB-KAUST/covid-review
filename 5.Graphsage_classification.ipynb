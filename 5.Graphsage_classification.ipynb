{
 "cells": [
  {
   "cell_type": "markdown",
   "metadata": {},
   "source": [
    "# Graph Mining\n",
    "## Graph Extraction\n",
    "Extract the citations graph and author -> paper graph"
   ]
  },
  {
   "cell_type": "code",
   "execution_count": 1,
   "metadata": {},
   "outputs": [],
   "source": [
    "import pandas as pd\n",
    "df_compdata_ref_auth = pd.read_csv('../covid-review-old/data/compdata_ref_author.csv', index_col=False)\n",
    "df_compdata_ref_auth = df_compdata_ref_auth.drop(columns=['Unnamed: 0'])"
   ]
  },
  {
   "cell_type": "code",
   "execution_count": 2,
   "metadata": {},
   "outputs": [
    {
     "data": {
      "text/plain": [
       "5686"
      ]
     },
     "execution_count": 2,
     "metadata": {},
     "output_type": "execute_result"
    }
   ],
   "source": [
    "df_compdata_ref_auth_redup = df_compdata_ref_auth.drop_duplicates(subset=['title'])\n",
    "len(df_compdata_ref_auth_redup)"
   ]
  },
  {
   "cell_type": "code",
   "execution_count": 3,
   "metadata": {},
   "outputs": [
    {
     "data": {
      "text/html": [
       "<div>\n",
       "<style scoped>\n",
       "    .dataframe tbody tr th:only-of-type {\n",
       "        vertical-align: middle;\n",
       "    }\n",
       "\n",
       "    .dataframe tbody tr th {\n",
       "        vertical-align: top;\n",
       "    }\n",
       "\n",
       "    .dataframe thead th {\n",
       "        text-align: right;\n",
       "    }\n",
       "</style>\n",
       "<table border=\"1\" class=\"dataframe\">\n",
       "  <thead>\n",
       "    <tr style=\"text-align: right;\">\n",
       "      <th></th>\n",
       "      <th>title</th>\n",
       "      <th>abstract</th>\n",
       "      <th>journal</th>\n",
       "      <th>DOI</th>\n",
       "      <th>date</th>\n",
       "      <th>collection</th>\n",
       "      <th>published</th>\n",
       "      <th>nauthors</th>\n",
       "      <th>topic.Healthcare</th>\n",
       "      <th>topic.Drug discovery</th>\n",
       "      <th>...</th>\n",
       "      <th>numcit</th>\n",
       "      <th>influcit</th>\n",
       "      <th>DL_Pdf</th>\n",
       "      <th>DL_Full</th>\n",
       "      <th>DL_Abstract</th>\n",
       "      <th>ref</th>\n",
       "      <th>authorsId</th>\n",
       "      <th>authorsNames</th>\n",
       "      <th>p_doi</th>\n",
       "      <th>p_journal</th>\n",
       "    </tr>\n",
       "  </thead>\n",
       "  <tbody>\n",
       "    <tr>\n",
       "      <th>0</th>\n",
       "      <td>Multivariate analysis of CT imaging, laborator...</td>\n",
       "      <td>PURPOSE: To develop and externally validate a ...</td>\n",
       "      <td>Abdom Radiol (NY)</td>\n",
       "      <td>33098478</td>\n",
       "      <td>2020-10-25</td>\n",
       "      <td>pubmed</td>\n",
       "      <td>NaN</td>\n",
       "      <td>6</td>\n",
       "      <td>0.000988</td>\n",
       "      <td>0.000988</td>\n",
       "      <td>...</td>\n",
       "      <td>0</td>\n",
       "      <td>0</td>\n",
       "      <td>NaN</td>\n",
       "      <td>NaN</td>\n",
       "      <td>NaN</td>\n",
       "      <td>10.5152/TJAR.2014.83436, 10.1159/000509274, 10...</td>\n",
       "      <td>4593769, 2001055410, 2001050867, 16053632, 144...</td>\n",
       "      <td>S. Hectors, Sadjad Riyahi, Hreedi Dev, K. Kris...</td>\n",
       "      <td>10.1007/s00261-020-02823-w</td>\n",
       "      <td>Abdominal Radiology</td>\n",
       "    </tr>\n",
       "  </tbody>\n",
       "</table>\n",
       "<p>1 rows × 25 columns</p>\n",
       "</div>"
      ],
      "text/plain": [
       "                                               title  \\\n",
       "0  Multivariate analysis of CT imaging, laborator...   \n",
       "\n",
       "                                            abstract            journal  \\\n",
       "0  PURPOSE: To develop and externally validate a ...  Abdom Radiol (NY)   \n",
       "\n",
       "        DOI        date collection published  nauthors  topic.Healthcare  \\\n",
       "0  33098478  2020-10-25     pubmed       NaN         6          0.000988   \n",
       "\n",
       "   topic.Drug discovery  ...  numcit  influcit  DL_Pdf  DL_Full DL_Abstract  \\\n",
       "0              0.000988  ...       0         0     NaN      NaN         NaN   \n",
       "\n",
       "                                                 ref  \\\n",
       "0  10.5152/TJAR.2014.83436, 10.1159/000509274, 10...   \n",
       "\n",
       "                                           authorsId  \\\n",
       "0  4593769, 2001055410, 2001050867, 16053632, 144...   \n",
       "\n",
       "                                        authorsNames  \\\n",
       "0  S. Hectors, Sadjad Riyahi, Hreedi Dev, K. Kris...   \n",
       "\n",
       "                        p_doi            p_journal  \n",
       "0  10.1007/s00261-020-02823-w  Abdominal Radiology  \n",
       "\n",
       "[1 rows x 25 columns]"
      ]
     },
     "execution_count": 3,
     "metadata": {},
     "output_type": "execute_result"
    }
   ],
   "source": [
    "df_compdata_ref_auth_redup.head(1)"
   ]
  },
  {
   "cell_type": "code",
   "execution_count": 4,
   "metadata": {},
   "outputs": [
    {
     "data": {
      "text/plain": [
       "('10.1007/s00261-020-02823-w', '10.1007/s00261-020-02671-8')"
      ]
     },
     "execution_count": 4,
     "metadata": {},
     "output_type": "execute_result"
    }
   ],
   "source": [
    "# Generate edge_list\n",
    "import numpy as np\n",
    "\n",
    "doi2ref = dict() # dict of doi -> reference doi's\n",
    "for idx in df_compdata_ref_auth_redup.index: \n",
    "    doi2ref[df_compdata_ref_auth_redup['p_doi'].loc[idx]] = df_compdata_ref_auth_redup['ref'].loc[idx]\n",
    "\n",
    "\n",
    "\n",
    "edge_list = list() # list of doi -> ref doi\n",
    "for k in doi2ref.keys():\n",
    "    if type(doi2ref[k]) is float : ## handle nan values\n",
    "        continue\n",
    "    \n",
    "    for val in doi2ref[k].split(', '):\n",
    "        if val =='NA': # ignore NA values of papers\n",
    "            continue\n",
    "        if val not in doi2ref.keys(): # remove edge if ref paper not in compdata\n",
    "            continue\n",
    "        edge_list.append((k, val))\n",
    "\n",
    "edge_list[1]"
   ]
  },
  {
   "cell_type": "code",
   "execution_count": 7,
   "metadata": {},
   "outputs": [],
   "source": [
    "import networkx as nx\n",
    "\n",
    "G = nx.DiGraph()\n",
    "G.add_edges_from(edge_list)"
   ]
  },
  {
   "cell_type": "markdown",
   "metadata": {},
   "source": [
    "## GraphSage"
   ]
  },
  {
   "cell_type": "code",
   "execution_count": 8,
   "metadata": {},
   "outputs": [],
   "source": [
    "id_map = dict()\n",
    "iter_id = 0\n",
    "\n",
    "for p_doi in df_compdata_ref_auth_redup['p_doi']:\n",
    "    id_map[p_doi]  = iter_id\n",
    "    iter_id = iter_id + 1\n",
    "\n",
    "for n in G.nodes:\n",
    "    if n not in id_map.keys():\n",
    "        id_map[n] = iter_id\n",
    "        iter_id = iter_id + 1"
   ]
  },
  {
   "cell_type": "code",
   "execution_count": 9,
   "metadata": {},
   "outputs": [
    {
     "data": {
      "text/html": [
       "<div>\n",
       "<style scoped>\n",
       "    .dataframe tbody tr th:only-of-type {\n",
       "        vertical-align: middle;\n",
       "    }\n",
       "\n",
       "    .dataframe tbody tr th {\n",
       "        vertical-align: top;\n",
       "    }\n",
       "\n",
       "    .dataframe thead th {\n",
       "        text-align: right;\n",
       "    }\n",
       "</style>\n",
       "<table border=\"1\" class=\"dataframe\">\n",
       "  <thead>\n",
       "    <tr style=\"text-align: right;\">\n",
       "      <th></th>\n",
       "      <th>source</th>\n",
       "      <th>target</th>\n",
       "    </tr>\n",
       "  </thead>\n",
       "  <tbody>\n",
       "    <tr>\n",
       "      <th>0</th>\n",
       "      <td>0</td>\n",
       "      <td>5220</td>\n",
       "    </tr>\n",
       "    <tr>\n",
       "      <th>1</th>\n",
       "      <td>0</td>\n",
       "      <td>2987</td>\n",
       "    </tr>\n",
       "    <tr>\n",
       "      <th>2</th>\n",
       "      <td>7</td>\n",
       "      <td>3550</td>\n",
       "    </tr>\n",
       "  </tbody>\n",
       "</table>\n",
       "</div>"
      ],
      "text/plain": [
       "   source  target\n",
       "0       0    5220\n",
       "1       0    2987\n",
       "2       7    3550"
      ]
     },
     "execution_count": 9,
     "metadata": {},
     "output_type": "execute_result"
    }
   ],
   "source": [
    "source = list()\n",
    "target = list()\n",
    "id_edge_list = list()\n",
    "for (k,v) in edge_list:\n",
    "    if k in id_map.keys() and v in id_map.keys():\n",
    "        source.append(id_map[k])\n",
    "        target.append(id_map[v])\n",
    "        id_edge_list.append((id_map[k], id_map[v]))\n",
    "\n",
    "pd_edge_list = pd.DataFrame(list(zip(source, target)), columns =['source', 'target'])\n",
    "pd_edge_list.head(3)\n",
    "#pd_edge_list.to_csv('id_edge_list.csv')"
   ]
  },
  {
   "cell_type": "code",
   "execution_count": 11,
   "metadata": {},
   "outputs": [],
   "source": [
    "import pandas as pd\n",
    "X = pd.read_csv('./data/lda_doc2vec_feats.csv', index_col=False)\n",
    "y = pd.read_csv('./data/lda_doc2vec_targs.csv', index_col=False)\n",
    "X = X.drop(columns=['Unnamed: 0'])\n",
    "y = y.drop(columns=['Unnamed: 0'])\n",
    "\n",
    "X = X.fillna(0)\n",
    "\n",
    "F_LDA = ['topic.Healthcare', 'topic.Drug discovery', 'topic.Epidemiology', 'topic.Clinics', 'topic.Chest X-Ray', 'topic.Genomics']\n",
    "node_features = X[F_LDA]\n",
    "subjects = y"
   ]
  },
  {
   "cell_type": "code",
   "execution_count": 12,
   "metadata": {},
   "outputs": [],
   "source": [
    "import networkx as nx\n",
    "import pandas as pd\n",
    "import os\n",
    "\n",
    "import stellargraph as sg\n",
    "from stellargraph.mapper import GraphSAGENodeGenerator\n",
    "from stellargraph.layer import GraphSAGE\n",
    "\n",
    "from tensorflow.keras import layers, optimizers, losses, metrics, Model\n",
    "from sklearn import preprocessing, feature_extraction, model_selection\n",
    "from stellargraph import datasets\n",
    "from IPython.display import display, HTML\n",
    "import matplotlib.pyplot as plt\n",
    "%matplotlib inline"
   ]
  },
  {
   "cell_type": "code",
   "execution_count": 13,
   "metadata": {},
   "outputs": [],
   "source": [
    "G = sg.StellarGraph(nodes={\"paper\": node_features}, edges={\"ref\": pd_edge_list}, is_directed=True)"
   ]
  },
  {
   "cell_type": "code",
   "execution_count": 14,
   "metadata": {},
   "outputs": [
    {
     "data": {
      "text/html": [
       "<div>\n",
       "<style scoped>\n",
       "    .dataframe tbody tr th:only-of-type {\n",
       "        vertical-align: middle;\n",
       "    }\n",
       "\n",
       "    .dataframe tbody tr th {\n",
       "        vertical-align: top;\n",
       "    }\n",
       "\n",
       "    .dataframe thead th {\n",
       "        text-align: right;\n",
       "    }\n",
       "</style>\n",
       "<table border=\"1\" class=\"dataframe\">\n",
       "  <thead>\n",
       "    <tr style=\"text-align: right;\">\n",
       "      <th></th>\n",
       "      <th>source</th>\n",
       "      <th>target</th>\n",
       "    </tr>\n",
       "  </thead>\n",
       "  <tbody>\n",
       "    <tr>\n",
       "      <th>0</th>\n",
       "      <td>0</td>\n",
       "      <td>5220</td>\n",
       "    </tr>\n",
       "    <tr>\n",
       "      <th>1</th>\n",
       "      <td>0</td>\n",
       "      <td>2987</td>\n",
       "    </tr>\n",
       "    <tr>\n",
       "      <th>2</th>\n",
       "      <td>7</td>\n",
       "      <td>3550</td>\n",
       "    </tr>\n",
       "    <tr>\n",
       "      <th>3</th>\n",
       "      <td>7</td>\n",
       "      <td>1016</td>\n",
       "    </tr>\n",
       "    <tr>\n",
       "      <th>4</th>\n",
       "      <td>30</td>\n",
       "      <td>3426</td>\n",
       "    </tr>\n",
       "    <tr>\n",
       "      <th>...</th>\n",
       "      <td>...</td>\n",
       "      <td>...</td>\n",
       "    </tr>\n",
       "    <tr>\n",
       "      <th>4773</th>\n",
       "      <td>5657</td>\n",
       "      <td>1738</td>\n",
       "    </tr>\n",
       "    <tr>\n",
       "      <th>4774</th>\n",
       "      <td>5657</td>\n",
       "      <td>5664</td>\n",
       "    </tr>\n",
       "    <tr>\n",
       "      <th>4775</th>\n",
       "      <td>5673</td>\n",
       "      <td>5685</td>\n",
       "    </tr>\n",
       "    <tr>\n",
       "      <th>4776</th>\n",
       "      <td>5675</td>\n",
       "      <td>5684</td>\n",
       "    </tr>\n",
       "    <tr>\n",
       "      <th>4777</th>\n",
       "      <td>5684</td>\n",
       "      <td>1742</td>\n",
       "    </tr>\n",
       "  </tbody>\n",
       "</table>\n",
       "<p>4778 rows × 2 columns</p>\n",
       "</div>"
      ],
      "text/plain": [
       "      source  target\n",
       "0          0    5220\n",
       "1          0    2987\n",
       "2          7    3550\n",
       "3          7    1016\n",
       "4         30    3426\n",
       "...      ...     ...\n",
       "4773    5657    1738\n",
       "4774    5657    5664\n",
       "4775    5673    5685\n",
       "4776    5675    5684\n",
       "4777    5684    1742\n",
       "\n",
       "[4778 rows x 2 columns]"
      ]
     },
     "execution_count": 14,
     "metadata": {},
     "output_type": "execute_result"
    }
   ],
   "source": [
    "pd_edge_list"
   ]
  },
  {
   "cell_type": "code",
   "execution_count": 15,
   "metadata": {},
   "outputs": [
    {
     "name": "stdout",
     "output_type": "stream",
     "text": [
      "StellarGraph: Directed multigraph\n",
      " Nodes: 5686, Edges: 4778\n",
      "\n",
      " Node types:\n",
      "  paper: [5686]\n",
      "    Features: float32 vector, length 6\n",
      "    Edge types: paper-ref->paper\n",
      "\n",
      " Edge types:\n",
      "    paper-ref->paper: [4778]\n",
      "        Weights: all 1 (default)\n",
      "        Features: none\n"
     ]
    }
   ],
   "source": [
    "print(G.info())"
   ]
  },
  {
   "cell_type": "code",
   "execution_count": 16,
   "metadata": {},
   "outputs": [
    {
     "data": {
      "text/html": [
       "<div>\n",
       "<style scoped>\n",
       "    .dataframe tbody tr th:only-of-type {\n",
       "        vertical-align: middle;\n",
       "    }\n",
       "\n",
       "    .dataframe tbody tr th {\n",
       "        vertical-align: top;\n",
       "    }\n",
       "\n",
       "    .dataframe thead th {\n",
       "        text-align: right;\n",
       "    }\n",
       "</style>\n",
       "<table border=\"1\" class=\"dataframe\">\n",
       "  <thead>\n",
       "    <tr style=\"text-align: right;\">\n",
       "      <th></th>\n",
       "      <th>topic.Healthcare</th>\n",
       "      <th>topic.Drug discovery</th>\n",
       "      <th>topic.Epidemiology</th>\n",
       "      <th>topic.Clinics</th>\n",
       "      <th>topic.Chest X-Ray</th>\n",
       "      <th>topic.Genomics</th>\n",
       "    </tr>\n",
       "  </thead>\n",
       "  <tbody>\n",
       "    <tr>\n",
       "      <th>0</th>\n",
       "      <td>0.000988</td>\n",
       "      <td>0.000988</td>\n",
       "      <td>0.000988</td>\n",
       "      <td>0.443756</td>\n",
       "      <td>0.552293</td>\n",
       "      <td>0.000988</td>\n",
       "    </tr>\n",
       "    <tr>\n",
       "      <th>1</th>\n",
       "      <td>0.019710</td>\n",
       "      <td>0.366652</td>\n",
       "      <td>0.019710</td>\n",
       "      <td>0.554505</td>\n",
       "      <td>0.019711</td>\n",
       "      <td>0.019711</td>\n",
       "    </tr>\n",
       "    <tr>\n",
       "      <th>2</th>\n",
       "      <td>0.001407</td>\n",
       "      <td>0.001408</td>\n",
       "      <td>0.517966</td>\n",
       "      <td>0.476404</td>\n",
       "      <td>0.001407</td>\n",
       "      <td>0.001407</td>\n",
       "    </tr>\n",
       "    <tr>\n",
       "      <th>3</th>\n",
       "      <td>0.075431</td>\n",
       "      <td>0.633524</td>\n",
       "      <td>0.001084</td>\n",
       "      <td>0.029905</td>\n",
       "      <td>0.001083</td>\n",
       "      <td>0.258973</td>\n",
       "    </tr>\n",
       "    <tr>\n",
       "      <th>4</th>\n",
       "      <td>0.051436</td>\n",
       "      <td>0.942934</td>\n",
       "      <td>0.001407</td>\n",
       "      <td>0.001407</td>\n",
       "      <td>0.001407</td>\n",
       "      <td>0.001407</td>\n",
       "    </tr>\n",
       "    <tr>\n",
       "      <th>...</th>\n",
       "      <td>...</td>\n",
       "      <td>...</td>\n",
       "      <td>...</td>\n",
       "      <td>...</td>\n",
       "      <td>...</td>\n",
       "      <td>...</td>\n",
       "    </tr>\n",
       "    <tr>\n",
       "      <th>5681</th>\n",
       "      <td>0.001139</td>\n",
       "      <td>0.139880</td>\n",
       "      <td>0.001139</td>\n",
       "      <td>0.001139</td>\n",
       "      <td>0.001139</td>\n",
       "      <td>0.855565</td>\n",
       "    </tr>\n",
       "    <tr>\n",
       "      <th>5682</th>\n",
       "      <td>0.002589</td>\n",
       "      <td>0.002589</td>\n",
       "      <td>0.540791</td>\n",
       "      <td>0.002589</td>\n",
       "      <td>0.002589</td>\n",
       "      <td>0.448853</td>\n",
       "    </tr>\n",
       "    <tr>\n",
       "      <th>5683</th>\n",
       "      <td>0.039696</td>\n",
       "      <td>0.001344</td>\n",
       "      <td>0.001344</td>\n",
       "      <td>0.166237</td>\n",
       "      <td>0.001344</td>\n",
       "      <td>0.790035</td>\n",
       "    </tr>\n",
       "    <tr>\n",
       "      <th>5684</th>\n",
       "      <td>0.001528</td>\n",
       "      <td>0.087418</td>\n",
       "      <td>0.524219</td>\n",
       "      <td>0.001528</td>\n",
       "      <td>0.001528</td>\n",
       "      <td>0.383780</td>\n",
       "    </tr>\n",
       "    <tr>\n",
       "      <th>5685</th>\n",
       "      <td>0.001324</td>\n",
       "      <td>0.481506</td>\n",
       "      <td>0.001324</td>\n",
       "      <td>0.001324</td>\n",
       "      <td>0.001324</td>\n",
       "      <td>0.513198</td>\n",
       "    </tr>\n",
       "  </tbody>\n",
       "</table>\n",
       "<p>5686 rows × 6 columns</p>\n",
       "</div>"
      ],
      "text/plain": [
       "      topic.Healthcare  topic.Drug discovery  topic.Epidemiology  \\\n",
       "0             0.000988              0.000988            0.000988   \n",
       "1             0.019710              0.366652            0.019710   \n",
       "2             0.001407              0.001408            0.517966   \n",
       "3             0.075431              0.633524            0.001084   \n",
       "4             0.051436              0.942934            0.001407   \n",
       "...                ...                   ...                 ...   \n",
       "5681          0.001139              0.139880            0.001139   \n",
       "5682          0.002589              0.002589            0.540791   \n",
       "5683          0.039696              0.001344            0.001344   \n",
       "5684          0.001528              0.087418            0.524219   \n",
       "5685          0.001324              0.481506            0.001324   \n",
       "\n",
       "      topic.Clinics  topic.Chest X-Ray  topic.Genomics  \n",
       "0          0.443756           0.552293        0.000988  \n",
       "1          0.554505           0.019711        0.019711  \n",
       "2          0.476404           0.001407        0.001407  \n",
       "3          0.029905           0.001083        0.258973  \n",
       "4          0.001407           0.001407        0.001407  \n",
       "...             ...                ...             ...  \n",
       "5681       0.001139           0.001139        0.855565  \n",
       "5682       0.002589           0.002589        0.448853  \n",
       "5683       0.166237           0.001344        0.790035  \n",
       "5684       0.001528           0.001528        0.383780  \n",
       "5685       0.001324           0.001324        0.513198  \n",
       "\n",
       "[5686 rows x 6 columns]"
      ]
     },
     "execution_count": 16,
     "metadata": {},
     "output_type": "execute_result"
    }
   ],
   "source": [
    "node_features"
   ]
  },
  {
   "cell_type": "code",
   "execution_count": 17,
   "metadata": {},
   "outputs": [],
   "source": [
    "train_subjects, test_subjects = model_selection.train_test_split(\n",
    "    subjects, train_size=0.1, test_size=None, stratify=subjects\n",
    ")"
   ]
  },
  {
   "cell_type": "code",
   "execution_count": 18,
   "metadata": {},
   "outputs": [
    {
     "data": {
      "text/html": [
       "<div>\n",
       "<style scoped>\n",
       "    .dataframe tbody tr th:only-of-type {\n",
       "        vertical-align: middle;\n",
       "    }\n",
       "\n",
       "    .dataframe tbody tr th {\n",
       "        vertical-align: top;\n",
       "    }\n",
       "\n",
       "    .dataframe thead th {\n",
       "        text-align: right;\n",
       "    }\n",
       "</style>\n",
       "<table border=\"1\" class=\"dataframe\">\n",
       "  <thead>\n",
       "    <tr style=\"text-align: right;\">\n",
       "      <th></th>\n",
       "      <th>0</th>\n",
       "    </tr>\n",
       "  </thead>\n",
       "  <tbody>\n",
       "    <tr>\n",
       "      <th>3169</th>\n",
       "      <td>True</td>\n",
       "    </tr>\n",
       "    <tr>\n",
       "      <th>1718</th>\n",
       "      <td>False</td>\n",
       "    </tr>\n",
       "    <tr>\n",
       "      <th>383</th>\n",
       "      <td>True</td>\n",
       "    </tr>\n",
       "    <tr>\n",
       "      <th>3276</th>\n",
       "      <td>True</td>\n",
       "    </tr>\n",
       "    <tr>\n",
       "      <th>5612</th>\n",
       "      <td>False</td>\n",
       "    </tr>\n",
       "    <tr>\n",
       "      <th>...</th>\n",
       "      <td>...</td>\n",
       "    </tr>\n",
       "    <tr>\n",
       "      <th>1587</th>\n",
       "      <td>False</td>\n",
       "    </tr>\n",
       "    <tr>\n",
       "      <th>3175</th>\n",
       "      <td>True</td>\n",
       "    </tr>\n",
       "    <tr>\n",
       "      <th>4439</th>\n",
       "      <td>True</td>\n",
       "    </tr>\n",
       "    <tr>\n",
       "      <th>5070</th>\n",
       "      <td>False</td>\n",
       "    </tr>\n",
       "    <tr>\n",
       "      <th>3437</th>\n",
       "      <td>True</td>\n",
       "    </tr>\n",
       "  </tbody>\n",
       "</table>\n",
       "<p>568 rows × 1 columns</p>\n",
       "</div>"
      ],
      "text/plain": [
       "          0\n",
       "3169   True\n",
       "1718  False\n",
       "383    True\n",
       "3276   True\n",
       "5612  False\n",
       "...     ...\n",
       "1587  False\n",
       "3175   True\n",
       "4439   True\n",
       "5070  False\n",
       "3437   True\n",
       "\n",
       "[568 rows x 1 columns]"
      ]
     },
     "execution_count": 18,
     "metadata": {},
     "output_type": "execute_result"
    }
   ],
   "source": [
    "train_subjects"
   ]
  },
  {
   "cell_type": "code",
   "execution_count": 19,
   "metadata": {},
   "outputs": [
    {
     "data": {
      "text/plain": [
       "Counter({'0': 1})"
      ]
     },
     "execution_count": 19,
     "metadata": {},
     "output_type": "execute_result"
    }
   ],
   "source": [
    "from collections import Counter\n",
    "\n",
    "Counter(train_subjects)"
   ]
  },
  {
   "cell_type": "code",
   "execution_count": 20,
   "metadata": {},
   "outputs": [],
   "source": [
    "target_encoding = preprocessing.LabelBinarizer()\n",
    "\n",
    "train_targets = target_encoding.fit_transform(train_subjects)\n",
    "test_targets = target_encoding.transform(test_subjects)"
   ]
  },
  {
   "cell_type": "code",
   "execution_count": 21,
   "metadata": {},
   "outputs": [],
   "source": [
    "batch_size = 50\n",
    "num_samples = [10, 5]"
   ]
  },
  {
   "cell_type": "code",
   "execution_count": 22,
   "metadata": {},
   "outputs": [],
   "source": [
    "generator = GraphSAGENodeGenerator(G, batch_size, num_samples)"
   ]
  },
  {
   "cell_type": "code",
   "execution_count": 23,
   "metadata": {},
   "outputs": [],
   "source": [
    "train_gen = generator.flow(train_subjects.index, train_targets, shuffle=True)"
   ]
  },
  {
   "cell_type": "code",
   "execution_count": 24,
   "metadata": {},
   "outputs": [],
   "source": [
    "graphsage_model = GraphSAGE(\n",
    "    layer_sizes=[32, 32], generator=generator, bias=True, dropout=0.5,\n",
    ")"
   ]
  },
  {
   "cell_type": "code",
   "execution_count": 25,
   "metadata": {},
   "outputs": [],
   "source": [
    "x_inp, x_out = graphsage_model.in_out_tensors()\n",
    "prediction = layers.Dense(units=train_targets.shape[1], activation=\"softmax\")(x_out)"
   ]
  },
  {
   "cell_type": "code",
   "execution_count": 26,
   "metadata": {},
   "outputs": [],
   "source": [
    "model = Model(inputs=x_inp, outputs=prediction)\n",
    "model.compile(\n",
    "    optimizer=optimizers.Adam(lr=0.005),\n",
    "    loss=losses.categorical_crossentropy,\n",
    "    metrics=[\"acc\"],\n",
    ")"
   ]
  },
  {
   "cell_type": "code",
   "execution_count": 27,
   "metadata": {},
   "outputs": [],
   "source": [
    "test_gen = generator.flow(test_subjects.index, test_targets)"
   ]
  },
  {
   "cell_type": "code",
   "execution_count": 28,
   "metadata": {},
   "outputs": [
    {
     "name": "stdout",
     "output_type": "stream",
     "text": [
      "Epoch 1/5\n",
      "12/12 - 4s - loss: 0.0000e+00 - acc: 0.5863 - val_loss: 0.0000e+00 - val_acc: 0.5854\n",
      "Epoch 2/5\n",
      "12/12 - 1s - loss: 0.0000e+00 - acc: 0.5863 - val_loss: 0.0000e+00 - val_acc: 0.5854\n",
      "Epoch 3/5\n",
      "12/12 - 1s - loss: 0.0000e+00 - acc: 0.5863 - val_loss: 0.0000e+00 - val_acc: 0.5854\n",
      "Epoch 4/5\n",
      "12/12 - 1s - loss: 0.0000e+00 - acc: 0.5863 - val_loss: 0.0000e+00 - val_acc: 0.5854\n",
      "Epoch 5/5\n",
      "12/12 - 1s - loss: 0.0000e+00 - acc: 0.5863 - val_loss: 0.0000e+00 - val_acc: 0.5854\n"
     ]
    }
   ],
   "source": [
    "history = model.fit(\n",
    "    train_gen, epochs=5, validation_data=test_gen, verbose=2, shuffle=False\n",
    ")"
   ]
  },
  {
   "cell_type": "code",
   "execution_count": 29,
   "metadata": {},
   "outputs": [
    {
     "data": {
      "image/png": "[encoded data removed]",
      "text/plain": [
       "<Figure size 504x576 with 2 Axes>"
      ]
     },
     "metadata": {
      "needs_background": "light"
     },
     "output_type": "display_data"
    }
   ],
   "source": [
    "sg.utils.plot_history(history)"
   ]
  },
  {
   "cell_type": "code",
   "execution_count": 30,
   "metadata": {},
   "outputs": [
    {
     "name": "stdout",
     "output_type": "stream",
     "text": [
      "103/103 [==============================] - 1s 12ms/step - loss: 0.0000e+00 - acc: 0.5854\n",
      "\n",
      "Test Set Metrics:\n",
      "\tloss: 0.0000\n",
      "\tacc: 0.5854\n"
     ]
    }
   ],
   "source": [
    "test_metrics = model.evaluate(test_gen)\n",
    "print(\"\\nTest Set Metrics:\")\n",
    "for name, val in zip(model.metrics_names, test_metrics):\n",
    "    print(\"\\t{}: {:0.4f}\".format(name, val))"
   ]
  },
  {
   "cell_type": "code",
   "execution_count": null,
   "metadata": {},
   "outputs": [],
   "source": []
  }
 ],
 "metadata": {
  "kernelspec": {
   "display_name": "Python 3",
   "language": "python",
   "name": "python3"
  },
  "language_info": {
   "codemirror_mode": {
    "name": "ipython",
    "version": 3
   },
   "file_extension": ".py",
   "mimetype": "text/x-python",
   "name": "python",
   "nbconvert_exporter": "python",
   "pygments_lexer": "ipython3",
   "version": "3.7.9"
  }
 },
 "nbformat": 4,
 "nbformat_minor": 4
}
