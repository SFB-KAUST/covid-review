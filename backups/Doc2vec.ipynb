{
 "cells": [
  {
   "cell_type": "code",
   "execution_count": 1,
   "metadata": {},
   "outputs": [],
   "source": [
    "# Import data\n",
    "import pandas as pd\n",
    "\n",
    "papers = pd.read_csv('../data/compdata.csv', index_col=False)"
   ]
  },
  {
   "cell_type": "code",
   "execution_count": 8,
   "metadata": {},
   "outputs": [],
   "source": [
    "import pickle\n",
    "docs = pickle.load(open('docs.pkl','rb'))"
   ]
  },
  {
   "cell_type": "code",
   "execution_count": 11,
   "metadata": {},
   "outputs": [],
   "source": [
    "import gensim\n",
    "def pre_process(docs):\n",
    "    for i in range(len(docs)):\n",
    "        yield gensim.models.doc2vec.TaggedDocument(docs[i], [i])\n",
    "        \n",
    "train_corpus = list(pre_process(docs))\n",
    "#test_corpus = list(read_corpus(lee_test_file, tokens_only=True))"
   ]
  },
  {
   "cell_type": "code",
   "execution_count": 3,
   "metadata": {},
   "outputs": [],
   "source": [
    "import gensim\n",
    "\n",
    "vector_size=50\n",
    "min_count=2\n",
    "epochs=40\n",
    "\n",
    "model = gensim.models.doc2vec.Doc2Vec(vector_size=vector_size, min_count=min_count, epochs=epochs)"
   ]
  },
  {
   "cell_type": "code",
   "execution_count": 13,
   "metadata": {},
   "outputs": [],
   "source": [
    "model.build_vocab(train_corpus)"
   ]
  },
  {
   "cell_type": "code",
   "execution_count": 15,
   "metadata": {},
   "outputs": [],
   "source": [
    "model.train(train_corpus, total_examples=model.corpus_count, epochs=model.epochs)"
   ]
  },
  {
   "cell_type": "code",
   "execution_count": 16,
   "metadata": {},
   "outputs": [
    {
     "name": "stdout",
     "output_type": "stream",
     "text": [
      "['ultra', 'low', 'dose', 'chest', 'ct', 'imaging', 'of', 'covid', 'patient', 'using', 'deep', 'residual', 'neural', 'network', 'objective', 'the', 'current', 'study', 'aimed', 'to', 'design', 'an', 'ultra', 'low', 'dose', 'ct', 'examination', 'protocol', 'using', 'deep', 'learning', 'approach', 'suitable', 'for', 'clinical', 'diagnosis', 'of', 'covid', 'patient', 'method', 'in', 'this', 'study', 'and', 'pair', 'of', 'ultra', 'low', 'dose', 'and', 'full', 'dose', 'ct', 'image', 'were', 'used', 'a', 'input', 'output', 'a', 'training', 'test', 'and', 'external', 'validation', 'set', 'respectively', 'to', 'implement', 'the', 'full', 'dose', 'prediction', 'technique', 'residual', 'convolutional', 'neural', 'network', 'wa', 'applied', 'to', 'generate', 'full', 'dose', 'from', 'ultra', 'low', 'dose', 'ct', 'image', 'the', 'quality', 'of', 'predicted', 'ct', 'image', 'wa', 'assessed', 'using', 'root', 'mean', 'square', 'error', 'rmse', 'structural', 'similarity', 'index', 'ssim', 'and', 'peak', 'signal', 'to', 'noise', 'ratio', 'psnr', 'score', 'ranging', 'from', 'to', 'were', 'assigned', 'reflecting', 'subjective', 'assessment', 'of', 'image', 'quality', 'and', 'related', 'covid', 'feature', 'including', 'ground', 'glass', 'opacity', 'ggo', 'crazy', 'paving', 'cp', 'consolidation', 'c', 'nodular', 'infiltrates', 'ni', 'bronchovascular', 'thickening', 'bvt', 'and', 'pleural', 'effusion', 'pe', 'conclusion', 'the', 'result', 'demonstrated', 'that', 'the', 'deep', 'learning', 'algorithm', 'is', 'capable', 'of', 'predicting', 'standard', 'full', 'dose', 'ct', 'image', 'with', 'acceptable', 'quality', 'for', 'the', 'clinical', 'diagnosis', 'of', 'covid', 'positive', 'patient', 'with', 'substantial', 'radiation', 'dose', 'reduction', 'key', 'point', 'ultra', 'low', 'dose', 'ct', 'imaging', 'of', 'covid', 'patient', 'would', 'result', 'in', 'the', 'loss', 'of', 'critical', 'information', 'about', 'lesion', 'type', 'which', 'could', 'potentially', 'affect', 'clinical', 'diagnosis', 'deep', 'learning', 'based', 'prediction', 'of', 'full', 'dose', 'from', 'ultra', 'low', 'dose', 'ct', 'image', 'for', 'the', 'diagnosis', 'of', 'covid', 'could', 'reduce', 'the', 'radiation', 'dose', 'by', 'up', 'to', 'deep', 'learning', 'algorithm', 'failed', 'to', 'recover', 'the', 'correct', 'lesion', 'structure', 'density', 'for', 'number', 'of', 'patient', 'considered', 'outlier', 'and', 'a', 'such', 'further', 'research', 'and', 'development', 'is', 'warranted', 'to', 'address', 'these', 'limitation', 'low_dose', 'chest_ct', 'neural_network', 'study_aimed', 'low_dose', 'ct_examination', 'deep_learning', 'this_study', 'low_dose', 'ct_image', 'convolutional_neural', 'low_dose', 'ct_image', 'ct_image', 'root_mean', 'ranging_from', 'ground_glass', 'opacity_ggo', 'crazy_paving', 'pleural_effusion', 'deep_learning', 'ct_image', 'low_dose', 'ct_imaging', 'information_about', 'deep_learning', 'low_dose', 'ct_image', 'deep_learning']\n",
      "[ 1.2498009   3.0097978  -1.9721086   1.7316617   0.1253911   2.6177187\n",
      " -0.87581605 -0.13166532 -3.6118124   0.31350014 -2.1563134  -0.96278554\n",
      " -1.3668163  -1.1090814   0.27346835 -0.66255784 -2.0968542  -1.2065964\n",
      " -0.13406117 -1.7094071  -0.918505    0.95678115 -0.97243726  0.57327294\n",
      "  0.53635    -0.9632219   0.98024136  0.58068824  0.38003004 -0.7484162\n",
      "  1.0646479  -1.0145541  -0.37137142 -1.5106194   1.3500986  -3.3545105\n",
      "  0.54928124 -0.8894595  -1.1371161   0.08365978  1.0637584  -3.520611\n",
      "  0.46160796  2.6147678  -0.89348716  3.1519961  -1.9559219  -0.21743335\n",
      " -0.41245508  1.7281677 ]\n"
     ]
    }
   ],
   "source": [
    "print(docs[0])\n",
    "print(model.infer_vector(docs[0]))"
   ]
  },
  {
   "cell_type": "code",
   "execution_count": 17,
   "metadata": {},
   "outputs": [],
   "source": [
    "ranks = []\n",
    "second_ranks = []\n",
    "for doc_id in range(len(train_corpus)):\n",
    "    inferred_vector = model.infer_vector(train_corpus[doc_id].words)\n",
    "    sims = model.docvecs.most_similar([inferred_vector], topn=len(model.docvecs))\n",
    "    rank = [docid for docid, sim in sims].index(doc_id)\n",
    "    ranks.append(rank)\n",
    "\n",
    "    second_ranks.append(sims[1])"
   ]
  },
  {
   "cell_type": "code",
   "execution_count": 18,
   "metadata": {},
   "outputs": [
    {
     "name": "stdout",
     "output_type": "stream",
     "text": [
      "Counter({0: 4642, 1: 170, 2: 9, 21: 3, 17: 3, 3: 3, 26: 2, 11: 2, 19: 2, 4: 2, 8: 2, 27: 2, 14: 1, 29: 1, 16: 1, 9: 1, 15: 1, 12: 1, 18: 1, 24: 1})\n"
     ]
    }
   ],
   "source": [
    "import collections\n",
    "\n",
    "counter = collections.Counter(ranks)\n",
    "print(counter)"
   ]
  },
  {
   "cell_type": "code",
   "execution_count": 21,
   "metadata": {},
   "outputs": [],
   "source": [
    "doc2vec_features = list(map(lambda doc:model.infer_vector(doc), docs))"
   ]
  },
  {
   "cell_type": "code",
   "execution_count": 22,
   "metadata": {},
   "outputs": [
    {
     "data": {
      "text/html": [
       "<div>\n",
       "<style scoped>\n",
       "    .dataframe tbody tr th:only-of-type {\n",
       "        vertical-align: middle;\n",
       "    }\n",
       "\n",
       "    .dataframe tbody tr th {\n",
       "        vertical-align: top;\n",
       "    }\n",
       "\n",
       "    .dataframe thead th {\n",
       "        text-align: right;\n",
       "    }\n",
       "</style>\n",
       "<table border=\"1\" class=\"dataframe\">\n",
       "  <thead>\n",
       "    <tr style=\"text-align: right;\">\n",
       "      <th></th>\n",
       "      <th>0</th>\n",
       "      <th>1</th>\n",
       "      <th>2</th>\n",
       "      <th>3</th>\n",
       "      <th>4</th>\n",
       "      <th>5</th>\n",
       "      <th>6</th>\n",
       "      <th>7</th>\n",
       "      <th>8</th>\n",
       "      <th>9</th>\n",
       "      <th>...</th>\n",
       "      <th>40</th>\n",
       "      <th>41</th>\n",
       "      <th>42</th>\n",
       "      <th>43</th>\n",
       "      <th>44</th>\n",
       "      <th>45</th>\n",
       "      <th>46</th>\n",
       "      <th>47</th>\n",
       "      <th>48</th>\n",
       "      <th>49</th>\n",
       "    </tr>\n",
       "  </thead>\n",
       "  <tbody>\n",
       "    <tr>\n",
       "      <th>0</th>\n",
       "      <td>1.066198</td>\n",
       "      <td>2.627462</td>\n",
       "      <td>-1.537735</td>\n",
       "      <td>1.404460</td>\n",
       "      <td>0.194560</td>\n",
       "      <td>2.851519</td>\n",
       "      <td>-0.637650</td>\n",
       "      <td>-0.100539</td>\n",
       "      <td>-3.514045</td>\n",
       "      <td>0.314960</td>\n",
       "      <td>...</td>\n",
       "      <td>0.909871</td>\n",
       "      <td>-3.819520</td>\n",
       "      <td>0.308108</td>\n",
       "      <td>2.138672</td>\n",
       "      <td>-0.987414</td>\n",
       "      <td>2.999593</td>\n",
       "      <td>-1.914628</td>\n",
       "      <td>-0.104925</td>\n",
       "      <td>-0.266315</td>\n",
       "      <td>1.605660</td>\n",
       "    </tr>\n",
       "    <tr>\n",
       "      <th>1</th>\n",
       "      <td>0.318015</td>\n",
       "      <td>-0.330552</td>\n",
       "      <td>1.160626</td>\n",
       "      <td>-0.560926</td>\n",
       "      <td>0.441352</td>\n",
       "      <td>0.469137</td>\n",
       "      <td>-1.034653</td>\n",
       "      <td>0.292706</td>\n",
       "      <td>-1.007231</td>\n",
       "      <td>-1.126706</td>\n",
       "      <td>...</td>\n",
       "      <td>0.415239</td>\n",
       "      <td>-0.349544</td>\n",
       "      <td>-0.624564</td>\n",
       "      <td>0.199876</td>\n",
       "      <td>0.058479</td>\n",
       "      <td>-0.329725</td>\n",
       "      <td>-0.482396</td>\n",
       "      <td>-0.220430</td>\n",
       "      <td>0.209056</td>\n",
       "      <td>0.992586</td>\n",
       "    </tr>\n",
       "    <tr>\n",
       "      <th>2</th>\n",
       "      <td>0.290300</td>\n",
       "      <td>0.034994</td>\n",
       "      <td>0.768870</td>\n",
       "      <td>-0.226369</td>\n",
       "      <td>0.817466</td>\n",
       "      <td>0.582384</td>\n",
       "      <td>-0.347703</td>\n",
       "      <td>-0.298323</td>\n",
       "      <td>-0.107161</td>\n",
       "      <td>0.078591</td>\n",
       "      <td>...</td>\n",
       "      <td>0.160286</td>\n",
       "      <td>-0.404879</td>\n",
       "      <td>-0.073932</td>\n",
       "      <td>0.706106</td>\n",
       "      <td>0.211350</td>\n",
       "      <td>-0.259706</td>\n",
       "      <td>-0.145592</td>\n",
       "      <td>-0.801391</td>\n",
       "      <td>-0.248222</td>\n",
       "      <td>0.226489</td>\n",
       "    </tr>\n",
       "    <tr>\n",
       "      <th>3</th>\n",
       "      <td>1.157747</td>\n",
       "      <td>0.522914</td>\n",
       "      <td>0.997078</td>\n",
       "      <td>1.510517</td>\n",
       "      <td>1.003571</td>\n",
       "      <td>1.830417</td>\n",
       "      <td>0.106267</td>\n",
       "      <td>-0.893982</td>\n",
       "      <td>0.611680</td>\n",
       "      <td>-0.125396</td>\n",
       "      <td>...</td>\n",
       "      <td>-0.529408</td>\n",
       "      <td>-0.040174</td>\n",
       "      <td>0.053739</td>\n",
       "      <td>-1.159120</td>\n",
       "      <td>0.341506</td>\n",
       "      <td>1.482742</td>\n",
       "      <td>-1.199329</td>\n",
       "      <td>-2.080115</td>\n",
       "      <td>0.287168</td>\n",
       "      <td>-1.095033</td>\n",
       "    </tr>\n",
       "    <tr>\n",
       "      <th>4</th>\n",
       "      <td>1.579470</td>\n",
       "      <td>0.173526</td>\n",
       "      <td>1.653060</td>\n",
       "      <td>0.309811</td>\n",
       "      <td>0.649479</td>\n",
       "      <td>0.105445</td>\n",
       "      <td>0.258511</td>\n",
       "      <td>1.166046</td>\n",
       "      <td>0.061761</td>\n",
       "      <td>0.335103</td>\n",
       "      <td>...</td>\n",
       "      <td>-0.829675</td>\n",
       "      <td>-0.927632</td>\n",
       "      <td>-0.056609</td>\n",
       "      <td>1.311648</td>\n",
       "      <td>0.458222</td>\n",
       "      <td>-1.794406</td>\n",
       "      <td>-0.293704</td>\n",
       "      <td>-3.106740</td>\n",
       "      <td>0.996262</td>\n",
       "      <td>0.631240</td>\n",
       "    </tr>\n",
       "  </tbody>\n",
       "</table>\n",
       "<p>5 rows × 50 columns</p>\n",
       "</div>"
      ],
      "text/plain": [
       "         0         1         2         3         4         5         6   \\\n",
       "0  1.066198  2.627462 -1.537735  1.404460  0.194560  2.851519 -0.637650   \n",
       "1  0.318015 -0.330552  1.160626 -0.560926  0.441352  0.469137 -1.034653   \n",
       "2  0.290300  0.034994  0.768870 -0.226369  0.817466  0.582384 -0.347703   \n",
       "3  1.157747  0.522914  0.997078  1.510517  1.003571  1.830417  0.106267   \n",
       "4  1.579470  0.173526  1.653060  0.309811  0.649479  0.105445  0.258511   \n",
       "\n",
       "         7         8         9   ...        40        41        42        43  \\\n",
       "0 -0.100539 -3.514045  0.314960  ...  0.909871 -3.819520  0.308108  2.138672   \n",
       "1  0.292706 -1.007231 -1.126706  ...  0.415239 -0.349544 -0.624564  0.199876   \n",
       "2 -0.298323 -0.107161  0.078591  ...  0.160286 -0.404879 -0.073932  0.706106   \n",
       "3 -0.893982  0.611680 -0.125396  ... -0.529408 -0.040174  0.053739 -1.159120   \n",
       "4  1.166046  0.061761  0.335103  ... -0.829675 -0.927632 -0.056609  1.311648   \n",
       "\n",
       "         44        45        46        47        48        49  \n",
       "0 -0.987414  2.999593 -1.914628 -0.104925 -0.266315  1.605660  \n",
       "1  0.058479 -0.329725 -0.482396 -0.220430  0.209056  0.992586  \n",
       "2  0.211350 -0.259706 -0.145592 -0.801391 -0.248222  0.226489  \n",
       "3  0.341506  1.482742 -1.199329 -2.080115  0.287168 -1.095033  \n",
       "4  0.458222 -1.794406 -0.293704 -3.106740  0.996262  0.631240  \n",
       "\n",
       "[5 rows x 50 columns]"
      ]
     },
     "execution_count": 22,
     "metadata": {},
     "output_type": "execute_result"
    }
   ],
   "source": [
    "pd_doc2vec_features = pd.DataFrame(doc2vec_features)\n",
    "pd_doc2vec_features.head()"
   ]
  },
  {
   "cell_type": "code",
   "execution_count": 23,
   "metadata": {},
   "outputs": [],
   "source": [
    "papers['date'] =pd.to_datetime(papers['date']).astype(int)/1000000000000"
   ]
  },
  {
   "cell_type": "code",
   "execution_count": 24,
   "metadata": {},
   "outputs": [],
   "source": [
    "X = pd.merge(pd_doc2vec_features, papers[['date','nauthors']], left_index=True, right_index=True)"
   ]
  },
  {
   "cell_type": "code",
   "execution_count": 25,
   "metadata": {},
   "outputs": [],
   "source": [
    "y = pd.merge(pd.notnull(papers.published), papers.collection=='pubmed', left_index=True, right_index=True).any(axis=1)"
   ]
  },
  {
   "cell_type": "code",
   "execution_count": 26,
   "metadata": {},
   "outputs": [
    {
     "data": {
      "text/plain": [
       "True     2775\n",
       "False    2075\n",
       "dtype: int64"
      ]
     },
     "execution_count": 26,
     "metadata": {},
     "output_type": "execute_result"
    }
   ],
   "source": [
    "y.value_counts()"
   ]
  },
  {
   "cell_type": "code",
   "execution_count": 28,
   "metadata": {},
   "outputs": [],
   "source": [
    "import xgboost as xgb\n",
    "from sklearn.model_selection import train_test_split\n",
    "\n",
    "X_train, X_test, y_train, y_test = train_test_split(X, y, test_size=0.2, random_state=123)"
   ]
  },
  {
   "cell_type": "code",
   "execution_count": 29,
   "metadata": {},
   "outputs": [
    {
     "name": "stdout",
     "output_type": "stream",
     "text": [
      "[09:39:31] WARNING: src/objective/regression_obj.cu:152: reg:linear is now deprecated in favor of reg:squarederror.\n"
     ]
    },
    {
     "data": {
      "text/plain": [
       "XGBRegressor(alpha=10, colsample_bytree=0.3, max_depth=5, n_estimators=10)"
      ]
     },
     "execution_count": 29,
     "metadata": {},
     "output_type": "execute_result"
    }
   ],
   "source": [
    "xg_reg = xgb.XGBRegressor(objective ='reg:linear', colsample_bytree = 0.3, learning_rate = 0.1,\n",
    "                max_depth = 5, alpha = 10, n_estimators = 10)\n",
    "\n",
    "xg_reg.fit(X_train,y_train)"
   ]
  },
  {
   "cell_type": "code",
   "execution_count": 30,
   "metadata": {},
   "outputs": [],
   "source": [
    "preds = xg_reg.predict(X_test)"
   ]
  },
  {
   "cell_type": "code",
   "execution_count": 38,
   "metadata": {},
   "outputs": [
    {
     "data": {
      "image/png": "[encoded data removed]",
      "text/plain": [
       "<Figure size 720x720 with 1 Axes>"
      ]
     },
     "metadata": {
      "needs_background": "light"
     },
     "output_type": "display_data"
    },
    {
     "name": "stdout",
     "output_type": "stream",
     "text": [
      "AUC is :0.8235730235154559\n"
     ]
    },
    {
     "data": {
      "text/plain": [
       "<Figure size 720x720 with 0 Axes>"
      ]
     },
     "metadata": {},
     "output_type": "display_data"
    }
   ],
   "source": [
    "import matplotlib.pyplot as plt\n",
    "from sklearn.metrics import roc_curve, auc\n",
    "\n",
    "fpr_rt_lm, tpr_rt_lm, _ = roc_curve(y_test, preds)\n",
    "\n",
    "plt.figure()\n",
    "plt.plot([0, 1], [0, 1], 'k--')\n",
    "plt.plot(fpr_rt_lm, tpr_rt_lm, label='Doc2Vec + RF')\n",
    "plt.xlabel('False positive rate')\n",
    "plt.ylabel('True positive rate')\n",
    "plt.title('ROC curve')\n",
    "plt.legend(loc='best')\n",
    "fig1 = plt.gcf()\n",
    "plt.show()\n",
    "plt.draw()\n",
    "#fig1.savefig('doc2vec_rt_roc.png', dpi=100)\n",
    "\n",
    "print(\"AUC is :\" + str(auc(fpr_rt_lm, tpr_rt_lm)))"
   ]
  },
  {
   "cell_type": "code",
   "execution_count": 39,
   "metadata": {},
   "outputs": [
    {
     "data": {
      "text/plain": [
       "<Figure size 720x720 with 0 Axes>"
      ]
     },
     "metadata": {},
     "output_type": "display_data"
    },
    {
     "data": {
      "image/png": "[encoded data removed]",
      "text/plain": [
       "<Figure size 720x720 with 1 Axes>"
      ]
     },
     "metadata": {
      "needs_background": "light"
     },
     "output_type": "display_data"
    },
    {
     "data": {
      "text/plain": [
       "<Figure size 720x720 with 0 Axes>"
      ]
     },
     "metadata": {},
     "output_type": "display_data"
    }
   ],
   "source": [
    "plt.figure()\n",
    "xgb.plot_importance(xg_reg)\n",
    "plt.rcParams['figure.figsize'] = [10, 10]\n",
    "fig2 = plt.gcf()\n",
    "plt.show()\n",
    "plt.draw()\n",
    "#fig2.savefig('new_data_feature_importance.png', dpi=100)"
   ]
  },
  {
   "cell_type": "code",
   "execution_count": null,
   "metadata": {},
   "outputs": [],
   "source": []
  }
 ],
 "metadata": {
  "kernelspec": {
   "display_name": "Python 3",
   "language": "python",
   "name": "python3"
  },
  "language_info": {
   "codemirror_mode": {
    "name": "ipython",
    "version": 3
   },
   "file_extension": ".py",
   "mimetype": "text/x-python",
   "name": "python",
   "nbconvert_exporter": "python",
   "pygments_lexer": "ipython3",
   "version": "3.7.9"
  }
 },
 "nbformat": 4,
 "nbformat_minor": 4
}
