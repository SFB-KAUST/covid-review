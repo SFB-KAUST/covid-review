{
 "cells": [
  {
   "cell_type": "markdown",
   "metadata": {},
   "source": [
    "# Graph Mining\n",
    "## Graph Extraction\n",
    "Extract the citations graph and author -> paper graph"
   ]
  },
  {
   "cell_type": "code",
   "execution_count": 38,
   "metadata": {},
   "outputs": [],
   "source": [
    "import pandas as pd\n",
    "df_compdata_ref_auth = pd.read_csv('../data/compdata_ref_author.csv')"
   ]
  },
  {
   "cell_type": "code",
   "execution_count": 39,
   "metadata": {},
   "outputs": [
    {
     "data": {
      "text/html": [
       "<div>\n",
       "<style scoped>\n",
       "    .dataframe tbody tr th:only-of-type {\n",
       "        vertical-align: middle;\n",
       "    }\n",
       "\n",
       "    .dataframe tbody tr th {\n",
       "        vertical-align: top;\n",
       "    }\n",
       "\n",
       "    .dataframe thead th {\n",
       "        text-align: right;\n",
       "    }\n",
       "</style>\n",
       "<table border=\"1\" class=\"dataframe\">\n",
       "  <thead>\n",
       "    <tr style=\"text-align: right;\">\n",
       "      <th></th>\n",
       "      <th>Unnamed: 0</th>\n",
       "      <th>title</th>\n",
       "      <th>abstract</th>\n",
       "      <th>journal</th>\n",
       "      <th>DOI</th>\n",
       "      <th>date</th>\n",
       "      <th>collection</th>\n",
       "      <th>published</th>\n",
       "      <th>nauthors</th>\n",
       "      <th>topic.Healthcare</th>\n",
       "      <th>...</th>\n",
       "      <th>numcit</th>\n",
       "      <th>influcit</th>\n",
       "      <th>DL_Pdf</th>\n",
       "      <th>DL_Full</th>\n",
       "      <th>DL_Abstract</th>\n",
       "      <th>ref</th>\n",
       "      <th>authorsId</th>\n",
       "      <th>authorsNames</th>\n",
       "      <th>p_doi</th>\n",
       "      <th>p_journal</th>\n",
       "    </tr>\n",
       "  </thead>\n",
       "  <tbody>\n",
       "    <tr>\n",
       "      <th>0</th>\n",
       "      <td>22</td>\n",
       "      <td>Multivariate analysis of CT imaging, laborator...</td>\n",
       "      <td>PURPOSE: To develop and externally validate a ...</td>\n",
       "      <td>Abdom Radiol (NY)</td>\n",
       "      <td>33098478</td>\n",
       "      <td>2020-10-25</td>\n",
       "      <td>pubmed</td>\n",
       "      <td>NaN</td>\n",
       "      <td>6</td>\n",
       "      <td>0.000988</td>\n",
       "      <td>...</td>\n",
       "      <td>0</td>\n",
       "      <td>0</td>\n",
       "      <td>NaN</td>\n",
       "      <td>NaN</td>\n",
       "      <td>NaN</td>\n",
       "      <td>10.5152/TJAR.2014.83436, 10.1159/000509274, 10...</td>\n",
       "      <td>4593769, 2001055410, 2001050867, 16053632, 144...</td>\n",
       "      <td>S. Hectors, Sadjad Riyahi, Hreedi Dev, K. Kris...</td>\n",
       "      <td>10.1007/s00261-020-02823-w</td>\n",
       "      <td>Abdominal Radiology</td>\n",
       "    </tr>\n",
       "  </tbody>\n",
       "</table>\n",
       "<p>1 rows × 26 columns</p>\n",
       "</div>"
      ],
      "text/plain": [
       "   Unnamed: 0                                              title  \\\n",
       "0          22  Multivariate analysis of CT imaging, laborator...   \n",
       "\n",
       "                                            abstract            journal  \\\n",
       "0  PURPOSE: To develop and externally validate a ...  Abdom Radiol (NY)   \n",
       "\n",
       "        DOI        date collection published  nauthors  topic.Healthcare  ...  \\\n",
       "0  33098478  2020-10-25     pubmed       NaN         6          0.000988  ...   \n",
       "\n",
       "   numcit  influcit  DL_Pdf  DL_Full  DL_Abstract  \\\n",
       "0       0         0     NaN      NaN          NaN   \n",
       "\n",
       "                                                 ref  \\\n",
       "0  10.5152/TJAR.2014.83436, 10.1159/000509274, 10...   \n",
       "\n",
       "                                           authorsId  \\\n",
       "0  4593769, 2001055410, 2001050867, 16053632, 144...   \n",
       "\n",
       "                                        authorsNames  \\\n",
       "0  S. Hectors, Sadjad Riyahi, Hreedi Dev, K. Kris...   \n",
       "\n",
       "                        p_doi            p_journal  \n",
       "0  10.1007/s00261-020-02823-w  Abdominal Radiology  \n",
       "\n",
       "[1 rows x 26 columns]"
      ]
     },
     "execution_count": 39,
     "metadata": {},
     "output_type": "execute_result"
    }
   ],
   "source": [
    "df_compdata_ref_auth.head(1)"
   ]
  },
  {
   "cell_type": "code",
   "execution_count": 40,
   "metadata": {},
   "outputs": [
    {
     "data": {
      "text/plain": [
       "('10.1007/s00261-020-02823-w', '10.1159/000509274')"
      ]
     },
     "execution_count": 40,
     "metadata": {},
     "output_type": "execute_result"
    }
   ],
   "source": [
    "# Generate edge_list\n",
    "import numpy as np\n",
    "# get reference dict\n",
    "doi2ref = dict()\n",
    "for idx in df_compdata_ref_auth.index:\n",
    "    doi2ref[df_compdata_ref_auth['p_doi'].loc[idx]] = df_compdata_ref_auth['ref'].loc[idx]\n",
    "\n",
    "# get edge_list and write to file\n",
    "edge_list = list()\n",
    "f = open(\"doi_links.csv\", \"w\")\n",
    "for k in doi2ref.keys():\n",
    "    if type(doi2ref[k]) is float : ## handle nan values\n",
    "        continue\n",
    "    \n",
    "    for val in doi2ref[k].split(', '):\n",
    "        if val =='NA': # ignore NA values of papers\n",
    "            continue\n",
    "        print(k + ',' + val, file=f)\n",
    "        edge_list.append((k, val))\n",
    "    \n",
    "f.close()\n",
    "\n",
    "edge_list[1]"
   ]
  },
  {
   "cell_type": "markdown",
   "metadata": {},
   "source": [
    "## PageRank using directed graph"
   ]
  },
  {
   "cell_type": "code",
   "execution_count": 41,
   "metadata": {},
   "outputs": [],
   "source": [
    "import networkx as nx\n",
    "\n",
    "G = nx.DiGraph()\n",
    "G.add_edges_from(edge_list)"
   ]
  },
  {
   "cell_type": "code",
   "execution_count": 5,
   "metadata": {},
   "outputs": [],
   "source": [
    "import matplotlib.pylab as plt\n",
    "\n",
    "#plt.figure()\n",
    "#plt.rcParams['figure.figsize'] = [10, 10]\n",
    "\n",
    "#pos = nx.spring_layout(G)\n",
    "#nx.draw_networkx_nodes(G, pos)\n",
    "#nx.draw_networkx_edges(G, pos, edgelist=edge_list, arrows=True)\n",
    "\n",
    "#plt.show()"
   ]
  },
  {
   "cell_type": "code",
   "execution_count": 5,
   "metadata": {},
   "outputs": [],
   "source": [
    "import networkx as nx \n",
    "pr=nx.pagerank(G,0.9) "
   ]
  },
  {
   "cell_type": "code",
   "execution_count": 6,
   "metadata": {},
   "outputs": [],
   "source": [
    "prob = list()\n",
    "for idx in df_compdata_ref_auth.index:\n",
    "    if df_compdata_ref_auth['p_doi'].loc[idx] in pr.keys():\n",
    "        prob.append(pr[df_compdata_ref_auth['p_doi'].loc[idx]])\n",
    "    else:\n",
    "        prob.append(0)"
   ]
  },
  {
   "cell_type": "code",
   "execution_count": 7,
   "metadata": {},
   "outputs": [
    {
     "data": {
      "text/plain": [
       "5758"
      ]
     },
     "execution_count": 7,
     "metadata": {},
     "output_type": "execute_result"
    }
   ],
   "source": [
    "len(prob)"
   ]
  },
  {
   "cell_type": "code",
   "execution_count": 8,
   "metadata": {},
   "outputs": [],
   "source": [
    "df_compdata_ref_auth['pgrank'] = pd.Series(prob)"
   ]
  },
  {
   "cell_type": "code",
   "execution_count": 9,
   "metadata": {},
   "outputs": [
    {
     "data": {
      "text/plain": [
       "count    5758.000000\n",
       "mean        0.000012\n",
       "std         0.000006\n",
       "min         0.000000\n",
       "25%         0.000014\n",
       "50%         0.000014\n",
       "75%         0.000014\n",
       "max         0.000055\n",
       "Name: pgrank, dtype: float64"
      ]
     },
     "execution_count": 9,
     "metadata": {},
     "output_type": "execute_result"
    }
   ],
   "source": [
    "df_compdata_ref_auth['pgrank'].describe()"
   ]
  },
  {
   "cell_type": "code",
   "execution_count": 10,
   "metadata": {},
   "outputs": [],
   "source": [
    "df_compdata_ref_auth.to_csv('compdata_ref_auth_pgrank.csv')"
   ]
  },
  {
   "cell_type": "code",
   "execution_count": 22,
   "metadata": {},
   "outputs": [],
   "source": [
    "df_emb = pd.read_csv('graph_embedding.csv', index_col=False)"
   ]
  },
  {
   "cell_type": "markdown",
   "metadata": {},
   "source": [
    "## Load other features and targets"
   ]
  },
  {
   "cell_type": "code",
   "execution_count": 15,
   "metadata": {},
   "outputs": [
    {
     "data": {
      "text/plain": [
       "5686"
      ]
     },
     "execution_count": 15,
     "metadata": {},
     "output_type": "execute_result"
    }
   ],
   "source": [
    "import pandas as pd\n",
    "X = pd.read_csv('../data/lda_doc2vec_fts.csv', index_col=False)\n",
    "y = pd.read_csv('../data/lda_doc2vec_targs.csv', index_col=False)\n",
    "X = X.drop(X.columns[0], axis=1)\n",
    "y = y.drop(y.columns[0], axis=1)\n",
    "\n",
    "#X = X.apply (pd.to_numeric, errors='coerce')\n",
    "X = X.fillna(0)\n",
    "len(X)"
   ]
  },
  {
   "cell_type": "code",
   "execution_count": 16,
   "metadata": {},
   "outputs": [
    {
     "data": {
      "text/plain": [
       "Index(['title', 'abstract', 'journal', 'DOI', 'date', 'collection',\n",
       "       'published', 'nauthors', 'topic.Healthcare', 'topic.Drug discovery',\n",
       "       'topic.Epidemiology', 'topic.Clinics', 'topic.Chest X-Ray',\n",
       "       'topic.Genomics', 'topic', 'numcit', 'influcit', 'DL_Pdf', 'DL_Full',\n",
       "       'DL_Abstract', 'cit', 'cit_velocity', 'influential_cit', 'sum.npapers',\n",
       "       'sum.infCit', 'mean.npapers', 'mean.infCit', 'max.npapers',\n",
       "       'max.infCit', 'Topic 1', 'Topic 2', 'Topic 3', 'Topic 4', 'Topic 5',\n",
       "       'Topic 6', '0', '1', '2', '3', '4', '5', '6', '7', '8', '9', '10', '11',\n",
       "       '12', '13', '14', '15', '16', '17', '18', '19', '20', '21', '22', '23',\n",
       "       '24', '25', '26', '27', '28', '29', '30', '31', '32', '33', '34', '35',\n",
       "       '36', '37', '38', '39', '40', '41', '42', '43', '44', '45', '46', '47',\n",
       "       '48', '49', 'pubmed', 'medrxiv', 'arxiv', 'biorxiv'],\n",
       "      dtype='object')"
      ]
     },
     "execution_count": 16,
     "metadata": {},
     "output_type": "execute_result"
    }
   ],
   "source": [
    "X.columns"
   ]
  },
  {
   "cell_type": "code",
   "execution_count": 17,
   "metadata": {},
   "outputs": [
    {
     "data": {
      "text/plain": [
       "0    \n",
       "True     3329\n",
       "False    2357\n",
       "dtype: int64"
      ]
     },
     "execution_count": 17,
     "metadata": {},
     "output_type": "execute_result"
    }
   ],
   "source": [
    "y.value_counts()"
   ]
  },
  {
   "cell_type": "code",
   "execution_count": 18,
   "metadata": {},
   "outputs": [],
   "source": [
    "import pandas as pd\n",
    "\n",
    "pgrank = pd.read_csv('compdata_ref_auth_pgrank.csv', index_col=False)\n",
    "pgrank_redup = pd.DataFrame(pgrank.drop_duplicates(subset=['title'])['pgrank'].tolist(), columns=['pgrank'])"
   ]
  },
  {
   "cell_type": "code",
   "execution_count": 23,
   "metadata": {},
   "outputs": [
    {
     "data": {
      "text/plain": [
       "5686"
      ]
     },
     "execution_count": 23,
     "metadata": {},
     "output_type": "execute_result"
    }
   ],
   "source": [
    "X = pd.concat([X, df_emb,pgrank_redup], axis=1)\n",
    "len(X)"
   ]
  },
  {
   "cell_type": "markdown",
   "metadata": {},
   "source": [
    "# Predict impact_factors"
   ]
  },
  {
   "cell_type": "code",
   "execution_count": 529,
   "metadata": {},
   "outputs": [],
   "source": [
    "import pandas as pd\n",
    "\n",
    "X_csv = pd.read_csv('../data/lda_doc2vec_fts.csv', index_col=False)\n",
    "impact_f = pd.read_csv('impact_f.csv', index_col=False)"
   ]
  },
  {
   "cell_type": "code",
   "execution_count": 530,
   "metadata": {},
   "outputs": [
    {
     "data": {
      "text/plain": [
       "Index(['Unnamed: 0', 'title', 'abstract', 'journal', 'DOI', 'date',\n",
       "       'collection', 'published', 'nauthors', 'topic.Healthcare',\n",
       "       'topic.Drug discovery', 'topic.Epidemiology', 'topic.Clinics',\n",
       "       'topic.Chest X-Ray', 'topic.Genomics', 'topic', 'numcit', 'influcit',\n",
       "       'DL_Pdf', 'DL_Full', 'DL_Abstract', 'cit', 'cit_velocity',\n",
       "       'influential_cit', 'sum.npapers', 'sum.infCit', 'mean.npapers',\n",
       "       'mean.infCit', 'max.npapers', 'max.infCit', 'Topic 1', 'Topic 2',\n",
       "       'Topic 3', 'Topic 4', 'Topic 5', 'Topic 6', '0', '1', '2', '3', '4',\n",
       "       '5', '6', '7', '8', '9', '10', '11', '12', '13', '14', '15', '16', '17',\n",
       "       '18', '19', '20', '21', '22', '23', '24', '25', '26', '27', '28', '29',\n",
       "       '30', '31', '32', '33', '34', '35', '36', '37', '38', '39', '40', '41',\n",
       "       '42', '43', '44', '45', '46', '47', '48', '49', 'pubmed', 'medrxiv',\n",
       "       'arxiv', 'biorxiv'],\n",
       "      dtype='object')"
      ]
     },
     "execution_count": 530,
     "metadata": {},
     "output_type": "execute_result"
    }
   ],
   "source": [
    "X_csv.columns"
   ]
  },
  {
   "cell_type": "code",
   "execution_count": 531,
   "metadata": {},
   "outputs": [],
   "source": [
    "X = pd.concat([X_csv, df_emb, impact_f['impact_f']], axis=1)"
   ]
  },
  {
   "cell_type": "code",
   "execution_count": 532,
   "metadata": {},
   "outputs": [],
   "source": [
    "X_toprint['impact_f'] = X['impact_f']"
   ]
  },
  {
   "cell_type": "code",
   "execution_count": 533,
   "metadata": {},
   "outputs": [],
   "source": [
    "X_truth = X[X['impact_f'].notnull()]\n",
    "X_pred = X[~X['impact_f'].notnull()]"
   ]
  },
  {
   "cell_type": "code",
   "execution_count": 534,
   "metadata": {},
   "outputs": [],
   "source": [
    "F_LDA = ['topic.Healthcare', 'topic.Drug discovery', 'topic.Epidemiology', 'topic.Clinics', 'topic.Chest X-Ray', 'topic.Genomics']\n",
    "F_nauth = ['nauthors']\n",
    "F_Doc2Vec =['0', '1', '2', '3', '4', '5', '6', '7', '8', '9', '10', '11', '12',\n",
    "       '13', '14', '15', '16', '17', '18', '19', '20', '21', '22', '23', '24',\n",
    "       '25', '26', '27', '28', '29', '30', '31', '32', '33', '34', '35', '36',\n",
    "       '37', '38', '39', '40', '41', '42', '43', '44', '45', '46', '47', '48',\n",
    "       '49']\n",
    "F_gem = [ 'em ' + str(i+1) for i in range(128)]"
   ]
  },
  {
   "cell_type": "code",
   "execution_count": 535,
   "metadata": {},
   "outputs": [],
   "source": [
    "import xgboost as xgb\n",
    "from sklearn.model_selection import train_test_split\n",
    "\n",
    "X_train, X_test, y_train, y_test = train_test_split(X_truth, X_truth['impact_f'], test_size=0.2, random_state=123)"
   ]
  },
  {
   "cell_type": "code",
   "execution_count": 536,
   "metadata": {},
   "outputs": [],
   "source": [
    "from sklearn.metrics import roc_curve, auc    \n",
    "from sklearn.metrics import mean_absolute_error, mean_squared_error\n",
    "import matplotlib.pyplot as plt\n",
    "\n",
    "\n",
    "def XGBoost_Modeling(features):\n",
    "    xg_reg = xgb.XGBRegressor(objective='reg:linear', colsample_bytree = 0.3, learning_rate = 0.1,\n",
    "                max_depth = 5, alpha = 10, n_estimators = 10)\n",
    "\n",
    "    xg_reg.fit(X_train[features],y_train)\n",
    "\n",
    "    preds = xg_reg.predict(X_test[features])    \n",
    "    mae = mean_absolute_error(y_test, preds)\n",
    "    mse = mean_squared_error(y_test, preds)\n",
    "   \n",
    "    print(\"MAE is :\" + str(mae) + \", MSE is :\" + str(mse))\n",
    "    return mae"
   ]
  },
  {
   "cell_type": "code",
   "execution_count": 537,
   "metadata": {},
   "outputs": [
    {
     "name": "stdout",
     "output_type": "stream",
     "text": [
      "[18:25:24] WARNING: src/objective/regression_obj.cu:152: reg:linear is now deprecated in favor of reg:squarederror.\n",
      "MAE is :2.8971111730496903, MSE is :44.564620655825934\n",
      "[18:25:24] WARNING: src/objective/regression_obj.cu:152: reg:linear is now deprecated in favor of reg:squarederror.\n",
      "MAE is :2.9077391227250247, MSE is :44.099256057919696\n",
      "[18:25:24] WARNING: src/objective/regression_obj.cu:152: reg:linear is now deprecated in favor of reg:squarederror.\n",
      "MAE is :2.8969763275962515, MSE is :42.98810181814042\n",
      "[18:25:24] WARNING: src/objective/regression_obj.cu:152: reg:linear is now deprecated in favor of reg:squarederror.\n",
      "MAE is :2.964707311728566, MSE is :47.077451978866236\n"
     ]
    }
   ],
   "source": [
    "mae_xgboost_LDA = XGBoost_Modeling(F_LDA + F_nauth)\n",
    "mae_xgboost_Doc2Vec = XGBoost_Modeling(F_Doc2Vec + F_nauth)\n",
    "mae_xgboost__gem = XGBoost_Modeling(F_gem + F_nauth)\n",
    "#mae_xgboost_Doc2Vec_gem = XGBoost_Modeling(F_Doc2Vec_gem)\n",
    "mae_xgboost_Doc2Vec_gem_nauth_LDA = XGBoost_Modeling(F_Doc2Vec_gem_nauth_LDA)"
   ]
  },
  {
   "cell_type": "code",
   "execution_count": 538,
   "metadata": {},
   "outputs": [
    {
     "name": "stdout",
     "output_type": "stream",
     "text": [
      "[18:25:25] WARNING: src/objective/regression_obj.cu:152: reg:linear is now deprecated in favor of reg:squarederror.\n"
     ]
    },
    {
     "data": {
      "image/png": "[encoded data removed]",
      "text/plain": [
       "<Figure size 720x720 with 2 Axes>"
      ]
     },
     "metadata": {
      "needs_background": "light"
     },
     "output_type": "display_data"
    }
   ],
   "source": [
    "features = F_Doc2Vec_gem_nauth_LDA\n",
    "xg_reg = xgb.XGBRegressor(objective='reg:linear', colsample_bytree = 0.3, learning_rate = 0.1,\n",
    "                max_depth = 5, alpha = 10, n_estimators = 10)\n",
    "\n",
    "xg_reg.fit(X_train[features],y_train)\n",
    "\n",
    "colors = y_test\n",
    "preds = xg_reg.predict(X_test[features]) \n",
    "\n",
    "plt.scatter(y_test, preds, c=colors, alpha=0.3, cmap='viridis')\n",
    "plt.xlabel('True Value')\n",
    "plt.ylabel('Predicted Value')\n",
    "\n",
    "plt.plot(range(int(y_test.max(0))), range(int(y_test.max(0))), 'r:')\n",
    "\n",
    "# set axes range\n",
    "plt.xlim(0, y_test.max(0))\n",
    "plt.ylim(0, y_test.max(0))\n",
    "plt.colorbar();  # show color scale"
   ]
  },
  {
   "cell_type": "code",
   "execution_count": 539,
   "metadata": {},
   "outputs": [
    {
     "name": "stdout",
     "output_type": "stream",
     "text": [
      "[18:25:25] WARNING: src/objective/regression_obj.cu:152: reg:linear is now deprecated in favor of reg:squarederror.\n"
     ]
    }
   ],
   "source": [
    "features = F_LDA + F_Doc2Vec + F_gem\n",
    "xg_reg = xgb.XGBRegressor(objective='reg:linear', colsample_bytree = 0.3, learning_rate = 0.1,\n",
    "                max_depth = 5, alpha = 10, n_estimators = 10)\n",
    "xg_reg.fit(X_train[features],y_train)\n",
    "test_pred = xg_reg.predict(X[features])    "
   ]
  },
  {
   "cell_type": "code",
   "execution_count": 540,
   "metadata": {},
   "outputs": [],
   "source": [
    "X_toprint['pred_if'] = test_pred\n",
    "X_toprint.to_csv('Papers_pred_pubprob_if.csv')"
   ]
  },
  {
   "cell_type": "code",
   "execution_count": 541,
   "metadata": {},
   "outputs": [
    {
     "data": {
      "text/html": [
       "<div>\n",
       "<style scoped>\n",
       "    .dataframe tbody tr th:only-of-type {\n",
       "        vertical-align: middle;\n",
       "    }\n",
       "\n",
       "    .dataframe tbody tr th {\n",
       "        vertical-align: top;\n",
       "    }\n",
       "\n",
       "    .dataframe thead th {\n",
       "        text-align: right;\n",
       "    }\n",
       "</style>\n",
       "<table border=\"1\" class=\"dataframe\">\n",
       "  <thead>\n",
       "    <tr style=\"text-align: right;\">\n",
       "      <th></th>\n",
       "      <th>impact_f</th>\n",
       "      <th>pred_if</th>\n",
       "    </tr>\n",
       "  </thead>\n",
       "  <tbody>\n",
       "    <tr>\n",
       "      <th>0</th>\n",
       "      <td>2.429</td>\n",
       "      <td>4.644232</td>\n",
       "    </tr>\n",
       "    <tr>\n",
       "      <th>1</th>\n",
       "      <td>4.981</td>\n",
       "      <td>3.309205</td>\n",
       "    </tr>\n",
       "    <tr>\n",
       "      <th>2</th>\n",
       "      <td>6.551</td>\n",
       "      <td>3.432889</td>\n",
       "    </tr>\n",
       "    <tr>\n",
       "      <th>3</th>\n",
       "      <td>4.074</td>\n",
       "      <td>3.115140</td>\n",
       "    </tr>\n",
       "    <tr>\n",
       "      <th>4</th>\n",
       "      <td>4.986</td>\n",
       "      <td>2.999138</td>\n",
       "    </tr>\n",
       "    <tr>\n",
       "      <th>5</th>\n",
       "      <td>NaN</td>\n",
       "      <td>2.682000</td>\n",
       "    </tr>\n",
       "    <tr>\n",
       "      <th>6</th>\n",
       "      <td>2.190</td>\n",
       "      <td>2.879737</td>\n",
       "    </tr>\n",
       "    <tr>\n",
       "      <th>7</th>\n",
       "      <td>7.081</td>\n",
       "      <td>3.479312</td>\n",
       "    </tr>\n",
       "    <tr>\n",
       "      <th>8</th>\n",
       "      <td>2.490</td>\n",
       "      <td>2.865063</td>\n",
       "    </tr>\n",
       "    <tr>\n",
       "      <th>9</th>\n",
       "      <td>3.381</td>\n",
       "      <td>2.917404</td>\n",
       "    </tr>\n",
       "    <tr>\n",
       "      <th>10</th>\n",
       "      <td>NaN</td>\n",
       "      <td>4.578239</td>\n",
       "    </tr>\n",
       "    <tr>\n",
       "      <th>11</th>\n",
       "      <td>5.034</td>\n",
       "      <td>3.050741</td>\n",
       "    </tr>\n",
       "    <tr>\n",
       "      <th>12</th>\n",
       "      <td>4.074</td>\n",
       "      <td>2.682000</td>\n",
       "    </tr>\n",
       "    <tr>\n",
       "      <th>13</th>\n",
       "      <td>NaN</td>\n",
       "      <td>3.382085</td>\n",
       "    </tr>\n",
       "    <tr>\n",
       "      <th>14</th>\n",
       "      <td>0.456</td>\n",
       "      <td>3.115140</td>\n",
       "    </tr>\n",
       "    <tr>\n",
       "      <th>15</th>\n",
       "      <td>NaN</td>\n",
       "      <td>2.917404</td>\n",
       "    </tr>\n",
       "    <tr>\n",
       "      <th>16</th>\n",
       "      <td>3.303</td>\n",
       "      <td>2.999138</td>\n",
       "    </tr>\n",
       "    <tr>\n",
       "      <th>17</th>\n",
       "      <td>1.761</td>\n",
       "      <td>2.879737</td>\n",
       "    </tr>\n",
       "    <tr>\n",
       "      <th>18</th>\n",
       "      <td>5.129</td>\n",
       "      <td>3.796249</td>\n",
       "    </tr>\n",
       "    <tr>\n",
       "      <th>19</th>\n",
       "      <td>7.497</td>\n",
       "      <td>2.879737</td>\n",
       "    </tr>\n",
       "    <tr>\n",
       "      <th>20</th>\n",
       "      <td>4.986</td>\n",
       "      <td>3.115140</td>\n",
       "    </tr>\n",
       "    <tr>\n",
       "      <th>21</th>\n",
       "      <td>NaN</td>\n",
       "      <td>2.999138</td>\n",
       "    </tr>\n",
       "    <tr>\n",
       "      <th>22</th>\n",
       "      <td>2.379</td>\n",
       "      <td>3.021803</td>\n",
       "    </tr>\n",
       "    <tr>\n",
       "      <th>23</th>\n",
       "      <td>3.812</td>\n",
       "      <td>3.058837</td>\n",
       "    </tr>\n",
       "    <tr>\n",
       "      <th>24</th>\n",
       "      <td>2.896</td>\n",
       "      <td>2.960487</td>\n",
       "    </tr>\n",
       "    <tr>\n",
       "      <th>25</th>\n",
       "      <td>NaN</td>\n",
       "      <td>2.879737</td>\n",
       "    </tr>\n",
       "    <tr>\n",
       "      <th>26</th>\n",
       "      <td>1.552</td>\n",
       "      <td>2.917404</td>\n",
       "    </tr>\n",
       "    <tr>\n",
       "      <th>27</th>\n",
       "      <td>NaN</td>\n",
       "      <td>2.917404</td>\n",
       "    </tr>\n",
       "    <tr>\n",
       "      <th>28</th>\n",
       "      <td>7.931</td>\n",
       "      <td>2.879737</td>\n",
       "    </tr>\n",
       "    <tr>\n",
       "      <th>29</th>\n",
       "      <td>NaN</td>\n",
       "      <td>3.659241</td>\n",
       "    </tr>\n",
       "  </tbody>\n",
       "</table>\n",
       "</div>"
      ],
      "text/plain": [
       "    impact_f   pred_if\n",
       "0      2.429  4.644232\n",
       "1      4.981  3.309205\n",
       "2      6.551  3.432889\n",
       "3      4.074  3.115140\n",
       "4      4.986  2.999138\n",
       "5        NaN  2.682000\n",
       "6      2.190  2.879737\n",
       "7      7.081  3.479312\n",
       "8      2.490  2.865063\n",
       "9      3.381  2.917404\n",
       "10       NaN  4.578239\n",
       "11     5.034  3.050741\n",
       "12     4.074  2.682000\n",
       "13       NaN  3.382085\n",
       "14     0.456  3.115140\n",
       "15       NaN  2.917404\n",
       "16     3.303  2.999138\n",
       "17     1.761  2.879737\n",
       "18     5.129  3.796249\n",
       "19     7.497  2.879737\n",
       "20     4.986  3.115140\n",
       "21       NaN  2.999138\n",
       "22     2.379  3.021803\n",
       "23     3.812  3.058837\n",
       "24     2.896  2.960487\n",
       "25       NaN  2.879737\n",
       "26     1.552  2.917404\n",
       "27       NaN  2.917404\n",
       "28     7.931  2.879737\n",
       "29       NaN  3.659241"
      ]
     },
     "execution_count": 541,
     "metadata": {},
     "output_type": "execute_result"
    }
   ],
   "source": [
    "X['pred_if'] = test_pred\n",
    "X[['impact_f','pred_if']].head(30)"
   ]
  },
  {
   "cell_type": "code",
   "execution_count": 542,
   "metadata": {},
   "outputs": [
    {
     "data": {
      "text/html": [
       "<div>\n",
       "<style scoped>\n",
       "    .dataframe tbody tr th:only-of-type {\n",
       "        vertical-align: middle;\n",
       "    }\n",
       "\n",
       "    .dataframe tbody tr th {\n",
       "        vertical-align: top;\n",
       "    }\n",
       "\n",
       "    .dataframe thead th {\n",
       "        text-align: right;\n",
       "    }\n",
       "</style>\n",
       "<table border=\"1\" class=\"dataframe\">\n",
       "  <thead>\n",
       "    <tr style=\"text-align: right;\">\n",
       "      <th></th>\n",
       "      <th>impact_f</th>\n",
       "      <th>pred_if</th>\n",
       "    </tr>\n",
       "  </thead>\n",
       "  <tbody>\n",
       "    <tr>\n",
       "      <th>5656</th>\n",
       "      <td>NaN</td>\n",
       "      <td>2.682000</td>\n",
       "    </tr>\n",
       "    <tr>\n",
       "      <th>5657</th>\n",
       "      <td>NaN</td>\n",
       "      <td>4.542501</td>\n",
       "    </tr>\n",
       "    <tr>\n",
       "      <th>5658</th>\n",
       "      <td>NaN</td>\n",
       "      <td>3.444999</td>\n",
       "    </tr>\n",
       "    <tr>\n",
       "      <th>5659</th>\n",
       "      <td>NaN</td>\n",
       "      <td>4.745164</td>\n",
       "    </tr>\n",
       "    <tr>\n",
       "      <th>5660</th>\n",
       "      <td>NaN</td>\n",
       "      <td>3.271886</td>\n",
       "    </tr>\n",
       "    <tr>\n",
       "      <th>5661</th>\n",
       "      <td>NaN</td>\n",
       "      <td>3.284982</td>\n",
       "    </tr>\n",
       "    <tr>\n",
       "      <th>5662</th>\n",
       "      <td>NaN</td>\n",
       "      <td>3.387888</td>\n",
       "    </tr>\n",
       "    <tr>\n",
       "      <th>5663</th>\n",
       "      <td>NaN</td>\n",
       "      <td>2.682000</td>\n",
       "    </tr>\n",
       "    <tr>\n",
       "      <th>5664</th>\n",
       "      <td>NaN</td>\n",
       "      <td>3.383521</td>\n",
       "    </tr>\n",
       "    <tr>\n",
       "      <th>5665</th>\n",
       "      <td>NaN</td>\n",
       "      <td>3.935659</td>\n",
       "    </tr>\n",
       "    <tr>\n",
       "      <th>5666</th>\n",
       "      <td>NaN</td>\n",
       "      <td>15.607268</td>\n",
       "    </tr>\n",
       "    <tr>\n",
       "      <th>5667</th>\n",
       "      <td>NaN</td>\n",
       "      <td>3.111469</td>\n",
       "    </tr>\n",
       "    <tr>\n",
       "      <th>5668</th>\n",
       "      <td>NaN</td>\n",
       "      <td>2.682000</td>\n",
       "    </tr>\n",
       "    <tr>\n",
       "      <th>5669</th>\n",
       "      <td>NaN</td>\n",
       "      <td>3.115140</td>\n",
       "    </tr>\n",
       "    <tr>\n",
       "      <th>5670</th>\n",
       "      <td>NaN</td>\n",
       "      <td>4.717919</td>\n",
       "    </tr>\n",
       "    <tr>\n",
       "      <th>5671</th>\n",
       "      <td>NaN</td>\n",
       "      <td>3.465951</td>\n",
       "    </tr>\n",
       "    <tr>\n",
       "      <th>5672</th>\n",
       "      <td>NaN</td>\n",
       "      <td>3.784635</td>\n",
       "    </tr>\n",
       "    <tr>\n",
       "      <th>5673</th>\n",
       "      <td>NaN</td>\n",
       "      <td>4.129725</td>\n",
       "    </tr>\n",
       "    <tr>\n",
       "      <th>5674</th>\n",
       "      <td>NaN</td>\n",
       "      <td>3.935659</td>\n",
       "    </tr>\n",
       "    <tr>\n",
       "      <th>5675</th>\n",
       "      <td>NaN</td>\n",
       "      <td>3.387888</td>\n",
       "    </tr>\n",
       "    <tr>\n",
       "      <th>5676</th>\n",
       "      <td>NaN</td>\n",
       "      <td>3.411566</td>\n",
       "    </tr>\n",
       "    <tr>\n",
       "      <th>5677</th>\n",
       "      <td>NaN</td>\n",
       "      <td>15.476626</td>\n",
       "    </tr>\n",
       "    <tr>\n",
       "      <th>5678</th>\n",
       "      <td>NaN</td>\n",
       "      <td>2.917404</td>\n",
       "    </tr>\n",
       "    <tr>\n",
       "      <th>5679</th>\n",
       "      <td>NaN</td>\n",
       "      <td>2.999138</td>\n",
       "    </tr>\n",
       "    <tr>\n",
       "      <th>5680</th>\n",
       "      <td>NaN</td>\n",
       "      <td>3.115140</td>\n",
       "    </tr>\n",
       "    <tr>\n",
       "      <th>5681</th>\n",
       "      <td>NaN</td>\n",
       "      <td>2.999138</td>\n",
       "    </tr>\n",
       "    <tr>\n",
       "      <th>5682</th>\n",
       "      <td>NaN</td>\n",
       "      <td>2.682000</td>\n",
       "    </tr>\n",
       "    <tr>\n",
       "      <th>5683</th>\n",
       "      <td>NaN</td>\n",
       "      <td>2.917404</td>\n",
       "    </tr>\n",
       "    <tr>\n",
       "      <th>5684</th>\n",
       "      <td>NaN</td>\n",
       "      <td>3.309205</td>\n",
       "    </tr>\n",
       "    <tr>\n",
       "      <th>5685</th>\n",
       "      <td>NaN</td>\n",
       "      <td>3.256292</td>\n",
       "    </tr>\n",
       "  </tbody>\n",
       "</table>\n",
       "</div>"
      ],
      "text/plain": [
       "      impact_f    pred_if\n",
       "5656       NaN   2.682000\n",
       "5657       NaN   4.542501\n",
       "5658       NaN   3.444999\n",
       "5659       NaN   4.745164\n",
       "5660       NaN   3.271886\n",
       "5661       NaN   3.284982\n",
       "5662       NaN   3.387888\n",
       "5663       NaN   2.682000\n",
       "5664       NaN   3.383521\n",
       "5665       NaN   3.935659\n",
       "5666       NaN  15.607268\n",
       "5667       NaN   3.111469\n",
       "5668       NaN   2.682000\n",
       "5669       NaN   3.115140\n",
       "5670       NaN   4.717919\n",
       "5671       NaN   3.465951\n",
       "5672       NaN   3.784635\n",
       "5673       NaN   4.129725\n",
       "5674       NaN   3.935659\n",
       "5675       NaN   3.387888\n",
       "5676       NaN   3.411566\n",
       "5677       NaN  15.476626\n",
       "5678       NaN   2.917404\n",
       "5679       NaN   2.999138\n",
       "5680       NaN   3.115140\n",
       "5681       NaN   2.999138\n",
       "5682       NaN   2.682000\n",
       "5683       NaN   2.917404\n",
       "5684       NaN   3.309205\n",
       "5685       NaN   3.256292"
      ]
     },
     "execution_count": 542,
     "metadata": {},
     "output_type": "execute_result"
    }
   ],
   "source": [
    "X[['impact_f','pred_if']].tail(30)"
   ]
  },
  {
   "cell_type": "code",
   "execution_count": null,
   "metadata": {},
   "outputs": [],
   "source": []
  }
 ],
 "metadata": {
  "kernelspec": {
   "display_name": "Python 3",
   "language": "python",
   "name": "python3"
  },
  "language_info": {
   "codemirror_mode": {
    "name": "ipython",
    "version": 3
   },
   "file_extension": ".py",
   "mimetype": "text/x-python",
   "name": "python",
   "nbconvert_exporter": "python",
   "pygments_lexer": "ipython3",
   "version": "3.7.9"
  }
 },
 "nbformat": 4,
 "nbformat_minor": 4
}
