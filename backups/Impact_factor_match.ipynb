{
 "cells": [
  {
   "cell_type": "code",
   "execution_count": 11,
   "metadata": {},
   "outputs": [],
   "source": [
    "import pandas as pd\n",
    "df_compdata_ref_auth = pd.read_csv('../data/compdata_ref_author.csv')\n",
    "\n",
    "journal_IFs = pd.read_csv('../data/Impact_factor_2020.csv', index_col=False)"
   ]
  },
  {
   "cell_type": "markdown",
   "metadata": {},
   "source": [
    "## Match journal names"
   ]
  },
  {
   "cell_type": "code",
   "execution_count": 128,
   "metadata": {},
   "outputs": [],
   "source": [
    "journal_query = list(set(df_compdata_ref_auth.journal.dropna()))\n",
    "journal_choices = journal_IFs['Full Journal Title'].dropna().tolist()"
   ]
  },
  {
   "cell_type": "code",
   "execution_count": 140,
   "metadata": {},
   "outputs": [],
   "source": [
    "from fuzzywuzzy import fuzz\n",
    "from fuzzywuzzy import process\n",
    "\n",
    "limit = 5\n",
    "\n",
    "journal_query_result = dict()\n",
    "for q in journal_query:\n",
    "    q_ret = process.extract(q, journal_choices, limit=limit) \n",
    "    journal_query_result[q] =  [i[0] for i in q_ret]"
   ]
  },
  {
   "cell_type": "code",
   "execution_count": 141,
   "metadata": {},
   "outputs": [
    {
     "name": "stdout",
     "output_type": "stream",
     "text": [
      "1232\n"
     ]
    }
   ],
   "source": [
    "print(len(journal_query_result))\n",
    "f = open(\"Query2Journal.csv\", \"w\")\n",
    "for name in journal_query_result.keys():\n",
    "    print(str(name) + '\\t'+ '\\t'.join(journal_query_result[name]), file=f)\n",
    "\n",
    "f.close()"
   ]
  },
  {
   "cell_type": "markdown",
   "metadata": {},
   "source": [
    "## Retrieve impact factors of journals"
   ]
  },
  {
   "cell_type": "code",
   "execution_count": 197,
   "metadata": {},
   "outputs": [
    {
     "name": "stdout",
     "output_type": "stream",
     "text": [
      "33\n",
      "612\n"
     ]
    }
   ],
   "source": [
    "# load manually curated results\n",
    "\n",
    "journal2imf = dict()\n",
    "name2journal = dict()\n",
    "\n",
    "f = open(\"journal.txt\", \"r\")\n",
    "for lcon in f:\n",
    "    line =lcon.split('\\t')\n",
    "    if len(line) == 3 and line[2].rstrip()!='':\n",
    "        journal2imf[line[1]] = line[2].rstrip()\n",
    "    if len(line) >= 2 and line[1].rstrip()!='':\n",
    "        name2journal[line[0]] = line[1]\n",
    "\n",
    "f.close()\n",
    "print(len(journal2imf))\n",
    "print(len(name2journal))"
   ]
  },
  {
   "cell_type": "code",
   "execution_count": 198,
   "metadata": {},
   "outputs": [
    {
     "name": "stdout",
     "output_type": "stream",
     "text": [
      "12198\n"
     ]
    }
   ],
   "source": [
    "# load impact factors of journals\n",
    "for idx in journal_IFs.index:\n",
    "    if journal_IFs['Full Journal Title'].loc[idx] in journal2imf.keys():\n",
    "        continue\n",
    "    journal2imf[journal_IFs['Full Journal Title'].loc[idx]] = journal_IFs['Journal Impact Factor'].loc[idx]\n",
    "\n",
    "print(len(journal2imf))\n",
    "\n",
    "# remove journals without impact factors\n",
    "name2journal = {k: v for k, v in name2journal.items() if v in journal2imf.keys()}"
   ]
  },
  {
   "cell_type": "code",
   "execution_count": 199,
   "metadata": {},
   "outputs": [],
   "source": []
  },
  {
   "cell_type": "code",
   "execution_count": 221,
   "metadata": {},
   "outputs": [],
   "source": [
    "# map impact factors to papers\n",
    "import numpy as np\n",
    "\n",
    "paper_names = df_compdata_ref_auth['journal'].tolist()\n",
    "impact_f = [float(journal2imf[name2journal[x]]) if x in name2journal.keys() else np.nan for x in paper_names ]\n",
    "\n",
    "len(impact_f)\n",
    "df_compdata_ref_auth['impact_f'] = impact_f"
   ]
  },
  {
   "cell_type": "code",
   "execution_count": 222,
   "metadata": {},
   "outputs": [
    {
     "data": {
      "text/html": [
       "<div>\n",
       "<style scoped>\n",
       "    .dataframe tbody tr th:only-of-type {\n",
       "        vertical-align: middle;\n",
       "    }\n",
       "\n",
       "    .dataframe tbody tr th {\n",
       "        vertical-align: top;\n",
       "    }\n",
       "\n",
       "    .dataframe thead th {\n",
       "        text-align: right;\n",
       "    }\n",
       "</style>\n",
       "<table border=\"1\" class=\"dataframe\">\n",
       "  <thead>\n",
       "    <tr style=\"text-align: right;\">\n",
       "      <th></th>\n",
       "      <th>impact_f</th>\n",
       "      <th>collection</th>\n",
       "    </tr>\n",
       "  </thead>\n",
       "  <tbody>\n",
       "    <tr>\n",
       "      <th>0</th>\n",
       "      <td>2.429</td>\n",
       "      <td>pubmed</td>\n",
       "    </tr>\n",
       "    <tr>\n",
       "      <th>1</th>\n",
       "      <td>4.981</td>\n",
       "      <td>pubmed</td>\n",
       "    </tr>\n",
       "    <tr>\n",
       "      <th>2</th>\n",
       "      <td>6.551</td>\n",
       "      <td>pubmed</td>\n",
       "    </tr>\n",
       "    <tr>\n",
       "      <th>3</th>\n",
       "      <td>4.074</td>\n",
       "      <td>pubmed</td>\n",
       "    </tr>\n",
       "    <tr>\n",
       "      <th>4</th>\n",
       "      <td>4.986</td>\n",
       "      <td>pubmed</td>\n",
       "    </tr>\n",
       "    <tr>\n",
       "      <th>...</th>\n",
       "      <td>...</td>\n",
       "      <td>...</td>\n",
       "    </tr>\n",
       "    <tr>\n",
       "      <th>5753</th>\n",
       "      <td>NaN</td>\n",
       "      <td>biorxiv</td>\n",
       "    </tr>\n",
       "    <tr>\n",
       "      <th>5754</th>\n",
       "      <td>NaN</td>\n",
       "      <td>biorxiv</td>\n",
       "    </tr>\n",
       "    <tr>\n",
       "      <th>5755</th>\n",
       "      <td>NaN</td>\n",
       "      <td>biorxiv</td>\n",
       "    </tr>\n",
       "    <tr>\n",
       "      <th>5756</th>\n",
       "      <td>NaN</td>\n",
       "      <td>biorxiv</td>\n",
       "    </tr>\n",
       "    <tr>\n",
       "      <th>5757</th>\n",
       "      <td>NaN</td>\n",
       "      <td>biorxiv</td>\n",
       "    </tr>\n",
       "  </tbody>\n",
       "</table>\n",
       "<p>5758 rows × 2 columns</p>\n",
       "</div>"
      ],
      "text/plain": [
       "      impact_f collection\n",
       "0        2.429     pubmed\n",
       "1        4.981     pubmed\n",
       "2        6.551     pubmed\n",
       "3        4.074     pubmed\n",
       "4        4.986     pubmed\n",
       "...        ...        ...\n",
       "5753       NaN    biorxiv\n",
       "5754       NaN    biorxiv\n",
       "5755       NaN    biorxiv\n",
       "5756       NaN    biorxiv\n",
       "5757       NaN    biorxiv\n",
       "\n",
       "[5758 rows x 2 columns]"
      ]
     },
     "execution_count": 222,
     "metadata": {},
     "output_type": "execute_result"
    }
   ],
   "source": [
    "# Replace null values with minimum values\n",
    "# df_compdata_ref_auth['impact_f'] = df_compdata_ref_auth.apply(lambda row: df_compdata_ref_auth['impact_f'].min() if np.isnan(row['impact_f']) and row['collection']=='pubmed' else row['impact_f'],axis=1)\n",
    "\n",
    "df_compdata_ref_auth[['impact_f','collection']]"
   ]
  },
  {
   "cell_type": "code",
   "execution_count": 223,
   "metadata": {},
   "outputs": [
    {
     "data": {
      "text/plain": [
       "Index(['Unnamed: 0', 'title', 'abstract', 'journal', 'DOI', 'date',\n",
       "       'collection', 'published', 'nauthors', 'topic.Healthcare',\n",
       "       'topic.Drug discovery', 'topic.Epidemiology', 'topic.Clinics',\n",
       "       'topic.Chest X-Ray', 'topic.Genomics', 'topic', 'numcit', 'influcit',\n",
       "       'DL_Pdf', 'DL_Full', 'DL_Abstract', 'ref', 'authorsId', 'authorsNames',\n",
       "       'p_doi', 'p_journal', 'impact_f'],\n",
       "      dtype='object')"
      ]
     },
     "execution_count": 223,
     "metadata": {},
     "output_type": "execute_result"
    }
   ],
   "source": [
    "df_compdata_ref_auth.columns"
   ]
  },
  {
   "cell_type": "code",
   "execution_count": 224,
   "metadata": {},
   "outputs": [
    {
     "data": {
      "text/plain": [
       "0    pubmed\n",
       "1    pubmed\n",
       "2    pubmed\n",
       "Name: collection, dtype: object"
      ]
     },
     "execution_count": 224,
     "metadata": {},
     "output_type": "execute_result"
    }
   ],
   "source": [
    "df_compdata_ref_auth.collection.head(3)"
   ]
  },
  {
   "cell_type": "code",
   "execution_count": 239,
   "metadata": {},
   "outputs": [
    {
     "data": {
      "text/plain": [
       "5686"
      ]
     },
     "execution_count": 239,
     "metadata": {},
     "output_type": "execute_result"
    }
   ],
   "source": [
    "df_compdata_ref_auth_redup = df_compdata_ref_auth.drop_duplicates(subset=['title'])\n",
    "len(df_compdata_ref_auth_redup)"
   ]
  },
  {
   "cell_type": "code",
   "execution_count": 240,
   "metadata": {},
   "outputs": [],
   "source": [
    "df_compdata_ref_auth_redup['impact_f'].to_csv('impact_f.csv')"
   ]
  },
  {
   "cell_type": "code",
   "execution_count": 241,
   "metadata": {},
   "outputs": [
    {
     "data": {
      "text/html": [
       "<div>\n",
       "<style scoped>\n",
       "    .dataframe tbody tr th:only-of-type {\n",
       "        vertical-align: middle;\n",
       "    }\n",
       "\n",
       "    .dataframe tbody tr th {\n",
       "        vertical-align: top;\n",
       "    }\n",
       "\n",
       "    .dataframe thead th {\n",
       "        text-align: right;\n",
       "    }\n",
       "</style>\n",
       "<table border=\"1\" class=\"dataframe\">\n",
       "  <thead>\n",
       "    <tr style=\"text-align: right;\">\n",
       "      <th></th>\n",
       "      <th>Unnamed: 0</th>\n",
       "      <th>title</th>\n",
       "      <th>abstract</th>\n",
       "      <th>journal</th>\n",
       "      <th>DOI</th>\n",
       "      <th>date</th>\n",
       "      <th>published</th>\n",
       "      <th>nauthors</th>\n",
       "      <th>topic.Healthcare</th>\n",
       "      <th>topic.Drug discovery</th>\n",
       "      <th>...</th>\n",
       "      <th>influcit</th>\n",
       "      <th>DL_Pdf</th>\n",
       "      <th>DL_Full</th>\n",
       "      <th>DL_Abstract</th>\n",
       "      <th>ref</th>\n",
       "      <th>authorsId</th>\n",
       "      <th>authorsNames</th>\n",
       "      <th>p_doi</th>\n",
       "      <th>p_journal</th>\n",
       "      <th>impact_f</th>\n",
       "    </tr>\n",
       "    <tr>\n",
       "      <th>collection</th>\n",
       "      <th></th>\n",
       "      <th></th>\n",
       "      <th></th>\n",
       "      <th></th>\n",
       "      <th></th>\n",
       "      <th></th>\n",
       "      <th></th>\n",
       "      <th></th>\n",
       "      <th></th>\n",
       "      <th></th>\n",
       "      <th></th>\n",
       "      <th></th>\n",
       "      <th></th>\n",
       "      <th></th>\n",
       "      <th></th>\n",
       "      <th></th>\n",
       "      <th></th>\n",
       "      <th></th>\n",
       "      <th></th>\n",
       "      <th></th>\n",
       "      <th></th>\n",
       "    </tr>\n",
       "  </thead>\n",
       "  <tbody>\n",
       "    <tr>\n",
       "      <th>arxiv</th>\n",
       "      <td>758</td>\n",
       "      <td>758</td>\n",
       "      <td>758</td>\n",
       "      <td>38</td>\n",
       "      <td>758</td>\n",
       "      <td>758</td>\n",
       "      <td>38</td>\n",
       "      <td>758</td>\n",
       "      <td>758</td>\n",
       "      <td>758</td>\n",
       "      <td>...</td>\n",
       "      <td>758</td>\n",
       "      <td>0</td>\n",
       "      <td>0</td>\n",
       "      <td>0</td>\n",
       "      <td>740</td>\n",
       "      <td>752</td>\n",
       "      <td>752</td>\n",
       "      <td>200</td>\n",
       "      <td>495</td>\n",
       "      <td>21</td>\n",
       "    </tr>\n",
       "    <tr>\n",
       "      <th>biorxiv</th>\n",
       "      <td>623</td>\n",
       "      <td>623</td>\n",
       "      <td>623</td>\n",
       "      <td>0</td>\n",
       "      <td>623</td>\n",
       "      <td>623</td>\n",
       "      <td>95</td>\n",
       "      <td>623</td>\n",
       "      <td>623</td>\n",
       "      <td>623</td>\n",
       "      <td>...</td>\n",
       "      <td>623</td>\n",
       "      <td>592</td>\n",
       "      <td>592</td>\n",
       "      <td>592</td>\n",
       "      <td>606</td>\n",
       "      <td>604</td>\n",
       "      <td>604</td>\n",
       "      <td>611</td>\n",
       "      <td>146</td>\n",
       "      <td>0</td>\n",
       "    </tr>\n",
       "    <tr>\n",
       "      <th>medrxiv</th>\n",
       "      <td>1247</td>\n",
       "      <td>1247</td>\n",
       "      <td>1247</td>\n",
       "      <td>0</td>\n",
       "      <td>1247</td>\n",
       "      <td>1247</td>\n",
       "      <td>138</td>\n",
       "      <td>1247</td>\n",
       "      <td>1247</td>\n",
       "      <td>1247</td>\n",
       "      <td>...</td>\n",
       "      <td>1247</td>\n",
       "      <td>1193</td>\n",
       "      <td>1193</td>\n",
       "      <td>1193</td>\n",
       "      <td>1201</td>\n",
       "      <td>1238</td>\n",
       "      <td>1239</td>\n",
       "      <td>1247</td>\n",
       "      <td>1215</td>\n",
       "      <td>0</td>\n",
       "    </tr>\n",
       "    <tr>\n",
       "      <th>pubmed</th>\n",
       "      <td>3058</td>\n",
       "      <td>3057</td>\n",
       "      <td>3058</td>\n",
       "      <td>3058</td>\n",
       "      <td>3058</td>\n",
       "      <td>3058</td>\n",
       "      <td>0</td>\n",
       "      <td>3058</td>\n",
       "      <td>3055</td>\n",
       "      <td>3055</td>\n",
       "      <td>...</td>\n",
       "      <td>3058</td>\n",
       "      <td>0</td>\n",
       "      <td>0</td>\n",
       "      <td>0</td>\n",
       "      <td>2621</td>\n",
       "      <td>3049</td>\n",
       "      <td>3049</td>\n",
       "      <td>3013</td>\n",
       "      <td>3055</td>\n",
       "      <td>1917</td>\n",
       "    </tr>\n",
       "  </tbody>\n",
       "</table>\n",
       "<p>4 rows × 26 columns</p>\n",
       "</div>"
      ],
      "text/plain": [
       "            Unnamed: 0  title  abstract  journal   DOI  date  published  \\\n",
       "collection                                                                \n",
       "arxiv              758    758       758       38   758   758         38   \n",
       "biorxiv            623    623       623        0   623   623         95   \n",
       "medrxiv           1247   1247      1247        0  1247  1247        138   \n",
       "pubmed            3058   3057      3058     3058  3058  3058          0   \n",
       "\n",
       "            nauthors  topic.Healthcare  topic.Drug discovery  ...  influcit  \\\n",
       "collection                                                    ...             \n",
       "arxiv            758               758                   758  ...       758   \n",
       "biorxiv          623               623                   623  ...       623   \n",
       "medrxiv         1247              1247                  1247  ...      1247   \n",
       "pubmed          3058              3055                  3055  ...      3058   \n",
       "\n",
       "            DL_Pdf  DL_Full  DL_Abstract   ref  authorsId  authorsNames  \\\n",
       "collection                                                                \n",
       "arxiv            0        0            0   740        752           752   \n",
       "biorxiv        592      592          592   606        604           604   \n",
       "medrxiv       1193     1193         1193  1201       1238          1239   \n",
       "pubmed           0        0            0  2621       3049          3049   \n",
       "\n",
       "            p_doi  p_journal  impact_f  \n",
       "collection                              \n",
       "arxiv         200        495        21  \n",
       "biorxiv       611        146         0  \n",
       "medrxiv      1247       1215         0  \n",
       "pubmed       3013       3055      1917  \n",
       "\n",
       "[4 rows x 26 columns]"
      ]
     },
     "execution_count": 241,
     "metadata": {},
     "output_type": "execute_result"
    }
   ],
   "source": [
    "df_compdata_ref_auth_redup.groupby('collection').count()"
   ]
  },
  {
   "cell_type": "code",
   "execution_count": 242,
   "metadata": {},
   "outputs": [
    {
     "data": {
      "text/plain": [
       "1938"
      ]
     },
     "execution_count": 242,
     "metadata": {},
     "output_type": "execute_result"
    }
   ],
   "source": [
    "df_compdata_ref_auth_redup['impact_f'].count()"
   ]
  },
  {
   "cell_type": "code",
   "execution_count": 244,
   "metadata": {},
   "outputs": [
    {
     "data": {
      "text/plain": [
       "5686"
      ]
     },
     "execution_count": 244,
     "metadata": {},
     "output_type": "execute_result"
    }
   ],
   "source": [
    "df_compdata_ref_auth_redup['impact_f'].size"
   ]
  },
  {
   "cell_type": "code",
   "execution_count": null,
   "metadata": {},
   "outputs": [],
   "source": []
  }
 ],
 "metadata": {
  "kernelspec": {
   "display_name": "Python 3",
   "language": "python",
   "name": "python3"
  },
  "language_info": {
   "codemirror_mode": {
    "name": "ipython",
    "version": 3
   },
   "file_extension": ".py",
   "mimetype": "text/x-python",
   "name": "python",
   "nbconvert_exporter": "python",
   "pygments_lexer": "ipython3",
   "version": "3.7.9"
  }
 },
 "nbformat": 4,
 "nbformat_minor": 4
}
