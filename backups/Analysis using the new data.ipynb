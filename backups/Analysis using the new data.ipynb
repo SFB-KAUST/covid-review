{
 "cells": [
  {
   "cell_type": "markdown",
   "metadata": {},
   "source": [
    "## Analysis using the new data"
   ]
  },
  {
   "cell_type": "code",
   "execution_count": 3,
   "metadata": {},
   "outputs": [],
   "source": [
    "import xgboost as xgb\n",
    "from sklearn.metrics import mean_squared_error\n",
    "import pandas as pd\n",
    "import numpy as np"
   ]
  },
  {
   "cell_type": "code",
   "execution_count": 4,
   "metadata": {},
   "outputs": [],
   "source": [
    "a = pd.read_csv(\"../data/trainingdata_timed.csv\")"
   ]
  },
  {
   "cell_type": "code",
   "execution_count": 5,
   "metadata": {},
   "outputs": [
    {
     "name": "stdout",
     "output_type": "stream",
     "text": [
      "Index(['published', 'collection', 'nauthors', 'numcit', 'influcit',\n",
      "       'topic.Genomics', 'topic.Epidemiology', 'topic.Chest X-Ray',\n",
      "       'topic.Healthcare', 'topic.Clinics', 'topic.Drug discovery', 'DL_Pdf',\n",
      "       'DL_Full', 'DL_Abstract', 'sum.npapers', 'sum.infCit', 'mean.npapers',\n",
      "       'mean.infCit', 'max.npapers', 'max.infCit', '2020-01-28', '2020-02-28',\n",
      "       '2020-03-28', '2020-04-28', '2020-05-28', '2020-06-28', '2020-07-28',\n",
      "       '2020-08-28', '2020-09-28'],\n",
      "      dtype='object')\n"
     ]
    }
   ],
   "source": [
    "print(a.keys())"
   ]
  },
  {
   "cell_type": "code",
   "execution_count": 6,
   "metadata": {},
   "outputs": [
    {
     "name": "stdout",
     "output_type": "stream",
     "text": [
      "(348,)\n"
     ]
    }
   ],
   "source": [
    "print(a.published.shape)"
   ]
  },
  {
   "cell_type": "code",
   "execution_count": 7,
   "metadata": {},
   "outputs": [
    {
     "data": {
      "text/html": [
       "<div>\n",
       "<style scoped>\n",
       "    .dataframe tbody tr th:only-of-type {\n",
       "        vertical-align: middle;\n",
       "    }\n",
       "\n",
       "    .dataframe tbody tr th {\n",
       "        vertical-align: top;\n",
       "    }\n",
       "\n",
       "    .dataframe thead th {\n",
       "        text-align: right;\n",
       "    }\n",
       "</style>\n",
       "<table border=\"1\" class=\"dataframe\">\n",
       "  <thead>\n",
       "    <tr style=\"text-align: right;\">\n",
       "      <th></th>\n",
       "      <th>published</th>\n",
       "      <th>collection</th>\n",
       "      <th>nauthors</th>\n",
       "      <th>numcit</th>\n",
       "      <th>influcit</th>\n",
       "      <th>topic.Genomics</th>\n",
       "      <th>topic.Epidemiology</th>\n",
       "      <th>topic.Chest X-Ray</th>\n",
       "      <th>topic.Healthcare</th>\n",
       "      <th>topic.Clinics</th>\n",
       "      <th>...</th>\n",
       "      <th>max.infCit</th>\n",
       "      <th>2020-01-28</th>\n",
       "      <th>2020-02-28</th>\n",
       "      <th>2020-03-28</th>\n",
       "      <th>2020-04-28</th>\n",
       "      <th>2020-05-28</th>\n",
       "      <th>2020-06-28</th>\n",
       "      <th>2020-07-28</th>\n",
       "      <th>2020-08-28</th>\n",
       "      <th>2020-09-28</th>\n",
       "    </tr>\n",
       "  </thead>\n",
       "  <tbody>\n",
       "    <tr>\n",
       "      <th>0</th>\n",
       "      <td>1</td>\n",
       "      <td>1</td>\n",
       "      <td>1</td>\n",
       "      <td>0.092437</td>\n",
       "      <td>0.004202</td>\n",
       "      <td>0.001772</td>\n",
       "      <td>0.827240</td>\n",
       "      <td>0.001772</td>\n",
       "      <td>0.165671</td>\n",
       "      <td>0.001772</td>\n",
       "      <td>...</td>\n",
       "      <td>4</td>\n",
       "      <td>0</td>\n",
       "      <td>0</td>\n",
       "      <td>0</td>\n",
       "      <td>0</td>\n",
       "      <td>0</td>\n",
       "      <td>0</td>\n",
       "      <td>0</td>\n",
       "      <td>0</td>\n",
       "      <td>0</td>\n",
       "    </tr>\n",
       "    <tr>\n",
       "      <th>1</th>\n",
       "      <td>1</td>\n",
       "      <td>1</td>\n",
       "      <td>2</td>\n",
       "      <td>0.527919</td>\n",
       "      <td>0.050761</td>\n",
       "      <td>0.001415</td>\n",
       "      <td>0.001415</td>\n",
       "      <td>0.905223</td>\n",
       "      <td>0.001415</td>\n",
       "      <td>0.089116</td>\n",
       "      <td>...</td>\n",
       "      <td>7</td>\n",
       "      <td>0</td>\n",
       "      <td>0</td>\n",
       "      <td>0</td>\n",
       "      <td>0</td>\n",
       "      <td>0</td>\n",
       "      <td>0</td>\n",
       "      <td>0</td>\n",
       "      <td>0</td>\n",
       "      <td>0</td>\n",
       "    </tr>\n",
       "    <tr>\n",
       "      <th>2</th>\n",
       "      <td>1</td>\n",
       "      <td>1</td>\n",
       "      <td>2</td>\n",
       "      <td>0.021390</td>\n",
       "      <td>0.000000</td>\n",
       "      <td>0.001226</td>\n",
       "      <td>0.833410</td>\n",
       "      <td>0.001226</td>\n",
       "      <td>0.001226</td>\n",
       "      <td>0.001226</td>\n",
       "      <td>...</td>\n",
       "      <td>35</td>\n",
       "      <td>0</td>\n",
       "      <td>0</td>\n",
       "      <td>0</td>\n",
       "      <td>0</td>\n",
       "      <td>0</td>\n",
       "      <td>0</td>\n",
       "      <td>0</td>\n",
       "      <td>0</td>\n",
       "      <td>0</td>\n",
       "    </tr>\n",
       "    <tr>\n",
       "      <th>3</th>\n",
       "      <td>1</td>\n",
       "      <td>1</td>\n",
       "      <td>9</td>\n",
       "      <td>0.400000</td>\n",
       "      <td>0.032432</td>\n",
       "      <td>0.001081</td>\n",
       "      <td>0.001081</td>\n",
       "      <td>0.609501</td>\n",
       "      <td>0.212437</td>\n",
       "      <td>0.174820</td>\n",
       "      <td>...</td>\n",
       "      <td>255</td>\n",
       "      <td>0</td>\n",
       "      <td>0</td>\n",
       "      <td>0</td>\n",
       "      <td>0</td>\n",
       "      <td>0</td>\n",
       "      <td>0</td>\n",
       "      <td>0</td>\n",
       "      <td>0</td>\n",
       "      <td>0</td>\n",
       "    </tr>\n",
       "    <tr>\n",
       "      <th>4</th>\n",
       "      <td>0</td>\n",
       "      <td>1</td>\n",
       "      <td>4</td>\n",
       "      <td>0.059783</td>\n",
       "      <td>0.005435</td>\n",
       "      <td>0.001107</td>\n",
       "      <td>0.994466</td>\n",
       "      <td>0.001107</td>\n",
       "      <td>0.001107</td>\n",
       "      <td>0.001107</td>\n",
       "      <td>...</td>\n",
       "      <td>0</td>\n",
       "      <td>0</td>\n",
       "      <td>0</td>\n",
       "      <td>0</td>\n",
       "      <td>0</td>\n",
       "      <td>0</td>\n",
       "      <td>0</td>\n",
       "      <td>0</td>\n",
       "      <td>0</td>\n",
       "      <td>0</td>\n",
       "    </tr>\n",
       "  </tbody>\n",
       "</table>\n",
       "<p>5 rows × 29 columns</p>\n",
       "</div>"
      ],
      "text/plain": [
       "   published  collection  nauthors    numcit  influcit  topic.Genomics  \\\n",
       "0          1           1         1  0.092437  0.004202        0.001772   \n",
       "1          1           1         2  0.527919  0.050761        0.001415   \n",
       "2          1           1         2  0.021390  0.000000        0.001226   \n",
       "3          1           1         9  0.400000  0.032432        0.001081   \n",
       "4          0           1         4  0.059783  0.005435        0.001107   \n",
       "\n",
       "   topic.Epidemiology  topic.Chest X-Ray  topic.Healthcare  topic.Clinics  \\\n",
       "0            0.827240           0.001772          0.165671       0.001772   \n",
       "1            0.001415           0.905223          0.001415       0.089116   \n",
       "2            0.833410           0.001226          0.001226       0.001226   \n",
       "3            0.001081           0.609501          0.212437       0.174820   \n",
       "4            0.994466           0.001107          0.001107       0.001107   \n",
       "\n",
       "   ...  max.infCit  2020-01-28  2020-02-28  2020-03-28  2020-04-28  \\\n",
       "0  ...           4           0           0           0           0   \n",
       "1  ...           7           0           0           0           0   \n",
       "2  ...          35           0           0           0           0   \n",
       "3  ...         255           0           0           0           0   \n",
       "4  ...           0           0           0           0           0   \n",
       "\n",
       "   2020-05-28  2020-06-28  2020-07-28  2020-08-28  2020-09-28  \n",
       "0           0           0           0           0           0  \n",
       "1           0           0           0           0           0  \n",
       "2           0           0           0           0           0  \n",
       "3           0           0           0           0           0  \n",
       "4           0           0           0           0           0  \n",
       "\n",
       "[5 rows x 29 columns]"
      ]
     },
     "execution_count": 7,
     "metadata": {},
     "output_type": "execute_result"
    }
   ],
   "source": [
    "a.head()"
   ]
  },
  {
   "cell_type": "code",
   "execution_count": 17,
   "metadata": {},
   "outputs": [],
   "source": [
    "X, y = a[['collection', 'nauthors', 'numcit', 'influcit',\n",
    "       'topic.Genomics', 'topic.Epidemiology', 'topic.Chest X-Ray',\n",
    "       'topic.Healthcare', 'topic.Clinics', 'topic.Drug discovery', 'DL_Pdf',\n",
    "       'DL_Full', 'DL_Abstract', 'sum.npapers', 'sum.infCit', 'mean.npapers',\n",
    "       'mean.infCit', 'max.npapers', 'max.infCit', '2020-01-28', '2020-02-28',\n",
    "       '2020-03-28', '2020-04-28', '2020-05-28', '2020-06-28', '2020-07-28',\n",
    "       '2020-08-28', '2020-09-28']],a.published"
   ]
  },
  {
   "cell_type": "code",
   "execution_count": 18,
   "metadata": {},
   "outputs": [],
   "source": [
    "data_dmatrix = xgb.DMatrix(data=X,label=y)"
   ]
  },
  {
   "cell_type": "code",
   "execution_count": 19,
   "metadata": {},
   "outputs": [],
   "source": [
    "from sklearn.model_selection import train_test_split\n",
    "\n",
    "X_train, X_test, y_train, y_test = train_test_split(X, y, test_size=0.2, random_state=123)"
   ]
  },
  {
   "cell_type": "code",
   "execution_count": 20,
   "metadata": {},
   "outputs": [
    {
     "name": "stdout",
     "output_type": "stream",
     "text": [
      "[16:34:06] WARNING: src/objective/regression_obj.cu:152: reg:linear is now deprecated in favor of reg:squarederror.\n"
     ]
    },
    {
     "data": {
      "text/plain": [
       "XGBRegressor(alpha=10, colsample_bytree=0.3, max_depth=5, n_estimators=10)"
      ]
     },
     "execution_count": 20,
     "metadata": {},
     "output_type": "execute_result"
    }
   ],
   "source": [
    "xg_reg = xgb.XGBRegressor(objective ='reg:linear', colsample_bytree = 0.3, learning_rate = 0.1,\n",
    "                max_depth = 5, alpha = 10, n_estimators = 10)\n",
    "\n",
    "xg_reg.fit(X_train,y_train)"
   ]
  },
  {
   "cell_type": "code",
   "execution_count": 21,
   "metadata": {},
   "outputs": [],
   "source": [
    "preds = xg_reg.predict(X_test)"
   ]
  },
  {
   "cell_type": "code",
   "execution_count": 26,
   "metadata": {},
   "outputs": [
    {
     "data": {
      "image/png": "[encoded data removed]",
      "text/plain": [
       "<Figure size 360x360 with 1 Axes>"
      ]
     },
     "metadata": {
      "needs_background": "light"
     },
     "output_type": "display_data"
    },
    {
     "name": "stdout",
     "output_type": "stream",
     "text": [
      "AUC is :0.6603618421052633\n"
     ]
    },
    {
     "data": {
      "text/plain": [
       "<Figure size 360x360 with 0 Axes>"
      ]
     },
     "metadata": {},
     "output_type": "display_data"
    }
   ],
   "source": [
    "import matplotlib.pyplot as plt\n",
    "from sklearn.metrics import roc_curve, auc\n",
    "\n",
    "fpr_rt_lm, tpr_rt_lm, _ = roc_curve(y_test, preds)\n",
    "\n",
    "plt.figure()\n",
    "plt.plot([0, 1], [0, 1], 'k--')\n",
    "plt.plot(fpr_rt_lm, tpr_rt_lm, label='RT + LR')\n",
    "plt.xlabel('False positive rate')\n",
    "plt.ylabel('True positive rate')\n",
    "plt.title('ROC curve')\n",
    "plt.legend(loc='best')\n",
    "fig1 = plt.gcf()\n",
    "plt.show()\n",
    "plt.draw()\n",
    "fig1.savefig('new_data_roc.png', dpi=100)\n",
    "\n",
    "print(\"AUC is :\" + str(auc(fpr_rt_lm, tpr_rt_lm)))"
   ]
  },
  {
   "cell_type": "code",
   "execution_count": 28,
   "metadata": {},
   "outputs": [
    {
     "data": {
      "text/plain": [
       "<Figure size 360x360 with 0 Axes>"
      ]
     },
     "metadata": {},
     "output_type": "display_data"
    },
    {
     "data": {
      "image/png": "[encoded data removed]",
      "text/plain": [
       "<Figure size 360x360 with 1 Axes>"
      ]
     },
     "metadata": {
      "needs_background": "light"
     },
     "output_type": "display_data"
    },
    {
     "data": {
      "text/plain": [
       "<Figure size 360x360 with 0 Axes>"
      ]
     },
     "metadata": {},
     "output_type": "display_data"
    }
   ],
   "source": [
    "plt.figure()\n",
    "xgb.plot_importance(xg_reg)\n",
    "plt.rcParams['figure.figsize'] = [5, 5]\n",
    "fig2 = plt.gcf()\n",
    "plt.show()\n",
    "plt.draw()\n",
    "fig2.savefig('new_data_feature_importance.png', dpi=100)"
   ]
  },
  {
   "cell_type": "code",
   "execution_count": null,
   "metadata": {},
   "outputs": [],
   "source": []
  }
 ],
 "metadata": {
  "kernelspec": {
   "display_name": "Python 3",
   "language": "python",
   "name": "python3"
  },
  "language_info": {
   "codemirror_mode": {
    "name": "ipython",
    "version": 3
   },
   "file_extension": ".py",
   "mimetype": "text/x-python",
   "name": "python",
   "nbconvert_exporter": "python",
   "pygments_lexer": "ipython3",
   "version": "3.7.9"
  }
 },
 "nbformat": 4,
 "nbformat_minor": 4
}
