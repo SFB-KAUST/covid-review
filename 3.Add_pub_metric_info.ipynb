{
 "cells": [
  {
   "cell_type": "code",
   "execution_count": 1,
   "id": "7fae2bad-97f0-43cc-bea5-f77f2783cb20",
   "metadata": {},
   "outputs": [],
   "source": [
    "import pandas as pd\n",
    "import numpy as np\n",
    "from datetime import datetime"
   ]
  },
  {
   "cell_type": "code",
   "execution_count": 2,
   "id": "9cddec39-0df3-4b94-a284-9b4668947cbd",
   "metadata": {},
   "outputs": [],
   "source": [
    "inoutpath = 'data/'\n",
    "\n",
    "compdata_path = inoutpath + 'features.ori_doc2vec_deepwalk.csv' # 'compdata_ext.csv' \n",
    "CSCoV_scores_path = inoutpath + 'CSCoV_scores.csv'\n",
    "pubmed_path = inoutpath + 'PubMed.csv'\n",
    "arxiv_path = inoutpath + 'aRxiv.csv'\n",
    "biomedrxiv_path = inoutpath + 'biomedRxiv.csv'\n",
    "\n",
    "train_data_path = inoutpath + 'features.ori_doc2vec_deepwalk_scores_train.csv'\n",
    "test_data_path = inoutpath + 'features.ori_doc2vec_deepwalk_scores_test.csv'\n",
    "all_data_path = inoutpath + 'features.ori_doc2vec_deepwalk_scores_all.csv'\n",
    "\n",
    "is_balanced = False"
   ]
  },
  {
   "cell_type": "markdown",
   "id": "2b490cff-1606-4b15-9cf6-0abf5da52695",
   "metadata": {},
   "source": [
    "# Load data and add author and artical metrics\n",
    "## Load data"
   ]
  },
  {
   "cell_type": "code",
   "execution_count": 3,
   "id": "83114199-a82c-413d-88ab-7253958b5bf4",
   "metadata": {},
   "outputs": [
    {
     "name": "stdout",
     "output_type": "stream",
     "text": [
      "2021-07-26 00:04:13.480187: Loading data ...\n"
     ]
    },
    {
     "name": "stderr",
     "output_type": "stream",
     "text": [
      "/home/xiaopengxu/anaconda3/envs/ml-env/lib/python3.8/site-packages/IPython/core/interactiveshell.py:3357: DtypeWarning: Columns (3,4,7) have mixed types.Specify dtype option on import or set low_memory=False.\n",
      "  if (await self.run_code(code, result,  async_=asy)):\n"
     ]
    }
   ],
   "source": [
    "def load_data(compdata_path):\n",
    "    print(datetime.now().strftime('%Y-%m-%d %H:%M:%S.%f') + \": Loading data ...\")\n",
    "    papers = pd.read_csv(compdata_path, index_col=False)\n",
    "    papers.drop(['Unnamed: 0'], axis=1, inplace=True)\n",
    "\n",
    "    return papers\n",
    "\n",
    "papers = load_data(compdata_path)"
   ]
  },
  {
   "cell_type": "code",
   "execution_count": 4,
   "id": "c8167757-f98e-431d-be2e-f1cf91823f7d",
   "metadata": {},
   "outputs": [
    {
     "data": {
      "text/plain": [
       "18575"
      ]
     },
     "execution_count": 4,
     "metadata": {},
     "output_type": "execute_result"
    }
   ],
   "source": [
    "len(papers.index)"
   ]
  },
  {
   "cell_type": "markdown",
   "id": "0d640f97-d91b-4c71-92f9-d6c2417b00e0",
   "metadata": {},
   "source": [
    "## Add Author and Article metrics"
   ]
  },
  {
   "cell_type": "code",
   "execution_count": 5,
   "id": "1e34ced1-fab2-4aa6-b003-4ddd1581d7d5",
   "metadata": {},
   "outputs": [
    {
     "name": "stdout",
     "output_type": "stream",
     "text": [
      "2021-07-26 00:04:14.429953: Loading data ...\n"
     ]
    }
   ],
   "source": [
    "CSCoV_scores = load_data(CSCoV_scores_path)\n",
    "papers_amet = pd.concat([papers, CSCoV_scores], axis=1)"
   ]
  },
  {
   "cell_type": "markdown",
   "id": "1149fdd4-04c0-4d0d-a5c4-0c6b92ba708f",
   "metadata": {},
   "source": [
    "# Add subDate, acptDate and pubDate\n",
    "## Add subDate from archives (ArXiv, BioRxiv and MedRxiv)"
   ]
  },
  {
   "cell_type": "code",
   "execution_count": 6,
   "id": "ff0e0aa6-85ed-40cd-980b-5e6edd62cdb7",
   "metadata": {},
   "outputs": [
    {
     "name": "stdout",
     "output_type": "stream",
     "text": [
      "2021-07-26 00:04:14.548689: Loading data ...\n",
      "2021-07-26 00:04:14.635342: Loading data ...\n"
     ]
    }
   ],
   "source": [
    "arxiv = load_data(arxiv_path)\n",
    "biomedrxiv = load_data(biomedrxiv_path)"
   ]
  },
  {
   "cell_type": "code",
   "execution_count": 7,
   "id": "150f5948-f36f-462d-be02-69d3f3f9dfd6",
   "metadata": {},
   "outputs": [],
   "source": [
    "arxiv['subDate'] = pd.to_datetime(arxiv.submitted)\n",
    "arxiv['title'] = arxiv.title.str.lower()\n",
    "biomedrxiv['subDate']  = pd.to_datetime(biomedrxiv.rel_date)\n",
    "biomedrxiv['doi'] = biomedrxiv.rel_doi\n",
    "biomedrxiv['title'] = biomedrxiv.rel_title.str.lower()\n",
    "\n",
    "all_rxiv = pd.concat([arxiv[['doi', 'subDate', 'title']], biomedrxiv[['doi', 'subDate', 'title']]])\n",
    "all_rxiv_redup = all_rxiv[~all_rxiv.doi.isna() & ~all_rxiv.title.isna()\n",
    "                         ].drop_duplicates(subset=['doi']).drop_duplicates(subset=['title']) # Remove null and duplicates using doi & title"
   ]
  },
  {
   "cell_type": "code",
   "execution_count": 8,
   "id": "c5b92a1d-a1f1-472b-bcdd-6d59d648e6ef",
   "metadata": {},
   "outputs": [],
   "source": [
    "# duplicates removed\n",
    "papers_amet.title = papers_amet.title.str.lower()\n",
    "papers_redup = papers_amet.drop_duplicates(subset=['title']).drop_duplicates(subset=['DOI']) "
   ]
  },
  {
   "cell_type": "code",
   "execution_count": 9,
   "id": "33c7c3d5-dce1-4e9d-a577-8eeed77af9cb",
   "metadata": {},
   "outputs": [
    {
     "data": {
      "text/html": [
       "<div>\n",
       "<style scoped>\n",
       "    .dataframe tbody tr th:only-of-type {\n",
       "        vertical-align: middle;\n",
       "    }\n",
       "\n",
       "    .dataframe tbody tr th {\n",
       "        vertical-align: top;\n",
       "    }\n",
       "\n",
       "    .dataframe thead th {\n",
       "        text-align: right;\n",
       "    }\n",
       "</style>\n",
       "<table border=\"1\" class=\"dataframe\">\n",
       "  <thead>\n",
       "    <tr style=\"text-align: right;\">\n",
       "      <th></th>\n",
       "      <th>subDate</th>\n",
       "    </tr>\n",
       "  </thead>\n",
       "  <tbody>\n",
       "    <tr>\n",
       "      <th>count</th>\n",
       "      <td>3978</td>\n",
       "    </tr>\n",
       "    <tr>\n",
       "      <th>mean</th>\n",
       "      <td>2020-09-30 11:18:26.947963904</td>\n",
       "    </tr>\n",
       "    <tr>\n",
       "      <th>min</th>\n",
       "      <td>2019-10-16 23:06:34</td>\n",
       "    </tr>\n",
       "    <tr>\n",
       "      <th>25%</th>\n",
       "      <td>2020-05-24 00:00:00</td>\n",
       "    </tr>\n",
       "    <tr>\n",
       "      <th>50%</th>\n",
       "      <td>2020-09-10 00:00:00</td>\n",
       "    </tr>\n",
       "    <tr>\n",
       "      <th>75%</th>\n",
       "      <td>2021-02-02 00:00:00</td>\n",
       "    </tr>\n",
       "    <tr>\n",
       "      <th>max</th>\n",
       "      <td>2021-06-22 00:00:00</td>\n",
       "    </tr>\n",
       "  </tbody>\n",
       "</table>\n",
       "</div>"
      ],
      "text/plain": [
       "                             subDate\n",
       "count                           3978\n",
       "mean   2020-09-30 11:18:26.947963904\n",
       "min              2019-10-16 23:06:34\n",
       "25%              2020-05-24 00:00:00\n",
       "50%              2020-09-10 00:00:00\n",
       "75%              2021-02-02 00:00:00\n",
       "max              2021-06-22 00:00:00"
      ]
     },
     "execution_count": 9,
     "metadata": {},
     "output_type": "execute_result"
    }
   ],
   "source": [
    "papers_subDate = papers_redup.merge(all_rxiv_redup[['subDate', 'title']], left_on='title', right_on='title',how='left')\n",
    "papers_subDate[['subDate']].describe(datetime_is_numeric=True)"
   ]
  },
  {
   "cell_type": "markdown",
   "id": "4032c963-8f0f-48e1-bd2c-8a001d4e343f",
   "metadata": {},
   "source": [
    "## Add acptDate and subDate from PubMed"
   ]
  },
  {
   "cell_type": "code",
   "execution_count": 10,
   "id": "6121ed4d-1add-43d6-8b75-a888493b7798",
   "metadata": {},
   "outputs": [],
   "source": [
    "def concate_dates_and_redup(pubmed):\n",
    "    print(datetime.now().strftime('%Y-%m-%d %H:%M:%S.%f') + \": Processing pubmed data ...\")\n",
    "    monthMap = {'01': 1, '02': 2, '03': 3, '04': 4, '05': 5, '06': 6, '07': 7, '08': 8, \n",
    "                '09': 9, '10': 10, '11': 11, '12': 12, \n",
    "                'Jan': 1, 'Feb': 2, 'Mar': 3, 'Apr': 4, 'May': 5, 'Jun': 6, 'Jul': 7, \n",
    "                'Aug': 8, 'Sep': 9, 'Oct': 10, 'Nov': 11, 'Dec': 12}\n",
    "\n",
    "    # Caution: null values are replaced to 2028-03-01 in pubDate and acptDate\n",
    "    pubmed.pubYear = pubmed.pubYear.fillna(2028).astype('int64')\n",
    "    pubmed.pubMonth = pubmed.pubMonth.fillna('03').apply(lambda x: monthMap[x])\n",
    "    pubmed.pubDay = pubmed.pubDay.fillna(1).astype('int64')\n",
    "    pubmed['pubDate'] =  pd.to_datetime(pubmed[['pubYear', 'pubMonth', 'pubDay']].astype('str').agg('-'.join, axis=1))\n",
    "    \n",
    "    pubmed.acptYear = pubmed.acptYear.fillna(2028).astype('int64')\n",
    "    pubmed.acptMonth = pubmed.acptMonth.fillna(3).astype('int64')\n",
    "    pubmed.acptDay = pubmed.acptDay.fillna(1).astype('int64')\n",
    "    pubmed['acptDate'] =  pd.to_datetime(pubmed[['acptYear', 'acptMonth', 'acptDay']].astype('str').agg('-'.join, axis=1))\n",
    "    \n",
    "    pubmed.title = pubmed.title.str.lower()\n",
    "    pubmed_redup = pubmed.drop_duplicates(subset=['title']).drop_duplicates(subset=['doi'])\n",
    "    \n",
    "    print(datetime.now().strftime('%Y-%m-%d %H:%M:%S.%f') + \": Processing pubmed data finished.\")\n",
    "    \n",
    "\n",
    "    return pubmed_redup"
   ]
  },
  {
   "cell_type": "code",
   "execution_count": 11,
   "id": "2bf8be9d-aece-40b2-9f1a-87785ca4d39c",
   "metadata": {},
   "outputs": [
    {
     "name": "stdout",
     "output_type": "stream",
     "text": [
      "2021-07-26 00:04:15.458450: Loading data ...\n",
      "2021-07-26 00:04:17.108786: Processing pubmed data ...\n",
      "2021-07-26 00:04:26.044653: Processing pubmed data finished.\n"
     ]
    }
   ],
   "source": [
    "pubmed = load_data(pubmed_path)\n",
    "pubmed_day = concate_dates_and_redup(pubmed)"
   ]
  },
  {
   "cell_type": "code",
   "execution_count": 12,
   "id": "d8409685-02cc-488d-9925-94461bd138ff",
   "metadata": {},
   "outputs": [
    {
     "data": {
      "text/html": [
       "<div>\n",
       "<style scoped>\n",
       "    .dataframe tbody tr th:only-of-type {\n",
       "        vertical-align: middle;\n",
       "    }\n",
       "\n",
       "    .dataframe tbody tr th {\n",
       "        vertical-align: top;\n",
       "    }\n",
       "\n",
       "    .dataframe thead th {\n",
       "        text-align: right;\n",
       "    }\n",
       "</style>\n",
       "<table border=\"1\" class=\"dataframe\">\n",
       "  <thead>\n",
       "    <tr style=\"text-align: right;\">\n",
       "      <th></th>\n",
       "      <th>subDate</th>\n",
       "      <th>acptDate</th>\n",
       "      <th>pubDate</th>\n",
       "    </tr>\n",
       "  </thead>\n",
       "  <tbody>\n",
       "    <tr>\n",
       "      <th>count</th>\n",
       "      <td>3978</td>\n",
       "      <td>12565</td>\n",
       "      <td>12565</td>\n",
       "    </tr>\n",
       "    <tr>\n",
       "      <th>mean</th>\n",
       "      <td>2020-09-30 11:18:26.947963904</td>\n",
       "      <td>2022-09-08 08:15:32.877039360</td>\n",
       "      <td>2021-02-13 00:59:49.399124224</td>\n",
       "    </tr>\n",
       "    <tr>\n",
       "      <th>min</th>\n",
       "      <td>2019-10-16 23:06:34</td>\n",
       "      <td>2020-01-14 00:00:00</td>\n",
       "      <td>2020-01-01 00:00:00</td>\n",
       "    </tr>\n",
       "    <tr>\n",
       "      <th>25%</th>\n",
       "      <td>2020-05-24 00:00:00</td>\n",
       "      <td>2020-09-30 00:00:00</td>\n",
       "      <td>2020-10-01 00:00:00</td>\n",
       "    </tr>\n",
       "    <tr>\n",
       "      <th>50%</th>\n",
       "      <td>2020-09-10 00:00:00</td>\n",
       "      <td>2021-02-01 00:00:00</td>\n",
       "      <td>2021-02-01 00:00:00</td>\n",
       "    </tr>\n",
       "    <tr>\n",
       "      <th>75%</th>\n",
       "      <td>2021-02-02 00:00:00</td>\n",
       "      <td>2021-06-05 00:00:00</td>\n",
       "      <td>2021-04-01 00:00:00</td>\n",
       "    </tr>\n",
       "    <tr>\n",
       "      <th>max</th>\n",
       "      <td>2021-06-22 00:00:00</td>\n",
       "      <td>2028-03-01 00:00:00</td>\n",
       "      <td>2028-03-01 00:00:00</td>\n",
       "    </tr>\n",
       "  </tbody>\n",
       "</table>\n",
       "</div>"
      ],
      "text/plain": [
       "                             subDate                       acptDate  \\\n",
       "count                           3978                          12565   \n",
       "mean   2020-09-30 11:18:26.947963904  2022-09-08 08:15:32.877039360   \n",
       "min              2019-10-16 23:06:34            2020-01-14 00:00:00   \n",
       "25%              2020-05-24 00:00:00            2020-09-30 00:00:00   \n",
       "50%              2020-09-10 00:00:00            2021-02-01 00:00:00   \n",
       "75%              2021-02-02 00:00:00            2021-06-05 00:00:00   \n",
       "max              2021-06-22 00:00:00            2028-03-01 00:00:00   \n",
       "\n",
       "                             pubDate  \n",
       "count                          12565  \n",
       "mean   2021-02-13 00:59:49.399124224  \n",
       "min              2020-01-01 00:00:00  \n",
       "25%              2020-10-01 00:00:00  \n",
       "50%              2021-02-01 00:00:00  \n",
       "75%              2021-04-01 00:00:00  \n",
       "max              2028-03-01 00:00:00  "
      ]
     },
     "execution_count": 12,
     "metadata": {},
     "output_type": "execute_result"
    }
   ],
   "source": [
    "papers_dates = papers_subDate.merge(pubmed_day[['title', 'acptDate', 'pubDate']], left_on='title', right_on='title',how='left')\n",
    "papers_dates[['subDate', 'acptDate', 'pubDate']].describe(datetime_is_numeric=True)"
   ]
  },
  {
   "cell_type": "markdown",
   "id": "a44b0c1d-38d5-4bca-b20b-fe75ad82ed8b",
   "metadata": {},
   "source": [
    "# Add publishing labels\n",
    "## Add age to preprints"
   ]
  },
  {
   "cell_type": "code",
   "execution_count": 13,
   "id": "ab3a9ac4-fd72-4942-9e34-8c971df55c77",
   "metadata": {},
   "outputs": [
    {
     "name": "stdout",
     "output_type": "stream",
     "text": [
      "Lastest preprint submission time: 2021-06-22.\n"
     ]
    }
   ],
   "source": [
    "def add_age(papers):\n",
    "    print(\"Lastest preprint submission time: \" + papers_dates.subDate.max().strftime('%Y-%m-%d') + \".\")\n",
    "    papers['preprint_age'] = (papers.subDate.max() - papers.subDate) # 3548 preprints\n",
    "    \n",
    "    return papers\n",
    "\n",
    "papers_age = add_age(papers_dates)"
   ]
  },
  {
   "cell_type": "markdown",
   "id": "fd72ecfd-4725-4450-8bf9-da846a8796db",
   "metadata": {},
   "source": [
    "## Mark preprints vs published articles"
   ]
  },
  {
   "cell_type": "code",
   "execution_count": 14,
   "id": "e56e1e41-dc98-460d-9793-a873bca80750",
   "metadata": {},
   "outputs": [],
   "source": [
    "papers_age['is_preprint'] = papers_age.collection.isin(['arxiv', 'biorxiv', 'medrxiv']) \\\n",
    "                | papers_age.journal.isin(['ArXiv', 'medRxiv', 'bioRxiv', 'ChemRxiv']) \\\n",
    "                | ~papers_age.subDate.isna() # 11192(9468) published papers, 5703(5294) preprints(5272(4897) in arxiv, 399(371) in pubmed, 32(26) subDate not null)"
   ]
  },
  {
   "cell_type": "code",
   "execution_count": 15,
   "id": "3602d205-2f0c-45f3-9b73-20e994411429",
   "metadata": {},
   "outputs": [
    {
     "data": {
      "text/plain": [
       "18175"
      ]
     },
     "execution_count": 15,
     "metadata": {},
     "output_type": "execute_result"
    }
   ],
   "source": [
    "len(papers_age)"
   ]
  },
  {
   "cell_type": "markdown",
   "id": "8971f112-5f43-48d5-9c4b-93dbee2c72b9",
   "metadata": {},
   "source": [
    "## Add publish labels"
   ]
  },
  {
   "cell_type": "code",
   "execution_count": 16,
   "id": "febd36dd-7476-42f1-a03c-57f76a3d2b25",
   "metadata": {},
   "outputs": [
    {
     "data": {
      "text/plain": [
       "18"
      ]
     },
     "execution_count": 16,
     "metadata": {},
     "output_type": "execute_result"
    }
   ],
   "source": [
    "pub_preprints_manual_added = ['a rigorous evaluation of optimal peptide targets for ms-based clinical diagnostics of coronavirus disease 2019 (covid-19).',\n",
    "                              'vaccine optimization for covid-19, who to vaccinate first?',\n",
    "                              'identification of vulnerable populations and areas at higher risk of covid-19 related mortality in the u.s.',\n",
    "                              'accommodating individual travel history, global mobility, and unsampled diversity in phylogeography: a sars-cov-2 case study.',\n",
    "                              'sars-cov2 (covid-19) structural/evolution dynamicome: insights into functional evolution and human genomics.',\n",
    "                              'dynamics of b-cell repertoires and emergence of cross-reactive responses in covid-19 patients with different disease severity.',\n",
    "                              'fast identification of possible drug treatment of coronavirus disease -19 (covid-19) through computational drug repurposing study.',\n",
    "                              'supercomputer-based ensemble docking drug discovery pipeline with application to covid-19.',\n",
    "                              'adaptive evolution of peptide inhibitors for mutating sars-cov-2.',\n",
    "                              'comparative multiplexed interactomics of sars-cov-2 and homologous coronavirus non-structural proteins identifies unique and shared host-cell dependencies.',\n",
    "                              'conserved genomic terminals of sars-cov-2 as co-evolving functional elements and potential therapeutic targets.',\n",
    "                              'female reproductive tract has low concentration of sars-cov2 receptors.',\n",
    "                              'single-cell longitudinal analysis of sars-cov-2 infection in human bronchial epithelial cells.',\n",
    "                              'a transcriptional regulatory atlas of coronavirus infection of human cells.',\n",
    "                              'an insertion unique to sars-cov-2 exhibits superantigenic character strengthened by recent mutations.',\n",
    "                              'rna-gps predicts sars-cov-2 rna localization to host mitochondria and nucleolus.',\n",
    "                              'targeting the sars-cov-2 main protease to repurpose drugs for covid-19.',\n",
    "                              'a modular framework for multiscale multicellular spatial modeling of viral infection, immune response and drug therapy timing and efficacy in epithelial tissues: a multiscale model of viral infection in epithelial tissues.']\n",
    "len(pub_preprints_manual_added)"
   ]
  },
  {
   "cell_type": "code",
   "execution_count": 17,
   "id": "bdb0031b-3a87-499a-8b2c-7d47e3c50f4f",
   "metadata": {},
   "outputs": [],
   "source": [
    "# 11192(9468) pubmed papers published, 879(813) preprints published,(including 826(778) published match, 37(31) pubDate match, 18(5) manual added)\n",
    "papers_age['is_published'] = ~papers_age.is_preprint | \\\n",
    "                            (papers_age.is_preprint & (~papers_age.published.isna()\n",
    "                                                       | (~papers_age.pubDate.isna() & ((papers_age.acptDate < \"2028-03-01\") | \n",
    "                                                                                      ((papers_age.acptDate >= \"2028-03-01\") & ~papers_age.subDate.isna() & ~papers_age.journal.isna())))\n",
    "                                                       | papers_age.title.isin(pub_preprints_manual_added)))"
   ]
  },
  {
   "cell_type": "code",
   "execution_count": 18,
   "id": "2c0fa5fc-e432-4427-b5f1-7d9a94f0778f",
   "metadata": {},
   "outputs": [
    {
     "data": {
      "text/html": [
       "<div>\n",
       "<style scoped>\n",
       "    .dataframe tbody tr th:only-of-type {\n",
       "        vertical-align: middle;\n",
       "    }\n",
       "\n",
       "    .dataframe tbody tr th {\n",
       "        vertical-align: top;\n",
       "    }\n",
       "\n",
       "    .dataframe thead th {\n",
       "        text-align: right;\n",
       "    }\n",
       "</style>\n",
       "<table border=\"1\" class=\"dataframe\">\n",
       "  <thead>\n",
       "    <tr style=\"text-align: right;\">\n",
       "      <th></th>\n",
       "      <th>subDate</th>\n",
       "      <th>acptDate</th>\n",
       "      <th>pubDate</th>\n",
       "    </tr>\n",
       "  </thead>\n",
       "  <tbody>\n",
       "    <tr>\n",
       "      <th>count</th>\n",
       "      <td>0</td>\n",
       "      <td>110</td>\n",
       "      <td>110</td>\n",
       "    </tr>\n",
       "    <tr>\n",
       "      <th>mean</th>\n",
       "      <td>NaT</td>\n",
       "      <td>2028-03-01 00:00:00</td>\n",
       "      <td>2020-08-07 15:03:16.363636480</td>\n",
       "    </tr>\n",
       "    <tr>\n",
       "      <th>min</th>\n",
       "      <td>NaT</td>\n",
       "      <td>2028-03-01 00:00:00</td>\n",
       "      <td>2020-02-17 00:00:00</td>\n",
       "    </tr>\n",
       "    <tr>\n",
       "      <th>25%</th>\n",
       "      <td>NaT</td>\n",
       "      <td>2028-03-01 00:00:00</td>\n",
       "      <td>2020-05-18 06:00:00</td>\n",
       "    </tr>\n",
       "    <tr>\n",
       "      <th>50%</th>\n",
       "      <td>NaT</td>\n",
       "      <td>2028-03-01 00:00:00</td>\n",
       "      <td>2020-07-27 12:00:00</td>\n",
       "    </tr>\n",
       "    <tr>\n",
       "      <th>75%</th>\n",
       "      <td>NaT</td>\n",
       "      <td>2028-03-01 00:00:00</td>\n",
       "      <td>2020-11-03 00:00:00</td>\n",
       "    </tr>\n",
       "    <tr>\n",
       "      <th>max</th>\n",
       "      <td>NaT</td>\n",
       "      <td>2028-03-01 00:00:00</td>\n",
       "      <td>2020-12-29 00:00:00</td>\n",
       "    </tr>\n",
       "  </tbody>\n",
       "</table>\n",
       "</div>"
      ],
      "text/plain": [
       "      subDate             acptDate                        pubDate\n",
       "count       0                  110                            110\n",
       "mean      NaT  2028-03-01 00:00:00  2020-08-07 15:03:16.363636480\n",
       "min       NaT  2028-03-01 00:00:00            2020-02-17 00:00:00\n",
       "25%       NaT  2028-03-01 00:00:00            2020-05-18 06:00:00\n",
       "50%       NaT  2028-03-01 00:00:00            2020-07-27 12:00:00\n",
       "75%       NaT  2028-03-01 00:00:00            2020-11-03 00:00:00\n",
       "max       NaT  2028-03-01 00:00:00            2020-12-29 00:00:00"
      ]
     },
     "execution_count": 18,
     "metadata": {},
     "output_type": "execute_result"
    }
   ],
   "source": [
    "pd.set_option('display.max_colwidth', None)\n",
    "papers_age[papers_age.is_preprint & papers_age.published.isna() \n",
    "           & ~(~papers_age.pubDate.isna() & ((papers_age.acptDate < \"2028-03-01\") | \n",
    "                                             ((papers_age.acptDate >= \"2028-03-01\") & ~papers_age.subDate.isna() & ~papers_age.journal.isna())))\n",
    "           & ~papers_age.pubDate.isna() &  papers_age.subDate.isna() & (papers_age.journal == 'medRxiv') & (papers_age.pubDate < \"2021-01-01\")\n",
    "                                                                       ][['title', 'subDate', 'acptDate', 'pubDate', 'journal', 'published']].describe(datetime_is_numeric=True)#.head(140).tail(10)#\n",
    "\n",
    "# subData is not null: 16,\n",
    "# * pubDate is not null: 375, subDate is null: 359, 151 bioRxiv, 197 medRxiv, 3 ArXiv, 8 ChemRxiv Some articles are not correctly labeled"
   ]
  },
  {
   "cell_type": "code",
   "execution_count": 19,
   "id": "a592303d-55d3-4469-9f82-50e78f90366e",
   "metadata": {},
   "outputs": [
    {
     "data": {
      "text/plain": [
       "13176"
      ]
     },
     "execution_count": 19,
     "metadata": {},
     "output_type": "execute_result"
    }
   ],
   "source": [
    "len(papers_age[papers_age.is_published])"
   ]
  },
  {
   "cell_type": "code",
   "execution_count": 20,
   "id": "d4dc51e3-37f4-4bdd-aa95-3f0fa7661d17",
   "metadata": {},
   "outputs": [
    {
     "data": {
      "text/plain": [
       "4999"
      ]
     },
     "execution_count": 20,
     "metadata": {},
     "output_type": "execute_result"
    }
   ],
   "source": [
    "len(papers_age[~papers_age.is_published])"
   ]
  },
  {
   "cell_type": "code",
   "execution_count": 21,
   "id": "45d1f182-78bc-4708-8706-76a5f214aeca",
   "metadata": {},
   "outputs": [
    {
     "data": {
      "text/plain": [
       "920"
      ]
     },
     "execution_count": 21,
     "metadata": {},
     "output_type": "execute_result"
    }
   ],
   "source": [
    "len(papers_age[papers_age.is_preprint & papers_age.is_published])"
   ]
  },
  {
   "cell_type": "markdown",
   "id": "69af7405-a29f-4781-a2fa-aa84eba7fc26",
   "metadata": {},
   "source": [
    "## Seperate training and testing datasets"
   ]
  },
  {
   "cell_type": "code",
   "execution_count": 22,
   "id": "5055f32c-97bf-47dc-a91e-f39dfa8feba2",
   "metadata": {},
   "outputs": [
    {
     "data": {
      "text/plain": [
       "False    646\n",
       "True      10\n",
       "Name: is_published, dtype: int64"
      ]
     },
     "execution_count": 22,
     "metadata": {},
     "output_type": "execute_result"
    }
   ],
   "source": [
    "# Papers in last X days for searching promising papers:  \n",
    "#  X=30: 255-vs-2, *X=90: 680-vs-14, X=180: 1254-vs-102,\n",
    "papers_age['preprint_test'] = papers_age.preprint_age <= pd.Timedelta(90,'D') # 255\n",
    "\n",
    "papers_age[papers_age.preprint_test].is_published.value_counts() # 05-31: 669-vs-12, 07-11: 646 (unpub)-vs-10 (pub)"
   ]
  },
  {
   "cell_type": "code",
   "execution_count": 23,
   "id": "7aa48379-ed4c-4584-b00a-57820f6ede12",
   "metadata": {},
   "outputs": [],
   "source": [
    "papers_age['preprint_train'] = papers_age.is_preprint & ~papers_age.preprint_test"
   ]
  },
  {
   "cell_type": "code",
   "execution_count": 24,
   "id": "e5332d9a-e782-4fb2-bd01-205df8a51926",
   "metadata": {},
   "outputs": [],
   "source": [
    "papers_age['pubmed_train'] = ~papers_age.is_preprint"
   ]
  },
  {
   "cell_type": "code",
   "execution_count": 25,
   "id": "0e005f57-c417-4225-a695-b5783c8f5fb9",
   "metadata": {},
   "outputs": [
    {
     "data": {
      "text/plain": [
       "13166"
      ]
     },
     "execution_count": 25,
     "metadata": {},
     "output_type": "execute_result"
    }
   ],
   "source": [
    "# len(papers_age[papers_age.preprint_train & ~papers_age.is_published])\n",
    "\n",
    "# Published papers\n",
    "len(papers_age[(papers_age.preprint_train | papers_age.pubmed_train)& papers_age.is_published])"
   ]
  },
  {
   "cell_type": "code",
   "execution_count": 26,
   "id": "f4a21b45-5039-47d6-8e9c-57f09904da41",
   "metadata": {},
   "outputs": [
    {
     "data": {
      "text/plain": [
       "656"
      ]
     },
     "execution_count": 26,
     "metadata": {},
     "output_type": "execute_result"
    }
   ],
   "source": [
    "len(papers_age[papers_age.preprint_test])"
   ]
  },
  {
   "cell_type": "markdown",
   "id": "a44b5142-4a7e-4d60-b394-9118b7f733a9",
   "metadata": {},
   "source": [
    "# Combine features and save"
   ]
  },
  {
   "cell_type": "code",
   "execution_count": 27,
   "id": "38e3c3ca-77fa-427d-ad2b-b6cb0692400a",
   "metadata": {},
   "outputs": [],
   "source": [
    "def save_features(filepath, papers):\n",
    "    print(datetime.now().strftime('%Y-%m-%d %H:%M:%S.%f') + \": Save features ...\")\n",
    "\n",
    "    papers.to_csv(filepath)"
   ]
  },
  {
   "cell_type": "code",
   "execution_count": 28,
   "id": "096b0472-b27b-4428-a2ef-b2fa76eeb87d",
   "metadata": {},
   "outputs": [
    {
     "data": {
      "text/plain": [
       "18175"
      ]
     },
     "execution_count": 28,
     "metadata": {},
     "output_type": "execute_result"
    }
   ],
   "source": [
    "len(papers_age.index)"
   ]
  },
  {
   "cell_type": "code",
   "execution_count": 29,
   "id": "8dbda36c-c762-40cc-b977-16c521ec6693",
   "metadata": {},
   "outputs": [
    {
     "name": "stdout",
     "output_type": "stream",
     "text": [
      "2021-07-26 00:04:27.987118: Save features ...\n",
      "2021-07-26 00:04:31.407481: Save features ...\n"
     ]
    }
   ],
   "source": [
    "# Training data\n",
    "save_features(train_data_path, papers_age[papers_age.preprint_train | papers_age.pubmed_train])\n",
    "\n",
    "# Testing data\n",
    "save_features(test_data_path, papers_age[papers_age.preprint_test])"
   ]
  },
  {
   "cell_type": "code",
   "execution_count": 30,
   "id": "8102eff4-efaa-457d-a874-85e0e8d313a0",
   "metadata": {},
   "outputs": [
    {
     "name": "stdout",
     "output_type": "stream",
     "text": [
      "2021-07-26 00:04:31.533194: Save features ...\n"
     ]
    }
   ],
   "source": [
    "# All data\n",
    "save_features(all_data_path, papers_age)"
   ]
  },
  {
   "cell_type": "markdown",
   "id": "9f70b059-b2dd-448f-bd6f-d921d9555f3b",
   "metadata": {},
   "source": [
    "# Check distribution of omics papers"
   ]
  },
  {
   "cell_type": "code",
   "execution_count": 31,
   "id": "725f9658-8ba1-47f9-a8ee-d80b8feffe02",
   "metadata": {},
   "outputs": [
    {
     "data": {
      "text/html": [
       "<div>\n",
       "<style scoped>\n",
       "    .dataframe tbody tr th:only-of-type {\n",
       "        vertical-align: middle;\n",
       "    }\n",
       "\n",
       "    .dataframe tbody tr th {\n",
       "        vertical-align: top;\n",
       "    }\n",
       "\n",
       "    .dataframe thead th {\n",
       "        text-align: right;\n",
       "    }\n",
       "</style>\n",
       "<table border=\"1\" class=\"dataframe\">\n",
       "  <thead>\n",
       "    <tr style=\"text-align: right;\">\n",
       "      <th></th>\n",
       "      <th>title</th>\n",
       "    </tr>\n",
       "    <tr>\n",
       "      <th>topic</th>\n",
       "      <th></th>\n",
       "    </tr>\n",
       "  </thead>\n",
       "  <tbody>\n",
       "    <tr>\n",
       "      <th>Clinics</th>\n",
       "      <td>85</td>\n",
       "    </tr>\n",
       "    <tr>\n",
       "      <th>Drug discovery</th>\n",
       "      <td>382</td>\n",
       "    </tr>\n",
       "    <tr>\n",
       "      <th>Epidemiology</th>\n",
       "      <td>75</td>\n",
       "    </tr>\n",
       "    <tr>\n",
       "      <th>Genomics</th>\n",
       "      <td>1307</td>\n",
       "    </tr>\n",
       "    <tr>\n",
       "      <th>Healthcare</th>\n",
       "      <td>41</td>\n",
       "    </tr>\n",
       "    <tr>\n",
       "      <th>Imaging</th>\n",
       "      <td>5</td>\n",
       "    </tr>\n",
       "  </tbody>\n",
       "</table>\n",
       "</div>"
      ],
      "text/plain": [
       "                title\n",
       "topic                \n",
       "Clinics            85\n",
       "Drug discovery    382\n",
       "Epidemiology       75\n",
       "Genomics         1307\n",
       "Healthcare         41\n",
       "Imaging             5"
      ]
     },
     "execution_count": 31,
     "metadata": {},
     "output_type": "execute_result"
    }
   ],
   "source": [
    "papers_age[papers_age.keywords.str.contains('genom')][['title','topic']].groupby('topic').count()"
   ]
  },
  {
   "cell_type": "code",
   "execution_count": 32,
   "id": "3ed026cb-eaf5-4a1f-9785-a0319c0e1ac3",
   "metadata": {},
   "outputs": [
    {
     "data": {
      "text/html": [
       "<div>\n",
       "<style scoped>\n",
       "    .dataframe tbody tr th:only-of-type {\n",
       "        vertical-align: middle;\n",
       "    }\n",
       "\n",
       "    .dataframe tbody tr th {\n",
       "        vertical-align: top;\n",
       "    }\n",
       "\n",
       "    .dataframe thead th {\n",
       "        text-align: right;\n",
       "    }\n",
       "</style>\n",
       "<table border=\"1\" class=\"dataframe\">\n",
       "  <thead>\n",
       "    <tr style=\"text-align: right;\">\n",
       "      <th></th>\n",
       "      <th>title</th>\n",
       "    </tr>\n",
       "    <tr>\n",
       "      <th>topic</th>\n",
       "      <th></th>\n",
       "    </tr>\n",
       "  </thead>\n",
       "  <tbody>\n",
       "    <tr>\n",
       "      <th>Clinics</th>\n",
       "      <td>46</td>\n",
       "    </tr>\n",
       "    <tr>\n",
       "      <th>Drug discovery</th>\n",
       "      <td>494</td>\n",
       "    </tr>\n",
       "    <tr>\n",
       "      <th>Genomics</th>\n",
       "      <td>56</td>\n",
       "    </tr>\n",
       "    <tr>\n",
       "      <th>Healthcare</th>\n",
       "      <td>4</td>\n",
       "    </tr>\n",
       "    <tr>\n",
       "      <th>Imaging</th>\n",
       "      <td>2</td>\n",
       "    </tr>\n",
       "  </tbody>\n",
       "</table>\n",
       "</div>"
      ],
      "text/plain": [
       "                title\n",
       "topic                \n",
       "Clinics            46\n",
       "Drug discovery    494\n",
       "Genomics           56\n",
       "Healthcare          4\n",
       "Imaging             2"
      ]
     },
     "execution_count": 32,
     "metadata": {},
     "output_type": "execute_result"
    }
   ],
   "source": [
    "papers_age[papers_age.keywords.str.contains('transcriptom')][['title','topic']].groupby('topic').count()"
   ]
  },
  {
   "cell_type": "code",
   "execution_count": 33,
   "id": "b58ee0a4-6ee9-4ec6-8816-f99fb76f9620",
   "metadata": {},
   "outputs": [
    {
     "data": {
      "text/html": [
       "<div>\n",
       "<style scoped>\n",
       "    .dataframe tbody tr th:only-of-type {\n",
       "        vertical-align: middle;\n",
       "    }\n",
       "\n",
       "    .dataframe tbody tr th {\n",
       "        vertical-align: top;\n",
       "    }\n",
       "\n",
       "    .dataframe thead th {\n",
       "        text-align: right;\n",
       "    }\n",
       "</style>\n",
       "<table border=\"1\" class=\"dataframe\">\n",
       "  <thead>\n",
       "    <tr style=\"text-align: right;\">\n",
       "      <th></th>\n",
       "      <th>title</th>\n",
       "    </tr>\n",
       "    <tr>\n",
       "      <th>topic</th>\n",
       "      <th></th>\n",
       "    </tr>\n",
       "  </thead>\n",
       "  <tbody>\n",
       "    <tr>\n",
       "      <th>Clinics</th>\n",
       "      <td>66</td>\n",
       "    </tr>\n",
       "    <tr>\n",
       "      <th>Drug discovery</th>\n",
       "      <td>372</td>\n",
       "    </tr>\n",
       "    <tr>\n",
       "      <th>Epidemiology</th>\n",
       "      <td>4</td>\n",
       "    </tr>\n",
       "    <tr>\n",
       "      <th>Genomics</th>\n",
       "      <td>65</td>\n",
       "    </tr>\n",
       "    <tr>\n",
       "      <th>Healthcare</th>\n",
       "      <td>7</td>\n",
       "    </tr>\n",
       "    <tr>\n",
       "      <th>Imaging</th>\n",
       "      <td>2</td>\n",
       "    </tr>\n",
       "  </tbody>\n",
       "</table>\n",
       "</div>"
      ],
      "text/plain": [
       "                title\n",
       "topic                \n",
       "Clinics            66\n",
       "Drug discovery    372\n",
       "Epidemiology        4\n",
       "Genomics           65\n",
       "Healthcare          7\n",
       "Imaging             2"
      ]
     },
     "execution_count": 33,
     "metadata": {},
     "output_type": "execute_result"
    }
   ],
   "source": [
    "papers_age[papers_age.keywords.str.contains('proteom')][['title','topic']].groupby('topic').count()"
   ]
  },
  {
   "cell_type": "code",
   "execution_count": 34,
   "id": "817f166b-eb28-4097-a5d8-4976d510449e",
   "metadata": {},
   "outputs": [
    {
     "data": {
      "text/html": [
       "<div>\n",
       "<style scoped>\n",
       "    .dataframe tbody tr th:only-of-type {\n",
       "        vertical-align: middle;\n",
       "    }\n",
       "\n",
       "    .dataframe tbody tr th {\n",
       "        vertical-align: top;\n",
       "    }\n",
       "\n",
       "    .dataframe thead th {\n",
       "        text-align: right;\n",
       "    }\n",
       "</style>\n",
       "<table border=\"1\" class=\"dataframe\">\n",
       "  <thead>\n",
       "    <tr style=\"text-align: right;\">\n",
       "      <th></th>\n",
       "      <th>title</th>\n",
       "    </tr>\n",
       "    <tr>\n",
       "      <th>topic</th>\n",
       "      <th></th>\n",
       "    </tr>\n",
       "  </thead>\n",
       "  <tbody>\n",
       "    <tr>\n",
       "      <th>Clinics</th>\n",
       "      <td>37</td>\n",
       "    </tr>\n",
       "    <tr>\n",
       "      <th>Drug discovery</th>\n",
       "      <td>52</td>\n",
       "    </tr>\n",
       "    <tr>\n",
       "      <th>Epidemiology</th>\n",
       "      <td>1</td>\n",
       "    </tr>\n",
       "    <tr>\n",
       "      <th>Genomics</th>\n",
       "      <td>7</td>\n",
       "    </tr>\n",
       "    <tr>\n",
       "      <th>Healthcare</th>\n",
       "      <td>4</td>\n",
       "    </tr>\n",
       "    <tr>\n",
       "      <th>Imaging</th>\n",
       "      <td>1</td>\n",
       "    </tr>\n",
       "  </tbody>\n",
       "</table>\n",
       "</div>"
      ],
      "text/plain": [
       "                title\n",
       "topic                \n",
       "Clinics            37\n",
       "Drug discovery     52\n",
       "Epidemiology        1\n",
       "Genomics            7\n",
       "Healthcare          4\n",
       "Imaging             1"
      ]
     },
     "execution_count": 34,
     "metadata": {},
     "output_type": "execute_result"
    }
   ],
   "source": [
    "papers_age[papers_age.keywords.str.contains('metabolom')][['title','topic']].groupby('topic').count()"
   ]
  },
  {
   "cell_type": "code",
   "execution_count": 35,
   "id": "f8daa38d-2bfe-4538-8eb4-7a2715540c5b",
   "metadata": {},
   "outputs": [
    {
     "data": {
      "text/html": [
       "<div>\n",
       "<style scoped>\n",
       "    .dataframe tbody tr th:only-of-type {\n",
       "        vertical-align: middle;\n",
       "    }\n",
       "\n",
       "    .dataframe tbody tr th {\n",
       "        vertical-align: top;\n",
       "    }\n",
       "\n",
       "    .dataframe thead th {\n",
       "        text-align: right;\n",
       "    }\n",
       "</style>\n",
       "<table border=\"1\" class=\"dataframe\">\n",
       "  <thead>\n",
       "    <tr style=\"text-align: right;\">\n",
       "      <th></th>\n",
       "      <th>title</th>\n",
       "    </tr>\n",
       "    <tr>\n",
       "      <th>topic</th>\n",
       "      <th></th>\n",
       "    </tr>\n",
       "  </thead>\n",
       "  <tbody>\n",
       "    <tr>\n",
       "      <th>Clinics</th>\n",
       "      <td>1</td>\n",
       "    </tr>\n",
       "    <tr>\n",
       "      <th>Drug discovery</th>\n",
       "      <td>110</td>\n",
       "    </tr>\n",
       "    <tr>\n",
       "      <th>Genomics</th>\n",
       "      <td>3</td>\n",
       "    </tr>\n",
       "    <tr>\n",
       "      <th>Healthcare</th>\n",
       "      <td>2</td>\n",
       "    </tr>\n",
       "    <tr>\n",
       "      <th>Imaging</th>\n",
       "      <td>2</td>\n",
       "    </tr>\n",
       "  </tbody>\n",
       "</table>\n",
       "</div>"
      ],
      "text/plain": [
       "                title\n",
       "topic                \n",
       "Clinics             1\n",
       "Drug discovery    110\n",
       "Genomics            3\n",
       "Healthcare          2\n",
       "Imaging             2"
      ]
     },
     "execution_count": 35,
     "metadata": {},
     "output_type": "execute_result"
    }
   ],
   "source": [
    "papers_age[papers_age.keywords.str.contains('interactom')][['title','topic']].groupby('topic').count()"
   ]
  },
  {
   "cell_type": "code",
   "execution_count": 36,
   "id": "63a64e7b-bf18-4df6-aceb-eecf043ad6f6",
   "metadata": {},
   "outputs": [
    {
     "data": {
      "text/html": [
       "<div>\n",
       "<style scoped>\n",
       "    .dataframe tbody tr th:only-of-type {\n",
       "        vertical-align: middle;\n",
       "    }\n",
       "\n",
       "    .dataframe tbody tr th {\n",
       "        vertical-align: top;\n",
       "    }\n",
       "\n",
       "    .dataframe thead th {\n",
       "        text-align: right;\n",
       "    }\n",
       "</style>\n",
       "<table border=\"1\" class=\"dataframe\">\n",
       "  <thead>\n",
       "    <tr style=\"text-align: right;\">\n",
       "      <th></th>\n",
       "      <th>title</th>\n",
       "    </tr>\n",
       "    <tr>\n",
       "      <th>topic</th>\n",
       "      <th></th>\n",
       "    </tr>\n",
       "  </thead>\n",
       "  <tbody>\n",
       "    <tr>\n",
       "      <th>Clinics</th>\n",
       "      <td>2</td>\n",
       "    </tr>\n",
       "    <tr>\n",
       "      <th>Drug discovery</th>\n",
       "      <td>2</td>\n",
       "    </tr>\n",
       "    <tr>\n",
       "      <th>Genomics</th>\n",
       "      <td>1</td>\n",
       "    </tr>\n",
       "  </tbody>\n",
       "</table>\n",
       "</div>"
      ],
      "text/plain": [
       "                title\n",
       "topic                \n",
       "Clinics             2\n",
       "Drug discovery      2\n",
       "Genomics            1"
      ]
     },
     "execution_count": 36,
     "metadata": {},
     "output_type": "execute_result"
    }
   ],
   "source": [
    "papers_age[papers_age.keywords.str.contains('phenom')][['title','topic']].groupby('topic').count()"
   ]
  },
  {
   "cell_type": "code",
   "execution_count": 37,
   "id": "9fc0532f-c772-46f9-87db-7d3dfc37ed80",
   "metadata": {},
   "outputs": [
    {
     "data": {
      "text/html": [
       "<div>\n",
       "<style scoped>\n",
       "    .dataframe tbody tr th:only-of-type {\n",
       "        vertical-align: middle;\n",
       "    }\n",
       "\n",
       "    .dataframe tbody tr th {\n",
       "        vertical-align: top;\n",
       "    }\n",
       "\n",
       "    .dataframe thead th {\n",
       "        text-align: right;\n",
       "    }\n",
       "</style>\n",
       "<table border=\"1\" class=\"dataframe\">\n",
       "  <thead>\n",
       "    <tr style=\"text-align: right;\">\n",
       "      <th></th>\n",
       "      <th>title</th>\n",
       "    </tr>\n",
       "    <tr>\n",
       "      <th>topic</th>\n",
       "      <th></th>\n",
       "    </tr>\n",
       "  </thead>\n",
       "  <tbody>\n",
       "    <tr>\n",
       "      <th>Clinics</th>\n",
       "      <td>17</td>\n",
       "    </tr>\n",
       "    <tr>\n",
       "      <th>Drug discovery</th>\n",
       "      <td>1</td>\n",
       "    </tr>\n",
       "    <tr>\n",
       "      <th>Epidemiology</th>\n",
       "      <td>12</td>\n",
       "    </tr>\n",
       "    <tr>\n",
       "      <th>Genomics</th>\n",
       "      <td>1</td>\n",
       "    </tr>\n",
       "    <tr>\n",
       "      <th>Imaging</th>\n",
       "      <td>61</td>\n",
       "    </tr>\n",
       "  </tbody>\n",
       "</table>\n",
       "</div>"
      ],
      "text/plain": [
       "                title\n",
       "topic                \n",
       "Clinics            17\n",
       "Drug discovery      1\n",
       "Epidemiology       12\n",
       "Genomics            1\n",
       "Imaging            61"
      ]
     },
     "execution_count": 37,
     "metadata": {},
     "output_type": "execute_result"
    }
   ],
   "source": [
    "papers_age[papers_age.keywords.str.contains('radiom')][['title','topic']].groupby('topic').count()"
   ]
  },
  {
   "cell_type": "code",
   "execution_count": 38,
   "id": "be6a3029-9a15-4e26-9d64-924e71287786",
   "metadata": {},
   "outputs": [
    {
     "data": {
      "text/html": [
       "<div>\n",
       "<style scoped>\n",
       "    .dataframe tbody tr th:only-of-type {\n",
       "        vertical-align: middle;\n",
       "    }\n",
       "\n",
       "    .dataframe tbody tr th {\n",
       "        vertical-align: top;\n",
       "    }\n",
       "\n",
       "    .dataframe thead th {\n",
       "        text-align: right;\n",
       "    }\n",
       "</style>\n",
       "<table border=\"1\" class=\"dataframe\">\n",
       "  <thead>\n",
       "    <tr style=\"text-align: right;\">\n",
       "      <th></th>\n",
       "      <th>keywords</th>\n",
       "    </tr>\n",
       "    <tr>\n",
       "      <th>topic</th>\n",
       "      <th></th>\n",
       "    </tr>\n",
       "  </thead>\n",
       "  <tbody>\n",
       "  </tbody>\n",
       "</table>\n",
       "</div>"
      ],
      "text/plain": [
       "Empty DataFrame\n",
       "Columns: [keywords]\n",
       "Index: []"
      ]
     },
     "execution_count": 38,
     "metadata": {},
     "output_type": "execute_result"
    }
   ],
   "source": [
    "papers_age[papers_age.keywords.str.contains('epigenom')][['keywords','topic']].groupby('topic').count()"
   ]
  },
  {
   "cell_type": "code",
   "execution_count": null,
   "id": "771ed7ff-11c8-44ce-ae9d-27b340b8fc7a",
   "metadata": {},
   "outputs": [],
   "source": []
  }
 ],
 "metadata": {
  "kernelspec": {
   "display_name": "Python 3",
   "language": "python",
   "name": "python3"
  },
  "language_info": {
   "codemirror_mode": {
    "name": "ipython",
    "version": 3
   },
   "file_extension": ".py",
   "mimetype": "text/x-python",
   "name": "python",
   "nbconvert_exporter": "python",
   "pygments_lexer": "ipython3",
   "version": "3.8.5"
  },
  "toc-autonumbering": true
 },
 "nbformat": 4,
 "nbformat_minor": 5
}
