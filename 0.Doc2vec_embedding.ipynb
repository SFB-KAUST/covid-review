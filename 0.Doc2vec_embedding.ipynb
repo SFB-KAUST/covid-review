{
 "cells": [
  {
   "cell_type": "markdown",
   "metadata": {},
   "source": [
    "# Doc2vec embedding"
   ]
  },
  {
   "cell_type": "markdown",
   "metadata": {},
   "source": [
    "- Extract features using Doc2vec\n",
    "- Evaluate features using XGBoost"
   ]
  },
  {
   "cell_type": "markdown",
   "metadata": {},
   "source": [
    "## Data loading & exploration"
   ]
  },
  {
   "cell_type": "code",
   "execution_count": 1,
   "metadata": {},
   "outputs": [],
   "source": [
    "# Import data\n",
    "import pandas as pd\n",
    "\n",
    "ori_papers = pd.read_csv('./data/compdata_cit_authmet.csv', index_col=False)"
   ]
  },
  {
   "cell_type": "code",
   "execution_count": 2,
   "metadata": {},
   "outputs": [],
   "source": [
    "ori_papers['title'] = ori_papers['title'].fillna('NULL')"
   ]
  },
  {
   "cell_type": "code",
   "execution_count": 3,
   "metadata": {},
   "outputs": [
    {
     "data": {
      "text/html": [
       "<div>\n",
       "<style scoped>\n",
       "    .dataframe tbody tr th:only-of-type {\n",
       "        vertical-align: middle;\n",
       "    }\n",
       "\n",
       "    .dataframe tbody tr th {\n",
       "        vertical-align: top;\n",
       "    }\n",
       "\n",
       "    .dataframe thead th {\n",
       "        text-align: right;\n",
       "    }\n",
       "</style>\n",
       "<table border=\"1\" class=\"dataframe\">\n",
       "  <thead>\n",
       "    <tr style=\"text-align: right;\">\n",
       "      <th></th>\n",
       "      <th>title</th>\n",
       "      <th>size</th>\n",
       "    </tr>\n",
       "  </thead>\n",
       "  <tbody>\n",
       "    <tr>\n",
       "      <th>3668</th>\n",
       "      <td>NULL</td>\n",
       "      <td>31</td>\n",
       "    </tr>\n",
       "    <tr>\n",
       "      <th>3104</th>\n",
       "      <td>Is it safe to lift COVID-19 travel bans? The N...</td>\n",
       "      <td>3</td>\n",
       "    </tr>\n",
       "    <tr>\n",
       "      <th>2520</th>\n",
       "      <td>Genome sequencing of the first SARS-CoV-2 repo...</td>\n",
       "      <td>2</td>\n",
       "    </tr>\n",
       "    <tr>\n",
       "      <th>4088</th>\n",
       "      <td>Predicting the second wave of COVID-19 in Wash...</td>\n",
       "      <td>2</td>\n",
       "    </tr>\n",
       "    <tr>\n",
       "      <th>3718</th>\n",
       "      <td>Neutralizing antibody and soluble ACE2 inhibit...</td>\n",
       "      <td>2</td>\n",
       "    </tr>\n",
       "    <tr>\n",
       "      <th>...</th>\n",
       "      <td>...</td>\n",
       "      <td>...</td>\n",
       "    </tr>\n",
       "    <tr>\n",
       "      <th>1898</th>\n",
       "      <td>Development, evaluation, and validation of mac...</td>\n",
       "      <td>1</td>\n",
       "    </tr>\n",
       "    <tr>\n",
       "      <th>1897</th>\n",
       "      <td>Development of severe acute respiratory syndro...</td>\n",
       "      <td>1</td>\n",
       "    </tr>\n",
       "    <tr>\n",
       "      <th>1896</th>\n",
       "      <td>Development of mass spectrometry-based targete...</td>\n",
       "      <td>1</td>\n",
       "    </tr>\n",
       "    <tr>\n",
       "      <th>1895</th>\n",
       "      <td>Development of a volumetric pancreas segmentat...</td>\n",
       "      <td>1</td>\n",
       "    </tr>\n",
       "    <tr>\n",
       "      <th>5685</th>\n",
       "      <td>β-Coronaviruses use lysosomal organelles for c...</td>\n",
       "      <td>1</td>\n",
       "    </tr>\n",
       "  </tbody>\n",
       "</table>\n",
       "<p>5686 rows × 2 columns</p>\n",
       "</div>"
      ],
      "text/plain": [
       "                                                  title  size\n",
       "3668                                               NULL    31\n",
       "3104  Is it safe to lift COVID-19 travel bans? The N...     3\n",
       "2520  Genome sequencing of the first SARS-CoV-2 repo...     2\n",
       "4088  Predicting the second wave of COVID-19 in Wash...     2\n",
       "3718  Neutralizing antibody and soluble ACE2 inhibit...     2\n",
       "...                                                 ...   ...\n",
       "1898  Development, evaluation, and validation of mac...     1\n",
       "1897  Development of severe acute respiratory syndro...     1\n",
       "1896  Development of mass spectrometry-based targete...     1\n",
       "1895  Development of a volumetric pancreas segmentat...     1\n",
       "5685  β-Coronaviruses use lysosomal organelles for c...     1\n",
       "\n",
       "[5686 rows x 2 columns]"
      ]
     },
     "execution_count": 3,
     "metadata": {},
     "output_type": "execute_result"
    }
   ],
   "source": [
    "paper_count_by_title = ori_papers.groupby(['title'],as_index=False).size().sort_values(by='size', ascending=False)\n",
    "paper_count_by_title.to_csv('../covid-review-old/data/paper_count_by_title.csv')\n",
    "paper_count_by_title"
   ]
  },
  {
   "cell_type": "code",
   "execution_count": 4,
   "metadata": {},
   "outputs": [],
   "source": [
    "papers = ori_papers.drop_duplicates(subset=['title'])"
   ]
  },
  {
   "cell_type": "code",
   "execution_count": 5,
   "metadata": {},
   "outputs": [
    {
     "data": {
      "text/plain": [
       "Index(['Unnamed: 0', 'title', 'abstract', 'journal', 'DOI', 'date',\n",
       "       'collection', 'published', 'nauthors', 'topic.Healthcare',\n",
       "       'topic.Drug discovery', 'topic.Epidemiology', 'topic.Clinics',\n",
       "       'topic.Chest X-Ray', 'topic.Genomics', 'topic', 'numcit', 'influcit',\n",
       "       'DL_Pdf', 'DL_Full', 'DL_Abstract', 'cit', 'cit_velocity',\n",
       "       'influential_cit', 'sum.npapers', 'sum.infCit', 'mean.npapers',\n",
       "       'mean.infCit', 'max.npapers', 'max.infCit'],\n",
       "      dtype='object')"
      ]
     },
     "execution_count": 5,
     "metadata": {},
     "output_type": "execute_result"
    }
   ],
   "source": [
    "papers.columns"
   ]
  },
  {
   "cell_type": "code",
   "execution_count": 6,
   "metadata": {},
   "outputs": [
    {
     "name": "stderr",
     "output_type": "stream",
     "text": [
      "/Users/xuxiaopeng/opt/anaconda3/envs/ml-env/lib/python3.7/site-packages/pandas/core/frame.py:4170: SettingWithCopyWarning: \n",
      "A value is trying to be set on a copy of a slice from a DataFrame\n",
      "\n",
      "See the caveats in the documentation: https://pandas.pydata.org/pandas-docs/stable/user_guide/indexing.html#returning-a-view-versus-a-copy\n",
      "  errors=errors,\n"
     ]
    }
   ],
   "source": [
    "papers.drop(['Unnamed: 0'], axis=1, inplace=True)"
   ]
  },
  {
   "cell_type": "code",
   "execution_count": 7,
   "metadata": {},
   "outputs": [
    {
     "data": {
      "text/plain": [
       "72"
      ]
     },
     "execution_count": 7,
     "metadata": {},
     "output_type": "execute_result"
    }
   ],
   "source": [
    "dup_num = len(ori_papers) - len(papers)\n",
    "dup_num"
   ]
  },
  {
   "cell_type": "markdown",
   "metadata": {},
   "source": [
    "## Preprocessing"
   ]
  },
  {
   "cell_type": "code",
   "execution_count": 8,
   "metadata": {},
   "outputs": [],
   "source": [
    "import re\n",
    "\n",
    "doc_words = papers['abstract'].map(lambda x: re.sub('[,\\:\\.!?]', ' ', x)) #use only abstracts"
   ]
  },
  {
   "cell_type": "code",
   "execution_count": 9,
   "metadata": {},
   "outputs": [],
   "source": [
    "# Tokenize &# Lemmatize the documents.\n",
    "from nltk.tokenize import RegexpTokenizer\n",
    "from nltk.stem.wordnet import WordNetLemmatizer\n",
    "\n",
    "# Split the documents into tokens.\n",
    "tokenizer = RegexpTokenizer(r'\\w+')\n",
    "doc_tokenizers = doc_words.apply(lambda x : tokenizer.tokenize(x.lower()))\n",
    "\n",
    "lemmatizer = WordNetLemmatizer()\n",
    "docs = [[lemmatizer.lemmatize(token) for token in doc] for doc in doc_tokenizers]"
   ]
  },
  {
   "cell_type": "code",
   "execution_count": 10,
   "metadata": {},
   "outputs": [],
   "source": [
    "# Compute bigrams.\n",
    "from gensim.models import Phrases\n",
    "\n",
    "# Add bigrams and trigrams to docs (only ones that appear 20 times or more).\n",
    "bigram = Phrases(docs, min_count=20)\n",
    "for idx in range(len(docs)):\n",
    "    for token in bigram[docs[idx]]:\n",
    "        if '_' in token:\n",
    "            # Token is a bigram, add to document.\n",
    "            docs[idx].append(token)"
   ]
  },
  {
   "cell_type": "code",
   "execution_count": 11,
   "metadata": {},
   "outputs": [],
   "source": [
    "# Remove rare and common tokens.\n",
    "from gensim.corpora import Dictionary\n",
    "\n",
    "# Create a dictionary representation of the documents.\n",
    "dictionary = Dictionary(docs)\n",
    "\n",
    "# Filter out words that occur less than 20 documents, or more than 50% of the documents.\n",
    "dictionary.filter_extremes(no_below=20, no_above=0.5)"
   ]
  },
  {
   "cell_type": "code",
   "execution_count": 12,
   "metadata": {},
   "outputs": [],
   "source": [
    "# Bag-of-words representation of the documents.\n",
    "corpus = [dictionary.doc2bow(doc) for doc in docs]"
   ]
  },
  {
   "cell_type": "code",
   "execution_count": 13,
   "metadata": {},
   "outputs": [],
   "source": [
    "# dictionary.filter_tokens(bad_ids=[dictionary.token2id['sar']])\n",
    "# dictionary.filter_tokens(bad_ids=[dictionary.token2id['coronavirus']])"
   ]
  },
  {
   "cell_type": "code",
   "execution_count": 14,
   "metadata": {},
   "outputs": [
    {
     "name": "stdout",
     "output_type": "stream",
     "text": [
      "Number of unique tokens: 4412\n",
      "Number of documents: 5686\n"
     ]
    }
   ],
   "source": [
    "print('Number of unique tokens: %d' % len(dictionary))\n",
    "print('Number of documents: %d' % len(corpus))"
   ]
  },
  {
   "cell_type": "markdown",
   "metadata": {},
   "source": [
    "## Doc2Vec feature extraction"
   ]
  },
  {
   "cell_type": "code",
   "execution_count": 15,
   "metadata": {},
   "outputs": [],
   "source": [
    "import gensim\n",
    "\n",
    "def pre_process(docs):\n",
    "    for i in range(len(docs)):\n",
    "        yield gensim.models.doc2vec.TaggedDocument(docs[i], [i])\n",
    "        \n",
    "train_corpus = list(pre_process(docs))"
   ]
  },
  {
   "cell_type": "code",
   "execution_count": 16,
   "metadata": {},
   "outputs": [],
   "source": [
    "vector_size=50\n",
    "min_count=2\n",
    "epochs=40\n",
    "\n",
    "model = gensim.models.doc2vec.Doc2Vec(vector_size=vector_size, min_count=min_count, epochs=epochs)\n",
    "model.build_vocab(train_corpus)"
   ]
  },
  {
   "cell_type": "code",
   "execution_count": 17,
   "metadata": {},
   "outputs": [],
   "source": [
    "model.train(train_corpus, total_examples=model.corpus_count, epochs=model.epochs)\n",
    "\n",
    "doc2vec_features = list(map(lambda doc:model.infer_vector(doc), docs))\n",
    "pd_doc2vec_features = pd.DataFrame(doc2vec_features)"
   ]
  },
  {
   "cell_type": "markdown",
   "metadata": {},
   "source": [
    "## Combine features and save"
   ]
  },
  {
   "cell_type": "code",
   "execution_count": 18,
   "metadata": {},
   "outputs": [],
   "source": [
    "papers.reset_index(drop=True, inplace=True)\n",
    "X = pd.concat([papers, pd_doc2vec_features], axis=1)"
   ]
  },
  {
   "cell_type": "code",
   "execution_count": 19,
   "metadata": {},
   "outputs": [
    {
     "data": {
      "text/plain": [
       "5686"
      ]
     },
     "execution_count": 19,
     "metadata": {},
     "output_type": "execute_result"
    }
   ],
   "source": [
    "len(X)"
   ]
  },
  {
   "cell_type": "code",
   "execution_count": 20,
   "metadata": {},
   "outputs": [],
   "source": [
    "# collection\n",
    "# pubmed        3058\n",
    "# medrxiv       1247\n",
    "# arxiv          758\n",
    "# biorxiv        623\n",
    "\n",
    "X['pubmed'] = papers.collection=='pubmed'\n",
    "X['medrxiv'] = papers.collection=='medrxiv'\n",
    "X['arxiv'] = papers.collection=='arxiv'\n",
    "X['biorxiv'] = papers.collection=='biorxiv'"
   ]
  },
  {
   "cell_type": "code",
   "execution_count": 21,
   "metadata": {},
   "outputs": [
    {
     "data": {
      "text/plain": [
       "Index([               'title',             'abstract',              'journal',\n",
       "                        'DOI',                 'date',           'collection',\n",
       "                  'published',             'nauthors',     'topic.Healthcare',\n",
       "       'topic.Drug discovery',   'topic.Epidemiology',        'topic.Clinics',\n",
       "          'topic.Chest X-Ray',       'topic.Genomics',                'topic',\n",
       "                     'numcit',             'influcit',               'DL_Pdf',\n",
       "                    'DL_Full',          'DL_Abstract',                  'cit',\n",
       "               'cit_velocity',      'influential_cit',          'sum.npapers',\n",
       "                 'sum.infCit',         'mean.npapers',          'mean.infCit',\n",
       "                'max.npapers',           'max.infCit',                      0,\n",
       "                            1,                      2,                      3,\n",
       "                            4,                      5,                      6,\n",
       "                            7,                      8,                      9,\n",
       "                           10,                     11,                     12,\n",
       "                           13,                     14,                     15,\n",
       "                           16,                     17,                     18,\n",
       "                           19,                     20,                     21,\n",
       "                           22,                     23,                     24,\n",
       "                           25,                     26,                     27,\n",
       "                           28,                     29,                     30,\n",
       "                           31,                     32,                     33,\n",
       "                           34,                     35,                     36,\n",
       "                           37,                     38,                     39,\n",
       "                           40,                     41,                     42,\n",
       "                           43,                     44,                     45,\n",
       "                           46,                     47,                     48,\n",
       "                           49,               'pubmed',              'medrxiv',\n",
       "                      'arxiv',              'biorxiv'],\n",
       "      dtype='object')"
      ]
     },
     "execution_count": 21,
     "metadata": {},
     "output_type": "execute_result"
    }
   ],
   "source": [
    "X.columns"
   ]
  },
  {
   "cell_type": "code",
   "execution_count": 22,
   "metadata": {},
   "outputs": [
    {
     "data": {
      "text/plain": [
       "True     3329\n",
       "False    2357\n",
       "dtype: int64"
      ]
     },
     "execution_count": 22,
     "metadata": {},
     "output_type": "execute_result"
    }
   ],
   "source": [
    "y = pd.merge(pd.notnull(papers.published), papers.collection=='pubmed', left_index=True, right_index=True).any(axis=1)\n",
    "y.value_counts()"
   ]
  },
  {
   "cell_type": "code",
   "execution_count": 23,
   "metadata": {},
   "outputs": [],
   "source": [
    "X.to_csv('./data/lda_doc2vec_feats.csv')\n",
    "y.to_csv('./data/lda_doc2vec_targs.csv')"
   ]
  },
  {
   "cell_type": "markdown",
   "metadata": {},
   "source": [
    "# Machine Learning"
   ]
  },
  {
   "cell_type": "code",
   "execution_count": 24,
   "metadata": {},
   "outputs": [],
   "source": [
    "import xgboost as xgb\n",
    "from sklearn.model_selection import train_test_split\n",
    "\n",
    "X_train, X_test, y_train, y_test = train_test_split(X, y, test_size=0.2, random_state=123)"
   ]
  },
  {
   "cell_type": "code",
   "execution_count": 29,
   "metadata": {},
   "outputs": [],
   "source": [
    "lda_feats = ['topic.Healthcare', 'topic.Drug discovery', 'topic.Epidemiology', \n",
    "                'topic.Clinics', 'topic.Chest X-Ray', 'topic.Genomics']\n",
    "\n",
    "doc2vec_feats = [0,                 1,                 2,\n",
    "                       3,                 4,                 5,\n",
    "                       6,                 7,                 8,\n",
    "                       9,                10,                11,\n",
    "                      12,                13,                14,\n",
    "                      15,                16,                17,\n",
    "                      18,                19,                20,\n",
    "                      21,                22,                23,\n",
    "                      24,                25,                26,\n",
    "                      27,                28,                29,\n",
    "                      30,                31,                32,\n",
    "                      33,                34,                35,\n",
    "                      36,                37,                38,\n",
    "                      39,                40,                41,\n",
    "                      42,                43,                44,\n",
    "                      45,                46,                47,\n",
    "                      48,                49]\n",
    "\n",
    "cit_authmet_feats = ['cit',    'cit_velocity', 'influential_cit',\n",
    "           'sum.npapers',      'sum.infCit',    'mean.npapers',\n",
    "           'mean.infCit',     'max.npapers',      'max.infCit']"
   ]
  },
  {
   "cell_type": "code",
   "execution_count": 26,
   "metadata": {},
   "outputs": [],
   "source": [
    "from sklearn.metrics import roc_curve, auc\n",
    "\n",
    "def XGBoost_Modeling(features):\n",
    "    xg_reg = xgb.XGBRegressor(objective ='reg:linear', colsample_bytree = 0.3, learning_rate = 0.1,\n",
    "                max_depth = 5, alpha = 10, n_estimators = 10)\n",
    "\n",
    "    xg_reg.fit(X_train[features],y_train)\n",
    "\n",
    "    preds = xg_reg.predict(X_test[features])\n",
    "    fpr_xgboost, tpr_xgboost, _ = roc_curve(y_test, preds)\n",
    "    \n",
    "    print(\"AUC is :\" + str(auc(fpr_xgboost, tpr_xgboost)))\n",
    "    return fpr_xgboost, tpr_xgboost"
   ]
  },
  {
   "cell_type": "code",
   "execution_count": 31,
   "metadata": {},
   "outputs": [
    {
     "name": "stdout",
     "output_type": "stream",
     "text": [
      "[15:42:25] WARNING: src/objective/regression_obj.cu:152: reg:linear is now deprecated in favor of reg:squarederror.\n",
      "AUC is :0.7328548644338118\n",
      "[15:42:25] WARNING: src/objective/regression_obj.cu:152: reg:linear is now deprecated in favor of reg:squarederror.\n",
      "AUC is :0.7504485645933014\n",
      "[15:42:26] WARNING: src/objective/regression_obj.cu:152: reg:linear is now deprecated in favor of reg:squarederror.\n",
      "AUC is :0.7713831867057673\n",
      "[15:42:26] WARNING: src/objective/regression_obj.cu:152: reg:linear is now deprecated in favor of reg:squarederror.\n",
      "AUC is :0.7818143231980244\n"
     ]
    }
   ],
   "source": [
    "fpr_lda, tpr_lda = XGBoost_Modeling(lda_feats)\n",
    "fpr_doc2vec, tpr_doc2vec = XGBoost_Modeling(doc2vec_feats)\n",
    "fpr_lda_doc2vec, tpr_lda_doc2vec = XGBoost_Modeling(lda_feats + doc2vec_feats)\n",
    "fpr_lda_doc2vec_cit_authmet, tpr_lda_doc2vec_cit_authmet = XGBoost_Modeling(lda_feats + doc2vec_feats + cit_authmet_feats)"
   ]
  },
  {
   "cell_type": "code",
   "execution_count": 33,
   "metadata": {},
   "outputs": [
    {
     "data": {
      "image/png": "[encoded data removed]",
      "text/plain": [
       "<Figure size 720x720 with 1 Axes>"
      ]
     },
     "metadata": {
      "needs_background": "light"
     },
     "output_type": "display_data"
    },
    {
     "data": {
      "text/plain": [
       "<Figure size 720x720 with 0 Axes>"
      ]
     },
     "metadata": {},
     "output_type": "display_data"
    }
   ],
   "source": [
    "import matplotlib.pyplot as plt\n",
    "\n",
    "plt.figure()\n",
    "plt.rcParams['figure.figsize'] = [10, 10]\n",
    "plt.plot(fpr_lda, tpr_lda, label='LDA')\n",
    "plt.plot(fpr_doc2vec, tpr_doc2vec, label='Doc2Vec')\n",
    "plt.plot(fpr_lda_doc2vec, tpr_lda_doc2vec, label='LDA + Doc2Vec')\n",
    "plt.plot(fpr_lda_doc2vec_cit_authmet, tpr_lda_doc2vec_cit_authmet, label='LDA + Doc2Vec + cit + authmet')\n",
    "plt.xlabel('False positive rate')\n",
    "plt.ylabel('True positive rate')\n",
    "plt.title('ROC curve')\n",
    "plt.legend(loc='best')\n",
    "fig1 = plt.gcf()\n",
    "plt.plot([0, 1], [0, 1], 'k--')\n",
    "plt.show()\n",
    "plt.draw()\n",
    "#fig1.savefig('new_data_roc.png', dpi=100)"
   ]
  },
  {
   "cell_type": "markdown",
   "metadata": {},
   "source": [
    "## Feature importance"
   ]
  },
  {
   "cell_type": "code",
   "execution_count": 34,
   "metadata": {},
   "outputs": [
    {
     "name": "stdout",
     "output_type": "stream",
     "text": [
      "[15:42:45] WARNING: src/objective/regression_obj.cu:152: reg:linear is now deprecated in favor of reg:squarederror.\n"
     ]
    },
    {
     "data": {
      "text/plain": [
       "<Figure size 720x720 with 0 Axes>"
      ]
     },
     "metadata": {},
     "output_type": "display_data"
    },
    {
     "data": {
      "image/png": "[encoded data removed]",
      "text/plain": [
       "<Figure size 720x720 with 1 Axes>"
      ]
     },
     "metadata": {
      "needs_background": "light"
     },
     "output_type": "display_data"
    },
    {
     "data": {
      "text/plain": [
       "<Figure size 720x720 with 0 Axes>"
      ]
     },
     "metadata": {},
     "output_type": "display_data"
    }
   ],
   "source": [
    "xg_reg = xgb.XGBRegressor(objective ='reg:linear', colsample_bytree = 0.3, learning_rate = 0.1,\n",
    "                max_depth = 5, alpha = 10, n_estimators = 10)\n",
    "\n",
    "xg_reg.fit(X[lda_feats + doc2vec_feats + cit_authmet_feats],y)\n",
    "\n",
    "plt.figure()\n",
    "xgb.plot_importance(xg_reg)\n",
    "fig2 = plt.gcf()\n",
    "plt.show()\n",
    "plt.draw()\n",
    "#fig2.savefig('new_data_feature_importance.png', dpi=100)"
   ]
  },
  {
   "cell_type": "code",
   "execution_count": null,
   "metadata": {},
   "outputs": [],
   "source": []
  }
 ],
 "metadata": {
  "kernelspec": {
   "display_name": "Python 3",
   "language": "python",
   "name": "python3"
  },
  "language_info": {
   "codemirror_mode": {
    "name": "ipython",
    "version": 3
   },
   "file_extension": ".py",
   "mimetype": "text/x-python",
   "name": "python",
   "nbconvert_exporter": "python",
   "pygments_lexer": "ipython3",
   "version": "3.7.9"
  }
 },
 "nbformat": 4,
 "nbformat_minor": 4
}
