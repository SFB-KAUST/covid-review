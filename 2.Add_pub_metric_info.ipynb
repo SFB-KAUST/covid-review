{
 "cells": [
  {
   "cell_type": "code",
   "execution_count": 1,
   "id": "7fae2bad-97f0-43cc-bea5-f77f2783cb20",
   "metadata": {},
   "outputs": [],
   "source": [
    "import pandas as pd\n",
    "import numpy as np\n",
    "from datetime import datetime"
   ]
  },
  {
   "cell_type": "code",
   "execution_count": 26,
   "id": "9cddec39-0df3-4b94-a284-9b4668947cbd",
   "metadata": {},
   "outputs": [],
   "source": [
    "inoutpath = '/home/xiaopengxu/Desktop/data-covid-review/2021-05-11/'\n",
    "compdata_path = inoutpath + 'features.ori_doc2vec_deepwalk.csv' # 'compdata_ext.csv' \n",
    "CSCoV_scores_path = inoutpath + 'CSCoV_scores.csv'\n",
    "pubmed_path = inoutpath + 'PubMed.csv'\n",
    "arxiv_path = inoutpath + 'aRxiv.csv'\n",
    "biomedrxiv_path = inoutpath + 'biomedRxiv.csv'\n",
    "\n",
    "train_data_path = inoutpath + 'features.ori_doc2vec_deepwalk_scores_train.csv'\n",
    "test_data_path = inoutpath + 'features.ori_doc2vec_deepwalk_scores_test.csv'\n",
    "\n",
    "is_balanced = False"
   ]
  },
  {
   "cell_type": "markdown",
   "id": "2b490cff-1606-4b15-9cf6-0abf5da52695",
   "metadata": {},
   "source": [
    "# Load data and add author and artical metrics\n",
    "## Load data"
   ]
  },
  {
   "cell_type": "code",
   "execution_count": 3,
   "id": "83114199-a82c-413d-88ab-7253958b5bf4",
   "metadata": {},
   "outputs": [
    {
     "name": "stdout",
     "output_type": "stream",
     "text": [
      "2021-05-14 16:05:22.164426: Loading data ...\n"
     ]
    },
    {
     "name": "stderr",
     "output_type": "stream",
     "text": [
      "/home/xiaopengxu/anaconda3/envs/ml-env/lib/python3.8/site-packages/IPython/core/interactiveshell.py:3357: DtypeWarning: Columns (4,7) have mixed types.Specify dtype option on import or set low_memory=False.\n",
      "  if (await self.run_code(code, result,  async_=asy)):\n"
     ]
    }
   ],
   "source": [
    "def load_data(compdata_path):\n",
    "    print(datetime.now().strftime('%Y-%m-%d %H:%M:%S.%f') + \": Loading data ...\")\n",
    "    papers = pd.read_csv(compdata_path, index_col=False)\n",
    "    papers.drop(['Unnamed: 0'], axis=1, inplace=True)\n",
    "\n",
    "    return papers\n",
    "\n",
    "papers = load_data(compdata_path)"
   ]
  },
  {
   "cell_type": "markdown",
   "id": "0d640f97-d91b-4c71-92f9-d6c2417b00e0",
   "metadata": {},
   "source": [
    "## Add Author and Article metrics"
   ]
  },
  {
   "cell_type": "code",
   "execution_count": 4,
   "id": "1e34ced1-fab2-4aa6-b003-4ddd1581d7d5",
   "metadata": {},
   "outputs": [
    {
     "name": "stdout",
     "output_type": "stream",
     "text": [
      "2021-05-14 16:05:22.895632: Loading data ...\n"
     ]
    }
   ],
   "source": [
    "CSCoV_scores = load_data(CSCoV_scores_path)\n",
    "papers_amet = pd.concat([papers, CSCoV_scores], axis=1)"
   ]
  },
  {
   "cell_type": "markdown",
   "id": "1149fdd4-04c0-4d0d-a5c4-0c6b92ba708f",
   "metadata": {},
   "source": [
    "# Add subDate, acptDate and pubDate\n",
    "## Add subDate from archives (ArXiv, BioRxiv and MedRxiv)"
   ]
  },
  {
   "cell_type": "code",
   "execution_count": 5,
   "id": "ff0e0aa6-85ed-40cd-980b-5e6edd62cdb7",
   "metadata": {},
   "outputs": [
    {
     "name": "stdout",
     "output_type": "stream",
     "text": [
      "2021-05-14 16:05:22.963681: Loading data ...\n",
      "2021-05-14 16:05:23.041650: Loading data ...\n"
     ]
    }
   ],
   "source": [
    "arxiv = load_data(arxiv_path)\n",
    "biomedrxiv = load_data(biomedrxiv_path)"
   ]
  },
  {
   "cell_type": "code",
   "execution_count": 6,
   "id": "150f5948-f36f-462d-be02-69d3f3f9dfd6",
   "metadata": {},
   "outputs": [],
   "source": [
    "arxiv['subDate'] = pd.to_datetime(arxiv.submitted)\n",
    "arxiv['title'] = arxiv.title.str.lower()\n",
    "biomedrxiv['subDate']  = pd.to_datetime(biomedrxiv.rel_date)\n",
    "biomedrxiv['doi'] = biomedrxiv.rel_doi\n",
    "biomedrxiv['title'] = biomedrxiv.rel_title.str.lower()\n",
    "\n",
    "all_rxiv = pd.concat([arxiv[['doi', 'subDate', 'title']], biomedrxiv[['doi', 'subDate', 'title']]])\n",
    "all_rxiv_redup = all_rxiv[~all_rxiv.doi.isna() & ~all_rxiv.title.isna()\n",
    "                         ].drop_duplicates(subset=['doi']).drop_duplicates(subset=['title']) # Remove null and duplicates using doi & title"
   ]
  },
  {
   "cell_type": "code",
   "execution_count": 7,
   "id": "c5b92a1d-a1f1-472b-bcdd-6d59d648e6ef",
   "metadata": {},
   "outputs": [],
   "source": [
    "papers_amet.title = papers_amet.title.str.lower()\n",
    "papers_redup = papers_amet.drop_duplicates(subset=['title']).drop_duplicates(subset=['DOI'])"
   ]
  },
  {
   "cell_type": "code",
   "execution_count": 8,
   "id": "33c7c3d5-dce1-4e9d-a577-8eeed77af9cb",
   "metadata": {},
   "outputs": [
    {
     "data": {
      "text/html": [
       "<div>\n",
       "<style scoped>\n",
       "    .dataframe tbody tr th:only-of-type {\n",
       "        vertical-align: middle;\n",
       "    }\n",
       "\n",
       "    .dataframe tbody tr th {\n",
       "        vertical-align: top;\n",
       "    }\n",
       "\n",
       "    .dataframe thead th {\n",
       "        text-align: right;\n",
       "    }\n",
       "</style>\n",
       "<table border=\"1\" class=\"dataframe\">\n",
       "  <thead>\n",
       "    <tr style=\"text-align: right;\">\n",
       "      <th></th>\n",
       "      <th>subDate</th>\n",
       "    </tr>\n",
       "  </thead>\n",
       "  <tbody>\n",
       "    <tr>\n",
       "      <th>count</th>\n",
       "      <td>3548</td>\n",
       "    </tr>\n",
       "    <tr>\n",
       "      <th>mean</th>\n",
       "      <td>2020-08-30 06:40:12.908962816</td>\n",
       "    </tr>\n",
       "    <tr>\n",
       "      <th>min</th>\n",
       "      <td>2020-01-19 00:00:00</td>\n",
       "    </tr>\n",
       "    <tr>\n",
       "      <th>25%</th>\n",
       "      <td>2020-05-17 00:00:00</td>\n",
       "    </tr>\n",
       "    <tr>\n",
       "      <th>50%</th>\n",
       "      <td>2020-08-14 00:00:00</td>\n",
       "    </tr>\n",
       "    <tr>\n",
       "      <th>75%</th>\n",
       "      <td>2020-12-15 00:00:00</td>\n",
       "    </tr>\n",
       "    <tr>\n",
       "      <th>max</th>\n",
       "      <td>2021-04-08 00:00:00</td>\n",
       "    </tr>\n",
       "  </tbody>\n",
       "</table>\n",
       "</div>"
      ],
      "text/plain": [
       "                             subDate\n",
       "count                           3548\n",
       "mean   2020-08-30 06:40:12.908962816\n",
       "min              2020-01-19 00:00:00\n",
       "25%              2020-05-17 00:00:00\n",
       "50%              2020-08-14 00:00:00\n",
       "75%              2020-12-15 00:00:00\n",
       "max              2021-04-08 00:00:00"
      ]
     },
     "execution_count": 8,
     "metadata": {},
     "output_type": "execute_result"
    }
   ],
   "source": [
    "papers_subDate = papers_redup.merge(all_rxiv_redup[['subDate', 'title']], left_on='title', right_on='title',how='left')\n",
    "papers_subDate[['subDate']].describe(datetime_is_numeric=True)"
   ]
  },
  {
   "cell_type": "markdown",
   "id": "4032c963-8f0f-48e1-bd2c-8a001d4e343f",
   "metadata": {},
   "source": [
    "## Add acptDate and subDate from PubMed"
   ]
  },
  {
   "cell_type": "code",
   "execution_count": 9,
   "id": "6121ed4d-1add-43d6-8b75-a888493b7798",
   "metadata": {},
   "outputs": [],
   "source": [
    "def concate_dates_and_redup(pubmed):\n",
    "    print(datetime.now().strftime('%Y-%m-%d %H:%M:%S.%f') + \": Processing pubmed data ...\")\n",
    "    monthMap = {'01': 1, '02': 2, '03': 3, '04': 4, '05': 5, '06': 6, '07': 7, '08': 8, \n",
    "                '09': 9, '10': 10, '11': 11, '12': 12, \n",
    "                'Jan': 1, 'Feb': 2, 'Mar': 3, 'Apr': 4, 'May': 5, 'Jun': 6, 'Jul': 7, \n",
    "                'Aug': 8, 'Sep': 9, 'Oct': 10, 'Nov': 11, 'Dec': 12}\n",
    "\n",
    "    # Caution: null values are replaced to 2028-03-01 in pubDate and acptDate\n",
    "    pubmed.pubYear = pubmed.pubYear.fillna(2028).astype('int64')\n",
    "    pubmed.pubMonth = pubmed.pubMonth.fillna('03').apply(lambda x: monthMap[x])\n",
    "    pubmed.pubDay = pubmed.pubDay.fillna(1).astype('int64')\n",
    "    pubmed['pubDate'] =  pd.to_datetime(pubmed[['pubYear', 'pubMonth', 'pubDay']].astype('str').agg('-'.join, axis=1))\n",
    "    \n",
    "    pubmed.acptYear = pubmed.acptYear.fillna(2028).astype('int64')\n",
    "    pubmed.acptMonth = pubmed.acptMonth.fillna(3).astype('int64')\n",
    "    pubmed.acptDay = pubmed.acptDay.fillna(1).astype('int64')\n",
    "    pubmed['acptDate'] =  pd.to_datetime(pubmed[['acptYear', 'acptMonth', 'acptDay']].astype('str').agg('-'.join, axis=1))\n",
    "    \n",
    "    pubmed.title = pubmed.title.str.lower()\n",
    "    pubmed_redup = pubmed.drop_duplicates(subset=['title']).drop_duplicates(subset=['doi'])\n",
    "    \n",
    "    print(datetime.now().strftime('%Y-%m-%d %H:%M:%S.%f') + \": Processing pubmed data finished.\")\n",
    "    \n",
    "\n",
    "    return pubmed_redup"
   ]
  },
  {
   "cell_type": "code",
   "execution_count": 10,
   "id": "2bf8be9d-aece-40b2-9f1a-87785ca4d39c",
   "metadata": {},
   "outputs": [
    {
     "name": "stdout",
     "output_type": "stream",
     "text": [
      "2021-05-14 16:05:23.757410: Loading data ...\n",
      "2021-05-14 16:05:25.031555: Processing pubmed data ...\n",
      "2021-05-14 16:05:32.296802: Processing pubmed data finished.\n"
     ]
    }
   ],
   "source": [
    "pubmed = load_data(pubmed_path)\n",
    "pubmed_day = concate_dates_and_redup(pubmed)"
   ]
  },
  {
   "cell_type": "code",
   "execution_count": 11,
   "id": "d8409685-02cc-488d-9925-94461bd138ff",
   "metadata": {},
   "outputs": [
    {
     "data": {
      "text/html": [
       "<div>\n",
       "<style scoped>\n",
       "    .dataframe tbody tr th:only-of-type {\n",
       "        vertical-align: middle;\n",
       "    }\n",
       "\n",
       "    .dataframe tbody tr th {\n",
       "        vertical-align: top;\n",
       "    }\n",
       "\n",
       "    .dataframe thead th {\n",
       "        text-align: right;\n",
       "    }\n",
       "</style>\n",
       "<table border=\"1\" class=\"dataframe\">\n",
       "  <thead>\n",
       "    <tr style=\"text-align: right;\">\n",
       "      <th></th>\n",
       "      <th>subDate</th>\n",
       "      <th>acptDate</th>\n",
       "      <th>pubDate</th>\n",
       "    </tr>\n",
       "  </thead>\n",
       "  <tbody>\n",
       "    <tr>\n",
       "      <th>count</th>\n",
       "      <td>3548</td>\n",
       "      <td>9769</td>\n",
       "      <td>9769</td>\n",
       "    </tr>\n",
       "    <tr>\n",
       "      <th>mean</th>\n",
       "      <td>2020-08-30 06:40:12.908962816</td>\n",
       "      <td>2022-09-13 10:02:35.512335104</td>\n",
       "      <td>2020-12-26 05:36:13.856075264</td>\n",
       "    </tr>\n",
       "    <tr>\n",
       "      <th>min</th>\n",
       "      <td>2020-01-19 00:00:00</td>\n",
       "      <td>2020-01-14 00:00:00</td>\n",
       "      <td>2020-01-01 00:00:00</td>\n",
       "    </tr>\n",
       "    <tr>\n",
       "      <th>25%</th>\n",
       "      <td>2020-05-17 00:00:00</td>\n",
       "      <td>2020-08-31 00:00:00</td>\n",
       "      <td>2020-08-24 00:00:00</td>\n",
       "    </tr>\n",
       "    <tr>\n",
       "      <th>50%</th>\n",
       "      <td>2020-08-14 00:00:00</td>\n",
       "      <td>2020-12-10 00:00:00</td>\n",
       "      <td>2020-12-01 00:00:00</td>\n",
       "    </tr>\n",
       "    <tr>\n",
       "      <th>75%</th>\n",
       "      <td>2020-12-15 00:00:00</td>\n",
       "      <td>2028-03-01 00:00:00</td>\n",
       "      <td>2021-02-25 00:00:00</td>\n",
       "    </tr>\n",
       "    <tr>\n",
       "      <th>max</th>\n",
       "      <td>2021-04-08 00:00:00</td>\n",
       "      <td>2028-03-01 00:00:00</td>\n",
       "      <td>2028-03-01 00:00:00</td>\n",
       "    </tr>\n",
       "  </tbody>\n",
       "</table>\n",
       "</div>"
      ],
      "text/plain": [
       "                             subDate                       acptDate  \\\n",
       "count                           3548                           9769   \n",
       "mean   2020-08-30 06:40:12.908962816  2022-09-13 10:02:35.512335104   \n",
       "min              2020-01-19 00:00:00            2020-01-14 00:00:00   \n",
       "25%              2020-05-17 00:00:00            2020-08-31 00:00:00   \n",
       "50%              2020-08-14 00:00:00            2020-12-10 00:00:00   \n",
       "75%              2020-12-15 00:00:00            2028-03-01 00:00:00   \n",
       "max              2021-04-08 00:00:00            2028-03-01 00:00:00   \n",
       "\n",
       "                             pubDate  \n",
       "count                           9769  \n",
       "mean   2020-12-26 05:36:13.856075264  \n",
       "min              2020-01-01 00:00:00  \n",
       "25%              2020-08-24 00:00:00  \n",
       "50%              2020-12-01 00:00:00  \n",
       "75%              2021-02-25 00:00:00  \n",
       "max              2028-03-01 00:00:00  "
      ]
     },
     "execution_count": 11,
     "metadata": {},
     "output_type": "execute_result"
    }
   ],
   "source": [
    "papers_dates = papers_subDate.merge(pubmed_day[['title', 'acptDate', 'pubDate']], left_on='title', right_on='title',how='left')\n",
    "papers_dates[['subDate', 'acptDate', 'pubDate']].describe(datetime_is_numeric=True)"
   ]
  },
  {
   "cell_type": "markdown",
   "id": "a44b0c1d-38d5-4bca-b20b-fe75ad82ed8b",
   "metadata": {},
   "source": [
    "# Add publishing labels\n",
    "## Add age to preprints"
   ]
  },
  {
   "cell_type": "code",
   "execution_count": 12,
   "id": "ab3a9ac4-fd72-4942-9e34-8c971df55c77",
   "metadata": {},
   "outputs": [
    {
     "name": "stdout",
     "output_type": "stream",
     "text": [
      "Lastest preprint submission time: 2021-04-08.\n"
     ]
    }
   ],
   "source": [
    "def add_age(papers):\n",
    "    print(\"Lastest preprint submission time: \" + papers_dates.subDate.max().strftime('%Y-%m-%d') + \".\")\n",
    "    papers['preprint_age'] = (papers.subDate.max() - papers.subDate) # 3548 preprints\n",
    "    \n",
    "    return papers\n",
    "\n",
    "papers_age = add_age(papers_dates)"
   ]
  },
  {
   "cell_type": "markdown",
   "id": "fd72ecfd-4725-4450-8bf9-da846a8796db",
   "metadata": {},
   "source": [
    "## Mark preprints vs published articles"
   ]
  },
  {
   "cell_type": "code",
   "execution_count": 13,
   "id": "e56e1e41-dc98-460d-9793-a873bca80750",
   "metadata": {},
   "outputs": [],
   "source": [
    "papers_age['is_preprint'] = papers_age.collection.isin(['arxiv', 'biorxiv', 'medrxiv']) \\\n",
    "                | papers_age.journal.isin(['ArXiv', 'medRxiv', 'bioRxiv', 'ChemRxiv']) \\\n",
    "                | ~papers_age.subDate.isna() # 9468 published papers, 5294 preprints(4897 in arxiv, 371 in pubmed, 26 subDate not null)"
   ]
  },
  {
   "cell_type": "markdown",
   "id": "8971f112-5f43-48d5-9c4b-93dbee2c72b9",
   "metadata": {},
   "source": [
    "## Add publish labels"
   ]
  },
  {
   "cell_type": "code",
   "execution_count": 14,
   "id": "febd36dd-7476-42f1-a03c-57f76a3d2b25",
   "metadata": {},
   "outputs": [],
   "source": [
    "pub_preprints_manual_added = ['a rigorous evaluation of optimal peptide targets for ms-based clinical diagnostics of coronavirus disease 2019 (covid-19).',\n",
    "                              'vaccine optimization for covid-19, who to vaccinate first?',\n",
    "                              'identification of vulnerable populations and areas at higher risk of covid-19 related mortality in the u.s.',\n",
    "                              'accommodating individual travel history, global mobility, and unsampled diversity in phylogeography: a sars-cov-2 case study.',\n",
    "                              'sars-cov2 (covid-19) structural/evolution dynamicome: insights into functional evolution and human genomics.']"
   ]
  },
  {
   "cell_type": "code",
   "execution_count": 15,
   "id": "bdb0031b-3a87-499a-8b2c-7d47e3c50f4f",
   "metadata": {},
   "outputs": [],
   "source": [
    "# 9468 pubmed papers published, 813 preprints published,(including 778 published match, 31 pubDate match, 5 manual added)\n",
    "papers_age['is_published'] = ~papers_age.is_preprint | \\\n",
    "                            (papers_age.is_preprint & (~papers_age.published.isna()\n",
    "                                                       | (~papers_age.pubDate.isna() & ((papers_age.acptDate < \"2028-03-01\") | \n",
    "                                                                                      ((papers_age.acptDate >= \"2028-03-01\") & ~papers_age.subDate.isna() & ~papers_age.journal.isna())))\n",
    "                                                       | papers_age.title.isin(pub_preprints_manual_added)))"
   ]
  },
  {
   "cell_type": "code",
   "execution_count": 16,
   "id": "a592303d-55d3-4469-9f82-50e78f90366e",
   "metadata": {},
   "outputs": [
    {
     "data": {
      "text/plain": [
       "10281"
      ]
     },
     "execution_count": 16,
     "metadata": {},
     "output_type": "execute_result"
    }
   ],
   "source": [
    "len(papers_age[papers_age.is_published])"
   ]
  },
  {
   "cell_type": "code",
   "execution_count": 17,
   "id": "45d1f182-78bc-4708-8706-76a5f214aeca",
   "metadata": {},
   "outputs": [
    {
     "data": {
      "text/plain": [
       "813"
      ]
     },
     "execution_count": 17,
     "metadata": {},
     "output_type": "execute_result"
    }
   ],
   "source": [
    "len(papers_age[papers_age.is_preprint & papers_age.is_published])"
   ]
  },
  {
   "cell_type": "markdown",
   "id": "69af7405-a29f-4781-a2fa-aa84eba7fc26",
   "metadata": {},
   "source": [
    "## Seperate training, validation, and testing datasets"
   ]
  },
  {
   "cell_type": "code",
   "execution_count": 18,
   "id": "4e194f30-9bbc-47c5-aeac-1382d912c5f7",
   "metadata": {},
   "outputs": [],
   "source": [
    "# Papers in last 30 days for searching promising papers\n",
    "papers_age['preprint_test'] = papers_age.preprint_age <= pd.Timedelta(30,'D') # 255"
   ]
  },
  {
   "cell_type": "code",
   "execution_count": 19,
   "id": "5055f32c-97bf-47dc-a91e-f39dfa8feba2",
   "metadata": {},
   "outputs": [
    {
     "data": {
      "text/plain": [
       "False    253\n",
       "True       2\n",
       "Name: is_published, dtype: int64"
      ]
     },
     "execution_count": 19,
     "metadata": {},
     "output_type": "execute_result"
    }
   ],
   "source": [
    "papers_age[papers_age.preprint_test].is_published.value_counts()"
   ]
  },
  {
   "cell_type": "code",
   "execution_count": 20,
   "id": "7aa48379-ed4c-4584-b00a-57820f6ede12",
   "metadata": {},
   "outputs": [],
   "source": [
    "papers_age['preprint_train'] = papers_age.is_preprint & ~papers_age.preprint_test"
   ]
  },
  {
   "cell_type": "code",
   "execution_count": 21,
   "id": "e5332d9a-e782-4fb2-bd01-205df8a51926",
   "metadata": {},
   "outputs": [],
   "source": [
    "papers_age['pubmed_train'] = ~papers_age.is_preprint"
   ]
  },
  {
   "cell_type": "markdown",
   "id": "a44b5142-4a7e-4d60-b394-9118b7f733a9",
   "metadata": {},
   "source": [
    "# Combine features and save"
   ]
  },
  {
   "cell_type": "code",
   "execution_count": 24,
   "id": "38e3c3ca-77fa-427d-ad2b-b6cb0692400a",
   "metadata": {},
   "outputs": [],
   "source": [
    "def save_features(filepath, papers):\n",
    "    print(datetime.now().strftime('%Y-%m-%d %H:%M:%S.%f') + \": Save features ...\")\n",
    "\n",
    "    papers.to_csv(filepath)"
   ]
  },
  {
   "cell_type": "code",
   "execution_count": 27,
   "id": "8dbda36c-c762-40cc-b977-16c521ec6693",
   "metadata": {},
   "outputs": [
    {
     "name": "stdout",
     "output_type": "stream",
     "text": [
      "2021-05-14 16:07:53.128267: Save features ...\n",
      "2021-05-14 16:07:55.554537: Save features ...\n"
     ]
    }
   ],
   "source": [
    "save_features(train_data_path, papers_age[papers_age.preprint_train | papers_age.pubmed_train])\n",
    "save_features(test_data_path, papers_age[papers_age.preprint_test])"
   ]
  },
  {
   "cell_type": "code",
   "execution_count": null,
   "id": "8102eff4-efaa-457d-a874-85e0e8d313a0",
   "metadata": {},
   "outputs": [],
   "source": []
  }
 ],
 "metadata": {
  "kernelspec": {
   "display_name": "Python 3",
   "language": "python",
   "name": "python3"
  },
  "language_info": {
   "codemirror_mode": {
    "name": "ipython",
    "version": 3
   },
   "file_extension": ".py",
   "mimetype": "text/x-python",
   "name": "python",
   "nbconvert_exporter": "python",
   "pygments_lexer": "ipython3",
   "version": "3.8.5"
  },
  "toc-autonumbering": true
 },
 "nbformat": 4,
 "nbformat_minor": 5
}
