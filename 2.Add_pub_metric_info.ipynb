{
 "cells": [
  {
   "cell_type": "code",
   "execution_count": 1,
   "id": "7fae2bad-97f0-43cc-bea5-f77f2783cb20",
   "metadata": {},
   "outputs": [],
   "source": [
    "import pandas as pd\n",
    "import numpy as np\n",
    "from datetime import datetime"
   ]
  },
  {
   "cell_type": "code",
   "execution_count": 2,
   "id": "9cddec39-0df3-4b94-a284-9b4668947cbd",
   "metadata": {},
   "outputs": [],
   "source": [
    "inoutpath = '/home/xiaopengxu/Desktop/data-covid-review/2021-05-31/'\n",
    "compdata_path = inoutpath + 'features.ori_doc2vec_deepwalk.csv' # 'compdata_ext.csv' \n",
    "CSCoV_scores_path = inoutpath + 'CSCoV_scores.csv'\n",
    "pubmed_path = inoutpath + 'PubMed.csv'\n",
    "arxiv_path = inoutpath + 'aRxiv.csv'\n",
    "biomedrxiv_path = inoutpath + 'biomedRxiv.csv'\n",
    "\n",
    "train_data_path = inoutpath + 'features.ori_doc2vec_deepwalk_scores_train.csv'\n",
    "test_data_path = inoutpath + 'features.ori_doc2vec_deepwalk_scores_test.csv'\n",
    "\n",
    "is_balanced = False"
   ]
  },
  {
   "cell_type": "markdown",
   "id": "2b490cff-1606-4b15-9cf6-0abf5da52695",
   "metadata": {},
   "source": [
    "# Load data and add author and artical metrics\n",
    "## Load data"
   ]
  },
  {
   "cell_type": "code",
   "execution_count": 3,
   "id": "83114199-a82c-413d-88ab-7253958b5bf4",
   "metadata": {},
   "outputs": [
    {
     "name": "stdout",
     "output_type": "stream",
     "text": [
      "2021-06-01 05:10:49.492439: Loading data ...\n"
     ]
    },
    {
     "name": "stderr",
     "output_type": "stream",
     "text": [
      "/home/xiaopengxu/anaconda3/envs/ml-env/lib/python3.8/site-packages/IPython/core/interactiveshell.py:3357: DtypeWarning: Columns (3,4,7) have mixed types.Specify dtype option on import or set low_memory=False.\n",
      "  if (await self.run_code(code, result,  async_=asy)):\n"
     ]
    }
   ],
   "source": [
    "def load_data(compdata_path):\n",
    "    print(datetime.now().strftime('%Y-%m-%d %H:%M:%S.%f') + \": Loading data ...\")\n",
    "    papers = pd.read_csv(compdata_path, index_col=False)\n",
    "    papers.drop(['Unnamed: 0'], axis=1, inplace=True)\n",
    "\n",
    "    return papers\n",
    "\n",
    "papers = load_data(compdata_path)"
   ]
  },
  {
   "cell_type": "markdown",
   "id": "0d640f97-d91b-4c71-92f9-d6c2417b00e0",
   "metadata": {},
   "source": [
    "## Add Author and Article metrics"
   ]
  },
  {
   "cell_type": "code",
   "execution_count": 4,
   "id": "1e34ced1-fab2-4aa6-b003-4ddd1581d7d5",
   "metadata": {},
   "outputs": [
    {
     "name": "stdout",
     "output_type": "stream",
     "text": [
      "2021-06-01 05:10:50.296630: Loading data ...\n"
     ]
    }
   ],
   "source": [
    "CSCoV_scores = load_data(CSCoV_scores_path)\n",
    "papers_amet = pd.concat([papers, CSCoV_scores], axis=1)"
   ]
  },
  {
   "cell_type": "markdown",
   "id": "1149fdd4-04c0-4d0d-a5c4-0c6b92ba708f",
   "metadata": {},
   "source": [
    "# Add subDate, acptDate and pubDate\n",
    "## Add subDate from archives (ArXiv, BioRxiv and MedRxiv)"
   ]
  },
  {
   "cell_type": "code",
   "execution_count": 5,
   "id": "ff0e0aa6-85ed-40cd-980b-5e6edd62cdb7",
   "metadata": {},
   "outputs": [
    {
     "name": "stdout",
     "output_type": "stream",
     "text": [
      "2021-06-01 05:10:50.416347: Loading data ...\n",
      "2021-06-01 05:10:50.497131: Loading data ...\n"
     ]
    }
   ],
   "source": [
    "arxiv = load_data(arxiv_path)\n",
    "biomedrxiv = load_data(biomedrxiv_path)"
   ]
  },
  {
   "cell_type": "code",
   "execution_count": 6,
   "id": "150f5948-f36f-462d-be02-69d3f3f9dfd6",
   "metadata": {},
   "outputs": [],
   "source": [
    "arxiv['subDate'] = pd.to_datetime(arxiv.submitted)\n",
    "arxiv['title'] = arxiv.title.str.lower()\n",
    "biomedrxiv['subDate']  = pd.to_datetime(biomedrxiv.rel_date)\n",
    "biomedrxiv['doi'] = biomedrxiv.rel_doi\n",
    "biomedrxiv['title'] = biomedrxiv.rel_title.str.lower()\n",
    "\n",
    "all_rxiv = pd.concat([arxiv[['doi', 'subDate', 'title']], biomedrxiv[['doi', 'subDate', 'title']]])\n",
    "all_rxiv_redup = all_rxiv[~all_rxiv.doi.isna() & ~all_rxiv.title.isna()\n",
    "                         ].drop_duplicates(subset=['doi']).drop_duplicates(subset=['title']) # Remove null and duplicates using doi & title"
   ]
  },
  {
   "cell_type": "code",
   "execution_count": 7,
   "id": "c5b92a1d-a1f1-472b-bcdd-6d59d648e6ef",
   "metadata": {},
   "outputs": [],
   "source": [
    "papers_amet.title = papers_amet.title.str.lower()\n",
    "papers_redup = papers_amet.drop_duplicates(subset=['title']).drop_duplicates(subset=['DOI'])"
   ]
  },
  {
   "cell_type": "code",
   "execution_count": 8,
   "id": "33c7c3d5-dce1-4e9d-a577-8eeed77af9cb",
   "metadata": {},
   "outputs": [
    {
     "data": {
      "text/html": [
       "<div>\n",
       "<style scoped>\n",
       "    .dataframe tbody tr th:only-of-type {\n",
       "        vertical-align: middle;\n",
       "    }\n",
       "\n",
       "    .dataframe tbody tr th {\n",
       "        vertical-align: top;\n",
       "    }\n",
       "\n",
       "    .dataframe thead th {\n",
       "        text-align: right;\n",
       "    }\n",
       "</style>\n",
       "<table border=\"1\" class=\"dataframe\">\n",
       "  <thead>\n",
       "    <tr style=\"text-align: right;\">\n",
       "      <th></th>\n",
       "      <th>subDate</th>\n",
       "    </tr>\n",
       "  </thead>\n",
       "  <tbody>\n",
       "    <tr>\n",
       "      <th>count</th>\n",
       "      <td>3816</td>\n",
       "    </tr>\n",
       "    <tr>\n",
       "      <th>mean</th>\n",
       "      <td>2020-09-19 00:29:31.369758976</td>\n",
       "    </tr>\n",
       "    <tr>\n",
       "      <th>min</th>\n",
       "      <td>2019-10-16 23:06:34</td>\n",
       "    </tr>\n",
       "    <tr>\n",
       "      <th>25%</th>\n",
       "      <td>2020-05-21 00:00:00</td>\n",
       "    </tr>\n",
       "    <tr>\n",
       "      <th>50%</th>\n",
       "      <td>2020-09-01 00:00:00</td>\n",
       "    </tr>\n",
       "    <tr>\n",
       "      <th>75%</th>\n",
       "      <td>2021-01-15 00:00:00</td>\n",
       "    </tr>\n",
       "    <tr>\n",
       "      <th>max</th>\n",
       "      <td>2021-05-25 00:00:00</td>\n",
       "    </tr>\n",
       "  </tbody>\n",
       "</table>\n",
       "</div>"
      ],
      "text/plain": [
       "                             subDate\n",
       "count                           3816\n",
       "mean   2020-09-19 00:29:31.369758976\n",
       "min              2019-10-16 23:06:34\n",
       "25%              2020-05-21 00:00:00\n",
       "50%              2020-09-01 00:00:00\n",
       "75%              2021-01-15 00:00:00\n",
       "max              2021-05-25 00:00:00"
      ]
     },
     "execution_count": 8,
     "metadata": {},
     "output_type": "execute_result"
    }
   ],
   "source": [
    "papers_subDate = papers_redup.merge(all_rxiv_redup[['subDate', 'title']], left_on='title', right_on='title',how='left')\n",
    "papers_subDate[['subDate']].describe(datetime_is_numeric=True)"
   ]
  },
  {
   "cell_type": "markdown",
   "id": "4032c963-8f0f-48e1-bd2c-8a001d4e343f",
   "metadata": {},
   "source": [
    "## Add acptDate and subDate from PubMed"
   ]
  },
  {
   "cell_type": "code",
   "execution_count": 9,
   "id": "6121ed4d-1add-43d6-8b75-a888493b7798",
   "metadata": {},
   "outputs": [],
   "source": [
    "def concate_dates_and_redup(pubmed):\n",
    "    print(datetime.now().strftime('%Y-%m-%d %H:%M:%S.%f') + \": Processing pubmed data ...\")\n",
    "    monthMap = {'01': 1, '02': 2, '03': 3, '04': 4, '05': 5, '06': 6, '07': 7, '08': 8, \n",
    "                '09': 9, '10': 10, '11': 11, '12': 12, \n",
    "                'Jan': 1, 'Feb': 2, 'Mar': 3, 'Apr': 4, 'May': 5, 'Jun': 6, 'Jul': 7, \n",
    "                'Aug': 8, 'Sep': 9, 'Oct': 10, 'Nov': 11, 'Dec': 12}\n",
    "\n",
    "    # Caution: null values are replaced to 2028-03-01 in pubDate and acptDate\n",
    "    pubmed.pubYear = pubmed.pubYear.fillna(2028).astype('int64')\n",
    "    pubmed.pubMonth = pubmed.pubMonth.fillna('03').apply(lambda x: monthMap[x])\n",
    "    pubmed.pubDay = pubmed.pubDay.fillna(1).astype('int64')\n",
    "    pubmed['pubDate'] =  pd.to_datetime(pubmed[['pubYear', 'pubMonth', 'pubDay']].astype('str').agg('-'.join, axis=1))\n",
    "    \n",
    "    pubmed.acptYear = pubmed.acptYear.fillna(2028).astype('int64')\n",
    "    pubmed.acptMonth = pubmed.acptMonth.fillna(3).astype('int64')\n",
    "    pubmed.acptDay = pubmed.acptDay.fillna(1).astype('int64')\n",
    "    pubmed['acptDate'] =  pd.to_datetime(pubmed[['acptYear', 'acptMonth', 'acptDay']].astype('str').agg('-'.join, axis=1))\n",
    "    \n",
    "    pubmed.title = pubmed.title.str.lower()\n",
    "    pubmed_redup = pubmed.drop_duplicates(subset=['title']).drop_duplicates(subset=['doi'])\n",
    "    \n",
    "    print(datetime.now().strftime('%Y-%m-%d %H:%M:%S.%f') + \": Processing pubmed data finished.\")\n",
    "    \n",
    "\n",
    "    return pubmed_redup"
   ]
  },
  {
   "cell_type": "code",
   "execution_count": 10,
   "id": "2bf8be9d-aece-40b2-9f1a-87785ca4d39c",
   "metadata": {},
   "outputs": [
    {
     "name": "stdout",
     "output_type": "stream",
     "text": [
      "2021-06-01 05:10:51.458384: Loading data ...\n",
      "2021-06-01 05:10:53.034103: Processing pubmed data ...\n",
      "2021-06-01 05:11:01.548043: Processing pubmed data finished.\n"
     ]
    }
   ],
   "source": [
    "pubmed = load_data(pubmed_path)\n",
    "pubmed_day = concate_dates_and_redup(pubmed)"
   ]
  },
  {
   "cell_type": "code",
   "execution_count": 11,
   "id": "d8409685-02cc-488d-9925-94461bd138ff",
   "metadata": {},
   "outputs": [
    {
     "data": {
      "text/html": [
       "<div>\n",
       "<style scoped>\n",
       "    .dataframe tbody tr th:only-of-type {\n",
       "        vertical-align: middle;\n",
       "    }\n",
       "\n",
       "    .dataframe tbody tr th {\n",
       "        vertical-align: top;\n",
       "    }\n",
       "\n",
       "    .dataframe thead th {\n",
       "        text-align: right;\n",
       "    }\n",
       "</style>\n",
       "<table border=\"1\" class=\"dataframe\">\n",
       "  <thead>\n",
       "    <tr style=\"text-align: right;\">\n",
       "      <th></th>\n",
       "      <th>subDate</th>\n",
       "      <th>acptDate</th>\n",
       "      <th>pubDate</th>\n",
       "    </tr>\n",
       "  </thead>\n",
       "  <tbody>\n",
       "    <tr>\n",
       "      <th>count</th>\n",
       "      <td>3816</td>\n",
       "      <td>11509</td>\n",
       "      <td>11509</td>\n",
       "    </tr>\n",
       "    <tr>\n",
       "      <th>mean</th>\n",
       "      <td>2020-09-19 00:29:31.369758976</td>\n",
       "      <td>2022-09-14 19:04:20.561299712</td>\n",
       "      <td>2021-01-24 08:34:36.983230464</td>\n",
       "    </tr>\n",
       "    <tr>\n",
       "      <th>min</th>\n",
       "      <td>2019-10-16 23:06:34</td>\n",
       "      <td>2020-01-14 00:00:00</td>\n",
       "      <td>2020-01-01 00:00:00</td>\n",
       "    </tr>\n",
       "    <tr>\n",
       "      <th>25%</th>\n",
       "      <td>2020-05-21 00:00:00</td>\n",
       "      <td>2020-09-20 00:00:00</td>\n",
       "      <td>2020-09-15 00:00:00</td>\n",
       "    </tr>\n",
       "    <tr>\n",
       "      <th>50%</th>\n",
       "      <td>2020-09-01 00:00:00</td>\n",
       "      <td>2021-01-15 00:00:00</td>\n",
       "      <td>2021-01-05 00:00:00</td>\n",
       "    </tr>\n",
       "    <tr>\n",
       "      <th>75%</th>\n",
       "      <td>2021-01-15 00:00:00</td>\n",
       "      <td>2028-03-01 00:00:00</td>\n",
       "      <td>2021-03-17 00:00:00</td>\n",
       "    </tr>\n",
       "    <tr>\n",
       "      <th>max</th>\n",
       "      <td>2021-05-25 00:00:00</td>\n",
       "      <td>2028-03-01 00:00:00</td>\n",
       "      <td>2028-03-01 00:00:00</td>\n",
       "    </tr>\n",
       "  </tbody>\n",
       "</table>\n",
       "</div>"
      ],
      "text/plain": [
       "                             subDate                       acptDate  \\\n",
       "count                           3816                          11509   \n",
       "mean   2020-09-19 00:29:31.369758976  2022-09-14 19:04:20.561299712   \n",
       "min              2019-10-16 23:06:34            2020-01-14 00:00:00   \n",
       "25%              2020-05-21 00:00:00            2020-09-20 00:00:00   \n",
       "50%              2020-09-01 00:00:00            2021-01-15 00:00:00   \n",
       "75%              2021-01-15 00:00:00            2028-03-01 00:00:00   \n",
       "max              2021-05-25 00:00:00            2028-03-01 00:00:00   \n",
       "\n",
       "                             pubDate  \n",
       "count                          11509  \n",
       "mean   2021-01-24 08:34:36.983230464  \n",
       "min              2020-01-01 00:00:00  \n",
       "25%              2020-09-15 00:00:00  \n",
       "50%              2021-01-05 00:00:00  \n",
       "75%              2021-03-17 00:00:00  \n",
       "max              2028-03-01 00:00:00  "
      ]
     },
     "execution_count": 11,
     "metadata": {},
     "output_type": "execute_result"
    }
   ],
   "source": [
    "papers_dates = papers_subDate.merge(pubmed_day[['title', 'acptDate', 'pubDate']], left_on='title', right_on='title',how='left')\n",
    "papers_dates[['subDate', 'acptDate', 'pubDate']].describe(datetime_is_numeric=True)"
   ]
  },
  {
   "cell_type": "markdown",
   "id": "a44b0c1d-38d5-4bca-b20b-fe75ad82ed8b",
   "metadata": {},
   "source": [
    "# Add publishing labels\n",
    "## Add age to preprints"
   ]
  },
  {
   "cell_type": "code",
   "execution_count": 12,
   "id": "ab3a9ac4-fd72-4942-9e34-8c971df55c77",
   "metadata": {},
   "outputs": [
    {
     "name": "stdout",
     "output_type": "stream",
     "text": [
      "Lastest preprint submission time: 2021-05-25.\n"
     ]
    }
   ],
   "source": [
    "def add_age(papers):\n",
    "    print(\"Lastest preprint submission time: \" + papers_dates.subDate.max().strftime('%Y-%m-%d') + \".\")\n",
    "    papers['preprint_age'] = (papers.subDate.max() - papers.subDate) # 3548 preprints\n",
    "    \n",
    "    return papers\n",
    "\n",
    "papers_age = add_age(papers_dates)"
   ]
  },
  {
   "cell_type": "markdown",
   "id": "fd72ecfd-4725-4450-8bf9-da846a8796db",
   "metadata": {},
   "source": [
    "## Mark preprints vs published articles"
   ]
  },
  {
   "cell_type": "code",
   "execution_count": 13,
   "id": "e56e1e41-dc98-460d-9793-a873bca80750",
   "metadata": {},
   "outputs": [],
   "source": [
    "papers_age['is_preprint'] = papers_age.collection.isin(['arxiv', 'biorxiv', 'medrxiv']) \\\n",
    "                | papers_age.journal.isin(['ArXiv', 'medRxiv', 'bioRxiv', 'ChemRxiv']) \\\n",
    "                | ~papers_age.subDate.isna() # 11192(9468) published papers, 5703(5294) preprints(5272(4897) in arxiv, 399(371) in pubmed, 32(26) subDate not null)"
   ]
  },
  {
   "cell_type": "code",
   "execution_count": 35,
   "id": "3602d205-2f0c-45f3-9b73-20e994411429",
   "metadata": {},
   "outputs": [
    {
     "data": {
      "text/plain": [
       "16895"
      ]
     },
     "execution_count": 35,
     "metadata": {},
     "output_type": "execute_result"
    }
   ],
   "source": [
    "len(papers_age)"
   ]
  },
  {
   "cell_type": "markdown",
   "id": "8971f112-5f43-48d5-9c4b-93dbee2c72b9",
   "metadata": {},
   "source": [
    "## Add publish labels"
   ]
  },
  {
   "cell_type": "code",
   "execution_count": 74,
   "id": "febd36dd-7476-42f1-a03c-57f76a3d2b25",
   "metadata": {},
   "outputs": [
    {
     "data": {
      "text/plain": [
       "18"
      ]
     },
     "execution_count": 74,
     "metadata": {},
     "output_type": "execute_result"
    }
   ],
   "source": [
    "pub_preprints_manual_added = ['a rigorous evaluation of optimal peptide targets for ms-based clinical diagnostics of coronavirus disease 2019 (covid-19).',\n",
    "                              'vaccine optimization for covid-19, who to vaccinate first?',\n",
    "                              'identification of vulnerable populations and areas at higher risk of covid-19 related mortality in the u.s.',\n",
    "                              'accommodating individual travel history, global mobility, and unsampled diversity in phylogeography: a sars-cov-2 case study.',\n",
    "                              'sars-cov2 (covid-19) structural/evolution dynamicome: insights into functional evolution and human genomics.',\n",
    "                              'dynamics of b-cell repertoires and emergence of cross-reactive responses in covid-19 patients with different disease severity.',\n",
    "                              'fast identification of possible drug treatment of coronavirus disease -19 (covid-19) through computational drug repurposing study.',\n",
    "                              'supercomputer-based ensemble docking drug discovery pipeline with application to covid-19.',\n",
    "                              'adaptive evolution of peptide inhibitors for mutating sars-cov-2.',\n",
    "                              'comparative multiplexed interactomics of sars-cov-2 and homologous coronavirus non-structural proteins identifies unique and shared host-cell dependencies.',\n",
    "                              'conserved genomic terminals of sars-cov-2 as co-evolving functional elements and potential therapeutic targets.',\n",
    "                              'female reproductive tract has low concentration of sars-cov2 receptors.',\n",
    "                              'single-cell longitudinal analysis of sars-cov-2 infection in human bronchial epithelial cells.',\n",
    "                              'a transcriptional regulatory atlas of coronavirus infection of human cells.',\n",
    "                              'an insertion unique to sars-cov-2 exhibits superantigenic character strengthened by recent mutations.',\n",
    "                              'rna-gps predicts sars-cov-2 rna localization to host mitochondria and nucleolus.',\n",
    "                              'targeting the sars-cov-2 main protease to repurpose drugs for covid-19.',\n",
    "                              'a modular framework for multiscale multicellular spatial modeling of viral infection, immune response and drug therapy timing and efficacy in epithelial tissues: a multiscale model of viral infection in epithelial tissues.']\n",
    "len(pub_preprints_manual_added)"
   ]
  },
  {
   "cell_type": "code",
   "execution_count": 75,
   "id": "bdb0031b-3a87-499a-8b2c-7d47e3c50f4f",
   "metadata": {},
   "outputs": [],
   "source": [
    "# 11192(9468) pubmed papers published, 879(813) preprints published,(including 826(778) published match, 37(31) pubDate match, 18(5) manual added)\n",
    "papers_age['is_published'] = ~papers_age.is_preprint | \\\n",
    "                            (papers_age.is_preprint & (~papers_age.published.isna()\n",
    "                                                       | (~papers_age.pubDate.isna() & ((papers_age.acptDate < \"2028-03-01\") | \n",
    "                                                                                      ((papers_age.acptDate >= \"2028-03-01\") & ~papers_age.subDate.isna() & ~papers_age.journal.isna())))\n",
    "                                                       | papers_age.title.isin(pub_preprints_manual_added)))"
   ]
  },
  {
   "cell_type": "code",
   "execution_count": 77,
   "id": "2c0fa5fc-e432-4427-b5f1-7d9a94f0778f",
   "metadata": {},
   "outputs": [
    {
     "data": {
      "text/html": [
       "<div>\n",
       "<style scoped>\n",
       "    .dataframe tbody tr th:only-of-type {\n",
       "        vertical-align: middle;\n",
       "    }\n",
       "\n",
       "    .dataframe tbody tr th {\n",
       "        vertical-align: top;\n",
       "    }\n",
       "\n",
       "    .dataframe thead th {\n",
       "        text-align: right;\n",
       "    }\n",
       "</style>\n",
       "<table border=\"1\" class=\"dataframe\">\n",
       "  <thead>\n",
       "    <tr style=\"text-align: right;\">\n",
       "      <th></th>\n",
       "      <th>subDate</th>\n",
       "      <th>acptDate</th>\n",
       "      <th>pubDate</th>\n",
       "    </tr>\n",
       "  </thead>\n",
       "  <tbody>\n",
       "    <tr>\n",
       "      <th>count</th>\n",
       "      <td>0</td>\n",
       "      <td>113</td>\n",
       "      <td>113</td>\n",
       "    </tr>\n",
       "    <tr>\n",
       "      <th>mean</th>\n",
       "      <td>NaT</td>\n",
       "      <td>2028-03-01 00:00:00</td>\n",
       "      <td>2020-08-10 13:48:19.115044352</td>\n",
       "    </tr>\n",
       "    <tr>\n",
       "      <th>min</th>\n",
       "      <td>NaT</td>\n",
       "      <td>2028-03-01 00:00:00</td>\n",
       "      <td>2020-02-17 00:00:00</td>\n",
       "    </tr>\n",
       "    <tr>\n",
       "      <th>25%</th>\n",
       "      <td>NaT</td>\n",
       "      <td>2028-03-01 00:00:00</td>\n",
       "      <td>2020-05-19 00:00:00</td>\n",
       "    </tr>\n",
       "    <tr>\n",
       "      <th>50%</th>\n",
       "      <td>NaT</td>\n",
       "      <td>2028-03-01 00:00:00</td>\n",
       "      <td>2020-08-01 00:00:00</td>\n",
       "    </tr>\n",
       "    <tr>\n",
       "      <th>75%</th>\n",
       "      <td>NaT</td>\n",
       "      <td>2028-03-01 00:00:00</td>\n",
       "      <td>2020-11-10 00:00:00</td>\n",
       "    </tr>\n",
       "    <tr>\n",
       "      <th>max</th>\n",
       "      <td>NaT</td>\n",
       "      <td>2028-03-01 00:00:00</td>\n",
       "      <td>2020-12-29 00:00:00</td>\n",
       "    </tr>\n",
       "  </tbody>\n",
       "</table>\n",
       "</div>"
      ],
      "text/plain": [
       "      subDate             acptDate                        pubDate\n",
       "count       0                  113                            113\n",
       "mean      NaT  2028-03-01 00:00:00  2020-08-10 13:48:19.115044352\n",
       "min       NaT  2028-03-01 00:00:00            2020-02-17 00:00:00\n",
       "25%       NaT  2028-03-01 00:00:00            2020-05-19 00:00:00\n",
       "50%       NaT  2028-03-01 00:00:00            2020-08-01 00:00:00\n",
       "75%       NaT  2028-03-01 00:00:00            2020-11-10 00:00:00\n",
       "max       NaT  2028-03-01 00:00:00            2020-12-29 00:00:00"
      ]
     },
     "execution_count": 77,
     "metadata": {},
     "output_type": "execute_result"
    }
   ],
   "source": [
    "pd.set_option('display.max_colwidth', None)\n",
    "papers_age[papers_age.is_preprint & papers_age.published.isna() \n",
    "           & ~(~papers_age.pubDate.isna() & ((papers_age.acptDate < \"2028-03-01\") | \n",
    "                                             ((papers_age.acptDate >= \"2028-03-01\") & ~papers_age.subDate.isna() & ~papers_age.journal.isna())))\n",
    "           & ~papers_age.pubDate.isna() &  papers_age.subDate.isna() & (papers_age.journal == 'medRxiv') & (papers_age.pubDate < \"2021-01-01\")\n",
    "                                                                       ][['title', 'subDate', 'acptDate', 'pubDate', 'journal', 'published']].describe(datetime_is_numeric=True)#.head(140).tail(10)#\n",
    "\n",
    "# subData is not null: 16,\n",
    "# * pubDate is not null: 375, subDate is null: 359, 151 bioRxiv, 197 medRxiv, 3 ArXiv, 8 ChemRxiv Some articles are not correctly labeled"
   ]
  },
  {
   "cell_type": "code",
   "execution_count": 78,
   "id": "a592303d-55d3-4469-9f82-50e78f90366e",
   "metadata": {},
   "outputs": [
    {
     "data": {
      "text/plain": [
       "12071"
      ]
     },
     "execution_count": 78,
     "metadata": {},
     "output_type": "execute_result"
    }
   ],
   "source": [
    "len(papers_age[papers_age.is_published])"
   ]
  },
  {
   "cell_type": "code",
   "execution_count": 79,
   "id": "d4dc51e3-37f4-4bdd-aa95-3f0fa7661d17",
   "metadata": {},
   "outputs": [
    {
     "data": {
      "text/plain": [
       "4824"
      ]
     },
     "execution_count": 79,
     "metadata": {},
     "output_type": "execute_result"
    }
   ],
   "source": [
    "len(papers_age[~papers_age.is_published])"
   ]
  },
  {
   "cell_type": "code",
   "execution_count": 80,
   "id": "e1cb0fbe-b467-4720-9563-8785f734c427",
   "metadata": {},
   "outputs": [
    {
     "data": {
      "text/plain": [
       "16895"
      ]
     },
     "execution_count": 80,
     "metadata": {},
     "output_type": "execute_result"
    }
   ],
   "source": [
    "len(papers_age)"
   ]
  },
  {
   "cell_type": "code",
   "execution_count": 81,
   "id": "45d1f182-78bc-4708-8706-76a5f214aeca",
   "metadata": {},
   "outputs": [
    {
     "data": {
      "text/plain": [
       "879"
      ]
     },
     "execution_count": 81,
     "metadata": {},
     "output_type": "execute_result"
    }
   ],
   "source": [
    "len(papers_age[papers_age.is_preprint & papers_age.is_published])"
   ]
  },
  {
   "cell_type": "markdown",
   "id": "69af7405-a29f-4781-a2fa-aa84eba7fc26",
   "metadata": {},
   "source": [
    "## Seperate training and testing datasets"
   ]
  },
  {
   "cell_type": "code",
   "execution_count": 82,
   "id": "5055f32c-97bf-47dc-a91e-f39dfa8feba2",
   "metadata": {},
   "outputs": [
    {
     "data": {
      "text/plain": [
       "False    669\n",
       "True      12\n",
       "Name: is_published, dtype: int64"
      ]
     },
     "execution_count": 82,
     "metadata": {},
     "output_type": "execute_result"
    }
   ],
   "source": [
    "# Papers in last X days for searching promising papers:  \n",
    "#  X=30: 255-vs-2, *X=90: 680-vs-14, X=180: 1254-vs-102,\n",
    "papers_age['preprint_test'] = papers_age.preprint_age <= pd.Timedelta(90,'D') # 255\n",
    "\n",
    "papers_age[papers_age.preprint_test].is_published.value_counts()"
   ]
  },
  {
   "cell_type": "code",
   "execution_count": 83,
   "id": "7aa48379-ed4c-4584-b00a-57820f6ede12",
   "metadata": {},
   "outputs": [],
   "source": [
    "papers_age['preprint_train'] = papers_age.is_preprint & ~papers_age.preprint_test"
   ]
  },
  {
   "cell_type": "code",
   "execution_count": 84,
   "id": "e5332d9a-e782-4fb2-bd01-205df8a51926",
   "metadata": {},
   "outputs": [],
   "source": [
    "papers_age['pubmed_train'] = ~papers_age.is_preprint"
   ]
  },
  {
   "cell_type": "markdown",
   "id": "a44b5142-4a7e-4d60-b394-9118b7f733a9",
   "metadata": {},
   "source": [
    "# Combine features and save"
   ]
  },
  {
   "cell_type": "code",
   "execution_count": 85,
   "id": "38e3c3ca-77fa-427d-ad2b-b6cb0692400a",
   "metadata": {},
   "outputs": [],
   "source": [
    "def save_features(filepath, papers):\n",
    "    print(datetime.now().strftime('%Y-%m-%d %H:%M:%S.%f') + \": Save features ...\")\n",
    "\n",
    "    papers.to_csv(filepath)"
   ]
  },
  {
   "cell_type": "code",
   "execution_count": 86,
   "id": "8dbda36c-c762-40cc-b977-16c521ec6693",
   "metadata": {},
   "outputs": [
    {
     "name": "stdout",
     "output_type": "stream",
     "text": [
      "2021-06-01 12:32:07.460310: Save features ...\n",
      "2021-06-01 12:32:10.627331: Save features ...\n"
     ]
    }
   ],
   "source": [
    "save_features(train_data_path, papers_age[papers_age.preprint_train | papers_age.pubmed_train])\n",
    "save_features(test_data_path, papers_age[papers_age.preprint_test])"
   ]
  },
  {
   "cell_type": "code",
   "execution_count": null,
   "id": "8102eff4-efaa-457d-a874-85e0e8d313a0",
   "metadata": {},
   "outputs": [],
   "source": []
  }
 ],
 "metadata": {
  "kernelspec": {
   "display_name": "Python 3",
   "language": "python",
   "name": "python3"
  },
  "language_info": {
   "codemirror_mode": {
    "name": "ipython",
    "version": 3
   },
   "file_extension": ".py",
   "mimetype": "text/x-python",
   "name": "python",
   "nbconvert_exporter": "python",
   "pygments_lexer": "ipython3",
   "version": "3.8.5"
  },
  "toc-autonumbering": true
 },
 "nbformat": 4,
 "nbformat_minor": 5
}
