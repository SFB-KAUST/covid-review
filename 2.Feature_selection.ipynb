{
 "cells": [
  {
   "cell_type": "code",
   "execution_count": 1,
   "metadata": {},
   "outputs": [],
   "source": [
    "import numpy as np\n",
    "import tensorflow as tf\n",
    "from sklearn.preprocessing import StandardScaler\n",
    "import matplotlib as mpl\n",
    "import matplotlib.pyplot as plt\n",
    "\n",
    "from sklearn.metrics import accuracy_score, precision_score, recall_score\n",
    "from sklearn.model_selection import train_test_split\n",
    "from tensorflow.keras import layers, losses\n",
    "from tensorflow.keras.models import Model"
   ]
  },
  {
   "cell_type": "code",
   "execution_count": 2,
   "metadata": {},
   "outputs": [],
   "source": [
    "import pandas as pd\n",
    "X = pd.read_csv('./data/lda_doc2vec_feats.csv', index_col=False)\n",
    "y = pd.read_csv('./data/lda_doc2vec_targs.csv', index_col=False)\n",
    "X = X.drop(columns=['Unnamed: 0'])\n",
    "y = y.drop(columns=['Unnamed: 0'])"
   ]
  },
  {
   "cell_type": "code",
   "execution_count": 3,
   "metadata": {},
   "outputs": [
    {
     "data": {
      "text/plain": [
       "5686"
      ]
     },
     "execution_count": 3,
     "metadata": {},
     "output_type": "execute_result"
    }
   ],
   "source": [
    "df_emb = pd.read_csv('./data/graph_embedding.csv', index_col=False)\n",
    "df_emb = df_emb.drop(columns=['Unnamed: 0'])\n",
    "X = pd.concat([X, df_emb], axis=1)\n",
    "len(X)"
   ]
  },
  {
   "cell_type": "code",
   "execution_count": 4,
   "metadata": {},
   "outputs": [],
   "source": [
    "F_LDA = ['topic.Healthcare', 'topic.Drug discovery', 'topic.Epidemiology', 'topic.Clinics', 'topic.Chest X-Ray', 'topic.Genomics']\n",
    "F_Doc2Vec =['0', '1', '2', '3', '4', '5', '6', '7', '8', '9', '10', '11', '12',\n",
    "       '13', '14', '15', '16', '17', '18', '19', '20', '21', '22', '23', '24',\n",
    "       '25', '26', '27', '28', '29', '30', '31', '32', '33', '34', '35', '36',\n",
    "       '37', '38', '39', '40', '41', '42', '43', '44', '45', '46', '47', '48',\n",
    "       '49']\n",
    "em_size=50\n",
    "F_gem = ['em ' + str(i+1) for i in range(em_size)]\n",
    "F_cit = ['cit', 'cit_velocity', 'influential_cit']\n",
    "F_authmet = ['sum.npapers', 'sum.infCit', 'mean.npapers', 'mean.infCit', 'max.npapers','max.infCit']\n",
    "F_nauth = ['nauthors']"
   ]
  },
  {
   "cell_type": "code",
   "execution_count": 5,
   "metadata": {},
   "outputs": [],
   "source": [
    "import xgboost as xgb\n",
    "from sklearn.model_selection import train_test_split\n",
    "\n",
    "X_train, X_test, y_train, y_test = train_test_split(X, y, test_size=0.2, random_state=123)"
   ]
  },
  {
   "cell_type": "code",
   "execution_count": 6,
   "metadata": {},
   "outputs": [],
   "source": [
    "from sklearn.metrics import roc_curve, auc\n",
    "\n",
    "def XGBoost_Modeling(features):\n",
    "    xg_reg = xgb.XGBRegressor(objective ='reg:linear', colsample_bytree = 0.3, learning_rate = 0.1,\n",
    "                max_depth = 5, alpha = 10, n_estimators = 10)\n",
    "\n",
    "    xg_reg.fit(X_train[features],y_train)\n",
    "\n",
    "    preds = xg_reg.predict(X_test[features])\n",
    "    fpr_xgboost, tpr_xgboost, _ = roc_curve(y_test, preds)\n",
    "    \n",
    "    print(\"AUC is :\" + str(auc(fpr_xgboost, tpr_xgboost)))\n",
    "    return fpr_xgboost, tpr_xgboost"
   ]
  },
  {
   "cell_type": "code",
   "execution_count": 7,
   "metadata": {},
   "outputs": [
    {
     "name": "stdout",
     "output_type": "stream",
     "text": [
      "[22:29:57] WARNING: src/objective/regression_obj.cu:152: reg:linear is now deprecated in favor of reg:squarederror.\n",
      "AUC is :0.7946217266038998\n",
      "[22:29:58] WARNING: src/objective/regression_obj.cu:152: reg:linear is now deprecated in favor of reg:squarederror.\n",
      "AUC is :0.7548055898544014\n",
      "[22:29:58] WARNING: src/objective/regression_obj.cu:152: reg:linear is now deprecated in favor of reg:squarederror.\n",
      "AUC is :0.783106960950764\n",
      "[22:29:58] WARNING: src/objective/regression_obj.cu:152: reg:linear is now deprecated in favor of reg:squarederror.\n",
      "AUC is :0.7818143231980244\n",
      "[22:29:59] WARNING: src/objective/regression_obj.cu:152: reg:linear is now deprecated in favor of reg:squarederror.\n",
      "AUC is :0.7897084169367701\n",
      "[22:29:59] WARNING: src/objective/regression_obj.cu:152: reg:linear is now deprecated in favor of reg:squarederror.\n",
      "AUC is :0.7789621597983228\n"
     ]
    }
   ],
   "source": [
    "# nauth is removed as of collection bias.\n",
    "F_all = F_LDA + F_Doc2Vec + F_gem + F_cit + F_authmet\n",
    "F_no_LDA = F_Doc2Vec + F_gem + F_cit + F_authmet\n",
    "F_no_Doc2Vec = F_LDA + F_gem + F_cit + F_authmet\n",
    "F_no_gem = F_LDA + F_Doc2Vec + F_cit + F_authmet\n",
    "F_no_cit = F_LDA + F_Doc2Vec + F_gem + F_authmet\n",
    "F_no_authmet = F_LDA + F_Doc2Vec + F_gem + F_cit\n",
    "\n",
    "fpr, tpr = XGBoost_Modeling(F_all)\n",
    "fpr, tpr = XGBoost_Modeling(F_no_LDA)\n",
    "fpr, tpr = XGBoost_Modeling(F_no_Doc2Vec)\n",
    "fpr, tpr = XGBoost_Modeling(F_no_gem)\n",
    "fpr, tpr = XGBoost_Modeling(F_no_cit)\n",
    "fpr, tpr = XGBoost_Modeling(F_no_authmet)\n",
    "# Here cit and authmet is removed, as no decrease in AUC"
   ]
  },
  {
   "cell_type": "code",
   "execution_count": 8,
   "metadata": {},
   "outputs": [
    {
     "name": "stdout",
     "output_type": "stream",
     "text": [
      "[22:30:00] WARNING: src/objective/regression_obj.cu:152: reg:linear is now deprecated in favor of reg:squarederror.\n",
      "AUC is :0.7688107732674795\n",
      "[22:30:00] WARNING: src/objective/regression_obj.cu:152: reg:linear is now deprecated in favor of reg:squarederror.\n",
      "AUC is :0.7693316869887329\n",
      "[22:30:01] WARNING: src/objective/regression_obj.cu:152: reg:linear is now deprecated in favor of reg:squarederror.\n",
      "AUC is :0.7559889000360137\n",
      "[22:30:01] WARNING: src/objective/regression_obj.cu:152: reg:linear is now deprecated in favor of reg:squarederror.\n",
      "AUC is :0.7713831867057673\n"
     ]
    }
   ],
   "source": [
    "F_all = F_LDA + F_Doc2Vec + F_gem\n",
    "F_no_LDA = F_Doc2Vec + F_gem\n",
    "F_no_Doc2Vec = F_LDA + F_gem\n",
    "F_no_gem = F_LDA + F_Doc2Vec\n",
    "\n",
    "fpr, tpr = XGBoost_Modeling(F_all)\n",
    "fpr, tpr = XGBoost_Modeling(F_no_LDA)\n",
    "fpr, tpr = XGBoost_Modeling(F_no_Doc2Vec)\n",
    "fpr, tpr = XGBoost_Modeling(F_no_gem)\n",
    "# Here importance order: Doc2Vec, LDA, gem"
   ]
  },
  {
   "cell_type": "code",
   "execution_count": 9,
   "metadata": {},
   "outputs": [
    {
     "name": "stdout",
     "output_type": "stream",
     "text": [
      "[22:30:01] WARNING: src/objective/regression_obj.cu:152: reg:linear is now deprecated in favor of reg:squarederror.\n",
      "AUC is :0.7504485645933014\n",
      "[22:30:01] WARNING: src/objective/regression_obj.cu:152: reg:linear is now deprecated in favor of reg:squarederror.\n",
      "AUC is :0.6271206333281886\n",
      "[22:30:02] WARNING: src/objective/regression_obj.cu:152: reg:linear is now deprecated in favor of reg:squarederror.\n",
      "AUC is :0.7693316869887329\n"
     ]
    }
   ],
   "source": [
    "fpr, tpr = XGBoost_Modeling(F_Doc2Vec)\n",
    "fpr, tpr = XGBoost_Modeling(F_gem)\n",
    "fpr, tpr = XGBoost_Modeling(F_Doc2Vec + F_gem)"
   ]
  },
  {
   "cell_type": "code",
   "execution_count": 10,
   "metadata": {},
   "outputs": [
    {
     "name": "stdout",
     "output_type": "stream",
     "text": [
      "[22:30:02] WARNING: src/objective/regression_obj.cu:152: reg:linear is now deprecated in favor of reg:squarederror.\n"
     ]
    }
   ],
   "source": [
    "features = F_Doc2Vec\n",
    "xg_reg = xgb.XGBRegressor(objective ='reg:linear', colsample_bytree = 0.3, learning_rate = 0.1,\n",
    "                max_depth = 5, alpha = 10, n_estimators = 10)\n",
    "\n",
    "xg_reg.fit(X_train[features],y_train)\n",
    "X['pub_prob'] = xg_reg.predict(X[features])"
   ]
  },
  {
   "cell_type": "code",
   "execution_count": 19,
   "metadata": {},
   "outputs": [
    {
     "data": {
      "image/png": "[encoded data removed]",
      "text/plain": [
       "<Figure size 720x432 with 2 Axes>"
      ]
     },
     "metadata": {
      "needs_background": "light"
     },
     "output_type": "display_data"
    }
   ],
   "source": [
    "import matplotlib.pyplot as plt\n",
    "\n",
    "ticks = ['topic.Healthcare', 'topic.Drug discovery', 'topic.Epidemiology', 'topic.Clinics', 'topic.Chest X-Ray', 'topic.Genomics',\n",
    "       'nauthors', 'cit', 'mean.npapers', 'mean.infCit', 'pub_prob']\n",
    "fig = plt.figure()\n",
    "plt.rcParams['figure.figsize'] = [10, 10]\n",
    "ax = fig.add_subplot(111)\n",
    "cax = ax.matshow(X[ticks].corr())\n",
    "fig.colorbar(cax)\n",
    "\n",
    "ax.set_xticks(np.arange(len(ticks)))\n",
    "ax.set_yticks(np.arange(len(ticks)))\n",
    "\n",
    "ax.set_xticklabels(ticks)\n",
    "ax.set_yticklabels(ticks)\n",
    "\n",
    "ax.xaxis.set_ticks_position('bottom')\n",
    "plt.setp(ax.get_xticklabels(), rotation=45, ha=\"right\",\n",
    "         rotation_mode=\"anchor\")\n",
    "\n",
    "plt.show()"
   ]
  },
  {
   "cell_type": "code",
   "execution_count": 18,
   "metadata": {},
   "outputs": [
    {
     "data": {
      "text/plain": [
       "<AxesSubplot:xlabel='topic'>"
      ]
     },
     "execution_count": 18,
     "metadata": {},
     "output_type": "execute_result"
    },
    {
     "data": {
      "image/png": "[encoded data removed]",
      "text/plain": [
       "<Figure size 720x432 with 1 Axes>"
      ]
     },
     "metadata": {
      "needs_background": "light"
     },
     "output_type": "display_data"
    }
   ],
   "source": [
    "import matplotlib.pyplot as plt\n",
    "plt.rcParams['figure.figsize'] = [10, 6]\n",
    "\n",
    "X['p_published'] = (X['pub_prob'] > 0.5) * 1\n",
    "df_ret = pd.merge(X['topic'], X['p_published'], left_index=True, right_index=True)\n",
    "\n",
    "topic_sum = df_ret.groupby('topic').agg({'topic':'count', 'p_published':'sum'})\n",
    "topic_sum['p_unpublished'] = topic_sum['topic'] - topic_sum['p_published']\n",
    "topic_sum[['p_published', 'p_unpublished']].plot.bar(rot=0)"
   ]
  },
  {
   "cell_type": "code",
   "execution_count": 16,
   "metadata": {},
   "outputs": [
    {
     "data": {
      "text/plain": [
       "<AxesSubplot:xlabel='topic'>"
      ]
     },
     "execution_count": 16,
     "metadata": {},
     "output_type": "execute_result"
    },
    {
     "data": {
      "image/png": "[encoded data removed]",
      "text/plain": [
       "<Figure size 720x432 with 1 Axes>"
      ]
     },
     "metadata": {
      "needs_background": "light"
     },
     "output_type": "display_data"
    }
   ],
   "source": [
    "X['t_published'] = y * 1\n",
    "df_t_ret = pd.merge(X['topic'], X['t_published'], left_index=True, right_index=True)\n",
    "\n",
    "topic_t_sum = df_t_ret.groupby('topic').agg({'topic':'count', 't_published':'sum'})\n",
    "topic_t_sum['t_unpublished'] = topic_t_sum['topic'] - topic_t_sum['t_published']\n",
    "topic_t_sum[['t_published', 't_unpublished']].plot.bar(rot=0)"
   ]
  },
  {
   "cell_type": "code",
   "execution_count": null,
   "metadata": {},
   "outputs": [],
   "source": []
  }
 ],
 "metadata": {
  "kernelspec": {
   "display_name": "Python 3",
   "language": "python",
   "name": "python3"
  },
  "language_info": {
   "codemirror_mode": {
    "name": "ipython",
    "version": 3
   },
   "file_extension": ".py",
   "mimetype": "text/x-python",
   "name": "python",
   "nbconvert_exporter": "python",
   "pygments_lexer": "ipython3",
   "version": "3.7.9"
  }
 },
 "nbformat": 4,
 "nbformat_minor": 4
}
