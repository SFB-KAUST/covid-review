{
 "cells": [
  {
   "cell_type": "code",
   "execution_count": 21,
   "metadata": {},
   "outputs": [],
   "source": [
    "#! pip install xgboost==1.4.2"
   ]
  },
  {
   "cell_type": "code",
   "execution_count": 61,
   "metadata": {},
   "outputs": [],
   "source": [
    "import numpy as np\n",
    "import pandas as pd\n",
    "from datetime import datetime\n",
    "\n",
    "import matplotlib as mpl\n",
    "import matplotlib.pyplot as plt\n",
    "\n",
    "import xgboost as xgb\n",
    "from sklearn.model_selection import train_test_split\n",
    "from sklearn.preprocessing import StandardScaler\n",
    "from sklearn.metrics import precision_recall_fscore_support, roc_curve, auc, accuracy_score"
   ]
  },
  {
   "cell_type": "code",
   "execution_count": 3,
   "metadata": {},
   "outputs": [],
   "source": [
    "inoutpath = '/home/xiaopengxu/Desktop/data-covid-review/2021-05-11/'\n",
    "\n",
    "train_data_path = inoutpath + 'features.ori_doc2vec_deepwalk_scores_train.csv'\n",
    "test_data_path = inoutpath + 'features.ori_doc2vec_deepwalk_scores_test.csv'"
   ]
  },
  {
   "cell_type": "markdown",
   "metadata": {},
   "source": [
    "## Load data"
   ]
  },
  {
   "cell_type": "code",
   "execution_count": 4,
   "metadata": {},
   "outputs": [],
   "source": [
    "def load_data(compdata_path):\n",
    "    print(datetime.now().strftime('%Y-%m-%d %H:%M:%S.%f') + \": Loading data ...\")\n",
    "    papers = pd.read_csv(compdata_path, index_col=False)\n",
    "    papers.drop(['Unnamed: 0'], axis=1, inplace=True)\n",
    "\n",
    "    return papers"
   ]
  },
  {
   "cell_type": "code",
   "execution_count": 15,
   "metadata": {},
   "outputs": [
    {
     "name": "stdout",
     "output_type": "stream",
     "text": [
      "2021-05-14 16:20:39.337275: Loading data ...\n",
      "2021-05-14 16:20:40.023167: Loading data ...\n"
     ]
    }
   ],
   "source": [
    "X = load_data(train_data_path)\n",
    "X_30d = load_data(test_data_path)"
   ]
  },
  {
   "cell_type": "code",
   "execution_count": 16,
   "metadata": {},
   "outputs": [],
   "source": [
    "y = X.is_published\n",
    "y_30d = X_30d.is_published"
   ]
  },
  {
   "cell_type": "code",
   "execution_count": 17,
   "metadata": {},
   "outputs": [
    {
     "name": "stdout",
     "output_type": "stream",
     "text": [
      "['title' 'abstract' 'journal' 'DOI' 'date' 'collection' 'published'\n",
      " 'nauthors' 'keywords' 'topic.Drug discovery' 'topic.Clinics'\n",
      " 'topic.Healthcare' 'topic.Imaging' 'topic.Genomics' 'topic.Epidemiology'\n",
      " 'topic' 'ref' 'p_doi' 'dv 1' 'dv 2' 'dv 3' 'dv 4' 'dv 5' 'dv 6' 'dv 7'\n",
      " 'dv 8' 'dv 9' 'dv 10' 'dv 11' 'dv 12' 'dv 13' 'dv 14' 'dv 15' 'dv 16'\n",
      " 'dv 17' 'dv 18' 'dv 19' 'dv 20' 'dv 21' 'dv 22' 'dv 23' 'dv 24' 'dv 25'\n",
      " 'dv 26' 'dv 27' 'dv 28' 'dv 29' 'dv 30' 'dv 31' 'dv 32' 'dv 33' 'dv 34'\n",
      " 'dv 35' 'dv 36' 'dv 37' 'dv 38' 'dv 39' 'dv 40' 'dv 41' 'dv 42' 'dv 43'\n",
      " 'dv 44' 'dv 45' 'dv 46' 'dv 47' 'dv 48' 'dv 49' 'dv 50' 'dw 1' 'dw 2'\n",
      " 'dw 3' 'dw 4' 'dw 5' 'dw 6' 'dw 7' 'dw 8' 'dw 9' 'dw 10' 'dw 11' 'dw 12'\n",
      " 'dw 13' 'dw 14' 'dw 15' 'dw 16' 'dw 17' 'dw 18' 'dw 19' 'dw 20' 'dw 21'\n",
      " 'dw 22' 'dw 23' 'dw 24' 'dw 25' 'dw 26' 'dw 27' 'dw 28' 'dw 29' 'dw 30'\n",
      " 'dw 31' 'dw 32' 'dw 33' 'dw 34' 'dw 35' 'dw 36' 'dw 37' 'dw 38' 'dw 39'\n",
      " 'dw 40' 'dw 41' 'dw 42' 'dw 43' 'dw 44' 'dw 45' 'dw 46' 'dw 47' 'dw 48'\n",
      " 'dw 49' 'dw 50' 'auth.papers' 'auth.papers.score' 'auth.citations'\n",
      " 'auth.citations.score' 'art.citations' 'art.citations.score' 'art.views'\n",
      " 'art.views.score' 'final.score' 'subDate' 'acptDate' 'pubDate'\n",
      " 'preprint_age' 'is_preprint' 'is_published' 'preprint_test'\n",
      " 'preprint_train' 'pubmed_train']\n"
     ]
    }
   ],
   "source": [
    "print(X.columns.values)"
   ]
  },
  {
   "cell_type": "markdown",
   "metadata": {},
   "source": [
    "## Evaluate features"
   ]
  },
  {
   "cell_type": "code",
   "execution_count": 122,
   "metadata": {},
   "outputs": [],
   "source": [
    "em_size = 50\n",
    "F_LDA = ['topic.Healthcare', 'topic.Drug discovery', 'topic.Epidemiology', 'topic.Clinics', 'topic.Imaging', 'topic.Genomics']\n",
    "F_Doc2Vec = ['dv ' + str(i + 1) for i in range(em_size)]\n",
    "F_DeepWalk = ['dw ' + str(i + 1) for i in range(em_size)]\n",
    "F_ascore = ['auth.papers.score', 'auth.citations.score', 'art.citations.score', 'art.views.score', 'final.score']"
   ]
  },
  {
   "cell_type": "code",
   "execution_count": 123,
   "metadata": {},
   "outputs": [],
   "source": [
    "X_train, X_test, y_train, y_test = train_test_split(X, y, test_size=0.2, random_state=123)"
   ]
  },
  {
   "cell_type": "code",
   "execution_count": 124,
   "metadata": {},
   "outputs": [],
   "source": [
    "def eval_pred(y_true, y_prob):\n",
    "\n",
    "    y_pred = y_prob >= 0.5\n",
    "    \n",
    "    fpr, tpr, _ = roc_curve(y_true, y_prob)\n",
    "    auc_s = auc(fpr, tpr)\n",
    "\n",
    "    prec, recall, f1_s, _ = precision_recall_fscore_support(y_true, y_pred, average='macro')\n",
    "    acc = accuracy_score(y_true, y_pred)\n",
    "    \n",
    "    print(\"AUC = %.3f, precision = %.3f, recall = %.3f, accuracy = %.3f, f1_score = %.3f\" % (auc_s, prec, recall, acc, f1_s))"
   ]
  },
  {
   "cell_type": "code",
   "execution_count": 125,
   "metadata": {},
   "outputs": [],
   "source": [
    "def XGBoost_Modeling(features):\n",
    "    xg_reg = xgb.XGBRegressor(objective ='reg:squarederror', colsample_bytree = 0.3, learning_rate = 0.1,\n",
    "                max_depth = 5, alpha = 10, n_estimators = 10)\n",
    "\n",
    "    xg_reg.fit(X_train[features],y_train)\n",
    "\n",
    "    preds = xg_reg.predict(X_test[features])\n",
    "    eval_pred(y_test, preds)\n",
    "    \n",
    "    return xg_reg"
   ]
  },
  {
   "cell_type": "code",
   "execution_count": 126,
   "metadata": {},
   "outputs": [],
   "source": [
    "def list_exclude(a, b):\n",
    "    return [x for x in a if x not in b ]"
   ]
  },
  {
   "cell_type": "code",
   "execution_count": 127,
   "metadata": {},
   "outputs": [
    {
     "name": "stdout",
     "output_type": "stream",
     "text": [
      "AUC = 0.851, precision = 0.802, recall = 0.634, accuracy = 0.780, f1_score = 0.648\n",
      "AUC = 0.893, precision = 0.838, recall = 0.838, accuracy = 0.867, f1_score = 0.838\n",
      "AUC = 0.879, precision = 0.804, recall = 0.728, accuracy = 0.819, f1_score = 0.751\n",
      "AUC = 0.874, precision = 0.774, recall = 0.652, accuracy = 0.782, f1_score = 0.669\n",
      "AUC = 0.737, precision = 0.779, recall = 0.602, accuracy = 0.762, f1_score = 0.603\n"
     ]
    },
    {
     "data": {
      "text/plain": [
       "XGBRegressor(alpha=10, base_score=0.5, booster='gbtree', colsample_bylevel=1,\n",
       "             colsample_bynode=1, colsample_bytree=0.3, gamma=0, gpu_id=-1,\n",
       "             importance_type='gain', interaction_constraints='',\n",
       "             learning_rate=0.1, max_delta_step=0, max_depth=5,\n",
       "             min_child_weight=1, missing=nan, monotone_constraints='()',\n",
       "             n_estimators=10, n_jobs=64, num_parallel_tree=1, random_state=0,\n",
       "             reg_alpha=10, reg_lambda=1, scale_pos_weight=1, subsample=1,\n",
       "             tree_method='exact', validate_parameters=1, verbosity=None)"
      ]
     },
     "execution_count": 127,
     "metadata": {},
     "output_type": "execute_result"
    }
   ],
   "source": [
    "F_all = F_LDA + F_Doc2Vec + F_DeepWalk + F_ascore\n",
    "\n",
    "XGBoost_Modeling(F_all)\n",
    "XGBoost_Modeling(list_exclude(F_all, F_LDA)) # best result\n",
    "XGBoost_Modeling(list_exclude(F_all, F_Doc2Vec))\n",
    "XGBoost_Modeling(list_exclude(F_all, F_DeepWalk))\n",
    "XGBoost_Modeling(list_exclude(F_all, F_ascore))"
   ]
  },
  {
   "cell_type": "code",
   "execution_count": 128,
   "metadata": {},
   "outputs": [
    {
     "name": "stdout",
     "output_type": "stream",
     "text": [
      "AUC = 0.893, precision = 0.838, recall = 0.838, accuracy = 0.867, f1_score = 0.838\n",
      "AUC = 0.868, precision = 0.820, recall = 0.795, accuracy = 0.847, f1_score = 0.806\n",
      "AUC = 0.869, precision = 0.801, recall = 0.739, accuracy = 0.822, f1_score = 0.759\n",
      "AUC = 0.724, precision = 0.769, recall = 0.598, accuracy = 0.759, f1_score = 0.598\n"
     ]
    },
    {
     "data": {
      "text/plain": [
       "XGBRegressor(alpha=10, base_score=0.5, booster='gbtree', colsample_bylevel=1,\n",
       "             colsample_bynode=1, colsample_bytree=0.3, gamma=0, gpu_id=-1,\n",
       "             importance_type='gain', interaction_constraints='',\n",
       "             learning_rate=0.1, max_delta_step=0, max_depth=5,\n",
       "             min_child_weight=1, missing=nan, monotone_constraints='()',\n",
       "             n_estimators=10, n_jobs=64, num_parallel_tree=1, random_state=0,\n",
       "             reg_alpha=10, reg_lambda=1, scale_pos_weight=1, subsample=1,\n",
       "             tree_method='exact', validate_parameters=1, verbosity=None)"
      ]
     },
     "execution_count": 128,
     "metadata": {},
     "output_type": "execute_result"
    }
   ],
   "source": [
    "F_new = F_Doc2Vec + F_DeepWalk + F_ascore\n",
    "\n",
    "XGBoost_Modeling(F_new) # Best result\n",
    "XGBoost_Modeling(list_exclude(F_new, F_Doc2Vec)) \n",
    "XGBoost_Modeling(list_exclude(F_new, F_DeepWalk))\n",
    "XGBoost_Modeling(list_exclude(F_new, F_ascore))"
   ]
  },
  {
   "cell_type": "markdown",
   "metadata": {},
   "source": [
    "## Evaluate on test data"
   ]
  },
  {
   "cell_type": "code",
   "execution_count": 129,
   "metadata": {},
   "outputs": [
    {
     "name": "stdout",
     "output_type": "stream",
     "text": [
      "AUC = 0.893, precision = 0.838, recall = 0.838, accuracy = 0.867, f1_score = 0.838\n"
     ]
    }
   ],
   "source": [
    "xg_reg = XGBoost_Modeling(F_new) # Best result\n",
    "X_30d['pub_prob'] = xg_reg.predict(X_30d[F_new])"
   ]
  },
  {
   "cell_type": "code",
   "execution_count": 130,
   "metadata": {},
   "outputs": [
    {
     "data": {
      "text/html": [
       "<div>\n",
       "<style scoped>\n",
       "    .dataframe tbody tr th:only-of-type {\n",
       "        vertical-align: middle;\n",
       "    }\n",
       "\n",
       "    .dataframe tbody tr th {\n",
       "        vertical-align: top;\n",
       "    }\n",
       "\n",
       "    .dataframe thead th {\n",
       "        text-align: right;\n",
       "    }\n",
       "</style>\n",
       "<table border=\"1\" class=\"dataframe\">\n",
       "  <thead>\n",
       "    <tr style=\"text-align: right;\">\n",
       "      <th></th>\n",
       "      <th>title</th>\n",
       "      <th>pub_prob</th>\n",
       "      <th>is_published</th>\n",
       "    </tr>\n",
       "  </thead>\n",
       "  <tbody>\n",
       "    <tr>\n",
       "      <th>1</th>\n",
       "      <td>insight about detection, prediction and weathe...</td>\n",
       "      <td>0.692066</td>\n",
       "      <td>True</td>\n",
       "    </tr>\n",
       "  </tbody>\n",
       "</table>\n",
       "</div>"
      ],
      "text/plain": [
       "                                               title  pub_prob  is_published\n",
       "1  insight about detection, prediction and weathe...  0.692066          True"
      ]
     },
     "execution_count": 130,
     "metadata": {},
     "output_type": "execute_result"
    }
   ],
   "source": [
    "X_30d[y_30d & (X_30d.pub_prob >= 0.5)][['title', 'pub_prob', 'is_published']]"
   ]
  },
  {
   "cell_type": "code",
   "execution_count": 131,
   "metadata": {},
   "outputs": [
    {
     "data": {
      "text/html": [
       "<div>\n",
       "<style scoped>\n",
       "    .dataframe tbody tr th:only-of-type {\n",
       "        vertical-align: middle;\n",
       "    }\n",
       "\n",
       "    .dataframe tbody tr th {\n",
       "        vertical-align: top;\n",
       "    }\n",
       "\n",
       "    .dataframe thead th {\n",
       "        text-align: right;\n",
       "    }\n",
       "</style>\n",
       "<table border=\"1\" class=\"dataframe\">\n",
       "  <thead>\n",
       "    <tr style=\"text-align: right;\">\n",
       "      <th></th>\n",
       "      <th>title</th>\n",
       "      <th>pub_prob</th>\n",
       "      <th>is_published</th>\n",
       "    </tr>\n",
       "  </thead>\n",
       "  <tbody>\n",
       "    <tr>\n",
       "      <th>0</th>\n",
       "      <td>measuring linguistic diversity during covid-19</td>\n",
       "      <td>0.391403</td>\n",
       "      <td>True</td>\n",
       "    </tr>\n",
       "  </tbody>\n",
       "</table>\n",
       "</div>"
      ],
      "text/plain": [
       "                                            title  pub_prob  is_published\n",
       "0  measuring linguistic diversity during covid-19  0.391403          True"
      ]
     },
     "execution_count": 131,
     "metadata": {},
     "output_type": "execute_result"
    }
   ],
   "source": [
    "X_30d[y_30d & ~(X_30d.pub_prob>= 0.5)] [['title', 'pub_prob', 'is_published']]"
   ]
  },
  {
   "cell_type": "markdown",
   "metadata": {},
   "source": [
    "## Visualize result"
   ]
  },
  {
   "cell_type": "code",
   "execution_count": 132,
   "metadata": {},
   "outputs": [
    {
     "name": "stdout",
     "output_type": "stream",
     "text": [
      "AUC = 0.893, precision = 0.838, recall = 0.838, accuracy = 0.867, f1_score = 0.838\n"
     ]
    }
   ],
   "source": [
    "xg_reg = XGBoost_Modeling(F_new) # Best result\n",
    "X['pub_prob'] = xg_reg.predict(X[F_new])"
   ]
  },
  {
   "cell_type": "code",
   "execution_count": 134,
   "metadata": {},
   "outputs": [
    {
     "data": {
      "image/png": "[encoded data removed]",
      "text/plain": [
       "<Figure size 720x720 with 2 Axes>"
      ]
     },
     "metadata": {
      "needs_background": "light"
     },
     "output_type": "display_data"
    }
   ],
   "source": [
    "ticks = F_LDA + F_ascore + ['pub_prob']\n",
    "\n",
    "fig = plt.figure()\n",
    "plt.rcParams['figure.figsize'] = [10, 10]\n",
    "\n",
    "ax = fig.add_subplot(111)\n",
    "cax = ax.matshow(X[ticks].corr())\n",
    "fig.colorbar(cax)\n",
    "\n",
    "ax.set_xticks(np.arange(len(ticks)))\n",
    "ax.set_yticks(np.arange(len(ticks)))\n",
    "\n",
    "ax.set_xticklabels(ticks)\n",
    "ax.set_yticklabels(ticks)\n",
    "\n",
    "ax.xaxis.set_ticks_position('bottom')\n",
    "plt.setp(ax.get_xticklabels(), rotation=45, ha=\"right\",\n",
    "         rotation_mode=\"anchor\")\n",
    "\n",
    "plt.show()"
   ]
  },
  {
   "cell_type": "code",
   "execution_count": 135,
   "metadata": {},
   "outputs": [
    {
     "data": {
      "text/plain": [
       "<AxesSubplot:xlabel='topic'>"
      ]
     },
     "execution_count": 135,
     "metadata": {},
     "output_type": "execute_result"
    },
    {
     "data": {
      "image/png": "[encoded data removed]",
      "text/plain": [
       "<Figure size 720x432 with 1 Axes>"
      ]
     },
     "metadata": {
      "needs_background": "light"
     },
     "output_type": "display_data"
    }
   ],
   "source": [
    "plt.rcParams['figure.figsize'] = [10, 6]\n",
    "\n",
    "X['p_published'] = (X['pub_prob'] > 0.5) * 1\n",
    "df_ret = pd.merge(X['topic'], X['p_published'], left_index=True, right_index=True)\n",
    "\n",
    "topic_sum = df_ret.groupby('topic').agg({'topic':'count', 'p_published':'sum'})\n",
    "topic_sum['p_unpublished'] = topic_sum['topic'] - topic_sum['p_published']\n",
    "topic_sum[['p_published', 'p_unpublished']].plot.bar(rot=0)"
   ]
  },
  {
   "cell_type": "code",
   "execution_count": 136,
   "metadata": {},
   "outputs": [
    {
     "data": {
      "text/plain": [
       "<AxesSubplot:xlabel='topic'>"
      ]
     },
     "execution_count": 136,
     "metadata": {},
     "output_type": "execute_result"
    },
    {
     "data": {
      "image/png": "[encoded data removed]",
      "text/plain": [
       "<Figure size 720x432 with 1 Axes>"
      ]
     },
     "metadata": {
      "needs_background": "light"
     },
     "output_type": "display_data"
    }
   ],
   "source": [
    "X['t_published'] = y * 1\n",
    "df_t_ret = pd.merge(X['topic'], X['t_published'], left_index=True, right_index=True)\n",
    "\n",
    "topic_t_sum = df_t_ret.groupby('topic').agg({'topic':'count', 't_published':'sum'})\n",
    "topic_t_sum['t_unpublished'] = topic_t_sum['topic'] - topic_t_sum['t_published']\n",
    "topic_t_sum[['t_published', 't_unpublished']].plot.bar(rot=0)"
   ]
  },
  {
   "cell_type": "code",
   "execution_count": null,
   "metadata": {},
   "outputs": [],
   "source": []
  }
 ],
 "metadata": {
  "kernelspec": {
   "display_name": "Python 3",
   "language": "python",
   "name": "python3"
  },
  "language_info": {
   "codemirror_mode": {
    "name": "ipython",
    "version": 3
   },
   "file_extension": ".py",
   "mimetype": "text/x-python",
   "name": "python",
   "nbconvert_exporter": "python",
   "pygments_lexer": "ipython3",
   "version": "3.8.5"
  },
  "toc-autonumbering": true,
  "toc-showcode": false,
  "toc-showmarkdowntxt": false,
  "toc-showtags": false
 },
 "nbformat": 4,
 "nbformat_minor": 4
}
