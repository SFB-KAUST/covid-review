{
 "cells": [
  {
   "cell_type": "markdown",
   "metadata": {},
   "source": [
    "# Extract info to visualize graph\n",
    "\n",
    "## Load citation data"
   ]
  },
  {
   "cell_type": "code",
   "execution_count": 1,
   "metadata": {},
   "outputs": [],
   "source": [
    "import pandas as pd\n",
    "inoutpath = '/home/xiaopengxu/Desktop/data-covid-review/2021-05-31/'\n",
    "\n",
    "df_compdata_ref_auth = pd.read_csv(inoutpath + 'compdata_ext_ref.csv', index_col=False)"
   ]
  },
  {
   "cell_type": "code",
   "execution_count": 2,
   "metadata": {},
   "outputs": [
    {
     "data": {
      "text/plain": [
       "16896"
      ]
     },
     "execution_count": 2,
     "metadata": {},
     "output_type": "execute_result"
    }
   ],
   "source": [
    "df_compdata_ref_auth_redup = df_compdata_ref_auth.drop_duplicates(subset=['title'])\n",
    "len(df_compdata_ref_auth_redup)"
   ]
  },
  {
   "cell_type": "markdown",
   "metadata": {},
   "source": [
    "## Generate edge_list\n",
    "- Edge_list"
   ]
  },
  {
   "cell_type": "code",
   "execution_count": 3,
   "metadata": {},
   "outputs": [
    {
     "data": {
      "text/plain": [
       "('10.1016/j.jviromet.2021.114197', '10.1016/j.meegid.2020.104351')"
      ]
     },
     "execution_count": 3,
     "metadata": {},
     "output_type": "execute_result"
    }
   ],
   "source": [
    "import numpy as np\n",
    "\n",
    "doi2ref = dict() # dict of doi -> reference doi's\n",
    "for idx in df_compdata_ref_auth_redup.index: \n",
    "    doi2ref[df_compdata_ref_auth_redup['p_doi'].loc[idx]] = df_compdata_ref_auth_redup['ref'].loc[idx]\n",
    "\n",
    "\n",
    "\n",
    "edge_list = list() # list of doi -> ref doi\n",
    "for k in doi2ref.keys():\n",
    "    if type(doi2ref[k]) is float : ## handle nan values\n",
    "        continue\n",
    "    \n",
    "    for val in doi2ref[k].split(', '):\n",
    "        if val =='NA': # ignore NA values of papers\n",
    "            continue\n",
    "        if val not in doi2ref.keys(): # remove edge if ref paper not in compdata\n",
    "            continue\n",
    "        edge_list.append((k, val))\n",
    "\n",
    "edge_list[1] # source->target"
   ]
  },
  {
   "cell_type": "markdown",
   "metadata": {},
   "source": [
    "## Contruct graph from edge_list"
   ]
  },
  {
   "cell_type": "code",
   "execution_count": 4,
   "metadata": {},
   "outputs": [],
   "source": [
    "import networkx as nx\n",
    "\n",
    "G = nx.DiGraph()\n",
    "G.add_edges_from(edge_list)"
   ]
  },
  {
   "cell_type": "markdown",
   "metadata": {},
   "source": [
    "## Save edge_list to csv file"
   ]
  },
  {
   "cell_type": "code",
   "execution_count": 5,
   "metadata": {},
   "outputs": [],
   "source": [
    "import csv\n",
    "with open(inoutpath + 'edge_list.csv','w') as out:\n",
    "    csv_out=csv.writer(out)\n",
    "    csv_out.writerow(['source','target'])\n",
    "    csv_out.writerows(edge_list)"
   ]
  },
  {
   "cell_type": "markdown",
   "metadata": {},
   "source": [
    "## Get top referenced papers"
   ]
  },
  {
   "cell_type": "code",
   "execution_count": 6,
   "metadata": {},
   "outputs": [],
   "source": [
    "#pd_node_inf.sort_values(by='degree', ascending=False).to_csv(inoutpath + 'top_referenced_papers.csv')"
   ]
  },
  {
   "cell_type": "markdown",
   "metadata": {},
   "source": [
    "# Retrieve degree, topic and title for nodes\n",
    "## Retrieve node topic and title from data"
   ]
  },
  {
   "cell_type": "code",
   "execution_count": 16,
   "metadata": {},
   "outputs": [
    {
     "data": {
      "text/plain": [
       "0    Clinical Medicine\n",
       "1             Genomics\n",
       "2         Pharmacology\n",
       "3         Epidemiology\n",
       "4           Healthcare\n",
       "5           Healthcare\n",
       "6     Clinical Imaging\n",
       "7         Pharmacology\n",
       "8    Clinical Medicine\n",
       "9           Healthcare\n",
       "Name: topic, dtype: object"
      ]
     },
     "execution_count": 16,
     "metadata": {},
     "output_type": "execute_result"
    }
   ],
   "source": [
    "old_topics = ['Imaging', 'Clinics', 'Drug discovery', 'Epidemiology', 'Genomics', 'Healthcare']\n",
    "topics = ['Clinical Imaging', 'Clinical Medicine', 'Pharmacology', 'Epidemiology', 'Genomics', 'Healthcare']\n",
    "df_compdata_ref_auth_redup.loc[:, 'topic'] = df_compdata_ref_auth_redup.topic.replace(old_topics, topics)\n",
    "df_compdata_ref_auth_redup.topic.head(10)"
   ]
  },
  {
   "cell_type": "code",
   "execution_count": 17,
   "metadata": {},
   "outputs": [],
   "source": [
    "pdoi2topic = dict()\n",
    "pdoi2title = dict()\n",
    "for idx in df_compdata_ref_auth_redup.index:\n",
    "    if df_compdata_ref_auth_redup['p_doi'].loc[idx] in pdoi2topic.keys():\n",
    "        continue\n",
    "    \n",
    "    pdoi2topic[df_compdata_ref_auth_redup['p_doi'].loc[idx]] = df_compdata_ref_auth_redup['topic'].loc[idx]\n",
    "    pdoi2title[df_compdata_ref_auth_redup['p_doi'].loc[idx]] = df_compdata_ref_auth_redup['title'].loc[idx]\n",
    "\n",
    "#pdoi2topic"
   ]
  },
  {
   "cell_type": "markdown",
   "metadata": {},
   "source": [
    "## Save node info to csv file"
   ]
  },
  {
   "cell_type": "code",
   "execution_count": 18,
   "metadata": {},
   "outputs": [],
   "source": [
    "nodes = list(G.nodes())\n",
    "degree = [ v for (k,v) in list(G.in_degree(nodes)) ]\n",
    "topic =  [ pdoi2topic[n] for n in nodes]\n",
    "title =  [ pdoi2title[n] for n in nodes]\n",
    "pd_node_inf = pd.DataFrame(list(zip(nodes, degree, topic, title)), columns = ['p_doi', 'degree', 'topic', 'title'])\n",
    "pd_node_inf.to_csv(inoutpath + 'pd_node_inf.csv')"
   ]
  },
  {
   "cell_type": "markdown",
   "metadata": {},
   "source": [
    "## Count links among topics"
   ]
  },
  {
   "cell_type": "code",
   "execution_count": 19,
   "metadata": {},
   "outputs": [
    {
     "data": {
      "text/html": [
       "<div>\n",
       "<style scoped>\n",
       "    .dataframe tbody tr th:only-of-type {\n",
       "        vertical-align: middle;\n",
       "    }\n",
       "\n",
       "    .dataframe tbody tr th {\n",
       "        vertical-align: top;\n",
       "    }\n",
       "\n",
       "    .dataframe thead th {\n",
       "        text-align: right;\n",
       "    }\n",
       "</style>\n",
       "<table border=\"1\" class=\"dataframe\">\n",
       "  <thead>\n",
       "    <tr style=\"text-align: right;\">\n",
       "      <th></th>\n",
       "      <th>topics</th>\n",
       "      <th>Clinical Imaging</th>\n",
       "      <th>Clinical Medicine</th>\n",
       "      <th>Pharmacology</th>\n",
       "      <th>Epidemiology</th>\n",
       "      <th>Genomics</th>\n",
       "      <th>Healthcare</th>\n",
       "    </tr>\n",
       "  </thead>\n",
       "  <tbody>\n",
       "    <tr>\n",
       "      <th>0</th>\n",
       "      <td>Clinical Imaging</td>\n",
       "      <td>4368.0</td>\n",
       "      <td>528.0</td>\n",
       "      <td>155.0</td>\n",
       "      <td>366.0</td>\n",
       "      <td>174.0</td>\n",
       "      <td>102.0</td>\n",
       "    </tr>\n",
       "    <tr>\n",
       "      <th>1</th>\n",
       "      <td>Clinical Medicine</td>\n",
       "      <td>345.0</td>\n",
       "      <td>4361.0</td>\n",
       "      <td>577.0</td>\n",
       "      <td>303.0</td>\n",
       "      <td>378.0</td>\n",
       "      <td>120.0</td>\n",
       "    </tr>\n",
       "    <tr>\n",
       "      <th>2</th>\n",
       "      <td>Pharmacology</td>\n",
       "      <td>39.0</td>\n",
       "      <td>866.0</td>\n",
       "      <td>7948.0</td>\n",
       "      <td>198.0</td>\n",
       "      <td>1678.0</td>\n",
       "      <td>29.0</td>\n",
       "    </tr>\n",
       "    <tr>\n",
       "      <th>3</th>\n",
       "      <td>Epidemiology</td>\n",
       "      <td>428.0</td>\n",
       "      <td>510.0</td>\n",
       "      <td>189.0</td>\n",
       "      <td>6505.0</td>\n",
       "      <td>625.0</td>\n",
       "      <td>301.0</td>\n",
       "    </tr>\n",
       "    <tr>\n",
       "      <th>4</th>\n",
       "      <td>Genomics</td>\n",
       "      <td>118.0</td>\n",
       "      <td>499.0</td>\n",
       "      <td>1270.0</td>\n",
       "      <td>580.0</td>\n",
       "      <td>6077.0</td>\n",
       "      <td>148.0</td>\n",
       "    </tr>\n",
       "    <tr>\n",
       "      <th>5</th>\n",
       "      <td>Healthcare</td>\n",
       "      <td>117.0</td>\n",
       "      <td>358.0</td>\n",
       "      <td>58.0</td>\n",
       "      <td>392.0</td>\n",
       "      <td>126.0</td>\n",
       "      <td>1908.0</td>\n",
       "    </tr>\n",
       "  </tbody>\n",
       "</table>\n",
       "</div>"
      ],
      "text/plain": [
       "              topics  Clinical Imaging  Clinical Medicine  Pharmacology  \\\n",
       "0   Clinical Imaging            4368.0              528.0         155.0   \n",
       "1  Clinical Medicine             345.0             4361.0         577.0   \n",
       "2       Pharmacology              39.0              866.0        7948.0   \n",
       "3       Epidemiology             428.0              510.0         189.0   \n",
       "4           Genomics             118.0              499.0        1270.0   \n",
       "5         Healthcare             117.0              358.0          58.0   \n",
       "\n",
       "   Epidemiology  Genomics  Healthcare  \n",
       "0         366.0     174.0       102.0  \n",
       "1         303.0     378.0       120.0  \n",
       "2         198.0    1678.0        29.0  \n",
       "3        6505.0     625.0       301.0  \n",
       "4         580.0    6077.0       148.0  \n",
       "5         392.0     126.0      1908.0  "
      ]
     },
     "execution_count": 19,
     "metadata": {},
     "output_type": "execute_result"
    }
   ],
   "source": [
    "topiclinks = dict()\n",
    "\n",
    "for edge in edge_list:\n",
    "    topic1 = pdoi2topic[edge[0]]\n",
    "    topic2 = pdoi2topic[edge[1]]\n",
    "    \n",
    "    if (topic1, topic2) not in topiclinks.keys():\n",
    "        topiclinks[(topic1, topic2)] = 1\n",
    "    else:\n",
    "        topiclinks[(topic1, topic2)] = topiclinks[(topic1, topic2)] + 1\n",
    "\n",
    "mat_topic_links = np.zeros((len(topics),len(topics)))\n",
    "\n",
    "for idx1 in range(len(topics)):\n",
    "    for idx2 in range(len(topics)):\n",
    "        mat_topic_links[idx1, idx2] = topiclinks[(topics[idx1], topics[idx2])]\n",
    "\n",
    "pd_mat_topic_links = pd.DataFrame(mat_topic_links, columns = topics)\n",
    "pd_topics = pd.DataFrame(topics, columns = ['topics'])\n",
    "pd_topic_links = pd.concat([pd_topics, pd_mat_topic_links], axis=1)\n",
    "pd_topic_links"
   ]
  },
  {
   "cell_type": "code",
   "execution_count": 20,
   "metadata": {},
   "outputs": [],
   "source": [
    "pd_topic_links.to_csv(inoutpath + 'topic_links.csv')"
   ]
  }
 ],
 "metadata": {
  "kernelspec": {
   "display_name": "Python 3",
   "language": "python",
   "name": "python3"
  },
  "language_info": {
   "codemirror_mode": {
    "name": "ipython",
    "version": 3
   },
   "file_extension": ".py",
   "mimetype": "text/x-python",
   "name": "python",
   "nbconvert_exporter": "python",
   "pygments_lexer": "ipython3",
   "version": "3.8.5"
  }
 },
 "nbformat": 4,
 "nbformat_minor": 4
}
