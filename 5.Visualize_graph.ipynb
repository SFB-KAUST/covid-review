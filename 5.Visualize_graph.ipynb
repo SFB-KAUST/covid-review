{
 "cells": [
  {
   "cell_type": "markdown",
   "metadata": {},
   "source": [
    "# Extract info to visualize graph\n",
    "\n",
    "- Nodes, inward degree, topic\n",
    "- Edge_list"
   ]
  },
  {
   "cell_type": "code",
   "execution_count": 1,
   "metadata": {},
   "outputs": [],
   "source": [
    "import pandas as pd\n",
    "df_compdata_ref_auth = pd.read_csv('./data/compdata_ref_author.csv', index_col=False)"
   ]
  },
  {
   "cell_type": "code",
   "execution_count": 2,
   "metadata": {},
   "outputs": [
    {
     "data": {
      "text/plain": [
       "5686"
      ]
     },
     "execution_count": 2,
     "metadata": {},
     "output_type": "execute_result"
    }
   ],
   "source": [
    "df_compdata_ref_auth_redup = df_compdata_ref_auth.drop_duplicates(subset=['title'])\n",
    "len(df_compdata_ref_auth_redup)"
   ]
  },
  {
   "cell_type": "code",
   "execution_count": 3,
   "metadata": {},
   "outputs": [
    {
     "data": {
      "text/html": [
       "<div>\n",
       "<style scoped>\n",
       "    .dataframe tbody tr th:only-of-type {\n",
       "        vertical-align: middle;\n",
       "    }\n",
       "\n",
       "    .dataframe tbody tr th {\n",
       "        vertical-align: top;\n",
       "    }\n",
       "\n",
       "    .dataframe thead th {\n",
       "        text-align: right;\n",
       "    }\n",
       "</style>\n",
       "<table border=\"1\" class=\"dataframe\">\n",
       "  <thead>\n",
       "    <tr style=\"text-align: right;\">\n",
       "      <th></th>\n",
       "      <th>Unnamed: 0</th>\n",
       "      <th>title</th>\n",
       "      <th>abstract</th>\n",
       "      <th>journal</th>\n",
       "      <th>DOI</th>\n",
       "      <th>date</th>\n",
       "      <th>collection</th>\n",
       "      <th>published</th>\n",
       "      <th>nauthors</th>\n",
       "      <th>topic.Healthcare</th>\n",
       "      <th>...</th>\n",
       "      <th>numcit</th>\n",
       "      <th>influcit</th>\n",
       "      <th>DL_Pdf</th>\n",
       "      <th>DL_Full</th>\n",
       "      <th>DL_Abstract</th>\n",
       "      <th>ref</th>\n",
       "      <th>authorsId</th>\n",
       "      <th>authorsNames</th>\n",
       "      <th>p_doi</th>\n",
       "      <th>p_journal</th>\n",
       "    </tr>\n",
       "  </thead>\n",
       "  <tbody>\n",
       "    <tr>\n",
       "      <th>0</th>\n",
       "      <td>22</td>\n",
       "      <td>Multivariate analysis of CT imaging, laborator...</td>\n",
       "      <td>PURPOSE: To develop and externally validate a ...</td>\n",
       "      <td>Abdom Radiol (NY)</td>\n",
       "      <td>33098478</td>\n",
       "      <td>2020-10-25</td>\n",
       "      <td>pubmed</td>\n",
       "      <td>NaN</td>\n",
       "      <td>6</td>\n",
       "      <td>0.000988</td>\n",
       "      <td>...</td>\n",
       "      <td>0</td>\n",
       "      <td>0</td>\n",
       "      <td>NaN</td>\n",
       "      <td>NaN</td>\n",
       "      <td>NaN</td>\n",
       "      <td>10.5152/TJAR.2014.83436, 10.1159/000509274, 10...</td>\n",
       "      <td>4593769, 2001055410, 2001050867, 16053632, 144...</td>\n",
       "      <td>S. Hectors, Sadjad Riyahi, Hreedi Dev, K. Kris...</td>\n",
       "      <td>10.1007/s00261-020-02823-w</td>\n",
       "      <td>Abdominal Radiology</td>\n",
       "    </tr>\n",
       "  </tbody>\n",
       "</table>\n",
       "<p>1 rows × 26 columns</p>\n",
       "</div>"
      ],
      "text/plain": [
       "   Unnamed: 0                                              title  \\\n",
       "0          22  Multivariate analysis of CT imaging, laborator...   \n",
       "\n",
       "                                            abstract            journal  \\\n",
       "0  PURPOSE: To develop and externally validate a ...  Abdom Radiol (NY)   \n",
       "\n",
       "        DOI        date collection published  nauthors  topic.Healthcare  ...  \\\n",
       "0  33098478  2020-10-25     pubmed       NaN         6          0.000988  ...   \n",
       "\n",
       "   numcit  influcit  DL_Pdf  DL_Full  DL_Abstract  \\\n",
       "0       0         0     NaN      NaN          NaN   \n",
       "\n",
       "                                                 ref  \\\n",
       "0  10.5152/TJAR.2014.83436, 10.1159/000509274, 10...   \n",
       "\n",
       "                                           authorsId  \\\n",
       "0  4593769, 2001055410, 2001050867, 16053632, 144...   \n",
       "\n",
       "                                        authorsNames  \\\n",
       "0  S. Hectors, Sadjad Riyahi, Hreedi Dev, K. Kris...   \n",
       "\n",
       "                        p_doi            p_journal  \n",
       "0  10.1007/s00261-020-02823-w  Abdominal Radiology  \n",
       "\n",
       "[1 rows x 26 columns]"
      ]
     },
     "execution_count": 3,
     "metadata": {},
     "output_type": "execute_result"
    }
   ],
   "source": [
    "df_compdata_ref_auth_redup.head(1)"
   ]
  },
  {
   "cell_type": "code",
   "execution_count": 4,
   "metadata": {},
   "outputs": [
    {
     "data": {
      "text/plain": [
       "('10.1007/s00261-020-02823-w', '10.1007/s00261-020-02671-8')"
      ]
     },
     "execution_count": 4,
     "metadata": {},
     "output_type": "execute_result"
    }
   ],
   "source": [
    "# Generate edge_list\n",
    "import numpy as np\n",
    "\n",
    "doi2ref = dict() # dict of doi -> reference doi's\n",
    "for idx in df_compdata_ref_auth_redup.index: \n",
    "    doi2ref[df_compdata_ref_auth_redup['p_doi'].loc[idx]] = df_compdata_ref_auth_redup['ref'].loc[idx]\n",
    "\n",
    "\n",
    "\n",
    "edge_list = list() # list of doi -> ref doi\n",
    "for k in doi2ref.keys():\n",
    "    if type(doi2ref[k]) is float : ## handle nan values\n",
    "        continue\n",
    "    \n",
    "    for val in doi2ref[k].split(', '):\n",
    "        if val =='NA': # ignore NA values of papers\n",
    "            continue\n",
    "        if val not in doi2ref.keys(): # remove edge if ref paper not in compdata\n",
    "            continue\n",
    "        edge_list.append((k, val))\n",
    "\n",
    "edge_list[1]"
   ]
  },
  {
   "cell_type": "code",
   "execution_count": 5,
   "metadata": {},
   "outputs": [
    {
     "data": {
      "text/plain": [
       "'10.1007/s00261-020-02823-w'"
      ]
     },
     "execution_count": 5,
     "metadata": {},
     "output_type": "execute_result"
    }
   ],
   "source": [
    "edge_list[1][0]"
   ]
  },
  {
   "cell_type": "code",
   "execution_count": 6,
   "metadata": {},
   "outputs": [],
   "source": [
    "import networkx as nx\n",
    "\n",
    "G = nx.DiGraph()\n",
    "G.add_edges_from(edge_list)"
   ]
  },
  {
   "cell_type": "code",
   "execution_count": 7,
   "metadata": {},
   "outputs": [],
   "source": [
    "pdoi2topic = dict()\n",
    "pdoi2title = dict()\n",
    "for idx in df_compdata_ref_auth_redup.index:\n",
    "    if df_compdata_ref_auth_redup['p_doi'].loc[idx] in pdoi2topic.keys():\n",
    "        continue\n",
    "    \n",
    "    pdoi2topic[df_compdata_ref_auth_redup['p_doi'].loc[idx]] = df_compdata_ref_auth_redup['topic'].loc[idx]\n",
    "    pdoi2title[df_compdata_ref_auth_redup['p_doi'].loc[idx]] = df_compdata_ref_auth_redup['title'].loc[idx]\n",
    "\n",
    "#pdoi2topic"
   ]
  },
  {
   "cell_type": "code",
   "execution_count": 8,
   "metadata": {},
   "outputs": [],
   "source": [
    "nodes = list(G.nodes())\n",
    "degree = [ v for (k,v) in list(G.in_degree(nodes)) ]\n",
    "topic =  [ pdoi2topic[n] for n in nodes]\n",
    "title =  [ pdoi2title[n] for n in nodes]\n",
    "pd_node_inf = pd.DataFrame(list(zip(nodes, degree, topic, title)), columns = ['p_doi', 'degree', 'topic', 'title'])\n",
    "pd_node_inf.to_csv('pd_node_inf.csv')"
   ]
  },
  {
   "cell_type": "code",
   "execution_count": 9,
   "metadata": {},
   "outputs": [],
   "source": [
    "import csv\n",
    "with open('edge_list.csv','w') as out:\n",
    "    csv_out=csv.writer(out)\n",
    "    csv_out.writerow(['source','target'])\n",
    "    csv_out.writerows(edge_list)"
   ]
  },
  {
   "cell_type": "code",
   "execution_count": 10,
   "metadata": {},
   "outputs": [],
   "source": [
    "pd_node_inf.sort_values(by='degree', ascending=False).to_csv('top_referenced_papers.tsv')"
   ]
  },
  {
   "cell_type": "code",
   "execution_count": 11,
   "metadata": {},
   "outputs": [
    {
     "data": {
      "text/plain": [
       "array([[603.,  43.,  12.,  35.,  23.,  23.],\n",
       "       [ 45., 443.,  28.,   7.,  19.,  25.],\n",
       "       [  6.,  88., 629.,  21., 156.,  20.],\n",
       "       [ 52.,  33.,  20., 980.,  65.,  21.],\n",
       "       [  1.,  19., 108.,  36., 517.,   6.],\n",
       "       [297.,  74.,  60., 104.,  50., 109.]])"
      ]
     },
     "execution_count": 11,
     "metadata": {},
     "output_type": "execute_result"
    }
   ],
   "source": [
    "topiclinks = dict()\n",
    "\n",
    "for edge in edge_list:\n",
    "    topic1 = pdoi2topic[edge[0]]\n",
    "    topic2 = pdoi2topic[edge[1]]\n",
    "    \n",
    "    if (topic1, topic2) not in topiclinks.keys():\n",
    "        topiclinks[(topic1, topic2)] = 1\n",
    "    else:\n",
    "        topiclinks[(topic1, topic2)] = topiclinks[(topic1, topic2)] + 1\n",
    "\n",
    "topics = ['Chest X-Ray', 'Clinics', 'Drug discovery', 'Epidemiology', 'Genomics', 'Healthcare']\n",
    "mat_topic_links = np.zeros((len(topics),len(topics)))\n",
    "\n",
    "for idx1 in range(len(topics)):\n",
    "    for idx2 in range(len(topics)):\n",
    "        mat_topic_links[idx1, idx2] = topiclinks[(topics[idx1], topics[idx2])]\n",
    "\n",
    "mat_topic_links"
   ]
  },
  {
   "cell_type": "code",
   "execution_count": 12,
   "metadata": {},
   "outputs": [],
   "source": [
    "pd_mat_topic_links = pd.DataFrame(mat_topic_links, columns = topics)\n",
    "pd_topics = pd.DataFrame(topics, columns = ['topics'])\n",
    "\n",
    "pd_topic_links = pd.concat([pd_topics, pd_mat_topic_links], axis=1)\n",
    "pd_topic_links.to_csv('topic_links.csv')"
   ]
  },
  {
   "cell_type": "code",
   "execution_count": null,
   "metadata": {},
   "outputs": [],
   "source": []
  }
 ],
 "metadata": {
  "kernelspec": {
   "display_name": "Python 3",
   "language": "python",
   "name": "python3"
  },
  "language_info": {
   "codemirror_mode": {
    "name": "ipython",
    "version": 3
   },
   "file_extension": ".py",
   "mimetype": "text/x-python",
   "name": "python",
   "nbconvert_exporter": "python",
   "pygments_lexer": "ipython3",
   "version": "3.8.5"
  }
 },
 "nbformat": 4,
 "nbformat_minor": 4
}
