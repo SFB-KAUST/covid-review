{
 "cells": [
  {
   "cell_type": "markdown",
   "metadata": {},
   "source": [
    "# Extract info to visualize graph\n",
    "\n",
    "## Load citation data"
   ]
  },
  {
   "cell_type": "code",
   "execution_count": 1,
   "metadata": {},
   "outputs": [],
   "source": [
    "import pandas as pd\n",
    "inoutpath = 'data/'\n",
    "\n",
    "df_compdata_ref_auth = pd.read_csv(inoutpath + 'compdata_ext_ref.csv', index_col=False)"
   ]
  },
  {
   "cell_type": "code",
   "execution_count": 2,
   "metadata": {},
   "outputs": [
    {
     "data": {
      "text/plain": [
       "16896"
      ]
     },
     "execution_count": 2,
     "metadata": {},
     "output_type": "execute_result"
    }
   ],
   "source": [
    "df_compdata_ref_auth_redup = df_compdata_ref_auth.drop_duplicates(subset=['title'])\n",
    "len(df_compdata_ref_auth_redup)"
   ]
  },
  {
   "cell_type": "markdown",
   "metadata": {},
   "source": [
    "## Generate edge_list\n",
    "- Edge_list"
   ]
  },
  {
   "cell_type": "code",
   "execution_count": 3,
   "metadata": {},
   "outputs": [
    {
     "data": {
      "text/plain": [
       "('10.1016/j.jviromet.2021.114197', '10.1016/j.meegid.2020.104351')"
      ]
     },
     "execution_count": 3,
     "metadata": {},
     "output_type": "execute_result"
    }
   ],
   "source": [
    "import numpy as np\n",
    "\n",
    "doi2ref = dict() # dict of doi -> reference doi's\n",
    "for idx in df_compdata_ref_auth_redup.index: \n",
    "    doi2ref[df_compdata_ref_auth_redup['p_doi'].loc[idx]] = df_compdata_ref_auth_redup['ref'].loc[idx]\n",
    "\n",
    "\n",
    "\n",
    "edge_list = list() # list of doi -> ref doi\n",
    "for k in doi2ref.keys():\n",
    "    if type(doi2ref[k]) is float : ## handle nan values\n",
    "        continue\n",
    "    \n",
    "    for val in doi2ref[k].split(', '):\n",
    "        if val =='NA': # ignore NA values of papers\n",
    "            continue\n",
    "        if val not in doi2ref.keys(): # remove edge if ref paper not in compdata\n",
    "            continue\n",
    "        edge_list.append((k, val))\n",
    "\n",
    "edge_list[1] # source->target"
   ]
  },
  {
   "cell_type": "markdown",
   "metadata": {},
   "source": [
    "## Contruct graph from edge_list"
   ]
  },
  {
   "cell_type": "code",
   "execution_count": 4,
   "metadata": {},
   "outputs": [],
   "source": [
    "import networkx as nx\n",
    "\n",
    "G = nx.DiGraph()\n",
    "G.add_edges_from(edge_list)"
   ]
  },
  {
   "cell_type": "markdown",
   "metadata": {},
   "source": [
    "## Save edge_list to csv file"
   ]
  },
  {
   "cell_type": "code",
   "execution_count": 5,
   "metadata": {},
   "outputs": [],
   "source": [
    "import csv\n",
    "with open(inoutpath + 'edge_list.csv','w') as out:\n",
    "    csv_out=csv.writer(out)\n",
    "    csv_out.writerow(['source','target'])\n",
    "    csv_out.writerows(edge_list)"
   ]
  },
  {
   "cell_type": "markdown",
   "metadata": {},
   "source": [
    "## Get top referenced papers"
   ]
  },
  {
   "cell_type": "code",
   "execution_count": 6,
   "metadata": {},
   "outputs": [],
   "source": [
    "#pd_node_inf.sort_values(by='degree', ascending=False).to_csv(inoutpath + 'top_referenced_papers.csv')"
   ]
  },
  {
   "cell_type": "markdown",
   "metadata": {},
   "source": [
    "# Retrieve degree, topic and title for nodes\n",
    "## Retrieve node topic and title from data"
   ]
  },
  {
   "cell_type": "code",
   "execution_count": 16,
   "metadata": {},
   "outputs": [
    {
     "data": {
      "text/plain": [
       "0    Clinical Medicine\n",
       "1             Genomics\n",
       "2         Pharmacology\n",
       "3         Epidemiology\n",
       "4           Healthcare\n",
       "5           Healthcare\n",
       "6     Clinical Imaging\n",
       "7         Pharmacology\n",
       "8    Clinical Medicine\n",
       "9           Healthcare\n",
       "Name: topic, dtype: object"
      ]
     },
     "execution_count": 16,
     "metadata": {},
     "output_type": "execute_result"
    }
   ],
   "source": [
    "old_topics = ['Imaging', 'Clinics', 'Drug discovery', 'Epidemiology', 'Genomics', 'Healthcare']\n",
    "topics = ['Clinical Imaging', 'Clinical Medicine', 'Pharmacology', 'Epidemiology', 'Genomics', 'Healthcare']\n",
    "df_compdata_ref_auth_redup.loc[:, 'topic'] = df_compdata_ref_auth_redup.topic.replace(old_topics, topics)\n",
    "df_compdata_ref_auth_redup.topic.head(10)"
   ]
  },
  {
   "cell_type": "code",
   "execution_count": 17,
   "metadata": {},
   "outputs": [],
   "source": [
    "pdoi2topic = dict()\n",
    "pdoi2title = dict()\n",
    "for idx in df_compdata_ref_auth_redup.index:\n",
    "    if df_compdata_ref_auth_redup['p_doi'].loc[idx] in pdoi2topic.keys():\n",
    "        continue\n",
    "    \n",
    "    pdoi2topic[df_compdata_ref_auth_redup['p_doi'].loc[idx]] = df_compdata_ref_auth_redup['topic'].loc[idx]\n",
    "    pdoi2title[df_compdata_ref_auth_redup['p_doi'].loc[idx]] = df_compdata_ref_auth_redup['title'].loc[idx]\n",
    "\n",
    "#pdoi2topic"
   ]
  },
  {
   "cell_type": "markdown",
   "metadata": {},
   "source": [
    "## Save node info to csv file"
   ]
  },
  {
   "cell_type": "code",
   "execution_count": 18,
   "metadata": {},
   "outputs": [],
   "source": [
    "nodes = list(G.nodes())\n",
    "degree = [ v for (k,v) in list(G.in_degree(nodes)) ]\n",
    "topic =  [ pdoi2topic[n] for n in nodes]\n",
    "title =  [ pdoi2title[n] for n in nodes]\n",
    "pd_node_inf = pd.DataFrame(list(zip(nodes, degree, topic, title)), columns = ['p_doi', 'degree', 'topic', 'title'])\n",
    "pd_node_inf.to_csv(inoutpath + 'pd_node_inf.csv')"
   ]
  }
 ],
 "metadata": {
  "kernelspec": {
   "display_name": "Python 3",
   "language": "python",
   "name": "python3"
  },
  "language_info": {
   "codemirror_mode": {
    "name": "ipython",
    "version": 3
   },
   "file_extension": ".py",
   "mimetype": "text/x-python",
   "name": "python",
   "nbconvert_exporter": "python",
   "pygments_lexer": "ipython3",
   "version": "3.8.5"
  }
 },
 "nbformat": 4,
 "nbformat_minor": 4
}
