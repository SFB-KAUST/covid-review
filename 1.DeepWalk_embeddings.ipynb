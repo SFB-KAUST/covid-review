{
 "cells": [
  {
   "cell_type": "markdown",
   "metadata": {},
   "source": [
    "# Graph Mining\n",
    "## Graph Extraction\n",
    "Extract the citations graph and author -> paper graph"
   ]
  },
  {
   "cell_type": "code",
   "execution_count": 1,
   "metadata": {},
   "outputs": [],
   "source": [
    "import pandas as pd\n",
    "df_compdata_ref_auth = pd.read_csv('./data/compdata_ref_author.csv', index_col=False)"
   ]
  },
  {
   "cell_type": "code",
   "execution_count": 2,
   "metadata": {},
   "outputs": [
    {
     "data": {
      "text/plain": [
       "5686"
      ]
     },
     "execution_count": 2,
     "metadata": {},
     "output_type": "execute_result"
    }
   ],
   "source": [
    "df_compdata_ref_auth_redup = df_compdata_ref_auth.drop_duplicates(subset=['title'])\n",
    "len(df_compdata_ref_auth_redup)"
   ]
  },
  {
   "cell_type": "code",
   "execution_count": 22,
   "metadata": {},
   "outputs": [
    {
     "data": {
      "text/plain": [
       "39    10.7326/L20-1061\n",
       "Name: p_doi, dtype: object"
      ]
     },
     "execution_count": 22,
     "metadata": {},
     "output_type": "execute_result"
    }
   ],
   "source": [
    "df_compdata_ref_auth_redup.head(40).tail(1).p_doi"
   ]
  },
  {
   "cell_type": "code",
   "execution_count": 5,
   "metadata": {},
   "outputs": [
    {
     "data": {
      "text/plain": [
       "('10.1007/s00261-020-02823-w', '10.1159/000509274')"
      ]
     },
     "execution_count": 5,
     "metadata": {},
     "output_type": "execute_result"
    }
   ],
   "source": [
    "# Generate edge_list\n",
    "import numpy as np\n",
    "\n",
    "doi2ref = dict() # dict of doi -> reference doi's\n",
    "for idx in df_compdata_ref_auth_redup.index: \n",
    "    doi2ref[df_compdata_ref_auth_redup['p_doi'].loc[idx]] = df_compdata_ref_auth_redup['ref'].loc[idx]\n",
    "\n",
    "\n",
    "\n",
    "edge_list = list() # list of doi -> ref doi\n",
    "for k in doi2ref.keys():\n",
    "    if type(doi2ref[k]) is float : ## handle nan values\n",
    "        continue\n",
    "    \n",
    "    for val in doi2ref[k].split(', '):\n",
    "        if val =='NA': # ignore NA values of papers\n",
    "            continue\n",
    "        #if val not in doi2ref.keys(): # remove edge if ref paper not in compdata\n",
    "        #    continue\n",
    "        edge_list.append((k, val))\n",
    "\n",
    "edge_list[1]"
   ]
  },
  {
   "cell_type": "code",
   "execution_count": 7,
   "metadata": {},
   "outputs": [],
   "source": [
    "import networkx as nx\n",
    "\n",
    "G = nx.DiGraph()\n",
    "G.add_edges_from(edge_list)"
   ]
  },
  {
   "cell_type": "markdown",
   "metadata": {},
   "source": [
    "## DeepWalk Embedding"
   ]
  },
  {
   "cell_type": "code",
   "execution_count": 8,
   "metadata": {},
   "outputs": [
    {
     "name": "stderr",
     "output_type": "stream",
     "text": [
      "[Parallel(n_jobs=2)]: Using backend LokyBackend with 2 concurrent workers.\n",
      "[Parallel(n_jobs=2)]: Done   2 out of   2 | elapsed: 13.8min remaining:    0.0s\n",
      "[Parallel(n_jobs=2)]: Done   2 out of   2 | elapsed: 13.8min finished\n"
     ]
    },
    {
     "name": "stdout",
     "output_type": "stream",
     "text": [
      "Learning embedding vectors...\n",
      "Learning embedding vectors done!\n"
     ]
    }
   ],
   "source": [
    "from ge import DeepWalk\n",
    "\n",
    "model = DeepWalk(G, walk_length=10, num_walks=800, workers=2)\n",
    "model.train(window_size=5, iter=3)\n",
    "embeddings = model.get_embeddings()"
   ]
  },
  {
   "cell_type": "code",
   "execution_count": 28,
   "metadata": {},
   "outputs": [
    {
     "data": {
      "text/plain": [
       "5686"
      ]
     },
     "execution_count": 28,
     "metadata": {},
     "output_type": "execute_result"
    }
   ],
   "source": [
    "num_nodes = len(df_compdata_ref_auth_redup)\n",
    "p_doi = df_compdata_ref_auth_redup['p_doi'].tolist()\n",
    "DW_em = np.empty([num_nodes, 128])\n",
    "for i in range(num_nodes):\n",
    "    node = p_doi[i]\n",
    "    if node in embeddings.keys():\n",
    "        DW_em[i, :] = embeddings[node]\n",
    "len(DW_em)"
   ]
  },
  {
   "cell_type": "code",
   "execution_count": 29,
   "metadata": {},
   "outputs": [
    {
     "data": {
      "text/plain": [
       "5686"
      ]
     },
     "execution_count": 29,
     "metadata": {},
     "output_type": "execute_result"
    }
   ],
   "source": [
    "columns = [ 'em ' + str(i+1) for i in range(128)]\n",
    "df_emb = pd.DataFrame(DW_em, columns =columns)\n",
    "df_emb.to_csv('./data/graph_embedding.csv')\n",
    "len(df_emb)"
   ]
  },
  {
   "cell_type": "code",
   "execution_count": 30,
   "metadata": {},
   "outputs": [],
   "source": [
    "#df_emb = pd.read_csv('./data/graph_embedding.csv', index_col=False)"
   ]
  },
  {
   "cell_type": "code",
   "execution_count": 47,
   "metadata": {},
   "outputs": [],
   "source": [
    "X = pd.read_csv('./data/lda_doc2vec_feats.csv', index_col=False)\n",
    "y = pd.read_csv('./data/lda_doc2vec_targs.csv', index_col=False)\n",
    "X = X.drop(columns=['Unnamed: 0'])\n",
    "y = y.drop(columns=['Unnamed: 0'])"
   ]
  },
  {
   "cell_type": "code",
   "execution_count": 48,
   "metadata": {},
   "outputs": [
    {
     "data": {
      "text/plain": [
       "5686"
      ]
     },
     "execution_count": 48,
     "metadata": {},
     "output_type": "execute_result"
    }
   ],
   "source": [
    "X = pd.concat([X, df_emb], axis=1)\n",
    "len(X)"
   ]
  },
  {
   "cell_type": "code",
   "execution_count": 49,
   "metadata": {},
   "outputs": [],
   "source": [
    "F_LDA = ['topic.Healthcare', 'topic.Drug discovery', 'topic.Epidemiology', 'topic.Clinics', 'topic.Chest X-Ray', 'topic.Genomics']\n",
    "F_Doc2Vec =['0', '1', '2', '3', '4', '5', '6', '7', '8', '9', '10', '11', '12',\n",
    "       '13', '14', '15', '16', '17', '18', '19', '20', '21', '22', '23', '24',\n",
    "       '25', '26', '27', '28', '29', '30', '31', '32', '33', '34', '35', '36',\n",
    "       '37', '38', '39', '40', '41', '42', '43', '44', '45', '46', '47', '48',\n",
    "       '49']\n",
    "F_gem = ['em ' + str(i+1) for i in range(128)]"
   ]
  },
  {
   "cell_type": "code",
   "execution_count": 50,
   "metadata": {},
   "outputs": [],
   "source": [
    "import xgboost as xgb\n",
    "from sklearn.model_selection import train_test_split\n",
    "\n",
    "X_train, X_test, y_train, y_test = train_test_split(X, y, test_size=0.2, random_state=123)"
   ]
  },
  {
   "cell_type": "code",
   "execution_count": 51,
   "metadata": {},
   "outputs": [],
   "source": [
    "from sklearn.metrics import roc_curve, auc\n",
    "\n",
    "def XGBoost_Modeling(features):\n",
    "    xg_reg = xgb.XGBRegressor(objective ='reg:linear', colsample_bytree = 0.3, learning_rate = 0.1,\n",
    "                max_depth = 5, alpha = 10, n_estimators = 10)\n",
    "\n",
    "    xg_reg.fit(X_train[features],y_train)\n",
    "\n",
    "    preds = xg_reg.predict(X_test[features])\n",
    "    fpr_xgboost, tpr_xgboost, _ = roc_curve(y_test, preds)\n",
    "    \n",
    "    print(\"AUC is :\" + str(auc(fpr_xgboost, tpr_xgboost)))\n",
    "    return fpr_xgboost, tpr_xgboost"
   ]
  },
  {
   "cell_type": "code",
   "execution_count": 52,
   "metadata": {},
   "outputs": [
    {
     "name": "stdout",
     "output_type": "stream",
     "text": [
      "[16:34:26] WARNING: src/objective/regression_obj.cu:152: reg:linear is now deprecated in favor of reg:squarederror.\n",
      "AUC is :0.7328548644338118\n",
      "[16:34:26] WARNING: src/objective/regression_obj.cu:152: reg:linear is now deprecated in favor of reg:squarederror.\n",
      "AUC is :0.7504485645933014\n",
      "[16:34:26] WARNING: src/objective/regression_obj.cu:152: reg:linear is now deprecated in favor of reg:squarederror.\n",
      "AUC is :0.6362912872356846\n",
      "[16:34:27] WARNING: src/objective/regression_obj.cu:152: reg:linear is now deprecated in favor of reg:squarederror.\n",
      "AUC is :0.7431766733549416\n",
      "[16:34:27] WARNING: src/objective/regression_obj.cu:152: reg:linear is now deprecated in favor of reg:squarederror.\n",
      "AUC is :0.7715487858208572\n"
     ]
    }
   ],
   "source": [
    "fpr_xgboost_LDA, tpr_xgboost_LDA = XGBoost_Modeling(F_LDA)\n",
    "fpr_xgboost_Doc2Vec, tpr_xgboost_Doc2Vec = XGBoost_Modeling(F_Doc2Vec)\n",
    "fpr_xgboost_gem, tpr_xgboost__gem = XGBoost_Modeling(F_gem)\n",
    "fpr_xgboost_Doc2Vec_gem, tpr_xgboost_Doc2Vec_gem = XGBoost_Modeling(F_Doc2Vec + F_gem)\n",
    "fpr_xgboost_Doc2Vec_gem_LDA, tpr_xgboost_Doc2Vec_gem_LDA = XGBoost_Modeling(F_Doc2Vec + F_gem + F_LDA)"
   ]
  },
  {
   "cell_type": "code",
   "execution_count": 55,
   "metadata": {},
   "outputs": [
    {
     "data": {
      "image/png": "[encoded data removed]",
      "text/plain": [
       "<Figure size 720x720 with 1 Axes>"
      ]
     },
     "metadata": {
      "needs_background": "light"
     },
     "output_type": "display_data"
    },
    {
     "data": {
      "text/plain": [
       "<Figure size 720x720 with 0 Axes>"
      ]
     },
     "metadata": {},
     "output_type": "display_data"
    }
   ],
   "source": [
    "import matplotlib.pyplot as plt\n",
    "\n",
    "plt.figure()\n",
    "plt.rcParams['figure.figsize'] = [10, 10]\n",
    "plt.plot(fpr_xgboost_LDA, tpr_xgboost_LDA, label='LDA')\n",
    "plt.plot(fpr_xgboost_Doc2Vec, tpr_xgboost_Doc2Vec, label='Doc2Vec')\n",
    "plt.plot(fpr_xgboost_gem, tpr_xgboost__gem, label='DW_em')\n",
    "plt.plot(fpr_xgboost_Doc2Vec_gem, tpr_xgboost_Doc2Vec_gem, label='Doc2Vec + DW_em')\n",
    "plt.plot(fpr_xgboost_Doc2Vec_gem_LDA, tpr_xgboost_Doc2Vec_gem_LDA, label='LDA + Doc2Vec + DW_em')\n",
    "plt.xlabel('False positive rate')\n",
    "plt.ylabel('True positive rate')\n",
    "plt.title('ROC curve')\n",
    "plt.legend(loc='best')\n",
    "fig1 = plt.gcf()\n",
    "plt.plot([0, 1], [0, 1], 'k--')\n",
    "plt.show()\n",
    "plt.draw()\n",
    "#fig1.savefig('new_data_roc.png', dpi=100)"
   ]
  },
  {
   "cell_type": "code",
   "execution_count": 56,
   "metadata": {},
   "outputs": [
    {
     "name": "stdout",
     "output_type": "stream",
     "text": [
      "[16:34:38] WARNING: src/objective/regression_obj.cu:152: reg:linear is now deprecated in favor of reg:squarederror.\n"
     ]
    },
    {
     "data": {
      "text/plain": [
       "5686"
      ]
     },
     "execution_count": 56,
     "metadata": {},
     "output_type": "execute_result"
    }
   ],
   "source": [
    "features = F_Doc2Vec + F_gem + F_LDA\n",
    "xg_reg = xgb.XGBRegressor(objective ='reg:linear', colsample_bytree = 0.3, learning_rate = 0.1,\n",
    "                max_depth = 5, alpha = 10, n_estimators = 10)\n",
    "\n",
    "xg_reg.fit(X_train[features],y_train)\n",
    "\n",
    "preds = xg_reg.predict(X[features])\n",
    "len(preds)"
   ]
  },
  {
   "cell_type": "code",
   "execution_count": 57,
   "metadata": {},
   "outputs": [
    {
     "name": "stderr",
     "output_type": "stream",
     "text": [
      "/Users/xuxiaopeng/opt/anaconda3/envs/ml-env/lib/python3.7/site-packages/ipykernel_launcher.py:9: SettingWithCopyWarning: \n",
      "A value is trying to be set on a copy of a slice from a DataFrame.\n",
      "Try using .loc[row_indexer,col_indexer] = value instead\n",
      "\n",
      "See the caveats in the documentation: https://pandas.pydata.org/pandas-docs/stable/user_guide/indexing.html#returning-a-view-versus-a-copy\n",
      "  if __name__ == '__main__':\n"
     ]
    }
   ],
   "source": [
    "X_toprint = X[['title', 'journal', 'DOI', 'date', 'collection',\n",
    "       'published', 'nauthors', 'topic.Healthcare', 'topic.Drug discovery',\n",
    "       'topic.Epidemiology', 'topic.Clinics', 'topic.Chest X-Ray',\n",
    "       'topic.Genomics', 'topic', 'numcit', 'influcit', 'DL_Pdf', 'DL_Full',\n",
    "       'DL_Abstract', 'cit', 'cit_velocity', 'influential_cit', 'sum.npapers',\n",
    "       'sum.infCit', 'mean.npapers', 'mean.infCit', 'max.npapers',\n",
    "       'max.infCit','pubmed', 'medrxiv', 'arxiv', 'biorxiv']]\n",
    "\n",
    "X_toprint['title'] = X_toprint['title'].replace({r'\\s+$': '', r'^\\s+': ''}, regex=True).replace(r'\\n',  ' ', regex=True)"
   ]
  },
  {
   "cell_type": "code",
   "execution_count": 58,
   "metadata": {},
   "outputs": [
    {
     "name": "stderr",
     "output_type": "stream",
     "text": [
      "/Users/xuxiaopeng/opt/anaconda3/envs/ml-env/lib/python3.7/site-packages/ipykernel_launcher.py:1: SettingWithCopyWarning: \n",
      "A value is trying to be set on a copy of a slice from a DataFrame.\n",
      "Try using .loc[row_indexer,col_indexer] = value instead\n",
      "\n",
      "See the caveats in the documentation: https://pandas.pydata.org/pandas-docs/stable/user_guide/indexing.html#returning-a-view-versus-a-copy\n",
      "  \"\"\"Entry point for launching an IPython kernel.\n"
     ]
    }
   ],
   "source": [
    "X_toprint['pred_pub_prob'] = preds"
   ]
  },
  {
   "cell_type": "code",
   "execution_count": 59,
   "metadata": {},
   "outputs": [],
   "source": [
    "X_toprint.to_csv('./data/lda_cit_authmet.csv')"
   ]
  },
  {
   "cell_type": "code",
   "execution_count": null,
   "metadata": {},
   "outputs": [],
   "source": []
  }
 ],
 "metadata": {
  "kernelspec": {
   "display_name": "Python 3",
   "language": "python",
   "name": "python3"
  },
  "language_info": {
   "codemirror_mode": {
    "name": "ipython",
    "version": 3
   },
   "file_extension": ".py",
   "mimetype": "text/x-python",
   "name": "python",
   "nbconvert_exporter": "python",
   "pygments_lexer": "ipython3",
   "version": "3.7.9"
  }
 },
 "nbformat": 4,
 "nbformat_minor": 4
}
